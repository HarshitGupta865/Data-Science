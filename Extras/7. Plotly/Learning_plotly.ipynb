{
 "cells": [
  {
   "cell_type": "code",
   "execution_count": 16,
   "id": "d292af5c",
   "metadata": {},
   "outputs": [],
   "source": [
    "import pandas as pd\n",
    "import numpy as np\n",
    "import chart_studio.plotly as py\n",
    "from plotly import __version__\n",
    "import cufflinks as cf\n",
    "from plotly.offline import download_plotlyjs, init_notebook_mode, plot, iplot\n",
    "%matplotlib inline"
   ]
  },
  {
   "cell_type": "code",
   "execution_count": 6,
   "id": "515ec398",
   "metadata": {},
   "outputs": [
    {
     "name": "stdout",
     "output_type": "stream",
     "text": [
      "5.9.0\n"
     ]
    }
   ],
   "source": [
    "print(__version__)"
   ]
  },
  {
   "cell_type": "code",
   "execution_count": 8,
   "id": "7822f9de",
   "metadata": {},
   "outputs": [
    {
     "data": {
      "text/html": [
       "        <script type=\"text/javascript\">\n",
       "        window.PlotlyConfig = {MathJaxConfig: 'local'};\n",
       "        if (window.MathJax && window.MathJax.Hub && window.MathJax.Hub.Config) {window.MathJax.Hub.Config({SVG: {font: \"STIX-Web\"}});}\n",
       "        if (typeof require !== 'undefined') {\n",
       "        require.undef(\"plotly\");\n",
       "        requirejs.config({\n",
       "            paths: {\n",
       "                'plotly': ['https://cdn.plot.ly/plotly-2.12.1.min']\n",
       "            }\n",
       "        });\n",
       "        require(['plotly'], function(Plotly) {\n",
       "            window._Plotly = Plotly;\n",
       "        });\n",
       "        }\n",
       "        </script>\n",
       "        "
      ]
     },
     "metadata": {},
     "output_type": "display_data"
    }
   ],
   "source": [
    "init_notebook_mode(connected=True)\n"
   ]
  },
  {
   "cell_type": "code",
   "execution_count": 9,
   "id": "d9e847dc",
   "metadata": {},
   "outputs": [
    {
     "data": {
      "text/html": [
       "        <script type=\"text/javascript\">\n",
       "        window.PlotlyConfig = {MathJaxConfig: 'local'};\n",
       "        if (window.MathJax && window.MathJax.Hub && window.MathJax.Hub.Config) {window.MathJax.Hub.Config({SVG: {font: \"STIX-Web\"}});}\n",
       "        if (typeof require !== 'undefined') {\n",
       "        require.undef(\"plotly\");\n",
       "        requirejs.config({\n",
       "            paths: {\n",
       "                'plotly': ['https://cdn.plot.ly/plotly-2.12.1.min']\n",
       "            }\n",
       "        });\n",
       "        require(['plotly'], function(Plotly) {\n",
       "            window._Plotly = Plotly;\n",
       "        });\n",
       "        }\n",
       "        </script>\n",
       "        "
      ]
     },
     "metadata": {},
     "output_type": "display_data"
    }
   ],
   "source": [
    "cf.go_offline()"
   ]
  },
  {
   "cell_type": "code",
   "execution_count": 11,
   "id": "145c45ac",
   "metadata": {},
   "outputs": [],
   "source": [
    "# Data\n",
    "df = pd.DataFrame(np.random.randn(100,4), columns='A B c D'.split())"
   ]
  },
  {
   "cell_type": "code",
   "execution_count": 12,
   "id": "25ad97b1",
   "metadata": {},
   "outputs": [
    {
     "data": {
      "text/html": [
       "<div>\n",
       "<style scoped>\n",
       "    .dataframe tbody tr th:only-of-type {\n",
       "        vertical-align: middle;\n",
       "    }\n",
       "\n",
       "    .dataframe tbody tr th {\n",
       "        vertical-align: top;\n",
       "    }\n",
       "\n",
       "    .dataframe thead th {\n",
       "        text-align: right;\n",
       "    }\n",
       "</style>\n",
       "<table border=\"1\" class=\"dataframe\">\n",
       "  <thead>\n",
       "    <tr style=\"text-align: right;\">\n",
       "      <th></th>\n",
       "      <th>A</th>\n",
       "      <th>B</th>\n",
       "      <th>c</th>\n",
       "      <th>D</th>\n",
       "    </tr>\n",
       "  </thead>\n",
       "  <tbody>\n",
       "    <tr>\n",
       "      <th>0</th>\n",
       "      <td>-1.493977</td>\n",
       "      <td>-0.179326</td>\n",
       "      <td>-1.397440</td>\n",
       "      <td>0.712005</td>\n",
       "    </tr>\n",
       "    <tr>\n",
       "      <th>1</th>\n",
       "      <td>0.146671</td>\n",
       "      <td>-1.233415</td>\n",
       "      <td>-1.259448</td>\n",
       "      <td>0.037572</td>\n",
       "    </tr>\n",
       "    <tr>\n",
       "      <th>2</th>\n",
       "      <td>-0.168924</td>\n",
       "      <td>0.349183</td>\n",
       "      <td>-0.512910</td>\n",
       "      <td>1.863948</td>\n",
       "    </tr>\n",
       "    <tr>\n",
       "      <th>3</th>\n",
       "      <td>-2.564114</td>\n",
       "      <td>0.221405</td>\n",
       "      <td>-1.463532</td>\n",
       "      <td>-0.855666</td>\n",
       "    </tr>\n",
       "    <tr>\n",
       "      <th>4</th>\n",
       "      <td>-1.565612</td>\n",
       "      <td>-0.431192</td>\n",
       "      <td>-0.036595</td>\n",
       "      <td>-0.222618</td>\n",
       "    </tr>\n",
       "  </tbody>\n",
       "</table>\n",
       "</div>"
      ],
      "text/plain": [
       "          A         B         c         D\n",
       "0 -1.493977 -0.179326 -1.397440  0.712005\n",
       "1  0.146671 -1.233415 -1.259448  0.037572\n",
       "2 -0.168924  0.349183 -0.512910  1.863948\n",
       "3 -2.564114  0.221405 -1.463532 -0.855666\n",
       "4 -1.565612 -0.431192 -0.036595 -0.222618"
      ]
     },
     "execution_count": 12,
     "metadata": {},
     "output_type": "execute_result"
    }
   ],
   "source": [
    "df.head()"
   ]
  },
  {
   "cell_type": "code",
   "execution_count": 13,
   "id": "4e684fc6",
   "metadata": {},
   "outputs": [],
   "source": [
    "df2 = pd.DataFrame({'Category':['A', 'B', 'C'], 'Values':[32,43,50]})"
   ]
  },
  {
   "cell_type": "code",
   "execution_count": 14,
   "id": "2c31bbcd",
   "metadata": {},
   "outputs": [
    {
     "data": {
      "text/html": [
       "<div>\n",
       "<style scoped>\n",
       "    .dataframe tbody tr th:only-of-type {\n",
       "        vertical-align: middle;\n",
       "    }\n",
       "\n",
       "    .dataframe tbody tr th {\n",
       "        vertical-align: top;\n",
       "    }\n",
       "\n",
       "    .dataframe thead th {\n",
       "        text-align: right;\n",
       "    }\n",
       "</style>\n",
       "<table border=\"1\" class=\"dataframe\">\n",
       "  <thead>\n",
       "    <tr style=\"text-align: right;\">\n",
       "      <th></th>\n",
       "      <th>Category</th>\n",
       "      <th>Values</th>\n",
       "    </tr>\n",
       "  </thead>\n",
       "  <tbody>\n",
       "    <tr>\n",
       "      <th>0</th>\n",
       "      <td>A</td>\n",
       "      <td>32</td>\n",
       "    </tr>\n",
       "    <tr>\n",
       "      <th>1</th>\n",
       "      <td>B</td>\n",
       "      <td>43</td>\n",
       "    </tr>\n",
       "    <tr>\n",
       "      <th>2</th>\n",
       "      <td>C</td>\n",
       "      <td>50</td>\n",
       "    </tr>\n",
       "  </tbody>\n",
       "</table>\n",
       "</div>"
      ],
      "text/plain": [
       "  Category  Values\n",
       "0        A      32\n",
       "1        B      43\n",
       "2        C      50"
      ]
     },
     "execution_count": 14,
     "metadata": {},
     "output_type": "execute_result"
    }
   ],
   "source": [
    "df2"
   ]
  },
  {
   "cell_type": "code",
   "execution_count": 17,
   "id": "ec55d08f",
   "metadata": {},
   "outputs": [
    {
     "data": {
      "text/plain": [
       "<AxesSubplot:>"
      ]
     },
     "execution_count": 17,
     "metadata": {},
     "output_type": "execute_result"
    },
    {
     "data": {
      "image/png": "[encoded data removed]",
      "text/plain": [
       "<Figure size 432x288 with 1 Axes>"
      ]
     },
     "metadata": {
      "needs_background": "light"
     },
     "output_type": "display_data"
    }
   ],
   "source": [
    "df.plot()"
   ]
  },
  {
   "cell_type": "code",
   "execution_count": 18,
   "id": "c5804a5e",
   "metadata": {},
   "outputs": [
    {
     "data": {
      "application/vnd.plotly.v1+json": {
       "config": {
        "linkText": "Export to plot.ly",
        "plotlyServerURL": "https://plot.ly",
        "showLink": true
       },
       "data": [
        {
         "line": {
          "color": "rgba(255, 153, 51, 1.0)",
          "dash": "solid",
          "shape": "linear",
          "width": 1.3
         },
         "mode": "lines",
         "name": "A",
         "text": "",
         "type": "scatter",
         "x": [
          0,
          1,
          2,
          3,
          4,
          5,
          6,
          7,
          8,
          9,
          10,
          11,
          12,
          13,
          14,
          15,
          16,
          17,
          18,
          19,
          20,
          21,
          22,
          23,
          24,
          25,
          26,
          27,
          28,
          29,
          30,
          31,
          32,
          33,
          34,
          35,
          36,
          37,
          38,
          39,
          40,
          41,
          42,
          43,
          44,
          45,
          46,
          47,
          48,
          49,
          50,
          51,
          52,
          53,
          54,
          55,
          56,
          57,
          58,
          59,
          60,
          61,
          62,
          63,
          64,
          65,
          66,
          67,
          68,
          69,
          70,
          71,
          72,
          73,
          74,
          75,
          76,
          77,
          78,
          79,
          80,
          81,
          82,
          83,
          84,
          85,
          86,
          87,
          88,
          89,
          90,
          91,
          92,
          93,
          94,
          95,
          96,
          97,
          98,
          99
         ],
         "y": [
          -1.4939770193839113,
          0.14667142183123638,
          -0.1689240577557097,
          -2.5641137671536414,
          -1.5656121600558734,
          -1.2167004550556926,
          -0.5027845423972647,
          -0.19736293137528313,
          -0.4202320935653999,
          -0.6080146837161412,
          -1.230234537785847,
          -0.834544271094505,
          -0.7525609946685502,
          0.5523681023146403,
          0.3229589353270958,
          -0.997243590029998,
          1.6663098194289763,
          0.0877021878991175,
          -0.6060662026850341,
          -0.29003690869874343,
          0.8703676454073761,
          -0.3396656057424267,
          -0.6110092567412334,
          0.1472139397558027,
          -0.6994199594869444,
          -0.6158638170930033,
          0.6156004196442771,
          -0.33322696721037726,
          0.6696539231968791,
          -0.33925674088411095,
          0.8509919769727514,
          0.9645731195640609,
          2.427305453475825,
          0.976392584761381,
          1.7805857148536182,
          -0.6989982312628092,
          0.9057176562148805,
          0.41450153571613857,
          -1.6659821355531175,
          -1.105415801135921,
          -0.62185838308645,
          0.26305694720859163,
          -1.230184259105579,
          0.32487346783814625,
          -0.37518768510514555,
          -0.22521033590958614,
          -1.259372996663426,
          1.5609125053294142,
          -0.9177503491967661,
          -0.9235315213198988,
          1.1577654753378852,
          -1.6401526659124528,
          -1.0315814928703455,
          -0.17240986524184343,
          -1.6356154035797161,
          0.46896934471230545,
          0.7402280597029676,
          0.643571936309595,
          0.9789590030816315,
          0.4323966143449856,
          0.24984758212242894,
          0.05696615292061845,
          -0.22292926821963566,
          -1.5621053325723102,
          1.030043388900891,
          -2.1995026016841543,
          -0.9890315345511191,
          1.0610392086975546,
          -0.23948857174764943,
          -0.7085900231874463,
          1.6112436502127536,
          -0.068776323064688,
          -0.8630943776533021,
          0.21452073139849748,
          -0.6856857035422566,
          0.1604062806895764,
          -1.098694902114377,
          -0.004486955967236525,
          0.41358080038338224,
          -1.1308639855228306,
          1.3416129442187854,
          -1.1604840579000024,
          0.7859899459979105,
          -0.5378788796193937,
          -0.7823692774339261,
          -1.2475717135229125,
          -0.027819608867832593,
          -1.887835449605791,
          0.9312913941371009,
          -0.6762071639586086,
          -0.7166774860693382,
          1.3317430206692487,
          -0.5679228874173067,
          -0.9745452514729301,
          0.11099751388451033,
          1.4746054242805158,
          0.22633225768022122,
          -1.073948519445465,
          1.3499284499026483,
          -0.36978755761701826
         ]
        },
        {
         "line": {
          "color": "rgba(55, 128, 191, 1.0)",
          "dash": "solid",
          "shape": "linear",
          "width": 1.3
         },
         "mode": "lines",
         "name": "B",
         "text": "",
         "type": "scatter",
         "x": [
          0,
          1,
          2,
          3,
          4,
          5,
          6,
          7,
          8,
          9,
          10,
          11,
          12,
          13,
          14,
          15,
          16,
          17,
          18,
          19,
          20,
          21,
          22,
          23,
          24,
          25,
          26,
          27,
          28,
          29,
          30,
          31,
          32,
          33,
          34,
          35,
          36,
          37,
          38,
          39,
          40,
          41,
          42,
          43,
          44,
          45,
          46,
          47,
          48,
          49,
          50,
          51,
          52,
          53,
          54,
          55,
          56,
          57,
          58,
          59,
          60,
          61,
          62,
          63,
          64,
          65,
          66,
          67,
          68,
          69,
          70,
          71,
          72,
          73,
          74,
          75,
          76,
          77,
          78,
          79,
          80,
          81,
          82,
          83,
          84,
          85,
          86,
          87,
          88,
          89,
          90,
          91,
          92,
          93,
          94,
          95,
          96,
          97,
          98,
          99
         ],
         "y": [
          -0.17932594922892936,
          -1.2334150241168818,
          0.3491829430803454,
          0.22140507174626994,
          -0.4311921325864654,
          0.2728526806525845,
          -0.14671619073051312,
          -0.8361711948295325,
          -2.0525996827183524,
          1.2238954636242012,
          0.16748171442020826,
          0.9742348415959232,
          -1.459462066979266,
          0.560522495645634,
          0.22594078882224689,
          0.9936125565222024,
          2.0378905674033154,
          -0.15589591029106117,
          -1.037914776778365,
          0.5972560045854091,
          1.5396143307194154,
          -0.633578357203016,
          1.4549286148744829,
          -0.7602467680969238,
          1.4818952741568785,
          -0.35542676894068576,
          -0.1672124933215106,
          -0.4686208341591621,
          -0.6596271840718666,
          -0.7021120601503211,
          -0.4030312229739508,
          -2.4891767827615854,
          1.8067985741691368,
          0.3642482006924113,
          0.4633123311347458,
          -0.28776563158624496,
          -0.039824002265676645,
          0.3394186664968411,
          0.264005519683204,
          0.1997684212563469,
          -1.5972630604729419,
          -0.013363487980902096,
          0.628306211667071,
          0.014837486688604832,
          1.7299977564779727,
          0.8424498055863454,
          1.592948338505741,
          0.1908669085436572,
          2.7651347652023914,
          -0.052526911488933854,
          -1.3262825475191269,
          -0.7291649507936764,
          1.2249018261233362,
          0.6129613428385257,
          0.33058371496375294,
          0.4578414828592958,
          0.30186994670170814,
          0.23016785504505452,
          -0.8362591785189375,
          -0.19513012931737245,
          -0.9467488889374831,
          -0.020796939278777533,
          -0.7662354218695511,
          -0.5591934120199998,
          1.5520463274111282,
          -1.054375281258254,
          0.06319501059080465,
          0.14793864881395666,
          -0.8352938765626658,
          0.327098277975738,
          -0.5179048631445157,
          -1.1677399803679211,
          0.31009378584304187,
          -1.2490679086498058,
          -0.4379990922558729,
          -0.9952159930252686,
          -0.2966223603061448,
          -1.2253946012973123,
          0.9035519742314471,
          -0.7487703835990225,
          0.5675216231819916,
          0.2756900234536723,
          0.18778109097989296,
          0.9879978844923218,
          0.7132407851991432,
          -1.1426759234117327,
          0.603840652919978,
          -2.1987237127928667,
          -0.22001923010514926,
          -0.8474271266004348,
          -0.6214670988523815,
          -2.59231971595352,
          1.3278421248432764,
          0.11190383360680248,
          0.9314195828328372,
          0.718216542817618,
          -0.42075368128977786,
          -0.6554575354437634,
          -0.626953050550036,
          1.1939125486493873
         ]
        },
        {
         "line": {
          "color": "rgba(50, 171, 96, 1.0)",
          "dash": "solid",
          "shape": "linear",
          "width": 1.3
         },
         "mode": "lines",
         "name": "c",
         "text": "",
         "type": "scatter",
         "x": [
          0,
          1,
          2,
          3,
          4,
          5,
          6,
          7,
          8,
          9,
          10,
          11,
          12,
          13,
          14,
          15,
          16,
          17,
          18,
          19,
          20,
          21,
          22,
          23,
          24,
          25,
          26,
          27,
          28,
          29,
          30,
          31,
          32,
          33,
          34,
          35,
          36,
          37,
          38,
          39,
          40,
          41,
          42,
          43,
          44,
          45,
          46,
          47,
          48,
          49,
          50,
          51,
          52,
          53,
          54,
          55,
          56,
          57,
          58,
          59,
          60,
          61,
          62,
          63,
          64,
          65,
          66,
          67,
          68,
          69,
          70,
          71,
          72,
          73,
          74,
          75,
          76,
          77,
          78,
          79,
          80,
          81,
          82,
          83,
          84,
          85,
          86,
          87,
          88,
          89,
          90,
          91,
          92,
          93,
          94,
          95,
          96,
          97,
          98,
          99
         ],
         "y": [
          -1.3974399942298057,
          -1.2594475130421092,
          -0.5129099965513799,
          -1.4635316868003996,
          -0.036594916594382645,
          0.8386515146746838,
          1.1449293042599211,
          0.5025000377864617,
          -0.03716455206183781,
          1.3146641483878034,
          -2.278234077012857,
          1.0493201039900817,
          0.9803003093927106,
          -0.04880041287019022,
          0.19162835145411555,
          -0.7258437735625,
          -0.31344990276621376,
          0.6567052337724818,
          -0.3992004044020901,
          -1.460690954366173,
          1.143373627402732,
          1.426192951102635,
          -0.44971745884800807,
          0.8236730162851648,
          -0.2810409444957771,
          -1.2016804827635277,
          1.2306390281165533,
          -0.5552008293174706,
          -0.19337377840200753,
          0.8820068034767569,
          0.5273737977529509,
          1.569147278154652,
          0.9838124218074721,
          1.6560098562132635,
          0.635596970751312,
          -1.398243184093543,
          -0.2401893957907707,
          0.6583272757948146,
          0.2634210013276405,
          -0.07884437719855053,
          -2.1010630279519575,
          0.4046073689406953,
          -0.1978026749088829,
          0.3544669122529623,
          0.8676986036454316,
          -0.3381222914735889,
          0.6685169959977112,
          -1.8268978374432823,
          -1.3531072803819177,
          -0.552508690848112,
          -0.14498776539996722,
          0.5030044542437652,
          -0.17735530133869318,
          -0.08897184011598393,
          1.9664871533579928,
          -0.590160907020762,
          0.544437555568912,
          -0.7628199761660305,
          -0.37365608934370254,
          0.8149568189856771,
          1.4249776804923213,
          -1.7093514022201677,
          1.238908174942366,
          -1.71718557854535,
          -0.05147722651968288,
          0.8287930073555166,
          -0.8737659291251622,
          -0.9480135637863218,
          -1.1003475380444532,
          0.7457965183238748,
          0.6380570744905988,
          -0.3894208135806658,
          -0.6642137606994339,
          -1.140912977389208,
          1.0865520411835587,
          -1.2275379540163869,
          0.8242411648000758,
          0.12982334611742288,
          -1.5737224631153774,
          0.44117268893298894,
          1.0316925517073288,
          0.15956785954936245,
          1.179708144879079,
          -0.5728210381568386,
          1.0299163011895074,
          0.3908133622373693,
          1.9858908014819538,
          -0.8265475737502567,
          0.663924835481197,
          -0.23147551462621171,
          -1.056044503137501,
          0.31812921564814617,
          0.30028145129488937,
          -0.9816911288518367,
          -0.9339562697285321,
          0.3584643733701401,
          1.8651159293907649,
          -1.1035540728245703,
          1.1111769078969433,
          2.0446760759430442
         ]
        },
        {
         "line": {
          "color": "rgba(128, 0, 128, 1.0)",
          "dash": "solid",
          "shape": "linear",
          "width": 1.3
         },
         "mode": "lines",
         "name": "D",
         "text": "",
         "type": "scatter",
         "x": [
          0,
          1,
          2,
          3,
          4,
          5,
          6,
          7,
          8,
          9,
          10,
          11,
          12,
          13,
          14,
          15,
          16,
          17,
          18,
          19,
          20,
          21,
          22,
          23,
          24,
          25,
          26,
          27,
          28,
          29,
          30,
          31,
          32,
          33,
          34,
          35,
          36,
          37,
          38,
          39,
          40,
          41,
          42,
          43,
          44,
          45,
          46,
          47,
          48,
          49,
          50,
          51,
          52,
          53,
          54,
          55,
          56,
          57,
          58,
          59,
          60,
          61,
          62,
          63,
          64,
          65,
          66,
          67,
          68,
          69,
          70,
          71,
          72,
          73,
          74,
          75,
          76,
          77,
          78,
          79,
          80,
          81,
          82,
          83,
          84,
          85,
          86,
          87,
          88,
          89,
          90,
          91,
          92,
          93,
          94,
          95,
          96,
          97,
          98,
          99
         ],
         "y": [
          0.7120048034929688,
          0.037571924176700806,
          1.863948112983124,
          -0.8556664182979131,
          -0.22261837615277336,
          0.41350449670492756,
          1.6203319543114292,
          -0.2922523733494632,
          -1.7539373666576838,
          0.9895320045429775,
          0.6318448981936109,
          -2.221576685925559,
          -0.12057006100410533,
          -0.05776636496414596,
          -0.5503220465509001,
          0.6545978632840582,
          -1.108061140375195,
          0.07774686112593811,
          1.229150370974735,
          -0.9598138995070781,
          0.2553171944844485,
          -0.5312106448067048,
          -1.1766260005405362,
          -0.0089501762525687,
          1.5357305984753062,
          0.7354671313986141,
          -0.8110184683542013,
          1.082732376664796,
          -0.8934927035933473,
          -1.016646011537697,
          -1.2860201170696968,
          0.004796454433750215,
          -1.8649249921030508,
          0.19547129650750394,
          -0.7254502544000017,
          -1.6445739312624716,
          -0.614241250384773,
          0.947651845351561,
          -1.1829359088163829,
          -1.384355202952411,
          0.11011242718255053,
          1.197455158046334,
          -0.42809558047270085,
          -0.9757842847717417,
          0.885172144164018,
          1.1923405037845802,
          -0.9919277073072876,
          -1.317679831294402,
          -1.3245404587186131,
          0.6506861115846233,
          -0.3609133291001237,
          0.6723962599973358,
          0.34651672208847856,
          1.8591750211248126,
          -1.3852200101858028,
          -0.27685358822990774,
          0.6335764261578918,
          -2.539314836996711,
          -1.510787315277079,
          -0.11055856979500045,
          -0.491375805495196,
          -1.0192197784726929,
          2.086455864161741,
          -0.5172615980217126,
          0.8206242370564809,
          0.9858645709405398,
          1.2762610290410306,
          0.10713476342941546,
          -1.8186277461605582,
          0.6769012046049316,
          0.01366795538713723,
          -0.8986405789162267,
          0.07231285425140163,
          -0.563039626463328,
          0.03487686615991759,
          -0.8182175173066304,
          -2.035545744474048,
          0.09189039328921121,
          -1.5303055946275959,
          -1.5055761685861304,
          0.28164563964491446,
          1.0157880022485497,
          0.8905634100993131,
          -0.26830036034539123,
          0.028666062007271165,
          0.36553025568632413,
          -0.946426411782622,
          0.6027942740326115,
          0.4934687406555518,
          -0.28555189970477807,
          -0.3729824060325359,
          0.5212299692379051,
          -0.33814790277305373,
          0.44248336172215885,
          -0.26115706117549087,
          -0.5807234130298736,
          0.24323436038576762,
          0.4293091582265946,
          -0.8297263173896147,
          -1.3550401158358816
         ]
        }
       ],
       "layout": {
        "legend": {
         "bgcolor": "#F5F6F9",
         "font": {
          "color": "#4D5663"
         }
        },
        "paper_bgcolor": "#F5F6F9",
        "plot_bgcolor": "#F5F6F9",
        "template": {
         "data": {
          "bar": [
           {
            "error_x": {
             "color": "#2a3f5f"
            },
            "error_y": {
             "color": "#2a3f5f"
            },
            "marker": {
             "line": {
              "color": "#E5ECF6",
              "width": 0.5
             },
             "pattern": {
              "fillmode": "overlay",
              "size": 10,
              "solidity": 0.2
             }
            },
            "type": "bar"
           }
          ],
          "barpolar": [
           {
            "marker": {
             "line": {
              "color": "#E5ECF6",
              "width": 0.5
             },
             "pattern": {
              "fillmode": "overlay",
              "size": 10,
              "solidity": 0.2
             }
            },
            "type": "barpolar"
           }
          ],
          "carpet": [
           {
            "aaxis": {
             "endlinecolor": "#2a3f5f",
             "gridcolor": "white",
             "linecolor": "white",
             "minorgridcolor": "white",
             "startlinecolor": "#2a3f5f"
            },
            "baxis": {
             "endlinecolor": "#2a3f5f",
             "gridcolor": "white",
             "linecolor": "white",
             "minorgridcolor": "white",
             "startlinecolor": "#2a3f5f"
            },
            "type": "carpet"
           }
          ],
          "choropleth": [
           {
            "colorbar": {
             "outlinewidth": 0,
             "ticks": ""
            },
            "type": "choropleth"
           }
          ],
          "contour": [
           {
            "colorbar": {
             "outlinewidth": 0,
             "ticks": ""
            },
            "colorscale": [
             [
              0,
              "#0d0887"
             ],
             [
              0.1111111111111111,
              "#46039f"
             ],
             [
              0.2222222222222222,
              "#7201a8"
             ],
             [
              0.3333333333333333,
              "#9c179e"
             ],
             [
              0.4444444444444444,
              "#bd3786"
             ],
             [
              0.5555555555555556,
              "#d8576b"
             ],
             [
              0.6666666666666666,
              "#ed7953"
             ],
             [
              0.7777777777777778,
              "#fb9f3a"
             ],
             [
              0.8888888888888888,
              "#fdca26"
             ],
             [
              1,
              "#f0f921"
             ]
            ],
            "type": "contour"
           }
          ],
          "contourcarpet": [
           {
            "colorbar": {
             "outlinewidth": 0,
             "ticks": ""
            },
            "type": "contourcarpet"
           }
          ],
          "heatmap": [
           {
            "colorbar": {
             "outlinewidth": 0,
             "ticks": ""
            },
            "colorscale": [
             [
              0,
              "#0d0887"
             ],
             [
              0.1111111111111111,
              "#46039f"
             ],
             [
              0.2222222222222222,
              "#7201a8"
             ],
             [
              0.3333333333333333,
              "#9c179e"
             ],
             [
              0.4444444444444444,
              "#bd3786"
             ],
             [
              0.5555555555555556,
              "#d8576b"
             ],
             [
              0.6666666666666666,
              "#ed7953"
             ],
             [
              0.7777777777777778,
              "#fb9f3a"
             ],
             [
              0.8888888888888888,
              "#fdca26"
             ],
             [
              1,
              "#f0f921"
             ]
            ],
            "type": "heatmap"
           }
          ],
          "heatmapgl": [
           {
            "colorbar": {
             "outlinewidth": 0,
             "ticks": ""
            },
            "colorscale": [
             [
              0,
              "#0d0887"
             ],
             [
              0.1111111111111111,
              "#46039f"
             ],
             [
              0.2222222222222222,
              "#7201a8"
             ],
             [
              0.3333333333333333,
              "#9c179e"
             ],
             [
              0.4444444444444444,
              "#bd3786"
             ],
             [
              0.5555555555555556,
              "#d8576b"
             ],
             [
              0.6666666666666666,
              "#ed7953"
             ],
             [
              0.7777777777777778,
              "#fb9f3a"
             ],
             [
              0.8888888888888888,
              "#fdca26"
             ],
             [
              1,
              "#f0f921"
             ]
            ],
            "type": "heatmapgl"
           }
          ],
          "histogram": [
           {
            "marker": {
             "pattern": {
              "fillmode": "overlay",
              "size": 10,
              "solidity": 0.2
             }
            },
            "type": "histogram"
           }
          ],
          "histogram2d": [
           {
            "colorbar": {
             "outlinewidth": 0,
             "ticks": ""
            },
            "colorscale": [
             [
              0,
              "#0d0887"
             ],
             [
              0.1111111111111111,
              "#46039f"
             ],
             [
              0.2222222222222222,
              "#7201a8"
             ],
             [
              0.3333333333333333,
              "#9c179e"
             ],
             [
              0.4444444444444444,
              "#bd3786"
             ],
             [
              0.5555555555555556,
              "#d8576b"
             ],
             [
              0.6666666666666666,
              "#ed7953"
             ],
             [
              0.7777777777777778,
              "#fb9f3a"
             ],
             [
              0.8888888888888888,
              "#fdca26"
             ],
             [
              1,
              "#f0f921"
             ]
            ],
            "type": "histogram2d"
           }
          ],
          "histogram2dcontour": [
           {
            "colorbar": {
             "outlinewidth": 0,
             "ticks": ""
            },
            "colorscale": [
             [
              0,
              "#0d0887"
             ],
             [
              0.1111111111111111,
              "#46039f"
             ],
             [
              0.2222222222222222,
              "#7201a8"
             ],
             [
              0.3333333333333333,
              "#9c179e"
             ],
             [
              0.4444444444444444,
              "#bd3786"
             ],
             [
              0.5555555555555556,
              "#d8576b"
             ],
             [
              0.6666666666666666,
              "#ed7953"
             ],
             [
              0.7777777777777778,
              "#fb9f3a"
             ],
             [
              0.8888888888888888,
              "#fdca26"
             ],
             [
              1,
              "#f0f921"
             ]
            ],
            "type": "histogram2dcontour"
           }
          ],
          "mesh3d": [
           {
            "colorbar": {
             "outlinewidth": 0,
             "ticks": ""
            },
            "type": "mesh3d"
           }
          ],
          "parcoords": [
           {
            "line": {
             "colorbar": {
              "outlinewidth": 0,
              "ticks": ""
             }
            },
            "type": "parcoords"
           }
          ],
          "pie": [
           {
            "automargin": true,
            "type": "pie"
           }
          ],
          "scatter": [
           {
            "fillpattern": {
             "fillmode": "overlay",
             "size": 10,
             "solidity": 0.2
            },
            "type": "scatter"
           }
          ],
          "scatter3d": [
           {
            "line": {
             "colorbar": {
              "outlinewidth": 0,
              "ticks": ""
             }
            },
            "marker": {
             "colorbar": {
              "outlinewidth": 0,
              "ticks": ""
             }
            },
            "type": "scatter3d"
           }
          ],
          "scattercarpet": [
           {
            "marker": {
             "colorbar": {
              "outlinewidth": 0,
              "ticks": ""
             }
            },
            "type": "scattercarpet"
           }
          ],
          "scattergeo": [
           {
            "marker": {
             "colorbar": {
              "outlinewidth": 0,
              "ticks": ""
             }
            },
            "type": "scattergeo"
           }
          ],
          "scattergl": [
           {
            "marker": {
             "colorbar": {
              "outlinewidth": 0,
              "ticks": ""
             }
            },
            "type": "scattergl"
           }
          ],
          "scattermapbox": [
           {
            "marker": {
             "colorbar": {
              "outlinewidth": 0,
              "ticks": ""
             }
            },
            "type": "scattermapbox"
           }
          ],
          "scatterpolar": [
           {
            "marker": {
             "colorbar": {
              "outlinewidth": 0,
              "ticks": ""
             }
            },
            "type": "scatterpolar"
           }
          ],
          "scatterpolargl": [
           {
            "marker": {
             "colorbar": {
              "outlinewidth": 0,
              "ticks": ""
             }
            },
            "type": "scatterpolargl"
           }
          ],
          "scatterternary": [
           {
            "marker": {
             "colorbar": {
              "outlinewidth": 0,
              "ticks": ""
             }
            },
            "type": "scatterternary"
           }
          ],
          "surface": [
           {
            "colorbar": {
             "outlinewidth": 0,
             "ticks": ""
            },
            "colorscale": [
             [
              0,
              "#0d0887"
             ],
             [
              0.1111111111111111,
              "#46039f"
             ],
             [
              0.2222222222222222,
              "#7201a8"
             ],
             [
              0.3333333333333333,
              "#9c179e"
             ],
             [
              0.4444444444444444,
              "#bd3786"
             ],
             [
              0.5555555555555556,
              "#d8576b"
             ],
             [
              0.6666666666666666,
              "#ed7953"
             ],
             [
              0.7777777777777778,
              "#fb9f3a"
             ],
             [
              0.8888888888888888,
              "#fdca26"
             ],
             [
              1,
              "#f0f921"
             ]
            ],
            "type": "surface"
           }
          ],
          "table": [
           {
            "cells": {
             "fill": {
              "color": "#EBF0F8"
             },
             "line": {
              "color": "white"
             }
            },
            "header": {
             "fill": {
              "color": "#C8D4E3"
             },
             "line": {
              "color": "white"
             }
            },
            "type": "table"
           }
          ]
         },
         "layout": {
          "annotationdefaults": {
           "arrowcolor": "#2a3f5f",
           "arrowhead": 0,
           "arrowwidth": 1
          },
          "autotypenumbers": "strict",
          "coloraxis": {
           "colorbar": {
            "outlinewidth": 0,
            "ticks": ""
           }
          },
          "colorscale": {
           "diverging": [
            [
             0,
             "#8e0152"
            ],
            [
             0.1,
             "#c51b7d"
            ],
            [
             0.2,
             "#de77ae"
            ],
            [
             0.3,
             "#f1b6da"
            ],
            [
             0.4,
             "#fde0ef"
            ],
            [
             0.5,
             "#f7f7f7"
            ],
            [
             0.6,
             "#e6f5d0"
            ],
            [
             0.7,
             "#b8e186"
            ],
            [
             0.8,
             "#7fbc41"
            ],
            [
             0.9,
             "#4d9221"
            ],
            [
             1,
             "#276419"
            ]
           ],
           "sequential": [
            [
             0,
             "#0d0887"
            ],
            [
             0.1111111111111111,
             "#46039f"
            ],
            [
             0.2222222222222222,
             "#7201a8"
            ],
            [
             0.3333333333333333,
             "#9c179e"
            ],
            [
             0.4444444444444444,
             "#bd3786"
            ],
            [
             0.5555555555555556,
             "#d8576b"
            ],
            [
             0.6666666666666666,
             "#ed7953"
            ],
            [
             0.7777777777777778,
             "#fb9f3a"
            ],
            [
             0.8888888888888888,
             "#fdca26"
            ],
            [
             1,
             "#f0f921"
            ]
           ],
           "sequentialminus": [
            [
             0,
             "#0d0887"
            ],
            [
             0.1111111111111111,
             "#46039f"
            ],
            [
             0.2222222222222222,
             "#7201a8"
            ],
            [
             0.3333333333333333,
             "#9c179e"
            ],
            [
             0.4444444444444444,
             "#bd3786"
            ],
            [
             0.5555555555555556,
             "#d8576b"
            ],
            [
             0.6666666666666666,
             "#ed7953"
            ],
            [
             0.7777777777777778,
             "#fb9f3a"
            ],
            [
             0.8888888888888888,
             "#fdca26"
            ],
            [
             1,
             "#f0f921"
            ]
           ]
          },
          "colorway": [
           "#636efa",
           "#EF553B",
           "#00cc96",
           "#ab63fa",
           "#FFA15A",
           "#19d3f3",
           "#FF6692",
           "#B6E880",
           "#FF97FF",
           "#FECB52"
          ],
          "font": {
           "color": "#2a3f5f"
          },
          "geo": {
           "bgcolor": "white",
           "lakecolor": "white",
           "landcolor": "#E5ECF6",
           "showlakes": true,
           "showland": true,
           "subunitcolor": "white"
          },
          "hoverlabel": {
           "align": "left"
          },
          "hovermode": "closest",
          "mapbox": {
           "style": "light"
          },
          "paper_bgcolor": "white",
          "plot_bgcolor": "#E5ECF6",
          "polar": {
           "angularaxis": {
            "gridcolor": "white",
            "linecolor": "white",
            "ticks": ""
           },
           "bgcolor": "#E5ECF6",
           "radialaxis": {
            "gridcolor": "white",
            "linecolor": "white",
            "ticks": ""
           }
          },
          "scene": {
           "xaxis": {
            "backgroundcolor": "#E5ECF6",
            "gridcolor": "white",
            "gridwidth": 2,
            "linecolor": "white",
            "showbackground": true,
            "ticks": "",
            "zerolinecolor": "white"
           },
           "yaxis": {
            "backgroundcolor": "#E5ECF6",
            "gridcolor": "white",
            "gridwidth": 2,
            "linecolor": "white",
            "showbackground": true,
            "ticks": "",
            "zerolinecolor": "white"
           },
           "zaxis": {
            "backgroundcolor": "#E5ECF6",
            "gridcolor": "white",
            "gridwidth": 2,
            "linecolor": "white",
            "showbackground": true,
            "ticks": "",
            "zerolinecolor": "white"
           }
          },
          "shapedefaults": {
           "line": {
            "color": "#2a3f5f"
           }
          },
          "ternary": {
           "aaxis": {
            "gridcolor": "white",
            "linecolor": "white",
            "ticks": ""
           },
           "baxis": {
            "gridcolor": "white",
            "linecolor": "white",
            "ticks": ""
           },
           "bgcolor": "#E5ECF6",
           "caxis": {
            "gridcolor": "white",
            "linecolor": "white",
            "ticks": ""
           }
          },
          "title": {
           "x": 0.05
          },
          "xaxis": {
           "automargin": true,
           "gridcolor": "white",
           "linecolor": "white",
           "ticks": "",
           "title": {
            "standoff": 15
           },
           "zerolinecolor": "white",
           "zerolinewidth": 2
          },
          "yaxis": {
           "automargin": true,
           "gridcolor": "white",
           "linecolor": "white",
           "ticks": "",
           "title": {
            "standoff": 15
           },
           "zerolinecolor": "white",
           "zerolinewidth": 2
          }
         }
        },
        "title": {
         "font": {
          "color": "#4D5663"
         }
        },
        "xaxis": {
         "gridcolor": "#E1E5ED",
         "showgrid": true,
         "tickfont": {
          "color": "#4D5663"
         },
         "title": {
          "font": {
           "color": "#4D5663"
          },
          "text": ""
         },
         "zerolinecolor": "#E1E5ED"
        },
        "yaxis": {
         "gridcolor": "#E1E5ED",
         "showgrid": true,
         "tickfont": {
          "color": "#4D5663"
         },
         "title": {
          "font": {
           "color": "#4D5663"
          },
          "text": ""
         },
         "zerolinecolor": "#E1E5ED"
        }
       }
      },
      "text/html": [
       "<div>                            <div id=\"92037330-ce35-439a-ba9d-5dc1a94273c6\" class=\"plotly-graph-div\" style=\"height:525px; width:100%;\"></div>            <script type=\"text/javascript\">                require([\"plotly\"], function(Plotly) {                    window.PLOTLYENV=window.PLOTLYENV || {};\n",
       "                    window.PLOTLYENV.BASE_URL='https://plot.ly';                                    if (document.getElementById(\"92037330-ce35-439a-ba9d-5dc1a94273c6\")) {                    Plotly.newPlot(                        \"92037330-ce35-439a-ba9d-5dc1a94273c6\",                        [{\"line\":{\"color\":\"rgba(255, 153, 51, 1.0)\",\"dash\":\"solid\",\"shape\":\"linear\",\"width\":1.3},\"mode\":\"lines\",\"name\":\"A\",\"text\":\"\",\"x\":[0,1,2,3,4,5,6,7,8,9,10,11,12,13,14,15,16,17,18,19,20,21,22,23,24,25,26,27,28,29,30,31,32,33,34,35,36,37,38,39,40,41,42,43,44,45,46,47,48,49,50,51,52,53,54,55,56,57,58,59,60,61,62,63,64,65,66,67,68,69,70,71,72,73,74,75,76,77,78,79,80,81,82,83,84,85,86,87,88,89,90,91,92,93,94,95,96,97,98,99],\"y\":[-1.4939770193839113,0.14667142183123638,-0.1689240577557097,-2.5641137671536414,-1.5656121600558734,-1.2167004550556926,-0.5027845423972647,-0.19736293137528313,-0.4202320935653999,-0.6080146837161412,-1.230234537785847,-0.834544271094505,-0.7525609946685502,0.5523681023146403,0.3229589353270958,-0.997243590029998,1.6663098194289763,0.0877021878991175,-0.6060662026850341,-0.29003690869874343,0.8703676454073761,-0.3396656057424267,-0.6110092567412334,0.1472139397558027,-0.6994199594869444,-0.6158638170930033,0.6156004196442771,-0.33322696721037726,0.6696539231968791,-0.33925674088411095,0.8509919769727514,0.9645731195640609,2.427305453475825,0.976392584761381,1.7805857148536182,-0.6989982312628092,0.9057176562148805,0.41450153571613857,-1.6659821355531175,-1.105415801135921,-0.62185838308645,0.26305694720859163,-1.230184259105579,0.32487346783814625,-0.37518768510514555,-0.22521033590958614,-1.259372996663426,1.5609125053294142,-0.9177503491967661,-0.9235315213198988,1.1577654753378852,-1.6401526659124528,-1.0315814928703455,-0.17240986524184343,-1.6356154035797161,0.46896934471230545,0.7402280597029676,0.643571936309595,0.9789590030816315,0.4323966143449856,0.24984758212242894,0.05696615292061845,-0.22292926821963566,-1.5621053325723102,1.030043388900891,-2.1995026016841543,-0.9890315345511191,1.0610392086975546,-0.23948857174764943,-0.7085900231874463,1.6112436502127536,-0.068776323064688,-0.8630943776533021,0.21452073139849748,-0.6856857035422566,0.1604062806895764,-1.098694902114377,-0.004486955967236525,0.41358080038338224,-1.1308639855228306,1.3416129442187854,-1.1604840579000024,0.7859899459979105,-0.5378788796193937,-0.7823692774339261,-1.2475717135229125,-0.027819608867832593,-1.887835449605791,0.9312913941371009,-0.6762071639586086,-0.7166774860693382,1.3317430206692487,-0.5679228874173067,-0.9745452514729301,0.11099751388451033,1.4746054242805158,0.22633225768022122,-1.073948519445465,1.3499284499026483,-0.36978755761701826],\"type\":\"scatter\"},{\"line\":{\"color\":\"rgba(55, 128, 191, 1.0)\",\"dash\":\"solid\",\"shape\":\"linear\",\"width\":1.3},\"mode\":\"lines\",\"name\":\"B\",\"text\":\"\",\"x\":[0,1,2,3,4,5,6,7,8,9,10,11,12,13,14,15,16,17,18,19,20,21,22,23,24,25,26,27,28,29,30,31,32,33,34,35,36,37,38,39,40,41,42,43,44,45,46,47,48,49,50,51,52,53,54,55,56,57,58,59,60,61,62,63,64,65,66,67,68,69,70,71,72,73,74,75,76,77,78,79,80,81,82,83,84,85,86,87,88,89,90,91,92,93,94,95,96,97,98,99],\"y\":[-0.17932594922892936,-1.2334150241168818,0.3491829430803454,0.22140507174626994,-0.4311921325864654,0.2728526806525845,-0.14671619073051312,-0.8361711948295325,-2.0525996827183524,1.2238954636242012,0.16748171442020826,0.9742348415959232,-1.459462066979266,0.560522495645634,0.22594078882224689,0.9936125565222024,2.0378905674033154,-0.15589591029106117,-1.037914776778365,0.5972560045854091,1.5396143307194154,-0.633578357203016,1.4549286148744829,-0.7602467680969238,1.4818952741568785,-0.35542676894068576,-0.1672124933215106,-0.4686208341591621,-0.6596271840718666,-0.7021120601503211,-0.4030312229739508,-2.4891767827615854,1.8067985741691368,0.3642482006924113,0.4633123311347458,-0.28776563158624496,-0.039824002265676645,0.3394186664968411,0.264005519683204,0.1997684212563469,-1.5972630604729419,-0.013363487980902096,0.628306211667071,0.014837486688604832,1.7299977564779727,0.8424498055863454,1.592948338505741,0.1908669085436572,2.7651347652023914,-0.052526911488933854,-1.3262825475191269,-0.7291649507936764,1.2249018261233362,0.6129613428385257,0.33058371496375294,0.4578414828592958,0.30186994670170814,0.23016785504505452,-0.8362591785189375,-0.19513012931737245,-0.9467488889374831,-0.020796939278777533,-0.7662354218695511,-0.5591934120199998,1.5520463274111282,-1.054375281258254,0.06319501059080465,0.14793864881395666,-0.8352938765626658,0.327098277975738,-0.5179048631445157,-1.1677399803679211,0.31009378584304187,-1.2490679086498058,-0.4379990922558729,-0.9952159930252686,-0.2966223603061448,-1.2253946012973123,0.9035519742314471,-0.7487703835990225,0.5675216231819916,0.2756900234536723,0.18778109097989296,0.9879978844923218,0.7132407851991432,-1.1426759234117327,0.603840652919978,-2.1987237127928667,-0.22001923010514926,-0.8474271266004348,-0.6214670988523815,-2.59231971595352,1.3278421248432764,0.11190383360680248,0.9314195828328372,0.718216542817618,-0.42075368128977786,-0.6554575354437634,-0.626953050550036,1.1939125486493873],\"type\":\"scatter\"},{\"line\":{\"color\":\"rgba(50, 171, 96, 1.0)\",\"dash\":\"solid\",\"shape\":\"linear\",\"width\":1.3},\"mode\":\"lines\",\"name\":\"c\",\"text\":\"\",\"x\":[0,1,2,3,4,5,6,7,8,9,10,11,12,13,14,15,16,17,18,19,20,21,22,23,24,25,26,27,28,29,30,31,32,33,34,35,36,37,38,39,40,41,42,43,44,45,46,47,48,49,50,51,52,53,54,55,56,57,58,59,60,61,62,63,64,65,66,67,68,69,70,71,72,73,74,75,76,77,78,79,80,81,82,83,84,85,86,87,88,89,90,91,92,93,94,95,96,97,98,99],\"y\":[-1.3974399942298057,-1.2594475130421092,-0.5129099965513799,-1.4635316868003996,-0.036594916594382645,0.8386515146746838,1.1449293042599211,0.5025000377864617,-0.03716455206183781,1.3146641483878034,-2.278234077012857,1.0493201039900817,0.9803003093927106,-0.04880041287019022,0.19162835145411555,-0.7258437735625,-0.31344990276621376,0.6567052337724818,-0.3992004044020901,-1.460690954366173,1.143373627402732,1.426192951102635,-0.44971745884800807,0.8236730162851648,-0.2810409444957771,-1.2016804827635277,1.2306390281165533,-0.5552008293174706,-0.19337377840200753,0.8820068034767569,0.5273737977529509,1.569147278154652,0.9838124218074721,1.6560098562132635,0.635596970751312,-1.398243184093543,-0.2401893957907707,0.6583272757948146,0.2634210013276405,-0.07884437719855053,-2.1010630279519575,0.4046073689406953,-0.1978026749088829,0.3544669122529623,0.8676986036454316,-0.3381222914735889,0.6685169959977112,-1.8268978374432823,-1.3531072803819177,-0.552508690848112,-0.14498776539996722,0.5030044542437652,-0.17735530133869318,-0.08897184011598393,1.9664871533579928,-0.590160907020762,0.544437555568912,-0.7628199761660305,-0.37365608934370254,0.8149568189856771,1.4249776804923213,-1.7093514022201677,1.238908174942366,-1.71718557854535,-0.05147722651968288,0.8287930073555166,-0.8737659291251622,-0.9480135637863218,-1.1003475380444532,0.7457965183238748,0.6380570744905988,-0.3894208135806658,-0.6642137606994339,-1.140912977389208,1.0865520411835587,-1.2275379540163869,0.8242411648000758,0.12982334611742288,-1.5737224631153774,0.44117268893298894,1.0316925517073288,0.15956785954936245,1.179708144879079,-0.5728210381568386,1.0299163011895074,0.3908133622373693,1.9858908014819538,-0.8265475737502567,0.663924835481197,-0.23147551462621171,-1.056044503137501,0.31812921564814617,0.30028145129488937,-0.9816911288518367,-0.9339562697285321,0.3584643733701401,1.8651159293907649,-1.1035540728245703,1.1111769078969433,2.0446760759430442],\"type\":\"scatter\"},{\"line\":{\"color\":\"rgba(128, 0, 128, 1.0)\",\"dash\":\"solid\",\"shape\":\"linear\",\"width\":1.3},\"mode\":\"lines\",\"name\":\"D\",\"text\":\"\",\"x\":[0,1,2,3,4,5,6,7,8,9,10,11,12,13,14,15,16,17,18,19,20,21,22,23,24,25,26,27,28,29,30,31,32,33,34,35,36,37,38,39,40,41,42,43,44,45,46,47,48,49,50,51,52,53,54,55,56,57,58,59,60,61,62,63,64,65,66,67,68,69,70,71,72,73,74,75,76,77,78,79,80,81,82,83,84,85,86,87,88,89,90,91,92,93,94,95,96,97,98,99],\"y\":[0.7120048034929688,0.037571924176700806,1.863948112983124,-0.8556664182979131,-0.22261837615277336,0.41350449670492756,1.6203319543114292,-0.2922523733494632,-1.7539373666576838,0.9895320045429775,0.6318448981936109,-2.221576685925559,-0.12057006100410533,-0.05776636496414596,-0.5503220465509001,0.6545978632840582,-1.108061140375195,0.07774686112593811,1.229150370974735,-0.9598138995070781,0.2553171944844485,-0.5312106448067048,-1.1766260005405362,-0.0089501762525687,1.5357305984753062,0.7354671313986141,-0.8110184683542013,1.082732376664796,-0.8934927035933473,-1.016646011537697,-1.2860201170696968,0.004796454433750215,-1.8649249921030508,0.19547129650750394,-0.7254502544000017,-1.6445739312624716,-0.614241250384773,0.947651845351561,-1.1829359088163829,-1.384355202952411,0.11011242718255053,1.197455158046334,-0.42809558047270085,-0.9757842847717417,0.885172144164018,1.1923405037845802,-0.9919277073072876,-1.317679831294402,-1.3245404587186131,0.6506861115846233,-0.3609133291001237,0.6723962599973358,0.34651672208847856,1.8591750211248126,-1.3852200101858028,-0.27685358822990774,0.6335764261578918,-2.539314836996711,-1.510787315277079,-0.11055856979500045,-0.491375805495196,-1.0192197784726929,2.086455864161741,-0.5172615980217126,0.8206242370564809,0.9858645709405398,1.2762610290410306,0.10713476342941546,-1.8186277461605582,0.6769012046049316,0.01366795538713723,-0.8986405789162267,0.07231285425140163,-0.563039626463328,0.03487686615991759,-0.8182175173066304,-2.035545744474048,0.09189039328921121,-1.5303055946275959,-1.5055761685861304,0.28164563964491446,1.0157880022485497,0.8905634100993131,-0.26830036034539123,0.028666062007271165,0.36553025568632413,-0.946426411782622,0.6027942740326115,0.4934687406555518,-0.28555189970477807,-0.3729824060325359,0.5212299692379051,-0.33814790277305373,0.44248336172215885,-0.26115706117549087,-0.5807234130298736,0.24323436038576762,0.4293091582265946,-0.8297263173896147,-1.3550401158358816],\"type\":\"scatter\"}],                        {\"legend\":{\"bgcolor\":\"#F5F6F9\",\"font\":{\"color\":\"#4D5663\"}},\"paper_bgcolor\":\"#F5F6F9\",\"plot_bgcolor\":\"#F5F6F9\",\"template\":{\"data\":{\"barpolar\":[{\"marker\":{\"line\":{\"color\":\"#E5ECF6\",\"width\":0.5},\"pattern\":{\"fillmode\":\"overlay\",\"size\":10,\"solidity\":0.2}},\"type\":\"barpolar\"}],\"bar\":[{\"error_x\":{\"color\":\"#2a3f5f\"},\"error_y\":{\"color\":\"#2a3f5f\"},\"marker\":{\"line\":{\"color\":\"#E5ECF6\",\"width\":0.5},\"pattern\":{\"fillmode\":\"overlay\",\"size\":10,\"solidity\":0.2}},\"type\":\"bar\"}],\"carpet\":[{\"aaxis\":{\"endlinecolor\":\"#2a3f5f\",\"gridcolor\":\"white\",\"linecolor\":\"white\",\"minorgridcolor\":\"white\",\"startlinecolor\":\"#2a3f5f\"},\"baxis\":{\"endlinecolor\":\"#2a3f5f\",\"gridcolor\":\"white\",\"linecolor\":\"white\",\"minorgridcolor\":\"white\",\"startlinecolor\":\"#2a3f5f\"},\"type\":\"carpet\"}],\"choropleth\":[{\"colorbar\":{\"outlinewidth\":0,\"ticks\":\"\"},\"type\":\"choropleth\"}],\"contourcarpet\":[{\"colorbar\":{\"outlinewidth\":0,\"ticks\":\"\"},\"type\":\"contourcarpet\"}],\"contour\":[{\"colorbar\":{\"outlinewidth\":0,\"ticks\":\"\"},\"colorscale\":[[0.0,\"#0d0887\"],[0.1111111111111111,\"#46039f\"],[0.2222222222222222,\"#7201a8\"],[0.3333333333333333,\"#9c179e\"],[0.4444444444444444,\"#bd3786\"],[0.5555555555555556,\"#d8576b\"],[0.6666666666666666,\"#ed7953\"],[0.7777777777777778,\"#fb9f3a\"],[0.8888888888888888,\"#fdca26\"],[1.0,\"#f0f921\"]],\"type\":\"contour\"}],\"heatmapgl\":[{\"colorbar\":{\"outlinewidth\":0,\"ticks\":\"\"},\"colorscale\":[[0.0,\"#0d0887\"],[0.1111111111111111,\"#46039f\"],[0.2222222222222222,\"#7201a8\"],[0.3333333333333333,\"#9c179e\"],[0.4444444444444444,\"#bd3786\"],[0.5555555555555556,\"#d8576b\"],[0.6666666666666666,\"#ed7953\"],[0.7777777777777778,\"#fb9f3a\"],[0.8888888888888888,\"#fdca26\"],[1.0,\"#f0f921\"]],\"type\":\"heatmapgl\"}],\"heatmap\":[{\"colorbar\":{\"outlinewidth\":0,\"ticks\":\"\"},\"colorscale\":[[0.0,\"#0d0887\"],[0.1111111111111111,\"#46039f\"],[0.2222222222222222,\"#7201a8\"],[0.3333333333333333,\"#9c179e\"],[0.4444444444444444,\"#bd3786\"],[0.5555555555555556,\"#d8576b\"],[0.6666666666666666,\"#ed7953\"],[0.7777777777777778,\"#fb9f3a\"],[0.8888888888888888,\"#fdca26\"],[1.0,\"#f0f921\"]],\"type\":\"heatmap\"}],\"histogram2dcontour\":[{\"colorbar\":{\"outlinewidth\":0,\"ticks\":\"\"},\"colorscale\":[[0.0,\"#0d0887\"],[0.1111111111111111,\"#46039f\"],[0.2222222222222222,\"#7201a8\"],[0.3333333333333333,\"#9c179e\"],[0.4444444444444444,\"#bd3786\"],[0.5555555555555556,\"#d8576b\"],[0.6666666666666666,\"#ed7953\"],[0.7777777777777778,\"#fb9f3a\"],[0.8888888888888888,\"#fdca26\"],[1.0,\"#f0f921\"]],\"type\":\"histogram2dcontour\"}],\"histogram2d\":[{\"colorbar\":{\"outlinewidth\":0,\"ticks\":\"\"},\"colorscale\":[[0.0,\"#0d0887\"],[0.1111111111111111,\"#46039f\"],[0.2222222222222222,\"#7201a8\"],[0.3333333333333333,\"#9c179e\"],[0.4444444444444444,\"#bd3786\"],[0.5555555555555556,\"#d8576b\"],[0.6666666666666666,\"#ed7953\"],[0.7777777777777778,\"#fb9f3a\"],[0.8888888888888888,\"#fdca26\"],[1.0,\"#f0f921\"]],\"type\":\"histogram2d\"}],\"histogram\":[{\"marker\":{\"pattern\":{\"fillmode\":\"overlay\",\"size\":10,\"solidity\":0.2}},\"type\":\"histogram\"}],\"mesh3d\":[{\"colorbar\":{\"outlinewidth\":0,\"ticks\":\"\"},\"type\":\"mesh3d\"}],\"parcoords\":[{\"line\":{\"colorbar\":{\"outlinewidth\":0,\"ticks\":\"\"}},\"type\":\"parcoords\"}],\"pie\":[{\"automargin\":true,\"type\":\"pie\"}],\"scatter3d\":[{\"line\":{\"colorbar\":{\"outlinewidth\":0,\"ticks\":\"\"}},\"marker\":{\"colorbar\":{\"outlinewidth\":0,\"ticks\":\"\"}},\"type\":\"scatter3d\"}],\"scattercarpet\":[{\"marker\":{\"colorbar\":{\"outlinewidth\":0,\"ticks\":\"\"}},\"type\":\"scattercarpet\"}],\"scattergeo\":[{\"marker\":{\"colorbar\":{\"outlinewidth\":0,\"ticks\":\"\"}},\"type\":\"scattergeo\"}],\"scattergl\":[{\"marker\":{\"colorbar\":{\"outlinewidth\":0,\"ticks\":\"\"}},\"type\":\"scattergl\"}],\"scattermapbox\":[{\"marker\":{\"colorbar\":{\"outlinewidth\":0,\"ticks\":\"\"}},\"type\":\"scattermapbox\"}],\"scatterpolargl\":[{\"marker\":{\"colorbar\":{\"outlinewidth\":0,\"ticks\":\"\"}},\"type\":\"scatterpolargl\"}],\"scatterpolar\":[{\"marker\":{\"colorbar\":{\"outlinewidth\":0,\"ticks\":\"\"}},\"type\":\"scatterpolar\"}],\"scatter\":[{\"fillpattern\":{\"fillmode\":\"overlay\",\"size\":10,\"solidity\":0.2},\"type\":\"scatter\"}],\"scatterternary\":[{\"marker\":{\"colorbar\":{\"outlinewidth\":0,\"ticks\":\"\"}},\"type\":\"scatterternary\"}],\"surface\":[{\"colorbar\":{\"outlinewidth\":0,\"ticks\":\"\"},\"colorscale\":[[0.0,\"#0d0887\"],[0.1111111111111111,\"#46039f\"],[0.2222222222222222,\"#7201a8\"],[0.3333333333333333,\"#9c179e\"],[0.4444444444444444,\"#bd3786\"],[0.5555555555555556,\"#d8576b\"],[0.6666666666666666,\"#ed7953\"],[0.7777777777777778,\"#fb9f3a\"],[0.8888888888888888,\"#fdca26\"],[1.0,\"#f0f921\"]],\"type\":\"surface\"}],\"table\":[{\"cells\":{\"fill\":{\"color\":\"#EBF0F8\"},\"line\":{\"color\":\"white\"}},\"header\":{\"fill\":{\"color\":\"#C8D4E3\"},\"line\":{\"color\":\"white\"}},\"type\":\"table\"}]},\"layout\":{\"annotationdefaults\":{\"arrowcolor\":\"#2a3f5f\",\"arrowhead\":0,\"arrowwidth\":1},\"autotypenumbers\":\"strict\",\"coloraxis\":{\"colorbar\":{\"outlinewidth\":0,\"ticks\":\"\"}},\"colorscale\":{\"diverging\":[[0,\"#8e0152\"],[0.1,\"#c51b7d\"],[0.2,\"#de77ae\"],[0.3,\"#f1b6da\"],[0.4,\"#fde0ef\"],[0.5,\"#f7f7f7\"],[0.6,\"#e6f5d0\"],[0.7,\"#b8e186\"],[0.8,\"#7fbc41\"],[0.9,\"#4d9221\"],[1,\"#276419\"]],\"sequential\":[[0.0,\"#0d0887\"],[0.1111111111111111,\"#46039f\"],[0.2222222222222222,\"#7201a8\"],[0.3333333333333333,\"#9c179e\"],[0.4444444444444444,\"#bd3786\"],[0.5555555555555556,\"#d8576b\"],[0.6666666666666666,\"#ed7953\"],[0.7777777777777778,\"#fb9f3a\"],[0.8888888888888888,\"#fdca26\"],[1.0,\"#f0f921\"]],\"sequentialminus\":[[0.0,\"#0d0887\"],[0.1111111111111111,\"#46039f\"],[0.2222222222222222,\"#7201a8\"],[0.3333333333333333,\"#9c179e\"],[0.4444444444444444,\"#bd3786\"],[0.5555555555555556,\"#d8576b\"],[0.6666666666666666,\"#ed7953\"],[0.7777777777777778,\"#fb9f3a\"],[0.8888888888888888,\"#fdca26\"],[1.0,\"#f0f921\"]]},\"colorway\":[\"#636efa\",\"#EF553B\",\"#00cc96\",\"#ab63fa\",\"#FFA15A\",\"#19d3f3\",\"#FF6692\",\"#B6E880\",\"#FF97FF\",\"#FECB52\"],\"font\":{\"color\":\"#2a3f5f\"},\"geo\":{\"bgcolor\":\"white\",\"lakecolor\":\"white\",\"landcolor\":\"#E5ECF6\",\"showlakes\":true,\"showland\":true,\"subunitcolor\":\"white\"},\"hoverlabel\":{\"align\":\"left\"},\"hovermode\":\"closest\",\"mapbox\":{\"style\":\"light\"},\"paper_bgcolor\":\"white\",\"plot_bgcolor\":\"#E5ECF6\",\"polar\":{\"angularaxis\":{\"gridcolor\":\"white\",\"linecolor\":\"white\",\"ticks\":\"\"},\"bgcolor\":\"#E5ECF6\",\"radialaxis\":{\"gridcolor\":\"white\",\"linecolor\":\"white\",\"ticks\":\"\"}},\"scene\":{\"xaxis\":{\"backgroundcolor\":\"#E5ECF6\",\"gridcolor\":\"white\",\"gridwidth\":2,\"linecolor\":\"white\",\"showbackground\":true,\"ticks\":\"\",\"zerolinecolor\":\"white\"},\"yaxis\":{\"backgroundcolor\":\"#E5ECF6\",\"gridcolor\":\"white\",\"gridwidth\":2,\"linecolor\":\"white\",\"showbackground\":true,\"ticks\":\"\",\"zerolinecolor\":\"white\"},\"zaxis\":{\"backgroundcolor\":\"#E5ECF6\",\"gridcolor\":\"white\",\"gridwidth\":2,\"linecolor\":\"white\",\"showbackground\":true,\"ticks\":\"\",\"zerolinecolor\":\"white\"}},\"shapedefaults\":{\"line\":{\"color\":\"#2a3f5f\"}},\"ternary\":{\"aaxis\":{\"gridcolor\":\"white\",\"linecolor\":\"white\",\"ticks\":\"\"},\"baxis\":{\"gridcolor\":\"white\",\"linecolor\":\"white\",\"ticks\":\"\"},\"bgcolor\":\"#E5ECF6\",\"caxis\":{\"gridcolor\":\"white\",\"linecolor\":\"white\",\"ticks\":\"\"}},\"title\":{\"x\":0.05},\"xaxis\":{\"automargin\":true,\"gridcolor\":\"white\",\"linecolor\":\"white\",\"ticks\":\"\",\"title\":{\"standoff\":15},\"zerolinecolor\":\"white\",\"zerolinewidth\":2},\"yaxis\":{\"automargin\":true,\"gridcolor\":\"white\",\"linecolor\":\"white\",\"ticks\":\"\",\"title\":{\"standoff\":15},\"zerolinecolor\":\"white\",\"zerolinewidth\":2}}},\"title\":{\"font\":{\"color\":\"#4D5663\"}},\"xaxis\":{\"gridcolor\":\"#E1E5ED\",\"showgrid\":true,\"tickfont\":{\"color\":\"#4D5663\"},\"title\":{\"font\":{\"color\":\"#4D5663\"},\"text\":\"\"},\"zerolinecolor\":\"#E1E5ED\"},\"yaxis\":{\"gridcolor\":\"#E1E5ED\",\"showgrid\":true,\"tickfont\":{\"color\":\"#4D5663\"},\"title\":{\"font\":{\"color\":\"#4D5663\"},\"text\":\"\"},\"zerolinecolor\":\"#E1E5ED\"}},                        {\"showLink\": true, \"linkText\": \"Export to plot.ly\", \"plotlyServerURL\": \"https://plot.ly\", \"responsive\": true}                    ).then(function(){\n",
       "                            \n",
       "var gd = document.getElementById('92037330-ce35-439a-ba9d-5dc1a94273c6');\n",
       "var x = new MutationObserver(function (mutations, observer) {{\n",
       "        var display = window.getComputedStyle(gd).display;\n",
       "        if (!display || display === 'none') {{\n",
       "            console.log([gd, 'removed!']);\n",
       "            Plotly.purge(gd);\n",
       "            observer.disconnect();\n",
       "        }}\n",
       "}});\n",
       "\n",
       "// Listen for the removal of the full notebook cells\n",
       "var notebookContainer = gd.closest('#notebook-container');\n",
       "if (notebookContainer) {{\n",
       "    x.observe(notebookContainer, {childList: true});\n",
       "}}\n",
       "\n",
       "// Listen for the clearing of the current output cell\n",
       "var outputEl = gd.closest('.output');\n",
       "if (outputEl) {{\n",
       "    x.observe(outputEl, {childList: true});\n",
       "}}\n",
       "\n",
       "                        })                };                });            </script>        </div>"
      ]
     },
     "metadata": {},
     "output_type": "display_data"
    }
   ],
   "source": [
    "df.iplot()"
   ]
  },
  {
   "cell_type": "code",
   "execution_count": 20,
   "id": "0e261422",
   "metadata": {},
   "outputs": [
    {
     "data": {
      "application/vnd.plotly.v1+json": {
       "config": {
        "linkText": "Export to plot.ly",
        "plotlyServerURL": "https://plot.ly",
        "showLink": true
       },
       "data": [
        {
         "line": {
          "color": "rgba(255, 153, 51, 1.0)",
          "dash": "solid",
          "shape": "linear",
          "width": 1.3
         },
         "marker": {
          "size": 20,
          "symbol": "circle"
         },
         "mode": "markers",
         "name": "B",
         "text": "",
         "type": "scatter",
         "x": [
          -1.4939770193839113,
          0.14667142183123638,
          -0.1689240577557097,
          -2.5641137671536414,
          -1.5656121600558734,
          -1.2167004550556926,
          -0.5027845423972647,
          -0.19736293137528313,
          -0.4202320935653999,
          -0.6080146837161412,
          -1.230234537785847,
          -0.834544271094505,
          -0.7525609946685502,
          0.5523681023146403,
          0.3229589353270958,
          -0.997243590029998,
          1.6663098194289763,
          0.0877021878991175,
          -0.6060662026850341,
          -0.29003690869874343,
          0.8703676454073761,
          -0.3396656057424267,
          -0.6110092567412334,
          0.1472139397558027,
          -0.6994199594869444,
          -0.6158638170930033,
          0.6156004196442771,
          -0.33322696721037726,
          0.6696539231968791,
          -0.33925674088411095,
          0.8509919769727514,
          0.9645731195640609,
          2.427305453475825,
          0.976392584761381,
          1.7805857148536182,
          -0.6989982312628092,
          0.9057176562148805,
          0.41450153571613857,
          -1.6659821355531175,
          -1.105415801135921,
          -0.62185838308645,
          0.26305694720859163,
          -1.230184259105579,
          0.32487346783814625,
          -0.37518768510514555,
          -0.22521033590958614,
          -1.259372996663426,
          1.5609125053294142,
          -0.9177503491967661,
          -0.9235315213198988,
          1.1577654753378852,
          -1.6401526659124528,
          -1.0315814928703455,
          -0.17240986524184343,
          -1.6356154035797161,
          0.46896934471230545,
          0.7402280597029676,
          0.643571936309595,
          0.9789590030816315,
          0.4323966143449856,
          0.24984758212242894,
          0.05696615292061845,
          -0.22292926821963566,
          -1.5621053325723102,
          1.030043388900891,
          -2.1995026016841543,
          -0.9890315345511191,
          1.0610392086975546,
          -0.23948857174764943,
          -0.7085900231874463,
          1.6112436502127536,
          -0.068776323064688,
          -0.8630943776533021,
          0.21452073139849748,
          -0.6856857035422566,
          0.1604062806895764,
          -1.098694902114377,
          -0.004486955967236525,
          0.41358080038338224,
          -1.1308639855228306,
          1.3416129442187854,
          -1.1604840579000024,
          0.7859899459979105,
          -0.5378788796193937,
          -0.7823692774339261,
          -1.2475717135229125,
          -0.027819608867832593,
          -1.887835449605791,
          0.9312913941371009,
          -0.6762071639586086,
          -0.7166774860693382,
          1.3317430206692487,
          -0.5679228874173067,
          -0.9745452514729301,
          0.11099751388451033,
          1.4746054242805158,
          0.22633225768022122,
          -1.073948519445465,
          1.3499284499026483,
          -0.36978755761701826
         ],
         "y": [
          -0.17932594922892936,
          -1.2334150241168818,
          0.3491829430803454,
          0.22140507174626994,
          -0.4311921325864654,
          0.2728526806525845,
          -0.14671619073051312,
          -0.8361711948295325,
          -2.0525996827183524,
          1.2238954636242012,
          0.16748171442020826,
          0.9742348415959232,
          -1.459462066979266,
          0.560522495645634,
          0.22594078882224689,
          0.9936125565222024,
          2.0378905674033154,
          -0.15589591029106117,
          -1.037914776778365,
          0.5972560045854091,
          1.5396143307194154,
          -0.633578357203016,
          1.4549286148744829,
          -0.7602467680969238,
          1.4818952741568785,
          -0.35542676894068576,
          -0.1672124933215106,
          -0.4686208341591621,
          -0.6596271840718666,
          -0.7021120601503211,
          -0.4030312229739508,
          -2.4891767827615854,
          1.8067985741691368,
          0.3642482006924113,
          0.4633123311347458,
          -0.28776563158624496,
          -0.039824002265676645,
          0.3394186664968411,
          0.264005519683204,
          0.1997684212563469,
          -1.5972630604729419,
          -0.013363487980902096,
          0.628306211667071,
          0.014837486688604832,
          1.7299977564779727,
          0.8424498055863454,
          1.592948338505741,
          0.1908669085436572,
          2.7651347652023914,
          -0.052526911488933854,
          -1.3262825475191269,
          -0.7291649507936764,
          1.2249018261233362,
          0.6129613428385257,
          0.33058371496375294,
          0.4578414828592958,
          0.30186994670170814,
          0.23016785504505452,
          -0.8362591785189375,
          -0.19513012931737245,
          -0.9467488889374831,
          -0.020796939278777533,
          -0.7662354218695511,
          -0.5591934120199998,
          1.5520463274111282,
          -1.054375281258254,
          0.06319501059080465,
          0.14793864881395666,
          -0.8352938765626658,
          0.327098277975738,
          -0.5179048631445157,
          -1.1677399803679211,
          0.31009378584304187,
          -1.2490679086498058,
          -0.4379990922558729,
          -0.9952159930252686,
          -0.2966223603061448,
          -1.2253946012973123,
          0.9035519742314471,
          -0.7487703835990225,
          0.5675216231819916,
          0.2756900234536723,
          0.18778109097989296,
          0.9879978844923218,
          0.7132407851991432,
          -1.1426759234117327,
          0.603840652919978,
          -2.1987237127928667,
          -0.22001923010514926,
          -0.8474271266004348,
          -0.6214670988523815,
          -2.59231971595352,
          1.3278421248432764,
          0.11190383360680248,
          0.9314195828328372,
          0.718216542817618,
          -0.42075368128977786,
          -0.6554575354437634,
          -0.626953050550036,
          1.1939125486493873
         ]
        }
       ],
       "layout": {
        "legend": {
         "bgcolor": "#F5F6F9",
         "font": {
          "color": "#4D5663"
         }
        },
        "paper_bgcolor": "#F5F6F9",
        "plot_bgcolor": "#F5F6F9",
        "template": {
         "data": {
          "bar": [
           {
            "error_x": {
             "color": "#2a3f5f"
            },
            "error_y": {
             "color": "#2a3f5f"
            },
            "marker": {
             "line": {
              "color": "#E5ECF6",
              "width": 0.5
             },
             "pattern": {
              "fillmode": "overlay",
              "size": 10,
              "solidity": 0.2
             }
            },
            "type": "bar"
           }
          ],
          "barpolar": [
           {
            "marker": {
             "line": {
              "color": "#E5ECF6",
              "width": 0.5
             },
             "pattern": {
              "fillmode": "overlay",
              "size": 10,
              "solidity": 0.2
             }
            },
            "type": "barpolar"
           }
          ],
          "carpet": [
           {
            "aaxis": {
             "endlinecolor": "#2a3f5f",
             "gridcolor": "white",
             "linecolor": "white",
             "minorgridcolor": "white",
             "startlinecolor": "#2a3f5f"
            },
            "baxis": {
             "endlinecolor": "#2a3f5f",
             "gridcolor": "white",
             "linecolor": "white",
             "minorgridcolor": "white",
             "startlinecolor": "#2a3f5f"
            },
            "type": "carpet"
           }
          ],
          "choropleth": [
           {
            "colorbar": {
             "outlinewidth": 0,
             "ticks": ""
            },
            "type": "choropleth"
           }
          ],
          "contour": [
           {
            "colorbar": {
             "outlinewidth": 0,
             "ticks": ""
            },
            "colorscale": [
             [
              0,
              "#0d0887"
             ],
             [
              0.1111111111111111,
              "#46039f"
             ],
             [
              0.2222222222222222,
              "#7201a8"
             ],
             [
              0.3333333333333333,
              "#9c179e"
             ],
             [
              0.4444444444444444,
              "#bd3786"
             ],
             [
              0.5555555555555556,
              "#d8576b"
             ],
             [
              0.6666666666666666,
              "#ed7953"
             ],
             [
              0.7777777777777778,
              "#fb9f3a"
             ],
             [
              0.8888888888888888,
              "#fdca26"
             ],
             [
              1,
              "#f0f921"
             ]
            ],
            "type": "contour"
           }
          ],
          "contourcarpet": [
           {
            "colorbar": {
             "outlinewidth": 0,
             "ticks": ""
            },
            "type": "contourcarpet"
           }
          ],
          "heatmap": [
           {
            "colorbar": {
             "outlinewidth": 0,
             "ticks": ""
            },
            "colorscale": [
             [
              0,
              "#0d0887"
             ],
             [
              0.1111111111111111,
              "#46039f"
             ],
             [
              0.2222222222222222,
              "#7201a8"
             ],
             [
              0.3333333333333333,
              "#9c179e"
             ],
             [
              0.4444444444444444,
              "#bd3786"
             ],
             [
              0.5555555555555556,
              "#d8576b"
             ],
             [
              0.6666666666666666,
              "#ed7953"
             ],
             [
              0.7777777777777778,
              "#fb9f3a"
             ],
             [
              0.8888888888888888,
              "#fdca26"
             ],
             [
              1,
              "#f0f921"
             ]
            ],
            "type": "heatmap"
           }
          ],
          "heatmapgl": [
           {
            "colorbar": {
             "outlinewidth": 0,
             "ticks": ""
            },
            "colorscale": [
             [
              0,
              "#0d0887"
             ],
             [
              0.1111111111111111,
              "#46039f"
             ],
             [
              0.2222222222222222,
              "#7201a8"
             ],
             [
              0.3333333333333333,
              "#9c179e"
             ],
             [
              0.4444444444444444,
              "#bd3786"
             ],
             [
              0.5555555555555556,
              "#d8576b"
             ],
             [
              0.6666666666666666,
              "#ed7953"
             ],
             [
              0.7777777777777778,
              "#fb9f3a"
             ],
             [
              0.8888888888888888,
              "#fdca26"
             ],
             [
              1,
              "#f0f921"
             ]
            ],
            "type": "heatmapgl"
           }
          ],
          "histogram": [
           {
            "marker": {
             "pattern": {
              "fillmode": "overlay",
              "size": 10,
              "solidity": 0.2
             }
            },
            "type": "histogram"
           }
          ],
          "histogram2d": [
           {
            "colorbar": {
             "outlinewidth": 0,
             "ticks": ""
            },
            "colorscale": [
             [
              0,
              "#0d0887"
             ],
             [
              0.1111111111111111,
              "#46039f"
             ],
             [
              0.2222222222222222,
              "#7201a8"
             ],
             [
              0.3333333333333333,
              "#9c179e"
             ],
             [
              0.4444444444444444,
              "#bd3786"
             ],
             [
              0.5555555555555556,
              "#d8576b"
             ],
             [
              0.6666666666666666,
              "#ed7953"
             ],
             [
              0.7777777777777778,
              "#fb9f3a"
             ],
             [
              0.8888888888888888,
              "#fdca26"
             ],
             [
              1,
              "#f0f921"
             ]
            ],
            "type": "histogram2d"
           }
          ],
          "histogram2dcontour": [
           {
            "colorbar": {
             "outlinewidth": 0,
             "ticks": ""
            },
            "colorscale": [
             [
              0,
              "#0d0887"
             ],
             [
              0.1111111111111111,
              "#46039f"
             ],
             [
              0.2222222222222222,
              "#7201a8"
             ],
             [
              0.3333333333333333,
              "#9c179e"
             ],
             [
              0.4444444444444444,
              "#bd3786"
             ],
             [
              0.5555555555555556,
              "#d8576b"
             ],
             [
              0.6666666666666666,
              "#ed7953"
             ],
             [
              0.7777777777777778,
              "#fb9f3a"
             ],
             [
              0.8888888888888888,
              "#fdca26"
             ],
             [
              1,
              "#f0f921"
             ]
            ],
            "type": "histogram2dcontour"
           }
          ],
          "mesh3d": [
           {
            "colorbar": {
             "outlinewidth": 0,
             "ticks": ""
            },
            "type": "mesh3d"
           }
          ],
          "parcoords": [
           {
            "line": {
             "colorbar": {
              "outlinewidth": 0,
              "ticks": ""
             }
            },
            "type": "parcoords"
           }
          ],
          "pie": [
           {
            "automargin": true,
            "type": "pie"
           }
          ],
          "scatter": [
           {
            "fillpattern": {
             "fillmode": "overlay",
             "size": 10,
             "solidity": 0.2
            },
            "type": "scatter"
           }
          ],
          "scatter3d": [
           {
            "line": {
             "colorbar": {
              "outlinewidth": 0,
              "ticks": ""
             }
            },
            "marker": {
             "colorbar": {
              "outlinewidth": 0,
              "ticks": ""
             }
            },
            "type": "scatter3d"
           }
          ],
          "scattercarpet": [
           {
            "marker": {
             "colorbar": {
              "outlinewidth": 0,
              "ticks": ""
             }
            },
            "type": "scattercarpet"
           }
          ],
          "scattergeo": [
           {
            "marker": {
             "colorbar": {
              "outlinewidth": 0,
              "ticks": ""
             }
            },
            "type": "scattergeo"
           }
          ],
          "scattergl": [
           {
            "marker": {
             "colorbar": {
              "outlinewidth": 0,
              "ticks": ""
             }
            },
            "type": "scattergl"
           }
          ],
          "scattermapbox": [
           {
            "marker": {
             "colorbar": {
              "outlinewidth": 0,
              "ticks": ""
             }
            },
            "type": "scattermapbox"
           }
          ],
          "scatterpolar": [
           {
            "marker": {
             "colorbar": {
              "outlinewidth": 0,
              "ticks": ""
             }
            },
            "type": "scatterpolar"
           }
          ],
          "scatterpolargl": [
           {
            "marker": {
             "colorbar": {
              "outlinewidth": 0,
              "ticks": ""
             }
            },
            "type": "scatterpolargl"
           }
          ],
          "scatterternary": [
           {
            "marker": {
             "colorbar": {
              "outlinewidth": 0,
              "ticks": ""
             }
            },
            "type": "scatterternary"
           }
          ],
          "surface": [
           {
            "colorbar": {
             "outlinewidth": 0,
             "ticks": ""
            },
            "colorscale": [
             [
              0,
              "#0d0887"
             ],
             [
              0.1111111111111111,
              "#46039f"
             ],
             [
              0.2222222222222222,
              "#7201a8"
             ],
             [
              0.3333333333333333,
              "#9c179e"
             ],
             [
              0.4444444444444444,
              "#bd3786"
             ],
             [
              0.5555555555555556,
              "#d8576b"
             ],
             [
              0.6666666666666666,
              "#ed7953"
             ],
             [
              0.7777777777777778,
              "#fb9f3a"
             ],
             [
              0.8888888888888888,
              "#fdca26"
             ],
             [
              1,
              "#f0f921"
             ]
            ],
            "type": "surface"
           }
          ],
          "table": [
           {
            "cells": {
             "fill": {
              "color": "#EBF0F8"
             },
             "line": {
              "color": "white"
             }
            },
            "header": {
             "fill": {
              "color": "#C8D4E3"
             },
             "line": {
              "color": "white"
             }
            },
            "type": "table"
           }
          ]
         },
         "layout": {
          "annotationdefaults": {
           "arrowcolor": "#2a3f5f",
           "arrowhead": 0,
           "arrowwidth": 1
          },
          "autotypenumbers": "strict",
          "coloraxis": {
           "colorbar": {
            "outlinewidth": 0,
            "ticks": ""
           }
          },
          "colorscale": {
           "diverging": [
            [
             0,
             "#8e0152"
            ],
            [
             0.1,
             "#c51b7d"
            ],
            [
             0.2,
             "#de77ae"
            ],
            [
             0.3,
             "#f1b6da"
            ],
            [
             0.4,
             "#fde0ef"
            ],
            [
             0.5,
             "#f7f7f7"
            ],
            [
             0.6,
             "#e6f5d0"
            ],
            [
             0.7,
             "#b8e186"
            ],
            [
             0.8,
             "#7fbc41"
            ],
            [
             0.9,
             "#4d9221"
            ],
            [
             1,
             "#276419"
            ]
           ],
           "sequential": [
            [
             0,
             "#0d0887"
            ],
            [
             0.1111111111111111,
             "#46039f"
            ],
            [
             0.2222222222222222,
             "#7201a8"
            ],
            [
             0.3333333333333333,
             "#9c179e"
            ],
            [
             0.4444444444444444,
             "#bd3786"
            ],
            [
             0.5555555555555556,
             "#d8576b"
            ],
            [
             0.6666666666666666,
             "#ed7953"
            ],
            [
             0.7777777777777778,
             "#fb9f3a"
            ],
            [
             0.8888888888888888,
             "#fdca26"
            ],
            [
             1,
             "#f0f921"
            ]
           ],
           "sequentialminus": [
            [
             0,
             "#0d0887"
            ],
            [
             0.1111111111111111,
             "#46039f"
            ],
            [
             0.2222222222222222,
             "#7201a8"
            ],
            [
             0.3333333333333333,
             "#9c179e"
            ],
            [
             0.4444444444444444,
             "#bd3786"
            ],
            [
             0.5555555555555556,
             "#d8576b"
            ],
            [
             0.6666666666666666,
             "#ed7953"
            ],
            [
             0.7777777777777778,
             "#fb9f3a"
            ],
            [
             0.8888888888888888,
             "#fdca26"
            ],
            [
             1,
             "#f0f921"
            ]
           ]
          },
          "colorway": [
           "#636efa",
           "#EF553B",
           "#00cc96",
           "#ab63fa",
           "#FFA15A",
           "#19d3f3",
           "#FF6692",
           "#B6E880",
           "#FF97FF",
           "#FECB52"
          ],
          "font": {
           "color": "#2a3f5f"
          },
          "geo": {
           "bgcolor": "white",
           "lakecolor": "white",
           "landcolor": "#E5ECF6",
           "showlakes": true,
           "showland": true,
           "subunitcolor": "white"
          },
          "hoverlabel": {
           "align": "left"
          },
          "hovermode": "closest",
          "mapbox": {
           "style": "light"
          },
          "paper_bgcolor": "white",
          "plot_bgcolor": "#E5ECF6",
          "polar": {
           "angularaxis": {
            "gridcolor": "white",
            "linecolor": "white",
            "ticks": ""
           },
           "bgcolor": "#E5ECF6",
           "radialaxis": {
            "gridcolor": "white",
            "linecolor": "white",
            "ticks": ""
           }
          },
          "scene": {
           "xaxis": {
            "backgroundcolor": "#E5ECF6",
            "gridcolor": "white",
            "gridwidth": 2,
            "linecolor": "white",
            "showbackground": true,
            "ticks": "",
            "zerolinecolor": "white"
           },
           "yaxis": {
            "backgroundcolor": "#E5ECF6",
            "gridcolor": "white",
            "gridwidth": 2,
            "linecolor": "white",
            "showbackground": true,
            "ticks": "",
            "zerolinecolor": "white"
           },
           "zaxis": {
            "backgroundcolor": "#E5ECF6",
            "gridcolor": "white",
            "gridwidth": 2,
            "linecolor": "white",
            "showbackground": true,
            "ticks": "",
            "zerolinecolor": "white"
           }
          },
          "shapedefaults": {
           "line": {
            "color": "#2a3f5f"
           }
          },
          "ternary": {
           "aaxis": {
            "gridcolor": "white",
            "linecolor": "white",
            "ticks": ""
           },
           "baxis": {
            "gridcolor": "white",
            "linecolor": "white",
            "ticks": ""
           },
           "bgcolor": "#E5ECF6",
           "caxis": {
            "gridcolor": "white",
            "linecolor": "white",
            "ticks": ""
           }
          },
          "title": {
           "x": 0.05
          },
          "xaxis": {
           "automargin": true,
           "gridcolor": "white",
           "linecolor": "white",
           "ticks": "",
           "title": {
            "standoff": 15
           },
           "zerolinecolor": "white",
           "zerolinewidth": 2
          },
          "yaxis": {
           "automargin": true,
           "gridcolor": "white",
           "linecolor": "white",
           "ticks": "",
           "title": {
            "standoff": 15
           },
           "zerolinecolor": "white",
           "zerolinewidth": 2
          }
         }
        },
        "title": {
         "font": {
          "color": "#4D5663"
         }
        },
        "xaxis": {
         "gridcolor": "#E1E5ED",
         "showgrid": true,
         "tickfont": {
          "color": "#4D5663"
         },
         "title": {
          "font": {
           "color": "#4D5663"
          },
          "text": ""
         },
         "zerolinecolor": "#E1E5ED"
        },
        "yaxis": {
         "gridcolor": "#E1E5ED",
         "showgrid": true,
         "tickfont": {
          "color": "#4D5663"
         },
         "title": {
          "font": {
           "color": "#4D5663"
          },
          "text": ""
         },
         "zerolinecolor": "#E1E5ED"
        }
       }
      },
      "text/html": [
       "<div>                            <div id=\"5aecc44e-38b3-4acb-9d69-b7693aff2bbf\" class=\"plotly-graph-div\" style=\"height:525px; width:100%;\"></div>            <script type=\"text/javascript\">                require([\"plotly\"], function(Plotly) {                    window.PLOTLYENV=window.PLOTLYENV || {};\n",
       "                    window.PLOTLYENV.BASE_URL='https://plot.ly';                                    if (document.getElementById(\"5aecc44e-38b3-4acb-9d69-b7693aff2bbf\")) {                    Plotly.newPlot(                        \"5aecc44e-38b3-4acb-9d69-b7693aff2bbf\",                        [{\"line\":{\"color\":\"rgba(255, 153, 51, 1.0)\",\"dash\":\"solid\",\"shape\":\"linear\",\"width\":1.3},\"marker\":{\"size\":20,\"symbol\":\"circle\"},\"mode\":\"markers\",\"name\":\"B\",\"text\":\"\",\"x\":[-1.4939770193839113,0.14667142183123638,-0.1689240577557097,-2.5641137671536414,-1.5656121600558734,-1.2167004550556926,-0.5027845423972647,-0.19736293137528313,-0.4202320935653999,-0.6080146837161412,-1.230234537785847,-0.834544271094505,-0.7525609946685502,0.5523681023146403,0.3229589353270958,-0.997243590029998,1.6663098194289763,0.0877021878991175,-0.6060662026850341,-0.29003690869874343,0.8703676454073761,-0.3396656057424267,-0.6110092567412334,0.1472139397558027,-0.6994199594869444,-0.6158638170930033,0.6156004196442771,-0.33322696721037726,0.6696539231968791,-0.33925674088411095,0.8509919769727514,0.9645731195640609,2.427305453475825,0.976392584761381,1.7805857148536182,-0.6989982312628092,0.9057176562148805,0.41450153571613857,-1.6659821355531175,-1.105415801135921,-0.62185838308645,0.26305694720859163,-1.230184259105579,0.32487346783814625,-0.37518768510514555,-0.22521033590958614,-1.259372996663426,1.5609125053294142,-0.9177503491967661,-0.9235315213198988,1.1577654753378852,-1.6401526659124528,-1.0315814928703455,-0.17240986524184343,-1.6356154035797161,0.46896934471230545,0.7402280597029676,0.643571936309595,0.9789590030816315,0.4323966143449856,0.24984758212242894,0.05696615292061845,-0.22292926821963566,-1.5621053325723102,1.030043388900891,-2.1995026016841543,-0.9890315345511191,1.0610392086975546,-0.23948857174764943,-0.7085900231874463,1.6112436502127536,-0.068776323064688,-0.8630943776533021,0.21452073139849748,-0.6856857035422566,0.1604062806895764,-1.098694902114377,-0.004486955967236525,0.41358080038338224,-1.1308639855228306,1.3416129442187854,-1.1604840579000024,0.7859899459979105,-0.5378788796193937,-0.7823692774339261,-1.2475717135229125,-0.027819608867832593,-1.887835449605791,0.9312913941371009,-0.6762071639586086,-0.7166774860693382,1.3317430206692487,-0.5679228874173067,-0.9745452514729301,0.11099751388451033,1.4746054242805158,0.22633225768022122,-1.073948519445465,1.3499284499026483,-0.36978755761701826],\"y\":[-0.17932594922892936,-1.2334150241168818,0.3491829430803454,0.22140507174626994,-0.4311921325864654,0.2728526806525845,-0.14671619073051312,-0.8361711948295325,-2.0525996827183524,1.2238954636242012,0.16748171442020826,0.9742348415959232,-1.459462066979266,0.560522495645634,0.22594078882224689,0.9936125565222024,2.0378905674033154,-0.15589591029106117,-1.037914776778365,0.5972560045854091,1.5396143307194154,-0.633578357203016,1.4549286148744829,-0.7602467680969238,1.4818952741568785,-0.35542676894068576,-0.1672124933215106,-0.4686208341591621,-0.6596271840718666,-0.7021120601503211,-0.4030312229739508,-2.4891767827615854,1.8067985741691368,0.3642482006924113,0.4633123311347458,-0.28776563158624496,-0.039824002265676645,0.3394186664968411,0.264005519683204,0.1997684212563469,-1.5972630604729419,-0.013363487980902096,0.628306211667071,0.014837486688604832,1.7299977564779727,0.8424498055863454,1.592948338505741,0.1908669085436572,2.7651347652023914,-0.052526911488933854,-1.3262825475191269,-0.7291649507936764,1.2249018261233362,0.6129613428385257,0.33058371496375294,0.4578414828592958,0.30186994670170814,0.23016785504505452,-0.8362591785189375,-0.19513012931737245,-0.9467488889374831,-0.020796939278777533,-0.7662354218695511,-0.5591934120199998,1.5520463274111282,-1.054375281258254,0.06319501059080465,0.14793864881395666,-0.8352938765626658,0.327098277975738,-0.5179048631445157,-1.1677399803679211,0.31009378584304187,-1.2490679086498058,-0.4379990922558729,-0.9952159930252686,-0.2966223603061448,-1.2253946012973123,0.9035519742314471,-0.7487703835990225,0.5675216231819916,0.2756900234536723,0.18778109097989296,0.9879978844923218,0.7132407851991432,-1.1426759234117327,0.603840652919978,-2.1987237127928667,-0.22001923010514926,-0.8474271266004348,-0.6214670988523815,-2.59231971595352,1.3278421248432764,0.11190383360680248,0.9314195828328372,0.718216542817618,-0.42075368128977786,-0.6554575354437634,-0.626953050550036,1.1939125486493873],\"type\":\"scatter\"}],                        {\"legend\":{\"bgcolor\":\"#F5F6F9\",\"font\":{\"color\":\"#4D5663\"}},\"paper_bgcolor\":\"#F5F6F9\",\"plot_bgcolor\":\"#F5F6F9\",\"template\":{\"data\":{\"barpolar\":[{\"marker\":{\"line\":{\"color\":\"#E5ECF6\",\"width\":0.5},\"pattern\":{\"fillmode\":\"overlay\",\"size\":10,\"solidity\":0.2}},\"type\":\"barpolar\"}],\"bar\":[{\"error_x\":{\"color\":\"#2a3f5f\"},\"error_y\":{\"color\":\"#2a3f5f\"},\"marker\":{\"line\":{\"color\":\"#E5ECF6\",\"width\":0.5},\"pattern\":{\"fillmode\":\"overlay\",\"size\":10,\"solidity\":0.2}},\"type\":\"bar\"}],\"carpet\":[{\"aaxis\":{\"endlinecolor\":\"#2a3f5f\",\"gridcolor\":\"white\",\"linecolor\":\"white\",\"minorgridcolor\":\"white\",\"startlinecolor\":\"#2a3f5f\"},\"baxis\":{\"endlinecolor\":\"#2a3f5f\",\"gridcolor\":\"white\",\"linecolor\":\"white\",\"minorgridcolor\":\"white\",\"startlinecolor\":\"#2a3f5f\"},\"type\":\"carpet\"}],\"choropleth\":[{\"colorbar\":{\"outlinewidth\":0,\"ticks\":\"\"},\"type\":\"choropleth\"}],\"contourcarpet\":[{\"colorbar\":{\"outlinewidth\":0,\"ticks\":\"\"},\"type\":\"contourcarpet\"}],\"contour\":[{\"colorbar\":{\"outlinewidth\":0,\"ticks\":\"\"},\"colorscale\":[[0.0,\"#0d0887\"],[0.1111111111111111,\"#46039f\"],[0.2222222222222222,\"#7201a8\"],[0.3333333333333333,\"#9c179e\"],[0.4444444444444444,\"#bd3786\"],[0.5555555555555556,\"#d8576b\"],[0.6666666666666666,\"#ed7953\"],[0.7777777777777778,\"#fb9f3a\"],[0.8888888888888888,\"#fdca26\"],[1.0,\"#f0f921\"]],\"type\":\"contour\"}],\"heatmapgl\":[{\"colorbar\":{\"outlinewidth\":0,\"ticks\":\"\"},\"colorscale\":[[0.0,\"#0d0887\"],[0.1111111111111111,\"#46039f\"],[0.2222222222222222,\"#7201a8\"],[0.3333333333333333,\"#9c179e\"],[0.4444444444444444,\"#bd3786\"],[0.5555555555555556,\"#d8576b\"],[0.6666666666666666,\"#ed7953\"],[0.7777777777777778,\"#fb9f3a\"],[0.8888888888888888,\"#fdca26\"],[1.0,\"#f0f921\"]],\"type\":\"heatmapgl\"}],\"heatmap\":[{\"colorbar\":{\"outlinewidth\":0,\"ticks\":\"\"},\"colorscale\":[[0.0,\"#0d0887\"],[0.1111111111111111,\"#46039f\"],[0.2222222222222222,\"#7201a8\"],[0.3333333333333333,\"#9c179e\"],[0.4444444444444444,\"#bd3786\"],[0.5555555555555556,\"#d8576b\"],[0.6666666666666666,\"#ed7953\"],[0.7777777777777778,\"#fb9f3a\"],[0.8888888888888888,\"#fdca26\"],[1.0,\"#f0f921\"]],\"type\":\"heatmap\"}],\"histogram2dcontour\":[{\"colorbar\":{\"outlinewidth\":0,\"ticks\":\"\"},\"colorscale\":[[0.0,\"#0d0887\"],[0.1111111111111111,\"#46039f\"],[0.2222222222222222,\"#7201a8\"],[0.3333333333333333,\"#9c179e\"],[0.4444444444444444,\"#bd3786\"],[0.5555555555555556,\"#d8576b\"],[0.6666666666666666,\"#ed7953\"],[0.7777777777777778,\"#fb9f3a\"],[0.8888888888888888,\"#fdca26\"],[1.0,\"#f0f921\"]],\"type\":\"histogram2dcontour\"}],\"histogram2d\":[{\"colorbar\":{\"outlinewidth\":0,\"ticks\":\"\"},\"colorscale\":[[0.0,\"#0d0887\"],[0.1111111111111111,\"#46039f\"],[0.2222222222222222,\"#7201a8\"],[0.3333333333333333,\"#9c179e\"],[0.4444444444444444,\"#bd3786\"],[0.5555555555555556,\"#d8576b\"],[0.6666666666666666,\"#ed7953\"],[0.7777777777777778,\"#fb9f3a\"],[0.8888888888888888,\"#fdca26\"],[1.0,\"#f0f921\"]],\"type\":\"histogram2d\"}],\"histogram\":[{\"marker\":{\"pattern\":{\"fillmode\":\"overlay\",\"size\":10,\"solidity\":0.2}},\"type\":\"histogram\"}],\"mesh3d\":[{\"colorbar\":{\"outlinewidth\":0,\"ticks\":\"\"},\"type\":\"mesh3d\"}],\"parcoords\":[{\"line\":{\"colorbar\":{\"outlinewidth\":0,\"ticks\":\"\"}},\"type\":\"parcoords\"}],\"pie\":[{\"automargin\":true,\"type\":\"pie\"}],\"scatter3d\":[{\"line\":{\"colorbar\":{\"outlinewidth\":0,\"ticks\":\"\"}},\"marker\":{\"colorbar\":{\"outlinewidth\":0,\"ticks\":\"\"}},\"type\":\"scatter3d\"}],\"scattercarpet\":[{\"marker\":{\"colorbar\":{\"outlinewidth\":0,\"ticks\":\"\"}},\"type\":\"scattercarpet\"}],\"scattergeo\":[{\"marker\":{\"colorbar\":{\"outlinewidth\":0,\"ticks\":\"\"}},\"type\":\"scattergeo\"}],\"scattergl\":[{\"marker\":{\"colorbar\":{\"outlinewidth\":0,\"ticks\":\"\"}},\"type\":\"scattergl\"}],\"scattermapbox\":[{\"marker\":{\"colorbar\":{\"outlinewidth\":0,\"ticks\":\"\"}},\"type\":\"scattermapbox\"}],\"scatterpolargl\":[{\"marker\":{\"colorbar\":{\"outlinewidth\":0,\"ticks\":\"\"}},\"type\":\"scatterpolargl\"}],\"scatterpolar\":[{\"marker\":{\"colorbar\":{\"outlinewidth\":0,\"ticks\":\"\"}},\"type\":\"scatterpolar\"}],\"scatter\":[{\"fillpattern\":{\"fillmode\":\"overlay\",\"size\":10,\"solidity\":0.2},\"type\":\"scatter\"}],\"scatterternary\":[{\"marker\":{\"colorbar\":{\"outlinewidth\":0,\"ticks\":\"\"}},\"type\":\"scatterternary\"}],\"surface\":[{\"colorbar\":{\"outlinewidth\":0,\"ticks\":\"\"},\"colorscale\":[[0.0,\"#0d0887\"],[0.1111111111111111,\"#46039f\"],[0.2222222222222222,\"#7201a8\"],[0.3333333333333333,\"#9c179e\"],[0.4444444444444444,\"#bd3786\"],[0.5555555555555556,\"#d8576b\"],[0.6666666666666666,\"#ed7953\"],[0.7777777777777778,\"#fb9f3a\"],[0.8888888888888888,\"#fdca26\"],[1.0,\"#f0f921\"]],\"type\":\"surface\"}],\"table\":[{\"cells\":{\"fill\":{\"color\":\"#EBF0F8\"},\"line\":{\"color\":\"white\"}},\"header\":{\"fill\":{\"color\":\"#C8D4E3\"},\"line\":{\"color\":\"white\"}},\"type\":\"table\"}]},\"layout\":{\"annotationdefaults\":{\"arrowcolor\":\"#2a3f5f\",\"arrowhead\":0,\"arrowwidth\":1},\"autotypenumbers\":\"strict\",\"coloraxis\":{\"colorbar\":{\"outlinewidth\":0,\"ticks\":\"\"}},\"colorscale\":{\"diverging\":[[0,\"#8e0152\"],[0.1,\"#c51b7d\"],[0.2,\"#de77ae\"],[0.3,\"#f1b6da\"],[0.4,\"#fde0ef\"],[0.5,\"#f7f7f7\"],[0.6,\"#e6f5d0\"],[0.7,\"#b8e186\"],[0.8,\"#7fbc41\"],[0.9,\"#4d9221\"],[1,\"#276419\"]],\"sequential\":[[0.0,\"#0d0887\"],[0.1111111111111111,\"#46039f\"],[0.2222222222222222,\"#7201a8\"],[0.3333333333333333,\"#9c179e\"],[0.4444444444444444,\"#bd3786\"],[0.5555555555555556,\"#d8576b\"],[0.6666666666666666,\"#ed7953\"],[0.7777777777777778,\"#fb9f3a\"],[0.8888888888888888,\"#fdca26\"],[1.0,\"#f0f921\"]],\"sequentialminus\":[[0.0,\"#0d0887\"],[0.1111111111111111,\"#46039f\"],[0.2222222222222222,\"#7201a8\"],[0.3333333333333333,\"#9c179e\"],[0.4444444444444444,\"#bd3786\"],[0.5555555555555556,\"#d8576b\"],[0.6666666666666666,\"#ed7953\"],[0.7777777777777778,\"#fb9f3a\"],[0.8888888888888888,\"#fdca26\"],[1.0,\"#f0f921\"]]},\"colorway\":[\"#636efa\",\"#EF553B\",\"#00cc96\",\"#ab63fa\",\"#FFA15A\",\"#19d3f3\",\"#FF6692\",\"#B6E880\",\"#FF97FF\",\"#FECB52\"],\"font\":{\"color\":\"#2a3f5f\"},\"geo\":{\"bgcolor\":\"white\",\"lakecolor\":\"white\",\"landcolor\":\"#E5ECF6\",\"showlakes\":true,\"showland\":true,\"subunitcolor\":\"white\"},\"hoverlabel\":{\"align\":\"left\"},\"hovermode\":\"closest\",\"mapbox\":{\"style\":\"light\"},\"paper_bgcolor\":\"white\",\"plot_bgcolor\":\"#E5ECF6\",\"polar\":{\"angularaxis\":{\"gridcolor\":\"white\",\"linecolor\":\"white\",\"ticks\":\"\"},\"bgcolor\":\"#E5ECF6\",\"radialaxis\":{\"gridcolor\":\"white\",\"linecolor\":\"white\",\"ticks\":\"\"}},\"scene\":{\"xaxis\":{\"backgroundcolor\":\"#E5ECF6\",\"gridcolor\":\"white\",\"gridwidth\":2,\"linecolor\":\"white\",\"showbackground\":true,\"ticks\":\"\",\"zerolinecolor\":\"white\"},\"yaxis\":{\"backgroundcolor\":\"#E5ECF6\",\"gridcolor\":\"white\",\"gridwidth\":2,\"linecolor\":\"white\",\"showbackground\":true,\"ticks\":\"\",\"zerolinecolor\":\"white\"},\"zaxis\":{\"backgroundcolor\":\"#E5ECF6\",\"gridcolor\":\"white\",\"gridwidth\":2,\"linecolor\":\"white\",\"showbackground\":true,\"ticks\":\"\",\"zerolinecolor\":\"white\"}},\"shapedefaults\":{\"line\":{\"color\":\"#2a3f5f\"}},\"ternary\":{\"aaxis\":{\"gridcolor\":\"white\",\"linecolor\":\"white\",\"ticks\":\"\"},\"baxis\":{\"gridcolor\":\"white\",\"linecolor\":\"white\",\"ticks\":\"\"},\"bgcolor\":\"#E5ECF6\",\"caxis\":{\"gridcolor\":\"white\",\"linecolor\":\"white\",\"ticks\":\"\"}},\"title\":{\"x\":0.05},\"xaxis\":{\"automargin\":true,\"gridcolor\":\"white\",\"linecolor\":\"white\",\"ticks\":\"\",\"title\":{\"standoff\":15},\"zerolinecolor\":\"white\",\"zerolinewidth\":2},\"yaxis\":{\"automargin\":true,\"gridcolor\":\"white\",\"linecolor\":\"white\",\"ticks\":\"\",\"title\":{\"standoff\":15},\"zerolinecolor\":\"white\",\"zerolinewidth\":2}}},\"title\":{\"font\":{\"color\":\"#4D5663\"}},\"xaxis\":{\"gridcolor\":\"#E1E5ED\",\"showgrid\":true,\"tickfont\":{\"color\":\"#4D5663\"},\"title\":{\"font\":{\"color\":\"#4D5663\"},\"text\":\"\"},\"zerolinecolor\":\"#E1E5ED\"},\"yaxis\":{\"gridcolor\":\"#E1E5ED\",\"showgrid\":true,\"tickfont\":{\"color\":\"#4D5663\"},\"title\":{\"font\":{\"color\":\"#4D5663\"},\"text\":\"\"},\"zerolinecolor\":\"#E1E5ED\"}},                        {\"showLink\": true, \"linkText\": \"Export to plot.ly\", \"plotlyServerURL\": \"https://plot.ly\", \"responsive\": true}                    ).then(function(){\n",
       "                            \n",
       "var gd = document.getElementById('5aecc44e-38b3-4acb-9d69-b7693aff2bbf');\n",
       "var x = new MutationObserver(function (mutations, observer) {{\n",
       "        var display = window.getComputedStyle(gd).display;\n",
       "        if (!display || display === 'none') {{\n",
       "            console.log([gd, 'removed!']);\n",
       "            Plotly.purge(gd);\n",
       "            observer.disconnect();\n",
       "        }}\n",
       "}});\n",
       "\n",
       "// Listen for the removal of the full notebook cells\n",
       "var notebookContainer = gd.closest('#notebook-container');\n",
       "if (notebookContainer) {{\n",
       "    x.observe(notebookContainer, {childList: true});\n",
       "}}\n",
       "\n",
       "// Listen for the clearing of the current output cell\n",
       "var outputEl = gd.closest('.output');\n",
       "if (outputEl) {{\n",
       "    x.observe(outputEl, {childList: true});\n",
       "}}\n",
       "\n",
       "                        })                };                });            </script>        </div>"
      ]
     },
     "metadata": {},
     "output_type": "display_data"
    }
   ],
   "source": [
    "df.iplot(kind='scatter', x='A', y='B', mode='markers', size=20)"
   ]
  },
  {
   "cell_type": "code",
   "execution_count": 22,
   "id": "63dd4588",
   "metadata": {},
   "outputs": [
    {
     "data": {
      "application/vnd.plotly.v1+json": {
       "config": {
        "linkText": "Export to plot.ly",
        "plotlyServerURL": "https://plot.ly",
        "showLink": true
       },
       "data": [
        {
         "marker": {
          "color": "rgba(255, 153, 51, 0.6)",
          "line": {
           "color": "rgba(255, 153, 51, 1.0)",
           "width": 1
          }
         },
         "name": "Values",
         "orientation": "v",
         "text": "",
         "type": "bar",
         "x": [
          "A",
          "B",
          "C"
         ],
         "y": [
          32,
          43,
          50
         ]
        }
       ],
       "layout": {
        "legend": {
         "bgcolor": "#F5F6F9",
         "font": {
          "color": "#4D5663"
         }
        },
        "paper_bgcolor": "#F5F6F9",
        "plot_bgcolor": "#F5F6F9",
        "template": {
         "data": {
          "bar": [
           {
            "error_x": {
             "color": "#2a3f5f"
            },
            "error_y": {
             "color": "#2a3f5f"
            },
            "marker": {
             "line": {
              "color": "#E5ECF6",
              "width": 0.5
             },
             "pattern": {
              "fillmode": "overlay",
              "size": 10,
              "solidity": 0.2
             }
            },
            "type": "bar"
           }
          ],
          "barpolar": [
           {
            "marker": {
             "line": {
              "color": "#E5ECF6",
              "width": 0.5
             },
             "pattern": {
              "fillmode": "overlay",
              "size": 10,
              "solidity": 0.2
             }
            },
            "type": "barpolar"
           }
          ],
          "carpet": [
           {
            "aaxis": {
             "endlinecolor": "#2a3f5f",
             "gridcolor": "white",
             "linecolor": "white",
             "minorgridcolor": "white",
             "startlinecolor": "#2a3f5f"
            },
            "baxis": {
             "endlinecolor": "#2a3f5f",
             "gridcolor": "white",
             "linecolor": "white",
             "minorgridcolor": "white",
             "startlinecolor": "#2a3f5f"
            },
            "type": "carpet"
           }
          ],
          "choropleth": [
           {
            "colorbar": {
             "outlinewidth": 0,
             "ticks": ""
            },
            "type": "choropleth"
           }
          ],
          "contour": [
           {
            "colorbar": {
             "outlinewidth": 0,
             "ticks": ""
            },
            "colorscale": [
             [
              0,
              "#0d0887"
             ],
             [
              0.1111111111111111,
              "#46039f"
             ],
             [
              0.2222222222222222,
              "#7201a8"
             ],
             [
              0.3333333333333333,
              "#9c179e"
             ],
             [
              0.4444444444444444,
              "#bd3786"
             ],
             [
              0.5555555555555556,
              "#d8576b"
             ],
             [
              0.6666666666666666,
              "#ed7953"
             ],
             [
              0.7777777777777778,
              "#fb9f3a"
             ],
             [
              0.8888888888888888,
              "#fdca26"
             ],
             [
              1,
              "#f0f921"
             ]
            ],
            "type": "contour"
           }
          ],
          "contourcarpet": [
           {
            "colorbar": {
             "outlinewidth": 0,
             "ticks": ""
            },
            "type": "contourcarpet"
           }
          ],
          "heatmap": [
           {
            "colorbar": {
             "outlinewidth": 0,
             "ticks": ""
            },
            "colorscale": [
             [
              0,
              "#0d0887"
             ],
             [
              0.1111111111111111,
              "#46039f"
             ],
             [
              0.2222222222222222,
              "#7201a8"
             ],
             [
              0.3333333333333333,
              "#9c179e"
             ],
             [
              0.4444444444444444,
              "#bd3786"
             ],
             [
              0.5555555555555556,
              "#d8576b"
             ],
             [
              0.6666666666666666,
              "#ed7953"
             ],
             [
              0.7777777777777778,
              "#fb9f3a"
             ],
             [
              0.8888888888888888,
              "#fdca26"
             ],
             [
              1,
              "#f0f921"
             ]
            ],
            "type": "heatmap"
           }
          ],
          "heatmapgl": [
           {
            "colorbar": {
             "outlinewidth": 0,
             "ticks": ""
            },
            "colorscale": [
             [
              0,
              "#0d0887"
             ],
             [
              0.1111111111111111,
              "#46039f"
             ],
             [
              0.2222222222222222,
              "#7201a8"
             ],
             [
              0.3333333333333333,
              "#9c179e"
             ],
             [
              0.4444444444444444,
              "#bd3786"
             ],
             [
              0.5555555555555556,
              "#d8576b"
             ],
             [
              0.6666666666666666,
              "#ed7953"
             ],
             [
              0.7777777777777778,
              "#fb9f3a"
             ],
             [
              0.8888888888888888,
              "#fdca26"
             ],
             [
              1,
              "#f0f921"
             ]
            ],
            "type": "heatmapgl"
           }
          ],
          "histogram": [
           {
            "marker": {
             "pattern": {
              "fillmode": "overlay",
              "size": 10,
              "solidity": 0.2
             }
            },
            "type": "histogram"
           }
          ],
          "histogram2d": [
           {
            "colorbar": {
             "outlinewidth": 0,
             "ticks": ""
            },
            "colorscale": [
             [
              0,
              "#0d0887"
             ],
             [
              0.1111111111111111,
              "#46039f"
             ],
             [
              0.2222222222222222,
              "#7201a8"
             ],
             [
              0.3333333333333333,
              "#9c179e"
             ],
             [
              0.4444444444444444,
              "#bd3786"
             ],
             [
              0.5555555555555556,
              "#d8576b"
             ],
             [
              0.6666666666666666,
              "#ed7953"
             ],
             [
              0.7777777777777778,
              "#fb9f3a"
             ],
             [
              0.8888888888888888,
              "#fdca26"
             ],
             [
              1,
              "#f0f921"
             ]
            ],
            "type": "histogram2d"
           }
          ],
          "histogram2dcontour": [
           {
            "colorbar": {
             "outlinewidth": 0,
             "ticks": ""
            },
            "colorscale": [
             [
              0,
              "#0d0887"
             ],
             [
              0.1111111111111111,
              "#46039f"
             ],
             [
              0.2222222222222222,
              "#7201a8"
             ],
             [
              0.3333333333333333,
              "#9c179e"
             ],
             [
              0.4444444444444444,
              "#bd3786"
             ],
             [
              0.5555555555555556,
              "#d8576b"
             ],
             [
              0.6666666666666666,
              "#ed7953"
             ],
             [
              0.7777777777777778,
              "#fb9f3a"
             ],
             [
              0.8888888888888888,
              "#fdca26"
             ],
             [
              1,
              "#f0f921"
             ]
            ],
            "type": "histogram2dcontour"
           }
          ],
          "mesh3d": [
           {
            "colorbar": {
             "outlinewidth": 0,
             "ticks": ""
            },
            "type": "mesh3d"
           }
          ],
          "parcoords": [
           {
            "line": {
             "colorbar": {
              "outlinewidth": 0,
              "ticks": ""
             }
            },
            "type": "parcoords"
           }
          ],
          "pie": [
           {
            "automargin": true,
            "type": "pie"
           }
          ],
          "scatter": [
           {
            "fillpattern": {
             "fillmode": "overlay",
             "size": 10,
             "solidity": 0.2
            },
            "type": "scatter"
           }
          ],
          "scatter3d": [
           {
            "line": {
             "colorbar": {
              "outlinewidth": 0,
              "ticks": ""
             }
            },
            "marker": {
             "colorbar": {
              "outlinewidth": 0,
              "ticks": ""
             }
            },
            "type": "scatter3d"
           }
          ],
          "scattercarpet": [
           {
            "marker": {
             "colorbar": {
              "outlinewidth": 0,
              "ticks": ""
             }
            },
            "type": "scattercarpet"
           }
          ],
          "scattergeo": [
           {
            "marker": {
             "colorbar": {
              "outlinewidth": 0,
              "ticks": ""
             }
            },
            "type": "scattergeo"
           }
          ],
          "scattergl": [
           {
            "marker": {
             "colorbar": {
              "outlinewidth": 0,
              "ticks": ""
             }
            },
            "type": "scattergl"
           }
          ],
          "scattermapbox": [
           {
            "marker": {
             "colorbar": {
              "outlinewidth": 0,
              "ticks": ""
             }
            },
            "type": "scattermapbox"
           }
          ],
          "scatterpolar": [
           {
            "marker": {
             "colorbar": {
              "outlinewidth": 0,
              "ticks": ""
             }
            },
            "type": "scatterpolar"
           }
          ],
          "scatterpolargl": [
           {
            "marker": {
             "colorbar": {
              "outlinewidth": 0,
              "ticks": ""
             }
            },
            "type": "scatterpolargl"
           }
          ],
          "scatterternary": [
           {
            "marker": {
             "colorbar": {
              "outlinewidth": 0,
              "ticks": ""
             }
            },
            "type": "scatterternary"
           }
          ],
          "surface": [
           {
            "colorbar": {
             "outlinewidth": 0,
             "ticks": ""
            },
            "colorscale": [
             [
              0,
              "#0d0887"
             ],
             [
              0.1111111111111111,
              "#46039f"
             ],
             [
              0.2222222222222222,
              "#7201a8"
             ],
             [
              0.3333333333333333,
              "#9c179e"
             ],
             [
              0.4444444444444444,
              "#bd3786"
             ],
             [
              0.5555555555555556,
              "#d8576b"
             ],
             [
              0.6666666666666666,
              "#ed7953"
             ],
             [
              0.7777777777777778,
              "#fb9f3a"
             ],
             [
              0.8888888888888888,
              "#fdca26"
             ],
             [
              1,
              "#f0f921"
             ]
            ],
            "type": "surface"
           }
          ],
          "table": [
           {
            "cells": {
             "fill": {
              "color": "#EBF0F8"
             },
             "line": {
              "color": "white"
             }
            },
            "header": {
             "fill": {
              "color": "#C8D4E3"
             },
             "line": {
              "color": "white"
             }
            },
            "type": "table"
           }
          ]
         },
         "layout": {
          "annotationdefaults": {
           "arrowcolor": "#2a3f5f",
           "arrowhead": 0,
           "arrowwidth": 1
          },
          "autotypenumbers": "strict",
          "coloraxis": {
           "colorbar": {
            "outlinewidth": 0,
            "ticks": ""
           }
          },
          "colorscale": {
           "diverging": [
            [
             0,
             "#8e0152"
            ],
            [
             0.1,
             "#c51b7d"
            ],
            [
             0.2,
             "#de77ae"
            ],
            [
             0.3,
             "#f1b6da"
            ],
            [
             0.4,
             "#fde0ef"
            ],
            [
             0.5,
             "#f7f7f7"
            ],
            [
             0.6,
             "#e6f5d0"
            ],
            [
             0.7,
             "#b8e186"
            ],
            [
             0.8,
             "#7fbc41"
            ],
            [
             0.9,
             "#4d9221"
            ],
            [
             1,
             "#276419"
            ]
           ],
           "sequential": [
            [
             0,
             "#0d0887"
            ],
            [
             0.1111111111111111,
             "#46039f"
            ],
            [
             0.2222222222222222,
             "#7201a8"
            ],
            [
             0.3333333333333333,
             "#9c179e"
            ],
            [
             0.4444444444444444,
             "#bd3786"
            ],
            [
             0.5555555555555556,
             "#d8576b"
            ],
            [
             0.6666666666666666,
             "#ed7953"
            ],
            [
             0.7777777777777778,
             "#fb9f3a"
            ],
            [
             0.8888888888888888,
             "#fdca26"
            ],
            [
             1,
             "#f0f921"
            ]
           ],
           "sequentialminus": [
            [
             0,
             "#0d0887"
            ],
            [
             0.1111111111111111,
             "#46039f"
            ],
            [
             0.2222222222222222,
             "#7201a8"
            ],
            [
             0.3333333333333333,
             "#9c179e"
            ],
            [
             0.4444444444444444,
             "#bd3786"
            ],
            [
             0.5555555555555556,
             "#d8576b"
            ],
            [
             0.6666666666666666,
             "#ed7953"
            ],
            [
             0.7777777777777778,
             "#fb9f3a"
            ],
            [
             0.8888888888888888,
             "#fdca26"
            ],
            [
             1,
             "#f0f921"
            ]
           ]
          },
          "colorway": [
           "#636efa",
           "#EF553B",
           "#00cc96",
           "#ab63fa",
           "#FFA15A",
           "#19d3f3",
           "#FF6692",
           "#B6E880",
           "#FF97FF",
           "#FECB52"
          ],
          "font": {
           "color": "#2a3f5f"
          },
          "geo": {
           "bgcolor": "white",
           "lakecolor": "white",
           "landcolor": "#E5ECF6",
           "showlakes": true,
           "showland": true,
           "subunitcolor": "white"
          },
          "hoverlabel": {
           "align": "left"
          },
          "hovermode": "closest",
          "mapbox": {
           "style": "light"
          },
          "paper_bgcolor": "white",
          "plot_bgcolor": "#E5ECF6",
          "polar": {
           "angularaxis": {
            "gridcolor": "white",
            "linecolor": "white",
            "ticks": ""
           },
           "bgcolor": "#E5ECF6",
           "radialaxis": {
            "gridcolor": "white",
            "linecolor": "white",
            "ticks": ""
           }
          },
          "scene": {
           "xaxis": {
            "backgroundcolor": "#E5ECF6",
            "gridcolor": "white",
            "gridwidth": 2,
            "linecolor": "white",
            "showbackground": true,
            "ticks": "",
            "zerolinecolor": "white"
           },
           "yaxis": {
            "backgroundcolor": "#E5ECF6",
            "gridcolor": "white",
            "gridwidth": 2,
            "linecolor": "white",
            "showbackground": true,
            "ticks": "",
            "zerolinecolor": "white"
           },
           "zaxis": {
            "backgroundcolor": "#E5ECF6",
            "gridcolor": "white",
            "gridwidth": 2,
            "linecolor": "white",
            "showbackground": true,
            "ticks": "",
            "zerolinecolor": "white"
           }
          },
          "shapedefaults": {
           "line": {
            "color": "#2a3f5f"
           }
          },
          "ternary": {
           "aaxis": {
            "gridcolor": "white",
            "linecolor": "white",
            "ticks": ""
           },
           "baxis": {
            "gridcolor": "white",
            "linecolor": "white",
            "ticks": ""
           },
           "bgcolor": "#E5ECF6",
           "caxis": {
            "gridcolor": "white",
            "linecolor": "white",
            "ticks": ""
           }
          },
          "title": {
           "x": 0.05
          },
          "xaxis": {
           "automargin": true,
           "gridcolor": "white",
           "linecolor": "white",
           "ticks": "",
           "title": {
            "standoff": 15
           },
           "zerolinecolor": "white",
           "zerolinewidth": 2
          },
          "yaxis": {
           "automargin": true,
           "gridcolor": "white",
           "linecolor": "white",
           "ticks": "",
           "title": {
            "standoff": 15
           },
           "zerolinecolor": "white",
           "zerolinewidth": 2
          }
         }
        },
        "title": {
         "font": {
          "color": "#4D5663"
         }
        },
        "xaxis": {
         "gridcolor": "#E1E5ED",
         "showgrid": true,
         "tickfont": {
          "color": "#4D5663"
         },
         "title": {
          "font": {
           "color": "#4D5663"
          },
          "text": ""
         },
         "zerolinecolor": "#E1E5ED"
        },
        "yaxis": {
         "gridcolor": "#E1E5ED",
         "showgrid": true,
         "tickfont": {
          "color": "#4D5663"
         },
         "title": {
          "font": {
           "color": "#4D5663"
          },
          "text": ""
         },
         "zerolinecolor": "#E1E5ED"
        }
       }
      },
      "text/html": [
       "<div>                            <div id=\"12d18dc8-325d-448b-943f-cf4c1a241c75\" class=\"plotly-graph-div\" style=\"height:525px; width:100%;\"></div>            <script type=\"text/javascript\">                require([\"plotly\"], function(Plotly) {                    window.PLOTLYENV=window.PLOTLYENV || {};\n",
       "                    window.PLOTLYENV.BASE_URL='https://plot.ly';                                    if (document.getElementById(\"12d18dc8-325d-448b-943f-cf4c1a241c75\")) {                    Plotly.newPlot(                        \"12d18dc8-325d-448b-943f-cf4c1a241c75\",                        [{\"marker\":{\"color\":\"rgba(255, 153, 51, 0.6)\",\"line\":{\"color\":\"rgba(255, 153, 51, 1.0)\",\"width\":1}},\"name\":\"Values\",\"orientation\":\"v\",\"text\":\"\",\"x\":[\"A\",\"B\",\"C\"],\"y\":[32,43,50],\"type\":\"bar\"}],                        {\"legend\":{\"bgcolor\":\"#F5F6F9\",\"font\":{\"color\":\"#4D5663\"}},\"paper_bgcolor\":\"#F5F6F9\",\"plot_bgcolor\":\"#F5F6F9\",\"template\":{\"data\":{\"barpolar\":[{\"marker\":{\"line\":{\"color\":\"#E5ECF6\",\"width\":0.5},\"pattern\":{\"fillmode\":\"overlay\",\"size\":10,\"solidity\":0.2}},\"type\":\"barpolar\"}],\"bar\":[{\"error_x\":{\"color\":\"#2a3f5f\"},\"error_y\":{\"color\":\"#2a3f5f\"},\"marker\":{\"line\":{\"color\":\"#E5ECF6\",\"width\":0.5},\"pattern\":{\"fillmode\":\"overlay\",\"size\":10,\"solidity\":0.2}},\"type\":\"bar\"}],\"carpet\":[{\"aaxis\":{\"endlinecolor\":\"#2a3f5f\",\"gridcolor\":\"white\",\"linecolor\":\"white\",\"minorgridcolor\":\"white\",\"startlinecolor\":\"#2a3f5f\"},\"baxis\":{\"endlinecolor\":\"#2a3f5f\",\"gridcolor\":\"white\",\"linecolor\":\"white\",\"minorgridcolor\":\"white\",\"startlinecolor\":\"#2a3f5f\"},\"type\":\"carpet\"}],\"choropleth\":[{\"colorbar\":{\"outlinewidth\":0,\"ticks\":\"\"},\"type\":\"choropleth\"}],\"contourcarpet\":[{\"colorbar\":{\"outlinewidth\":0,\"ticks\":\"\"},\"type\":\"contourcarpet\"}],\"contour\":[{\"colorbar\":{\"outlinewidth\":0,\"ticks\":\"\"},\"colorscale\":[[0.0,\"#0d0887\"],[0.1111111111111111,\"#46039f\"],[0.2222222222222222,\"#7201a8\"],[0.3333333333333333,\"#9c179e\"],[0.4444444444444444,\"#bd3786\"],[0.5555555555555556,\"#d8576b\"],[0.6666666666666666,\"#ed7953\"],[0.7777777777777778,\"#fb9f3a\"],[0.8888888888888888,\"#fdca26\"],[1.0,\"#f0f921\"]],\"type\":\"contour\"}],\"heatmapgl\":[{\"colorbar\":{\"outlinewidth\":0,\"ticks\":\"\"},\"colorscale\":[[0.0,\"#0d0887\"],[0.1111111111111111,\"#46039f\"],[0.2222222222222222,\"#7201a8\"],[0.3333333333333333,\"#9c179e\"],[0.4444444444444444,\"#bd3786\"],[0.5555555555555556,\"#d8576b\"],[0.6666666666666666,\"#ed7953\"],[0.7777777777777778,\"#fb9f3a\"],[0.8888888888888888,\"#fdca26\"],[1.0,\"#f0f921\"]],\"type\":\"heatmapgl\"}],\"heatmap\":[{\"colorbar\":{\"outlinewidth\":0,\"ticks\":\"\"},\"colorscale\":[[0.0,\"#0d0887\"],[0.1111111111111111,\"#46039f\"],[0.2222222222222222,\"#7201a8\"],[0.3333333333333333,\"#9c179e\"],[0.4444444444444444,\"#bd3786\"],[0.5555555555555556,\"#d8576b\"],[0.6666666666666666,\"#ed7953\"],[0.7777777777777778,\"#fb9f3a\"],[0.8888888888888888,\"#fdca26\"],[1.0,\"#f0f921\"]],\"type\":\"heatmap\"}],\"histogram2dcontour\":[{\"colorbar\":{\"outlinewidth\":0,\"ticks\":\"\"},\"colorscale\":[[0.0,\"#0d0887\"],[0.1111111111111111,\"#46039f\"],[0.2222222222222222,\"#7201a8\"],[0.3333333333333333,\"#9c179e\"],[0.4444444444444444,\"#bd3786\"],[0.5555555555555556,\"#d8576b\"],[0.6666666666666666,\"#ed7953\"],[0.7777777777777778,\"#fb9f3a\"],[0.8888888888888888,\"#fdca26\"],[1.0,\"#f0f921\"]],\"type\":\"histogram2dcontour\"}],\"histogram2d\":[{\"colorbar\":{\"outlinewidth\":0,\"ticks\":\"\"},\"colorscale\":[[0.0,\"#0d0887\"],[0.1111111111111111,\"#46039f\"],[0.2222222222222222,\"#7201a8\"],[0.3333333333333333,\"#9c179e\"],[0.4444444444444444,\"#bd3786\"],[0.5555555555555556,\"#d8576b\"],[0.6666666666666666,\"#ed7953\"],[0.7777777777777778,\"#fb9f3a\"],[0.8888888888888888,\"#fdca26\"],[1.0,\"#f0f921\"]],\"type\":\"histogram2d\"}],\"histogram\":[{\"marker\":{\"pattern\":{\"fillmode\":\"overlay\",\"size\":10,\"solidity\":0.2}},\"type\":\"histogram\"}],\"mesh3d\":[{\"colorbar\":{\"outlinewidth\":0,\"ticks\":\"\"},\"type\":\"mesh3d\"}],\"parcoords\":[{\"line\":{\"colorbar\":{\"outlinewidth\":0,\"ticks\":\"\"}},\"type\":\"parcoords\"}],\"pie\":[{\"automargin\":true,\"type\":\"pie\"}],\"scatter3d\":[{\"line\":{\"colorbar\":{\"outlinewidth\":0,\"ticks\":\"\"}},\"marker\":{\"colorbar\":{\"outlinewidth\":0,\"ticks\":\"\"}},\"type\":\"scatter3d\"}],\"scattercarpet\":[{\"marker\":{\"colorbar\":{\"outlinewidth\":0,\"ticks\":\"\"}},\"type\":\"scattercarpet\"}],\"scattergeo\":[{\"marker\":{\"colorbar\":{\"outlinewidth\":0,\"ticks\":\"\"}},\"type\":\"scattergeo\"}],\"scattergl\":[{\"marker\":{\"colorbar\":{\"outlinewidth\":0,\"ticks\":\"\"}},\"type\":\"scattergl\"}],\"scattermapbox\":[{\"marker\":{\"colorbar\":{\"outlinewidth\":0,\"ticks\":\"\"}},\"type\":\"scattermapbox\"}],\"scatterpolargl\":[{\"marker\":{\"colorbar\":{\"outlinewidth\":0,\"ticks\":\"\"}},\"type\":\"scatterpolargl\"}],\"scatterpolar\":[{\"marker\":{\"colorbar\":{\"outlinewidth\":0,\"ticks\":\"\"}},\"type\":\"scatterpolar\"}],\"scatter\":[{\"fillpattern\":{\"fillmode\":\"overlay\",\"size\":10,\"solidity\":0.2},\"type\":\"scatter\"}],\"scatterternary\":[{\"marker\":{\"colorbar\":{\"outlinewidth\":0,\"ticks\":\"\"}},\"type\":\"scatterternary\"}],\"surface\":[{\"colorbar\":{\"outlinewidth\":0,\"ticks\":\"\"},\"colorscale\":[[0.0,\"#0d0887\"],[0.1111111111111111,\"#46039f\"],[0.2222222222222222,\"#7201a8\"],[0.3333333333333333,\"#9c179e\"],[0.4444444444444444,\"#bd3786\"],[0.5555555555555556,\"#d8576b\"],[0.6666666666666666,\"#ed7953\"],[0.7777777777777778,\"#fb9f3a\"],[0.8888888888888888,\"#fdca26\"],[1.0,\"#f0f921\"]],\"type\":\"surface\"}],\"table\":[{\"cells\":{\"fill\":{\"color\":\"#EBF0F8\"},\"line\":{\"color\":\"white\"}},\"header\":{\"fill\":{\"color\":\"#C8D4E3\"},\"line\":{\"color\":\"white\"}},\"type\":\"table\"}]},\"layout\":{\"annotationdefaults\":{\"arrowcolor\":\"#2a3f5f\",\"arrowhead\":0,\"arrowwidth\":1},\"autotypenumbers\":\"strict\",\"coloraxis\":{\"colorbar\":{\"outlinewidth\":0,\"ticks\":\"\"}},\"colorscale\":{\"diverging\":[[0,\"#8e0152\"],[0.1,\"#c51b7d\"],[0.2,\"#de77ae\"],[0.3,\"#f1b6da\"],[0.4,\"#fde0ef\"],[0.5,\"#f7f7f7\"],[0.6,\"#e6f5d0\"],[0.7,\"#b8e186\"],[0.8,\"#7fbc41\"],[0.9,\"#4d9221\"],[1,\"#276419\"]],\"sequential\":[[0.0,\"#0d0887\"],[0.1111111111111111,\"#46039f\"],[0.2222222222222222,\"#7201a8\"],[0.3333333333333333,\"#9c179e\"],[0.4444444444444444,\"#bd3786\"],[0.5555555555555556,\"#d8576b\"],[0.6666666666666666,\"#ed7953\"],[0.7777777777777778,\"#fb9f3a\"],[0.8888888888888888,\"#fdca26\"],[1.0,\"#f0f921\"]],\"sequentialminus\":[[0.0,\"#0d0887\"],[0.1111111111111111,\"#46039f\"],[0.2222222222222222,\"#7201a8\"],[0.3333333333333333,\"#9c179e\"],[0.4444444444444444,\"#bd3786\"],[0.5555555555555556,\"#d8576b\"],[0.6666666666666666,\"#ed7953\"],[0.7777777777777778,\"#fb9f3a\"],[0.8888888888888888,\"#fdca26\"],[1.0,\"#f0f921\"]]},\"colorway\":[\"#636efa\",\"#EF553B\",\"#00cc96\",\"#ab63fa\",\"#FFA15A\",\"#19d3f3\",\"#FF6692\",\"#B6E880\",\"#FF97FF\",\"#FECB52\"],\"font\":{\"color\":\"#2a3f5f\"},\"geo\":{\"bgcolor\":\"white\",\"lakecolor\":\"white\",\"landcolor\":\"#E5ECF6\",\"showlakes\":true,\"showland\":true,\"subunitcolor\":\"white\"},\"hoverlabel\":{\"align\":\"left\"},\"hovermode\":\"closest\",\"mapbox\":{\"style\":\"light\"},\"paper_bgcolor\":\"white\",\"plot_bgcolor\":\"#E5ECF6\",\"polar\":{\"angularaxis\":{\"gridcolor\":\"white\",\"linecolor\":\"white\",\"ticks\":\"\"},\"bgcolor\":\"#E5ECF6\",\"radialaxis\":{\"gridcolor\":\"white\",\"linecolor\":\"white\",\"ticks\":\"\"}},\"scene\":{\"xaxis\":{\"backgroundcolor\":\"#E5ECF6\",\"gridcolor\":\"white\",\"gridwidth\":2,\"linecolor\":\"white\",\"showbackground\":true,\"ticks\":\"\",\"zerolinecolor\":\"white\"},\"yaxis\":{\"backgroundcolor\":\"#E5ECF6\",\"gridcolor\":\"white\",\"gridwidth\":2,\"linecolor\":\"white\",\"showbackground\":true,\"ticks\":\"\",\"zerolinecolor\":\"white\"},\"zaxis\":{\"backgroundcolor\":\"#E5ECF6\",\"gridcolor\":\"white\",\"gridwidth\":2,\"linecolor\":\"white\",\"showbackground\":true,\"ticks\":\"\",\"zerolinecolor\":\"white\"}},\"shapedefaults\":{\"line\":{\"color\":\"#2a3f5f\"}},\"ternary\":{\"aaxis\":{\"gridcolor\":\"white\",\"linecolor\":\"white\",\"ticks\":\"\"},\"baxis\":{\"gridcolor\":\"white\",\"linecolor\":\"white\",\"ticks\":\"\"},\"bgcolor\":\"#E5ECF6\",\"caxis\":{\"gridcolor\":\"white\",\"linecolor\":\"white\",\"ticks\":\"\"}},\"title\":{\"x\":0.05},\"xaxis\":{\"automargin\":true,\"gridcolor\":\"white\",\"linecolor\":\"white\",\"ticks\":\"\",\"title\":{\"standoff\":15},\"zerolinecolor\":\"white\",\"zerolinewidth\":2},\"yaxis\":{\"automargin\":true,\"gridcolor\":\"white\",\"linecolor\":\"white\",\"ticks\":\"\",\"title\":{\"standoff\":15},\"zerolinecolor\":\"white\",\"zerolinewidth\":2}}},\"title\":{\"font\":{\"color\":\"#4D5663\"}},\"xaxis\":{\"gridcolor\":\"#E1E5ED\",\"showgrid\":true,\"tickfont\":{\"color\":\"#4D5663\"},\"title\":{\"font\":{\"color\":\"#4D5663\"},\"text\":\"\"},\"zerolinecolor\":\"#E1E5ED\"},\"yaxis\":{\"gridcolor\":\"#E1E5ED\",\"showgrid\":true,\"tickfont\":{\"color\":\"#4D5663\"},\"title\":{\"font\":{\"color\":\"#4D5663\"},\"text\":\"\"},\"zerolinecolor\":\"#E1E5ED\"}},                        {\"showLink\": true, \"linkText\": \"Export to plot.ly\", \"plotlyServerURL\": \"https://plot.ly\", \"responsive\": true}                    ).then(function(){\n",
       "                            \n",
       "var gd = document.getElementById('12d18dc8-325d-448b-943f-cf4c1a241c75');\n",
       "var x = new MutationObserver(function (mutations, observer) {{\n",
       "        var display = window.getComputedStyle(gd).display;\n",
       "        if (!display || display === 'none') {{\n",
       "            console.log([gd, 'removed!']);\n",
       "            Plotly.purge(gd);\n",
       "            observer.disconnect();\n",
       "        }}\n",
       "}});\n",
       "\n",
       "// Listen for the removal of the full notebook cells\n",
       "var notebookContainer = gd.closest('#notebook-container');\n",
       "if (notebookContainer) {{\n",
       "    x.observe(notebookContainer, {childList: true});\n",
       "}}\n",
       "\n",
       "// Listen for the clearing of the current output cell\n",
       "var outputEl = gd.closest('.output');\n",
       "if (outputEl) {{\n",
       "    x.observe(outputEl, {childList: true});\n",
       "}}\n",
       "\n",
       "                        })                };                });            </script>        </div>"
      ]
     },
     "metadata": {},
     "output_type": "display_data"
    }
   ],
   "source": [
    "df2.iplot(kind='bar', x='Category', y='Values')"
   ]
  },
  {
   "cell_type": "code",
   "execution_count": 23,
   "id": "988f3e3d",
   "metadata": {},
   "outputs": [
    {
     "data": {
      "text/html": [
       "<div>\n",
       "<style scoped>\n",
       "    .dataframe tbody tr th:only-of-type {\n",
       "        vertical-align: middle;\n",
       "    }\n",
       "\n",
       "    .dataframe tbody tr th {\n",
       "        vertical-align: top;\n",
       "    }\n",
       "\n",
       "    .dataframe thead th {\n",
       "        text-align: right;\n",
       "    }\n",
       "</style>\n",
       "<table border=\"1\" class=\"dataframe\">\n",
       "  <thead>\n",
       "    <tr style=\"text-align: right;\">\n",
       "      <th></th>\n",
       "      <th>A</th>\n",
       "      <th>B</th>\n",
       "      <th>c</th>\n",
       "      <th>D</th>\n",
       "    </tr>\n",
       "  </thead>\n",
       "  <tbody>\n",
       "    <tr>\n",
       "      <th>0</th>\n",
       "      <td>-1.493977</td>\n",
       "      <td>-0.179326</td>\n",
       "      <td>-1.397440</td>\n",
       "      <td>0.712005</td>\n",
       "    </tr>\n",
       "    <tr>\n",
       "      <th>1</th>\n",
       "      <td>0.146671</td>\n",
       "      <td>-1.233415</td>\n",
       "      <td>-1.259448</td>\n",
       "      <td>0.037572</td>\n",
       "    </tr>\n",
       "    <tr>\n",
       "      <th>2</th>\n",
       "      <td>-0.168924</td>\n",
       "      <td>0.349183</td>\n",
       "      <td>-0.512910</td>\n",
       "      <td>1.863948</td>\n",
       "    </tr>\n",
       "    <tr>\n",
       "      <th>3</th>\n",
       "      <td>-2.564114</td>\n",
       "      <td>0.221405</td>\n",
       "      <td>-1.463532</td>\n",
       "      <td>-0.855666</td>\n",
       "    </tr>\n",
       "    <tr>\n",
       "      <th>4</th>\n",
       "      <td>-1.565612</td>\n",
       "      <td>-0.431192</td>\n",
       "      <td>-0.036595</td>\n",
       "      <td>-0.222618</td>\n",
       "    </tr>\n",
       "    <tr>\n",
       "      <th>...</th>\n",
       "      <td>...</td>\n",
       "      <td>...</td>\n",
       "      <td>...</td>\n",
       "      <td>...</td>\n",
       "    </tr>\n",
       "    <tr>\n",
       "      <th>95</th>\n",
       "      <td>1.474605</td>\n",
       "      <td>0.718217</td>\n",
       "      <td>0.358464</td>\n",
       "      <td>-0.580723</td>\n",
       "    </tr>\n",
       "    <tr>\n",
       "      <th>96</th>\n",
       "      <td>0.226332</td>\n",
       "      <td>-0.420754</td>\n",
       "      <td>1.865116</td>\n",
       "      <td>0.243234</td>\n",
       "    </tr>\n",
       "    <tr>\n",
       "      <th>97</th>\n",
       "      <td>-1.073949</td>\n",
       "      <td>-0.655458</td>\n",
       "      <td>-1.103554</td>\n",
       "      <td>0.429309</td>\n",
       "    </tr>\n",
       "    <tr>\n",
       "      <th>98</th>\n",
       "      <td>1.349928</td>\n",
       "      <td>-0.626953</td>\n",
       "      <td>1.111177</td>\n",
       "      <td>-0.829726</td>\n",
       "    </tr>\n",
       "    <tr>\n",
       "      <th>99</th>\n",
       "      <td>-0.369788</td>\n",
       "      <td>1.193913</td>\n",
       "      <td>2.044676</td>\n",
       "      <td>-1.355040</td>\n",
       "    </tr>\n",
       "  </tbody>\n",
       "</table>\n",
       "<p>100 rows × 4 columns</p>\n",
       "</div>"
      ],
      "text/plain": [
       "           A         B         c         D\n",
       "0  -1.493977 -0.179326 -1.397440  0.712005\n",
       "1   0.146671 -1.233415 -1.259448  0.037572\n",
       "2  -0.168924  0.349183 -0.512910  1.863948\n",
       "3  -2.564114  0.221405 -1.463532 -0.855666\n",
       "4  -1.565612 -0.431192 -0.036595 -0.222618\n",
       "..       ...       ...       ...       ...\n",
       "95  1.474605  0.718217  0.358464 -0.580723\n",
       "96  0.226332 -0.420754  1.865116  0.243234\n",
       "97 -1.073949 -0.655458 -1.103554  0.429309\n",
       "98  1.349928 -0.626953  1.111177 -0.829726\n",
       "99 -0.369788  1.193913  2.044676 -1.355040\n",
       "\n",
       "[100 rows x 4 columns]"
      ]
     },
     "execution_count": 23,
     "metadata": {},
     "output_type": "execute_result"
    }
   ],
   "source": [
    "df"
   ]
  },
  {
   "cell_type": "code",
   "execution_count": 25,
   "id": "d8eca740",
   "metadata": {},
   "outputs": [
    {
     "data": {
      "application/vnd.plotly.v1+json": {
       "config": {
        "linkText": "Export to plot.ly",
        "plotlyServerURL": "https://plot.ly",
        "showLink": true
       },
       "data": [
        {
         "marker": {
          "color": "rgba(255, 153, 51, 0.6)",
          "line": {
           "color": "rgba(255, 153, 51, 1.0)",
           "width": 1
          }
         },
         "name": "None",
         "orientation": "v",
         "text": "",
         "type": "bar",
         "x": [
          "A",
          "B",
          "c",
          "D"
         ],
         "y": [
          100,
          100,
          100,
          100
         ]
        }
       ],
       "layout": {
        "legend": {
         "bgcolor": "#F5F6F9",
         "font": {
          "color": "#4D5663"
         }
        },
        "paper_bgcolor": "#F5F6F9",
        "plot_bgcolor": "#F5F6F9",
        "template": {
         "data": {
          "bar": [
           {
            "error_x": {
             "color": "#2a3f5f"
            },
            "error_y": {
             "color": "#2a3f5f"
            },
            "marker": {
             "line": {
              "color": "#E5ECF6",
              "width": 0.5
             },
             "pattern": {
              "fillmode": "overlay",
              "size": 10,
              "solidity": 0.2
             }
            },
            "type": "bar"
           }
          ],
          "barpolar": [
           {
            "marker": {
             "line": {
              "color": "#E5ECF6",
              "width": 0.5
             },
             "pattern": {
              "fillmode": "overlay",
              "size": 10,
              "solidity": 0.2
             }
            },
            "type": "barpolar"
           }
          ],
          "carpet": [
           {
            "aaxis": {
             "endlinecolor": "#2a3f5f",
             "gridcolor": "white",
             "linecolor": "white",
             "minorgridcolor": "white",
             "startlinecolor": "#2a3f5f"
            },
            "baxis": {
             "endlinecolor": "#2a3f5f",
             "gridcolor": "white",
             "linecolor": "white",
             "minorgridcolor": "white",
             "startlinecolor": "#2a3f5f"
            },
            "type": "carpet"
           }
          ],
          "choropleth": [
           {
            "colorbar": {
             "outlinewidth": 0,
             "ticks": ""
            },
            "type": "choropleth"
           }
          ],
          "contour": [
           {
            "colorbar": {
             "outlinewidth": 0,
             "ticks": ""
            },
            "colorscale": [
             [
              0,
              "#0d0887"
             ],
             [
              0.1111111111111111,
              "#46039f"
             ],
             [
              0.2222222222222222,
              "#7201a8"
             ],
             [
              0.3333333333333333,
              "#9c179e"
             ],
             [
              0.4444444444444444,
              "#bd3786"
             ],
             [
              0.5555555555555556,
              "#d8576b"
             ],
             [
              0.6666666666666666,
              "#ed7953"
             ],
             [
              0.7777777777777778,
              "#fb9f3a"
             ],
             [
              0.8888888888888888,
              "#fdca26"
             ],
             [
              1,
              "#f0f921"
             ]
            ],
            "type": "contour"
           }
          ],
          "contourcarpet": [
           {
            "colorbar": {
             "outlinewidth": 0,
             "ticks": ""
            },
            "type": "contourcarpet"
           }
          ],
          "heatmap": [
           {
            "colorbar": {
             "outlinewidth": 0,
             "ticks": ""
            },
            "colorscale": [
             [
              0,
              "#0d0887"
             ],
             [
              0.1111111111111111,
              "#46039f"
             ],
             [
              0.2222222222222222,
              "#7201a8"
             ],
             [
              0.3333333333333333,
              "#9c179e"
             ],
             [
              0.4444444444444444,
              "#bd3786"
             ],
             [
              0.5555555555555556,
              "#d8576b"
             ],
             [
              0.6666666666666666,
              "#ed7953"
             ],
             [
              0.7777777777777778,
              "#fb9f3a"
             ],
             [
              0.8888888888888888,
              "#fdca26"
             ],
             [
              1,
              "#f0f921"
             ]
            ],
            "type": "heatmap"
           }
          ],
          "heatmapgl": [
           {
            "colorbar": {
             "outlinewidth": 0,
             "ticks": ""
            },
            "colorscale": [
             [
              0,
              "#0d0887"
             ],
             [
              0.1111111111111111,
              "#46039f"
             ],
             [
              0.2222222222222222,
              "#7201a8"
             ],
             [
              0.3333333333333333,
              "#9c179e"
             ],
             [
              0.4444444444444444,
              "#bd3786"
             ],
             [
              0.5555555555555556,
              "#d8576b"
             ],
             [
              0.6666666666666666,
              "#ed7953"
             ],
             [
              0.7777777777777778,
              "#fb9f3a"
             ],
             [
              0.8888888888888888,
              "#fdca26"
             ],
             [
              1,
              "#f0f921"
             ]
            ],
            "type": "heatmapgl"
           }
          ],
          "histogram": [
           {
            "marker": {
             "pattern": {
              "fillmode": "overlay",
              "size": 10,
              "solidity": 0.2
             }
            },
            "type": "histogram"
           }
          ],
          "histogram2d": [
           {
            "colorbar": {
             "outlinewidth": 0,
             "ticks": ""
            },
            "colorscale": [
             [
              0,
              "#0d0887"
             ],
             [
              0.1111111111111111,
              "#46039f"
             ],
             [
              0.2222222222222222,
              "#7201a8"
             ],
             [
              0.3333333333333333,
              "#9c179e"
             ],
             [
              0.4444444444444444,
              "#bd3786"
             ],
             [
              0.5555555555555556,
              "#d8576b"
             ],
             [
              0.6666666666666666,
              "#ed7953"
             ],
             [
              0.7777777777777778,
              "#fb9f3a"
             ],
             [
              0.8888888888888888,
              "#fdca26"
             ],
             [
              1,
              "#f0f921"
             ]
            ],
            "type": "histogram2d"
           }
          ],
          "histogram2dcontour": [
           {
            "colorbar": {
             "outlinewidth": 0,
             "ticks": ""
            },
            "colorscale": [
             [
              0,
              "#0d0887"
             ],
             [
              0.1111111111111111,
              "#46039f"
             ],
             [
              0.2222222222222222,
              "#7201a8"
             ],
             [
              0.3333333333333333,
              "#9c179e"
             ],
             [
              0.4444444444444444,
              "#bd3786"
             ],
             [
              0.5555555555555556,
              "#d8576b"
             ],
             [
              0.6666666666666666,
              "#ed7953"
             ],
             [
              0.7777777777777778,
              "#fb9f3a"
             ],
             [
              0.8888888888888888,
              "#fdca26"
             ],
             [
              1,
              "#f0f921"
             ]
            ],
            "type": "histogram2dcontour"
           }
          ],
          "mesh3d": [
           {
            "colorbar": {
             "outlinewidth": 0,
             "ticks": ""
            },
            "type": "mesh3d"
           }
          ],
          "parcoords": [
           {
            "line": {
             "colorbar": {
              "outlinewidth": 0,
              "ticks": ""
             }
            },
            "type": "parcoords"
           }
          ],
          "pie": [
           {
            "automargin": true,
            "type": "pie"
           }
          ],
          "scatter": [
           {
            "fillpattern": {
             "fillmode": "overlay",
             "size": 10,
             "solidity": 0.2
            },
            "type": "scatter"
           }
          ],
          "scatter3d": [
           {
            "line": {
             "colorbar": {
              "outlinewidth": 0,
              "ticks": ""
             }
            },
            "marker": {
             "colorbar": {
              "outlinewidth": 0,
              "ticks": ""
             }
            },
            "type": "scatter3d"
           }
          ],
          "scattercarpet": [
           {
            "marker": {
             "colorbar": {
              "outlinewidth": 0,
              "ticks": ""
             }
            },
            "type": "scattercarpet"
           }
          ],
          "scattergeo": [
           {
            "marker": {
             "colorbar": {
              "outlinewidth": 0,
              "ticks": ""
             }
            },
            "type": "scattergeo"
           }
          ],
          "scattergl": [
           {
            "marker": {
             "colorbar": {
              "outlinewidth": 0,
              "ticks": ""
             }
            },
            "type": "scattergl"
           }
          ],
          "scattermapbox": [
           {
            "marker": {
             "colorbar": {
              "outlinewidth": 0,
              "ticks": ""
             }
            },
            "type": "scattermapbox"
           }
          ],
          "scatterpolar": [
           {
            "marker": {
             "colorbar": {
              "outlinewidth": 0,
              "ticks": ""
             }
            },
            "type": "scatterpolar"
           }
          ],
          "scatterpolargl": [
           {
            "marker": {
             "colorbar": {
              "outlinewidth": 0,
              "ticks": ""
             }
            },
            "type": "scatterpolargl"
           }
          ],
          "scatterternary": [
           {
            "marker": {
             "colorbar": {
              "outlinewidth": 0,
              "ticks": ""
             }
            },
            "type": "scatterternary"
           }
          ],
          "surface": [
           {
            "colorbar": {
             "outlinewidth": 0,
             "ticks": ""
            },
            "colorscale": [
             [
              0,
              "#0d0887"
             ],
             [
              0.1111111111111111,
              "#46039f"
             ],
             [
              0.2222222222222222,
              "#7201a8"
             ],
             [
              0.3333333333333333,
              "#9c179e"
             ],
             [
              0.4444444444444444,
              "#bd3786"
             ],
             [
              0.5555555555555556,
              "#d8576b"
             ],
             [
              0.6666666666666666,
              "#ed7953"
             ],
             [
              0.7777777777777778,
              "#fb9f3a"
             ],
             [
              0.8888888888888888,
              "#fdca26"
             ],
             [
              1,
              "#f0f921"
             ]
            ],
            "type": "surface"
           }
          ],
          "table": [
           {
            "cells": {
             "fill": {
              "color": "#EBF0F8"
             },
             "line": {
              "color": "white"
             }
            },
            "header": {
             "fill": {
              "color": "#C8D4E3"
             },
             "line": {
              "color": "white"
             }
            },
            "type": "table"
           }
          ]
         },
         "layout": {
          "annotationdefaults": {
           "arrowcolor": "#2a3f5f",
           "arrowhead": 0,
           "arrowwidth": 1
          },
          "autotypenumbers": "strict",
          "coloraxis": {
           "colorbar": {
            "outlinewidth": 0,
            "ticks": ""
           }
          },
          "colorscale": {
           "diverging": [
            [
             0,
             "#8e0152"
            ],
            [
             0.1,
             "#c51b7d"
            ],
            [
             0.2,
             "#de77ae"
            ],
            [
             0.3,
             "#f1b6da"
            ],
            [
             0.4,
             "#fde0ef"
            ],
            [
             0.5,
             "#f7f7f7"
            ],
            [
             0.6,
             "#e6f5d0"
            ],
            [
             0.7,
             "#b8e186"
            ],
            [
             0.8,
             "#7fbc41"
            ],
            [
             0.9,
             "#4d9221"
            ],
            [
             1,
             "#276419"
            ]
           ],
           "sequential": [
            [
             0,
             "#0d0887"
            ],
            [
             0.1111111111111111,
             "#46039f"
            ],
            [
             0.2222222222222222,
             "#7201a8"
            ],
            [
             0.3333333333333333,
             "#9c179e"
            ],
            [
             0.4444444444444444,
             "#bd3786"
            ],
            [
             0.5555555555555556,
             "#d8576b"
            ],
            [
             0.6666666666666666,
             "#ed7953"
            ],
            [
             0.7777777777777778,
             "#fb9f3a"
            ],
            [
             0.8888888888888888,
             "#fdca26"
            ],
            [
             1,
             "#f0f921"
            ]
           ],
           "sequentialminus": [
            [
             0,
             "#0d0887"
            ],
            [
             0.1111111111111111,
             "#46039f"
            ],
            [
             0.2222222222222222,
             "#7201a8"
            ],
            [
             0.3333333333333333,
             "#9c179e"
            ],
            [
             0.4444444444444444,
             "#bd3786"
            ],
            [
             0.5555555555555556,
             "#d8576b"
            ],
            [
             0.6666666666666666,
             "#ed7953"
            ],
            [
             0.7777777777777778,
             "#fb9f3a"
            ],
            [
             0.8888888888888888,
             "#fdca26"
            ],
            [
             1,
             "#f0f921"
            ]
           ]
          },
          "colorway": [
           "#636efa",
           "#EF553B",
           "#00cc96",
           "#ab63fa",
           "#FFA15A",
           "#19d3f3",
           "#FF6692",
           "#B6E880",
           "#FF97FF",
           "#FECB52"
          ],
          "font": {
           "color": "#2a3f5f"
          },
          "geo": {
           "bgcolor": "white",
           "lakecolor": "white",
           "landcolor": "#E5ECF6",
           "showlakes": true,
           "showland": true,
           "subunitcolor": "white"
          },
          "hoverlabel": {
           "align": "left"
          },
          "hovermode": "closest",
          "mapbox": {
           "style": "light"
          },
          "paper_bgcolor": "white",
          "plot_bgcolor": "#E5ECF6",
          "polar": {
           "angularaxis": {
            "gridcolor": "white",
            "linecolor": "white",
            "ticks": ""
           },
           "bgcolor": "#E5ECF6",
           "radialaxis": {
            "gridcolor": "white",
            "linecolor": "white",
            "ticks": ""
           }
          },
          "scene": {
           "xaxis": {
            "backgroundcolor": "#E5ECF6",
            "gridcolor": "white",
            "gridwidth": 2,
            "linecolor": "white",
            "showbackground": true,
            "ticks": "",
            "zerolinecolor": "white"
           },
           "yaxis": {
            "backgroundcolor": "#E5ECF6",
            "gridcolor": "white",
            "gridwidth": 2,
            "linecolor": "white",
            "showbackground": true,
            "ticks": "",
            "zerolinecolor": "white"
           },
           "zaxis": {
            "backgroundcolor": "#E5ECF6",
            "gridcolor": "white",
            "gridwidth": 2,
            "linecolor": "white",
            "showbackground": true,
            "ticks": "",
            "zerolinecolor": "white"
           }
          },
          "shapedefaults": {
           "line": {
            "color": "#2a3f5f"
           }
          },
          "ternary": {
           "aaxis": {
            "gridcolor": "white",
            "linecolor": "white",
            "ticks": ""
           },
           "baxis": {
            "gridcolor": "white",
            "linecolor": "white",
            "ticks": ""
           },
           "bgcolor": "#E5ECF6",
           "caxis": {
            "gridcolor": "white",
            "linecolor": "white",
            "ticks": ""
           }
          },
          "title": {
           "x": 0.05
          },
          "xaxis": {
           "automargin": true,
           "gridcolor": "white",
           "linecolor": "white",
           "ticks": "",
           "title": {
            "standoff": 15
           },
           "zerolinecolor": "white",
           "zerolinewidth": 2
          },
          "yaxis": {
           "automargin": true,
           "gridcolor": "white",
           "linecolor": "white",
           "ticks": "",
           "title": {
            "standoff": 15
           },
           "zerolinecolor": "white",
           "zerolinewidth": 2
          }
         }
        },
        "title": {
         "font": {
          "color": "#4D5663"
         }
        },
        "xaxis": {
         "gridcolor": "#E1E5ED",
         "showgrid": true,
         "tickfont": {
          "color": "#4D5663"
         },
         "title": {
          "font": {
           "color": "#4D5663"
          },
          "text": ""
         },
         "zerolinecolor": "#E1E5ED"
        },
        "yaxis": {
         "gridcolor": "#E1E5ED",
         "showgrid": true,
         "tickfont": {
          "color": "#4D5663"
         },
         "title": {
          "font": {
           "color": "#4D5663"
          },
          "text": ""
         },
         "zerolinecolor": "#E1E5ED"
        }
       }
      },
      "text/html": [
       "<div>                            <div id=\"d8c24155-b5ab-455a-b1ba-2aef4a01978d\" class=\"plotly-graph-div\" style=\"height:525px; width:100%;\"></div>            <script type=\"text/javascript\">                require([\"plotly\"], function(Plotly) {                    window.PLOTLYENV=window.PLOTLYENV || {};\n",
       "                    window.PLOTLYENV.BASE_URL='https://plot.ly';                                    if (document.getElementById(\"d8c24155-b5ab-455a-b1ba-2aef4a01978d\")) {                    Plotly.newPlot(                        \"d8c24155-b5ab-455a-b1ba-2aef4a01978d\",                        [{\"marker\":{\"color\":\"rgba(255, 153, 51, 0.6)\",\"line\":{\"color\":\"rgba(255, 153, 51, 1.0)\",\"width\":1}},\"name\":\"None\",\"orientation\":\"v\",\"text\":\"\",\"x\":[\"A\",\"B\",\"c\",\"D\"],\"y\":[100,100,100,100],\"type\":\"bar\"}],                        {\"legend\":{\"bgcolor\":\"#F5F6F9\",\"font\":{\"color\":\"#4D5663\"}},\"paper_bgcolor\":\"#F5F6F9\",\"plot_bgcolor\":\"#F5F6F9\",\"template\":{\"data\":{\"barpolar\":[{\"marker\":{\"line\":{\"color\":\"#E5ECF6\",\"width\":0.5},\"pattern\":{\"fillmode\":\"overlay\",\"size\":10,\"solidity\":0.2}},\"type\":\"barpolar\"}],\"bar\":[{\"error_x\":{\"color\":\"#2a3f5f\"},\"error_y\":{\"color\":\"#2a3f5f\"},\"marker\":{\"line\":{\"color\":\"#E5ECF6\",\"width\":0.5},\"pattern\":{\"fillmode\":\"overlay\",\"size\":10,\"solidity\":0.2}},\"type\":\"bar\"}],\"carpet\":[{\"aaxis\":{\"endlinecolor\":\"#2a3f5f\",\"gridcolor\":\"white\",\"linecolor\":\"white\",\"minorgridcolor\":\"white\",\"startlinecolor\":\"#2a3f5f\"},\"baxis\":{\"endlinecolor\":\"#2a3f5f\",\"gridcolor\":\"white\",\"linecolor\":\"white\",\"minorgridcolor\":\"white\",\"startlinecolor\":\"#2a3f5f\"},\"type\":\"carpet\"}],\"choropleth\":[{\"colorbar\":{\"outlinewidth\":0,\"ticks\":\"\"},\"type\":\"choropleth\"}],\"contourcarpet\":[{\"colorbar\":{\"outlinewidth\":0,\"ticks\":\"\"},\"type\":\"contourcarpet\"}],\"contour\":[{\"colorbar\":{\"outlinewidth\":0,\"ticks\":\"\"},\"colorscale\":[[0.0,\"#0d0887\"],[0.1111111111111111,\"#46039f\"],[0.2222222222222222,\"#7201a8\"],[0.3333333333333333,\"#9c179e\"],[0.4444444444444444,\"#bd3786\"],[0.5555555555555556,\"#d8576b\"],[0.6666666666666666,\"#ed7953\"],[0.7777777777777778,\"#fb9f3a\"],[0.8888888888888888,\"#fdca26\"],[1.0,\"#f0f921\"]],\"type\":\"contour\"}],\"heatmapgl\":[{\"colorbar\":{\"outlinewidth\":0,\"ticks\":\"\"},\"colorscale\":[[0.0,\"#0d0887\"],[0.1111111111111111,\"#46039f\"],[0.2222222222222222,\"#7201a8\"],[0.3333333333333333,\"#9c179e\"],[0.4444444444444444,\"#bd3786\"],[0.5555555555555556,\"#d8576b\"],[0.6666666666666666,\"#ed7953\"],[0.7777777777777778,\"#fb9f3a\"],[0.8888888888888888,\"#fdca26\"],[1.0,\"#f0f921\"]],\"type\":\"heatmapgl\"}],\"heatmap\":[{\"colorbar\":{\"outlinewidth\":0,\"ticks\":\"\"},\"colorscale\":[[0.0,\"#0d0887\"],[0.1111111111111111,\"#46039f\"],[0.2222222222222222,\"#7201a8\"],[0.3333333333333333,\"#9c179e\"],[0.4444444444444444,\"#bd3786\"],[0.5555555555555556,\"#d8576b\"],[0.6666666666666666,\"#ed7953\"],[0.7777777777777778,\"#fb9f3a\"],[0.8888888888888888,\"#fdca26\"],[1.0,\"#f0f921\"]],\"type\":\"heatmap\"}],\"histogram2dcontour\":[{\"colorbar\":{\"outlinewidth\":0,\"ticks\":\"\"},\"colorscale\":[[0.0,\"#0d0887\"],[0.1111111111111111,\"#46039f\"],[0.2222222222222222,\"#7201a8\"],[0.3333333333333333,\"#9c179e\"],[0.4444444444444444,\"#bd3786\"],[0.5555555555555556,\"#d8576b\"],[0.6666666666666666,\"#ed7953\"],[0.7777777777777778,\"#fb9f3a\"],[0.8888888888888888,\"#fdca26\"],[1.0,\"#f0f921\"]],\"type\":\"histogram2dcontour\"}],\"histogram2d\":[{\"colorbar\":{\"outlinewidth\":0,\"ticks\":\"\"},\"colorscale\":[[0.0,\"#0d0887\"],[0.1111111111111111,\"#46039f\"],[0.2222222222222222,\"#7201a8\"],[0.3333333333333333,\"#9c179e\"],[0.4444444444444444,\"#bd3786\"],[0.5555555555555556,\"#d8576b\"],[0.6666666666666666,\"#ed7953\"],[0.7777777777777778,\"#fb9f3a\"],[0.8888888888888888,\"#fdca26\"],[1.0,\"#f0f921\"]],\"type\":\"histogram2d\"}],\"histogram\":[{\"marker\":{\"pattern\":{\"fillmode\":\"overlay\",\"size\":10,\"solidity\":0.2}},\"type\":\"histogram\"}],\"mesh3d\":[{\"colorbar\":{\"outlinewidth\":0,\"ticks\":\"\"},\"type\":\"mesh3d\"}],\"parcoords\":[{\"line\":{\"colorbar\":{\"outlinewidth\":0,\"ticks\":\"\"}},\"type\":\"parcoords\"}],\"pie\":[{\"automargin\":true,\"type\":\"pie\"}],\"scatter3d\":[{\"line\":{\"colorbar\":{\"outlinewidth\":0,\"ticks\":\"\"}},\"marker\":{\"colorbar\":{\"outlinewidth\":0,\"ticks\":\"\"}},\"type\":\"scatter3d\"}],\"scattercarpet\":[{\"marker\":{\"colorbar\":{\"outlinewidth\":0,\"ticks\":\"\"}},\"type\":\"scattercarpet\"}],\"scattergeo\":[{\"marker\":{\"colorbar\":{\"outlinewidth\":0,\"ticks\":\"\"}},\"type\":\"scattergeo\"}],\"scattergl\":[{\"marker\":{\"colorbar\":{\"outlinewidth\":0,\"ticks\":\"\"}},\"type\":\"scattergl\"}],\"scattermapbox\":[{\"marker\":{\"colorbar\":{\"outlinewidth\":0,\"ticks\":\"\"}},\"type\":\"scattermapbox\"}],\"scatterpolargl\":[{\"marker\":{\"colorbar\":{\"outlinewidth\":0,\"ticks\":\"\"}},\"type\":\"scatterpolargl\"}],\"scatterpolar\":[{\"marker\":{\"colorbar\":{\"outlinewidth\":0,\"ticks\":\"\"}},\"type\":\"scatterpolar\"}],\"scatter\":[{\"fillpattern\":{\"fillmode\":\"overlay\",\"size\":10,\"solidity\":0.2},\"type\":\"scatter\"}],\"scatterternary\":[{\"marker\":{\"colorbar\":{\"outlinewidth\":0,\"ticks\":\"\"}},\"type\":\"scatterternary\"}],\"surface\":[{\"colorbar\":{\"outlinewidth\":0,\"ticks\":\"\"},\"colorscale\":[[0.0,\"#0d0887\"],[0.1111111111111111,\"#46039f\"],[0.2222222222222222,\"#7201a8\"],[0.3333333333333333,\"#9c179e\"],[0.4444444444444444,\"#bd3786\"],[0.5555555555555556,\"#d8576b\"],[0.6666666666666666,\"#ed7953\"],[0.7777777777777778,\"#fb9f3a\"],[0.8888888888888888,\"#fdca26\"],[1.0,\"#f0f921\"]],\"type\":\"surface\"}],\"table\":[{\"cells\":{\"fill\":{\"color\":\"#EBF0F8\"},\"line\":{\"color\":\"white\"}},\"header\":{\"fill\":{\"color\":\"#C8D4E3\"},\"line\":{\"color\":\"white\"}},\"type\":\"table\"}]},\"layout\":{\"annotationdefaults\":{\"arrowcolor\":\"#2a3f5f\",\"arrowhead\":0,\"arrowwidth\":1},\"autotypenumbers\":\"strict\",\"coloraxis\":{\"colorbar\":{\"outlinewidth\":0,\"ticks\":\"\"}},\"colorscale\":{\"diverging\":[[0,\"#8e0152\"],[0.1,\"#c51b7d\"],[0.2,\"#de77ae\"],[0.3,\"#f1b6da\"],[0.4,\"#fde0ef\"],[0.5,\"#f7f7f7\"],[0.6,\"#e6f5d0\"],[0.7,\"#b8e186\"],[0.8,\"#7fbc41\"],[0.9,\"#4d9221\"],[1,\"#276419\"]],\"sequential\":[[0.0,\"#0d0887\"],[0.1111111111111111,\"#46039f\"],[0.2222222222222222,\"#7201a8\"],[0.3333333333333333,\"#9c179e\"],[0.4444444444444444,\"#bd3786\"],[0.5555555555555556,\"#d8576b\"],[0.6666666666666666,\"#ed7953\"],[0.7777777777777778,\"#fb9f3a\"],[0.8888888888888888,\"#fdca26\"],[1.0,\"#f0f921\"]],\"sequentialminus\":[[0.0,\"#0d0887\"],[0.1111111111111111,\"#46039f\"],[0.2222222222222222,\"#7201a8\"],[0.3333333333333333,\"#9c179e\"],[0.4444444444444444,\"#bd3786\"],[0.5555555555555556,\"#d8576b\"],[0.6666666666666666,\"#ed7953\"],[0.7777777777777778,\"#fb9f3a\"],[0.8888888888888888,\"#fdca26\"],[1.0,\"#f0f921\"]]},\"colorway\":[\"#636efa\",\"#EF553B\",\"#00cc96\",\"#ab63fa\",\"#FFA15A\",\"#19d3f3\",\"#FF6692\",\"#B6E880\",\"#FF97FF\",\"#FECB52\"],\"font\":{\"color\":\"#2a3f5f\"},\"geo\":{\"bgcolor\":\"white\",\"lakecolor\":\"white\",\"landcolor\":\"#E5ECF6\",\"showlakes\":true,\"showland\":true,\"subunitcolor\":\"white\"},\"hoverlabel\":{\"align\":\"left\"},\"hovermode\":\"closest\",\"mapbox\":{\"style\":\"light\"},\"paper_bgcolor\":\"white\",\"plot_bgcolor\":\"#E5ECF6\",\"polar\":{\"angularaxis\":{\"gridcolor\":\"white\",\"linecolor\":\"white\",\"ticks\":\"\"},\"bgcolor\":\"#E5ECF6\",\"radialaxis\":{\"gridcolor\":\"white\",\"linecolor\":\"white\",\"ticks\":\"\"}},\"scene\":{\"xaxis\":{\"backgroundcolor\":\"#E5ECF6\",\"gridcolor\":\"white\",\"gridwidth\":2,\"linecolor\":\"white\",\"showbackground\":true,\"ticks\":\"\",\"zerolinecolor\":\"white\"},\"yaxis\":{\"backgroundcolor\":\"#E5ECF6\",\"gridcolor\":\"white\",\"gridwidth\":2,\"linecolor\":\"white\",\"showbackground\":true,\"ticks\":\"\",\"zerolinecolor\":\"white\"},\"zaxis\":{\"backgroundcolor\":\"#E5ECF6\",\"gridcolor\":\"white\",\"gridwidth\":2,\"linecolor\":\"white\",\"showbackground\":true,\"ticks\":\"\",\"zerolinecolor\":\"white\"}},\"shapedefaults\":{\"line\":{\"color\":\"#2a3f5f\"}},\"ternary\":{\"aaxis\":{\"gridcolor\":\"white\",\"linecolor\":\"white\",\"ticks\":\"\"},\"baxis\":{\"gridcolor\":\"white\",\"linecolor\":\"white\",\"ticks\":\"\"},\"bgcolor\":\"#E5ECF6\",\"caxis\":{\"gridcolor\":\"white\",\"linecolor\":\"white\",\"ticks\":\"\"}},\"title\":{\"x\":0.05},\"xaxis\":{\"automargin\":true,\"gridcolor\":\"white\",\"linecolor\":\"white\",\"ticks\":\"\",\"title\":{\"standoff\":15},\"zerolinecolor\":\"white\",\"zerolinewidth\":2},\"yaxis\":{\"automargin\":true,\"gridcolor\":\"white\",\"linecolor\":\"white\",\"ticks\":\"\",\"title\":{\"standoff\":15},\"zerolinecolor\":\"white\",\"zerolinewidth\":2}}},\"title\":{\"font\":{\"color\":\"#4D5663\"}},\"xaxis\":{\"gridcolor\":\"#E1E5ED\",\"showgrid\":true,\"tickfont\":{\"color\":\"#4D5663\"},\"title\":{\"font\":{\"color\":\"#4D5663\"},\"text\":\"\"},\"zerolinecolor\":\"#E1E5ED\"},\"yaxis\":{\"gridcolor\":\"#E1E5ED\",\"showgrid\":true,\"tickfont\":{\"color\":\"#4D5663\"},\"title\":{\"font\":{\"color\":\"#4D5663\"},\"text\":\"\"},\"zerolinecolor\":\"#E1E5ED\"}},                        {\"showLink\": true, \"linkText\": \"Export to plot.ly\", \"plotlyServerURL\": \"https://plot.ly\", \"responsive\": true}                    ).then(function(){\n",
       "                            \n",
       "var gd = document.getElementById('d8c24155-b5ab-455a-b1ba-2aef4a01978d');\n",
       "var x = new MutationObserver(function (mutations, observer) {{\n",
       "        var display = window.getComputedStyle(gd).display;\n",
       "        if (!display || display === 'none') {{\n",
       "            console.log([gd, 'removed!']);\n",
       "            Plotly.purge(gd);\n",
       "            observer.disconnect();\n",
       "        }}\n",
       "}});\n",
       "\n",
       "// Listen for the removal of the full notebook cells\n",
       "var notebookContainer = gd.closest('#notebook-container');\n",
       "if (notebookContainer) {{\n",
       "    x.observe(notebookContainer, {childList: true});\n",
       "}}\n",
       "\n",
       "// Listen for the clearing of the current output cell\n",
       "var outputEl = gd.closest('.output');\n",
       "if (outputEl) {{\n",
       "    x.observe(outputEl, {childList: true});\n",
       "}}\n",
       "\n",
       "                        })                };                });            </script>        </div>"
      ]
     },
     "metadata": {},
     "output_type": "display_data"
    }
   ],
   "source": [
    "df.count().iplot(kind='bar')"
   ]
  },
  {
   "cell_type": "code",
   "execution_count": 26,
   "id": "d85ec4b3",
   "metadata": {},
   "outputs": [
    {
     "data": {
      "application/vnd.plotly.v1+json": {
       "config": {
        "linkText": "Export to plot.ly",
        "plotlyServerURL": "https://plot.ly",
        "showLink": true
       },
       "data": [
        {
         "marker": {
          "color": "rgba(255, 153, 51, 0.6)",
          "line": {
           "color": "rgba(255, 153, 51, 1.0)",
           "width": 1
          }
         },
         "name": "None",
         "orientation": "v",
         "text": "",
         "type": "bar",
         "x": [
          "A",
          "B",
          "c",
          "D"
         ],
         "y": [
          -17.36660258495406,
          -2.012038157126162,
          4.459036775925371,
          -16.925038020095545
         ]
        }
       ],
       "layout": {
        "legend": {
         "bgcolor": "#F5F6F9",
         "font": {
          "color": "#4D5663"
         }
        },
        "paper_bgcolor": "#F5F6F9",
        "plot_bgcolor": "#F5F6F9",
        "template": {
         "data": {
          "bar": [
           {
            "error_x": {
             "color": "#2a3f5f"
            },
            "error_y": {
             "color": "#2a3f5f"
            },
            "marker": {
             "line": {
              "color": "#E5ECF6",
              "width": 0.5
             },
             "pattern": {
              "fillmode": "overlay",
              "size": 10,
              "solidity": 0.2
             }
            },
            "type": "bar"
           }
          ],
          "barpolar": [
           {
            "marker": {
             "line": {
              "color": "#E5ECF6",
              "width": 0.5
             },
             "pattern": {
              "fillmode": "overlay",
              "size": 10,
              "solidity": 0.2
             }
            },
            "type": "barpolar"
           }
          ],
          "carpet": [
           {
            "aaxis": {
             "endlinecolor": "#2a3f5f",
             "gridcolor": "white",
             "linecolor": "white",
             "minorgridcolor": "white",
             "startlinecolor": "#2a3f5f"
            },
            "baxis": {
             "endlinecolor": "#2a3f5f",
             "gridcolor": "white",
             "linecolor": "white",
             "minorgridcolor": "white",
             "startlinecolor": "#2a3f5f"
            },
            "type": "carpet"
           }
          ],
          "choropleth": [
           {
            "colorbar": {
             "outlinewidth": 0,
             "ticks": ""
            },
            "type": "choropleth"
           }
          ],
          "contour": [
           {
            "colorbar": {
             "outlinewidth": 0,
             "ticks": ""
            },
            "colorscale": [
             [
              0,
              "#0d0887"
             ],
             [
              0.1111111111111111,
              "#46039f"
             ],
             [
              0.2222222222222222,
              "#7201a8"
             ],
             [
              0.3333333333333333,
              "#9c179e"
             ],
             [
              0.4444444444444444,
              "#bd3786"
             ],
             [
              0.5555555555555556,
              "#d8576b"
             ],
             [
              0.6666666666666666,
              "#ed7953"
             ],
             [
              0.7777777777777778,
              "#fb9f3a"
             ],
             [
              0.8888888888888888,
              "#fdca26"
             ],
             [
              1,
              "#f0f921"
             ]
            ],
            "type": "contour"
           }
          ],
          "contourcarpet": [
           {
            "colorbar": {
             "outlinewidth": 0,
             "ticks": ""
            },
            "type": "contourcarpet"
           }
          ],
          "heatmap": [
           {
            "colorbar": {
             "outlinewidth": 0,
             "ticks": ""
            },
            "colorscale": [
             [
              0,
              "#0d0887"
             ],
             [
              0.1111111111111111,
              "#46039f"
             ],
             [
              0.2222222222222222,
              "#7201a8"
             ],
             [
              0.3333333333333333,
              "#9c179e"
             ],
             [
              0.4444444444444444,
              "#bd3786"
             ],
             [
              0.5555555555555556,
              "#d8576b"
             ],
             [
              0.6666666666666666,
              "#ed7953"
             ],
             [
              0.7777777777777778,
              "#fb9f3a"
             ],
             [
              0.8888888888888888,
              "#fdca26"
             ],
             [
              1,
              "#f0f921"
             ]
            ],
            "type": "heatmap"
           }
          ],
          "heatmapgl": [
           {
            "colorbar": {
             "outlinewidth": 0,
             "ticks": ""
            },
            "colorscale": [
             [
              0,
              "#0d0887"
             ],
             [
              0.1111111111111111,
              "#46039f"
             ],
             [
              0.2222222222222222,
              "#7201a8"
             ],
             [
              0.3333333333333333,
              "#9c179e"
             ],
             [
              0.4444444444444444,
              "#bd3786"
             ],
             [
              0.5555555555555556,
              "#d8576b"
             ],
             [
              0.6666666666666666,
              "#ed7953"
             ],
             [
              0.7777777777777778,
              "#fb9f3a"
             ],
             [
              0.8888888888888888,
              "#fdca26"
             ],
             [
              1,
              "#f0f921"
             ]
            ],
            "type": "heatmapgl"
           }
          ],
          "histogram": [
           {
            "marker": {
             "pattern": {
              "fillmode": "overlay",
              "size": 10,
              "solidity": 0.2
             }
            },
            "type": "histogram"
           }
          ],
          "histogram2d": [
           {
            "colorbar": {
             "outlinewidth": 0,
             "ticks": ""
            },
            "colorscale": [
             [
              0,
              "#0d0887"
             ],
             [
              0.1111111111111111,
              "#46039f"
             ],
             [
              0.2222222222222222,
              "#7201a8"
             ],
             [
              0.3333333333333333,
              "#9c179e"
             ],
             [
              0.4444444444444444,
              "#bd3786"
             ],
             [
              0.5555555555555556,
              "#d8576b"
             ],
             [
              0.6666666666666666,
              "#ed7953"
             ],
             [
              0.7777777777777778,
              "#fb9f3a"
             ],
             [
              0.8888888888888888,
              "#fdca26"
             ],
             [
              1,
              "#f0f921"
             ]
            ],
            "type": "histogram2d"
           }
          ],
          "histogram2dcontour": [
           {
            "colorbar": {
             "outlinewidth": 0,
             "ticks": ""
            },
            "colorscale": [
             [
              0,
              "#0d0887"
             ],
             [
              0.1111111111111111,
              "#46039f"
             ],
             [
              0.2222222222222222,
              "#7201a8"
             ],
             [
              0.3333333333333333,
              "#9c179e"
             ],
             [
              0.4444444444444444,
              "#bd3786"
             ],
             [
              0.5555555555555556,
              "#d8576b"
             ],
             [
              0.6666666666666666,
              "#ed7953"
             ],
             [
              0.7777777777777778,
              "#fb9f3a"
             ],
             [
              0.8888888888888888,
              "#fdca26"
             ],
             [
              1,
              "#f0f921"
             ]
            ],
            "type": "histogram2dcontour"
           }
          ],
          "mesh3d": [
           {
            "colorbar": {
             "outlinewidth": 0,
             "ticks": ""
            },
            "type": "mesh3d"
           }
          ],
          "parcoords": [
           {
            "line": {
             "colorbar": {
              "outlinewidth": 0,
              "ticks": ""
             }
            },
            "type": "parcoords"
           }
          ],
          "pie": [
           {
            "automargin": true,
            "type": "pie"
           }
          ],
          "scatter": [
           {
            "fillpattern": {
             "fillmode": "overlay",
             "size": 10,
             "solidity": 0.2
            },
            "type": "scatter"
           }
          ],
          "scatter3d": [
           {
            "line": {
             "colorbar": {
              "outlinewidth": 0,
              "ticks": ""
             }
            },
            "marker": {
             "colorbar": {
              "outlinewidth": 0,
              "ticks": ""
             }
            },
            "type": "scatter3d"
           }
          ],
          "scattercarpet": [
           {
            "marker": {
             "colorbar": {
              "outlinewidth": 0,
              "ticks": ""
             }
            },
            "type": "scattercarpet"
           }
          ],
          "scattergeo": [
           {
            "marker": {
             "colorbar": {
              "outlinewidth": 0,
              "ticks": ""
             }
            },
            "type": "scattergeo"
           }
          ],
          "scattergl": [
           {
            "marker": {
             "colorbar": {
              "outlinewidth": 0,
              "ticks": ""
             }
            },
            "type": "scattergl"
           }
          ],
          "scattermapbox": [
           {
            "marker": {
             "colorbar": {
              "outlinewidth": 0,
              "ticks": ""
             }
            },
            "type": "scattermapbox"
           }
          ],
          "scatterpolar": [
           {
            "marker": {
             "colorbar": {
              "outlinewidth": 0,
              "ticks": ""
             }
            },
            "type": "scatterpolar"
           }
          ],
          "scatterpolargl": [
           {
            "marker": {
             "colorbar": {
              "outlinewidth": 0,
              "ticks": ""
             }
            },
            "type": "scatterpolargl"
           }
          ],
          "scatterternary": [
           {
            "marker": {
             "colorbar": {
              "outlinewidth": 0,
              "ticks": ""
             }
            },
            "type": "scatterternary"
           }
          ],
          "surface": [
           {
            "colorbar": {
             "outlinewidth": 0,
             "ticks": ""
            },
            "colorscale": [
             [
              0,
              "#0d0887"
             ],
             [
              0.1111111111111111,
              "#46039f"
             ],
             [
              0.2222222222222222,
              "#7201a8"
             ],
             [
              0.3333333333333333,
              "#9c179e"
             ],
             [
              0.4444444444444444,
              "#bd3786"
             ],
             [
              0.5555555555555556,
              "#d8576b"
             ],
             [
              0.6666666666666666,
              "#ed7953"
             ],
             [
              0.7777777777777778,
              "#fb9f3a"
             ],
             [
              0.8888888888888888,
              "#fdca26"
             ],
             [
              1,
              "#f0f921"
             ]
            ],
            "type": "surface"
           }
          ],
          "table": [
           {
            "cells": {
             "fill": {
              "color": "#EBF0F8"
             },
             "line": {
              "color": "white"
             }
            },
            "header": {
             "fill": {
              "color": "#C8D4E3"
             },
             "line": {
              "color": "white"
             }
            },
            "type": "table"
           }
          ]
         },
         "layout": {
          "annotationdefaults": {
           "arrowcolor": "#2a3f5f",
           "arrowhead": 0,
           "arrowwidth": 1
          },
          "autotypenumbers": "strict",
          "coloraxis": {
           "colorbar": {
            "outlinewidth": 0,
            "ticks": ""
           }
          },
          "colorscale": {
           "diverging": [
            [
             0,
             "#8e0152"
            ],
            [
             0.1,
             "#c51b7d"
            ],
            [
             0.2,
             "#de77ae"
            ],
            [
             0.3,
             "#f1b6da"
            ],
            [
             0.4,
             "#fde0ef"
            ],
            [
             0.5,
             "#f7f7f7"
            ],
            [
             0.6,
             "#e6f5d0"
            ],
            [
             0.7,
             "#b8e186"
            ],
            [
             0.8,
             "#7fbc41"
            ],
            [
             0.9,
             "#4d9221"
            ],
            [
             1,
             "#276419"
            ]
           ],
           "sequential": [
            [
             0,
             "#0d0887"
            ],
            [
             0.1111111111111111,
             "#46039f"
            ],
            [
             0.2222222222222222,
             "#7201a8"
            ],
            [
             0.3333333333333333,
             "#9c179e"
            ],
            [
             0.4444444444444444,
             "#bd3786"
            ],
            [
             0.5555555555555556,
             "#d8576b"
            ],
            [
             0.6666666666666666,
             "#ed7953"
            ],
            [
             0.7777777777777778,
             "#fb9f3a"
            ],
            [
             0.8888888888888888,
             "#fdca26"
            ],
            [
             1,
             "#f0f921"
            ]
           ],
           "sequentialminus": [
            [
             0,
             "#0d0887"
            ],
            [
             0.1111111111111111,
             "#46039f"
            ],
            [
             0.2222222222222222,
             "#7201a8"
            ],
            [
             0.3333333333333333,
             "#9c179e"
            ],
            [
             0.4444444444444444,
             "#bd3786"
            ],
            [
             0.5555555555555556,
             "#d8576b"
            ],
            [
             0.6666666666666666,
             "#ed7953"
            ],
            [
             0.7777777777777778,
             "#fb9f3a"
            ],
            [
             0.8888888888888888,
             "#fdca26"
            ],
            [
             1,
             "#f0f921"
            ]
           ]
          },
          "colorway": [
           "#636efa",
           "#EF553B",
           "#00cc96",
           "#ab63fa",
           "#FFA15A",
           "#19d3f3",
           "#FF6692",
           "#B6E880",
           "#FF97FF",
           "#FECB52"
          ],
          "font": {
           "color": "#2a3f5f"
          },
          "geo": {
           "bgcolor": "white",
           "lakecolor": "white",
           "landcolor": "#E5ECF6",
           "showlakes": true,
           "showland": true,
           "subunitcolor": "white"
          },
          "hoverlabel": {
           "align": "left"
          },
          "hovermode": "closest",
          "mapbox": {
           "style": "light"
          },
          "paper_bgcolor": "white",
          "plot_bgcolor": "#E5ECF6",
          "polar": {
           "angularaxis": {
            "gridcolor": "white",
            "linecolor": "white",
            "ticks": ""
           },
           "bgcolor": "#E5ECF6",
           "radialaxis": {
            "gridcolor": "white",
            "linecolor": "white",
            "ticks": ""
           }
          },
          "scene": {
           "xaxis": {
            "backgroundcolor": "#E5ECF6",
            "gridcolor": "white",
            "gridwidth": 2,
            "linecolor": "white",
            "showbackground": true,
            "ticks": "",
            "zerolinecolor": "white"
           },
           "yaxis": {
            "backgroundcolor": "#E5ECF6",
            "gridcolor": "white",
            "gridwidth": 2,
            "linecolor": "white",
            "showbackground": true,
            "ticks": "",
            "zerolinecolor": "white"
           },
           "zaxis": {
            "backgroundcolor": "#E5ECF6",
            "gridcolor": "white",
            "gridwidth": 2,
            "linecolor": "white",
            "showbackground": true,
            "ticks": "",
            "zerolinecolor": "white"
           }
          },
          "shapedefaults": {
           "line": {
            "color": "#2a3f5f"
           }
          },
          "ternary": {
           "aaxis": {
            "gridcolor": "white",
            "linecolor": "white",
            "ticks": ""
           },
           "baxis": {
            "gridcolor": "white",
            "linecolor": "white",
            "ticks": ""
           },
           "bgcolor": "#E5ECF6",
           "caxis": {
            "gridcolor": "white",
            "linecolor": "white",
            "ticks": ""
           }
          },
          "title": {
           "x": 0.05
          },
          "xaxis": {
           "automargin": true,
           "gridcolor": "white",
           "linecolor": "white",
           "ticks": "",
           "title": {
            "standoff": 15
           },
           "zerolinecolor": "white",
           "zerolinewidth": 2
          },
          "yaxis": {
           "automargin": true,
           "gridcolor": "white",
           "linecolor": "white",
           "ticks": "",
           "title": {
            "standoff": 15
           },
           "zerolinecolor": "white",
           "zerolinewidth": 2
          }
         }
        },
        "title": {
         "font": {
          "color": "#4D5663"
         }
        },
        "xaxis": {
         "gridcolor": "#E1E5ED",
         "showgrid": true,
         "tickfont": {
          "color": "#4D5663"
         },
         "title": {
          "font": {
           "color": "#4D5663"
          },
          "text": ""
         },
         "zerolinecolor": "#E1E5ED"
        },
        "yaxis": {
         "gridcolor": "#E1E5ED",
         "showgrid": true,
         "tickfont": {
          "color": "#4D5663"
         },
         "title": {
          "font": {
           "color": "#4D5663"
          },
          "text": ""
         },
         "zerolinecolor": "#E1E5ED"
        }
       }
      },
      "text/html": [
       "<div>                            <div id=\"910e75a7-fb4f-4e3a-b126-368ea40d8416\" class=\"plotly-graph-div\" style=\"height:525px; width:100%;\"></div>            <script type=\"text/javascript\">                require([\"plotly\"], function(Plotly) {                    window.PLOTLYENV=window.PLOTLYENV || {};\n",
       "                    window.PLOTLYENV.BASE_URL='https://plot.ly';                                    if (document.getElementById(\"910e75a7-fb4f-4e3a-b126-368ea40d8416\")) {                    Plotly.newPlot(                        \"910e75a7-fb4f-4e3a-b126-368ea40d8416\",                        [{\"marker\":{\"color\":\"rgba(255, 153, 51, 0.6)\",\"line\":{\"color\":\"rgba(255, 153, 51, 1.0)\",\"width\":1}},\"name\":\"None\",\"orientation\":\"v\",\"text\":\"\",\"x\":[\"A\",\"B\",\"c\",\"D\"],\"y\":[-17.36660258495406,-2.012038157126162,4.459036775925371,-16.925038020095545],\"type\":\"bar\"}],                        {\"legend\":{\"bgcolor\":\"#F5F6F9\",\"font\":{\"color\":\"#4D5663\"}},\"paper_bgcolor\":\"#F5F6F9\",\"plot_bgcolor\":\"#F5F6F9\",\"template\":{\"data\":{\"barpolar\":[{\"marker\":{\"line\":{\"color\":\"#E5ECF6\",\"width\":0.5},\"pattern\":{\"fillmode\":\"overlay\",\"size\":10,\"solidity\":0.2}},\"type\":\"barpolar\"}],\"bar\":[{\"error_x\":{\"color\":\"#2a3f5f\"},\"error_y\":{\"color\":\"#2a3f5f\"},\"marker\":{\"line\":{\"color\":\"#E5ECF6\",\"width\":0.5},\"pattern\":{\"fillmode\":\"overlay\",\"size\":10,\"solidity\":0.2}},\"type\":\"bar\"}],\"carpet\":[{\"aaxis\":{\"endlinecolor\":\"#2a3f5f\",\"gridcolor\":\"white\",\"linecolor\":\"white\",\"minorgridcolor\":\"white\",\"startlinecolor\":\"#2a3f5f\"},\"baxis\":{\"endlinecolor\":\"#2a3f5f\",\"gridcolor\":\"white\",\"linecolor\":\"white\",\"minorgridcolor\":\"white\",\"startlinecolor\":\"#2a3f5f\"},\"type\":\"carpet\"}],\"choropleth\":[{\"colorbar\":{\"outlinewidth\":0,\"ticks\":\"\"},\"type\":\"choropleth\"}],\"contourcarpet\":[{\"colorbar\":{\"outlinewidth\":0,\"ticks\":\"\"},\"type\":\"contourcarpet\"}],\"contour\":[{\"colorbar\":{\"outlinewidth\":0,\"ticks\":\"\"},\"colorscale\":[[0.0,\"#0d0887\"],[0.1111111111111111,\"#46039f\"],[0.2222222222222222,\"#7201a8\"],[0.3333333333333333,\"#9c179e\"],[0.4444444444444444,\"#bd3786\"],[0.5555555555555556,\"#d8576b\"],[0.6666666666666666,\"#ed7953\"],[0.7777777777777778,\"#fb9f3a\"],[0.8888888888888888,\"#fdca26\"],[1.0,\"#f0f921\"]],\"type\":\"contour\"}],\"heatmapgl\":[{\"colorbar\":{\"outlinewidth\":0,\"ticks\":\"\"},\"colorscale\":[[0.0,\"#0d0887\"],[0.1111111111111111,\"#46039f\"],[0.2222222222222222,\"#7201a8\"],[0.3333333333333333,\"#9c179e\"],[0.4444444444444444,\"#bd3786\"],[0.5555555555555556,\"#d8576b\"],[0.6666666666666666,\"#ed7953\"],[0.7777777777777778,\"#fb9f3a\"],[0.8888888888888888,\"#fdca26\"],[1.0,\"#f0f921\"]],\"type\":\"heatmapgl\"}],\"heatmap\":[{\"colorbar\":{\"outlinewidth\":0,\"ticks\":\"\"},\"colorscale\":[[0.0,\"#0d0887\"],[0.1111111111111111,\"#46039f\"],[0.2222222222222222,\"#7201a8\"],[0.3333333333333333,\"#9c179e\"],[0.4444444444444444,\"#bd3786\"],[0.5555555555555556,\"#d8576b\"],[0.6666666666666666,\"#ed7953\"],[0.7777777777777778,\"#fb9f3a\"],[0.8888888888888888,\"#fdca26\"],[1.0,\"#f0f921\"]],\"type\":\"heatmap\"}],\"histogram2dcontour\":[{\"colorbar\":{\"outlinewidth\":0,\"ticks\":\"\"},\"colorscale\":[[0.0,\"#0d0887\"],[0.1111111111111111,\"#46039f\"],[0.2222222222222222,\"#7201a8\"],[0.3333333333333333,\"#9c179e\"],[0.4444444444444444,\"#bd3786\"],[0.5555555555555556,\"#d8576b\"],[0.6666666666666666,\"#ed7953\"],[0.7777777777777778,\"#fb9f3a\"],[0.8888888888888888,\"#fdca26\"],[1.0,\"#f0f921\"]],\"type\":\"histogram2dcontour\"}],\"histogram2d\":[{\"colorbar\":{\"outlinewidth\":0,\"ticks\":\"\"},\"colorscale\":[[0.0,\"#0d0887\"],[0.1111111111111111,\"#46039f\"],[0.2222222222222222,\"#7201a8\"],[0.3333333333333333,\"#9c179e\"],[0.4444444444444444,\"#bd3786\"],[0.5555555555555556,\"#d8576b\"],[0.6666666666666666,\"#ed7953\"],[0.7777777777777778,\"#fb9f3a\"],[0.8888888888888888,\"#fdca26\"],[1.0,\"#f0f921\"]],\"type\":\"histogram2d\"}],\"histogram\":[{\"marker\":{\"pattern\":{\"fillmode\":\"overlay\",\"size\":10,\"solidity\":0.2}},\"type\":\"histogram\"}],\"mesh3d\":[{\"colorbar\":{\"outlinewidth\":0,\"ticks\":\"\"},\"type\":\"mesh3d\"}],\"parcoords\":[{\"line\":{\"colorbar\":{\"outlinewidth\":0,\"ticks\":\"\"}},\"type\":\"parcoords\"}],\"pie\":[{\"automargin\":true,\"type\":\"pie\"}],\"scatter3d\":[{\"line\":{\"colorbar\":{\"outlinewidth\":0,\"ticks\":\"\"}},\"marker\":{\"colorbar\":{\"outlinewidth\":0,\"ticks\":\"\"}},\"type\":\"scatter3d\"}],\"scattercarpet\":[{\"marker\":{\"colorbar\":{\"outlinewidth\":0,\"ticks\":\"\"}},\"type\":\"scattercarpet\"}],\"scattergeo\":[{\"marker\":{\"colorbar\":{\"outlinewidth\":0,\"ticks\":\"\"}},\"type\":\"scattergeo\"}],\"scattergl\":[{\"marker\":{\"colorbar\":{\"outlinewidth\":0,\"ticks\":\"\"}},\"type\":\"scattergl\"}],\"scattermapbox\":[{\"marker\":{\"colorbar\":{\"outlinewidth\":0,\"ticks\":\"\"}},\"type\":\"scattermapbox\"}],\"scatterpolargl\":[{\"marker\":{\"colorbar\":{\"outlinewidth\":0,\"ticks\":\"\"}},\"type\":\"scatterpolargl\"}],\"scatterpolar\":[{\"marker\":{\"colorbar\":{\"outlinewidth\":0,\"ticks\":\"\"}},\"type\":\"scatterpolar\"}],\"scatter\":[{\"fillpattern\":{\"fillmode\":\"overlay\",\"size\":10,\"solidity\":0.2},\"type\":\"scatter\"}],\"scatterternary\":[{\"marker\":{\"colorbar\":{\"outlinewidth\":0,\"ticks\":\"\"}},\"type\":\"scatterternary\"}],\"surface\":[{\"colorbar\":{\"outlinewidth\":0,\"ticks\":\"\"},\"colorscale\":[[0.0,\"#0d0887\"],[0.1111111111111111,\"#46039f\"],[0.2222222222222222,\"#7201a8\"],[0.3333333333333333,\"#9c179e\"],[0.4444444444444444,\"#bd3786\"],[0.5555555555555556,\"#d8576b\"],[0.6666666666666666,\"#ed7953\"],[0.7777777777777778,\"#fb9f3a\"],[0.8888888888888888,\"#fdca26\"],[1.0,\"#f0f921\"]],\"type\":\"surface\"}],\"table\":[{\"cells\":{\"fill\":{\"color\":\"#EBF0F8\"},\"line\":{\"color\":\"white\"}},\"header\":{\"fill\":{\"color\":\"#C8D4E3\"},\"line\":{\"color\":\"white\"}},\"type\":\"table\"}]},\"layout\":{\"annotationdefaults\":{\"arrowcolor\":\"#2a3f5f\",\"arrowhead\":0,\"arrowwidth\":1},\"autotypenumbers\":\"strict\",\"coloraxis\":{\"colorbar\":{\"outlinewidth\":0,\"ticks\":\"\"}},\"colorscale\":{\"diverging\":[[0,\"#8e0152\"],[0.1,\"#c51b7d\"],[0.2,\"#de77ae\"],[0.3,\"#f1b6da\"],[0.4,\"#fde0ef\"],[0.5,\"#f7f7f7\"],[0.6,\"#e6f5d0\"],[0.7,\"#b8e186\"],[0.8,\"#7fbc41\"],[0.9,\"#4d9221\"],[1,\"#276419\"]],\"sequential\":[[0.0,\"#0d0887\"],[0.1111111111111111,\"#46039f\"],[0.2222222222222222,\"#7201a8\"],[0.3333333333333333,\"#9c179e\"],[0.4444444444444444,\"#bd3786\"],[0.5555555555555556,\"#d8576b\"],[0.6666666666666666,\"#ed7953\"],[0.7777777777777778,\"#fb9f3a\"],[0.8888888888888888,\"#fdca26\"],[1.0,\"#f0f921\"]],\"sequentialminus\":[[0.0,\"#0d0887\"],[0.1111111111111111,\"#46039f\"],[0.2222222222222222,\"#7201a8\"],[0.3333333333333333,\"#9c179e\"],[0.4444444444444444,\"#bd3786\"],[0.5555555555555556,\"#d8576b\"],[0.6666666666666666,\"#ed7953\"],[0.7777777777777778,\"#fb9f3a\"],[0.8888888888888888,\"#fdca26\"],[1.0,\"#f0f921\"]]},\"colorway\":[\"#636efa\",\"#EF553B\",\"#00cc96\",\"#ab63fa\",\"#FFA15A\",\"#19d3f3\",\"#FF6692\",\"#B6E880\",\"#FF97FF\",\"#FECB52\"],\"font\":{\"color\":\"#2a3f5f\"},\"geo\":{\"bgcolor\":\"white\",\"lakecolor\":\"white\",\"landcolor\":\"#E5ECF6\",\"showlakes\":true,\"showland\":true,\"subunitcolor\":\"white\"},\"hoverlabel\":{\"align\":\"left\"},\"hovermode\":\"closest\",\"mapbox\":{\"style\":\"light\"},\"paper_bgcolor\":\"white\",\"plot_bgcolor\":\"#E5ECF6\",\"polar\":{\"angularaxis\":{\"gridcolor\":\"white\",\"linecolor\":\"white\",\"ticks\":\"\"},\"bgcolor\":\"#E5ECF6\",\"radialaxis\":{\"gridcolor\":\"white\",\"linecolor\":\"white\",\"ticks\":\"\"}},\"scene\":{\"xaxis\":{\"backgroundcolor\":\"#E5ECF6\",\"gridcolor\":\"white\",\"gridwidth\":2,\"linecolor\":\"white\",\"showbackground\":true,\"ticks\":\"\",\"zerolinecolor\":\"white\"},\"yaxis\":{\"backgroundcolor\":\"#E5ECF6\",\"gridcolor\":\"white\",\"gridwidth\":2,\"linecolor\":\"white\",\"showbackground\":true,\"ticks\":\"\",\"zerolinecolor\":\"white\"},\"zaxis\":{\"backgroundcolor\":\"#E5ECF6\",\"gridcolor\":\"white\",\"gridwidth\":2,\"linecolor\":\"white\",\"showbackground\":true,\"ticks\":\"\",\"zerolinecolor\":\"white\"}},\"shapedefaults\":{\"line\":{\"color\":\"#2a3f5f\"}},\"ternary\":{\"aaxis\":{\"gridcolor\":\"white\",\"linecolor\":\"white\",\"ticks\":\"\"},\"baxis\":{\"gridcolor\":\"white\",\"linecolor\":\"white\",\"ticks\":\"\"},\"bgcolor\":\"#E5ECF6\",\"caxis\":{\"gridcolor\":\"white\",\"linecolor\":\"white\",\"ticks\":\"\"}},\"title\":{\"x\":0.05},\"xaxis\":{\"automargin\":true,\"gridcolor\":\"white\",\"linecolor\":\"white\",\"ticks\":\"\",\"title\":{\"standoff\":15},\"zerolinecolor\":\"white\",\"zerolinewidth\":2},\"yaxis\":{\"automargin\":true,\"gridcolor\":\"white\",\"linecolor\":\"white\",\"ticks\":\"\",\"title\":{\"standoff\":15},\"zerolinecolor\":\"white\",\"zerolinewidth\":2}}},\"title\":{\"font\":{\"color\":\"#4D5663\"}},\"xaxis\":{\"gridcolor\":\"#E1E5ED\",\"showgrid\":true,\"tickfont\":{\"color\":\"#4D5663\"},\"title\":{\"font\":{\"color\":\"#4D5663\"},\"text\":\"\"},\"zerolinecolor\":\"#E1E5ED\"},\"yaxis\":{\"gridcolor\":\"#E1E5ED\",\"showgrid\":true,\"tickfont\":{\"color\":\"#4D5663\"},\"title\":{\"font\":{\"color\":\"#4D5663\"},\"text\":\"\"},\"zerolinecolor\":\"#E1E5ED\"}},                        {\"showLink\": true, \"linkText\": \"Export to plot.ly\", \"plotlyServerURL\": \"https://plot.ly\", \"responsive\": true}                    ).then(function(){\n",
       "                            \n",
       "var gd = document.getElementById('910e75a7-fb4f-4e3a-b126-368ea40d8416');\n",
       "var x = new MutationObserver(function (mutations, observer) {{\n",
       "        var display = window.getComputedStyle(gd).display;\n",
       "        if (!display || display === 'none') {{\n",
       "            console.log([gd, 'removed!']);\n",
       "            Plotly.purge(gd);\n",
       "            observer.disconnect();\n",
       "        }}\n",
       "}});\n",
       "\n",
       "// Listen for the removal of the full notebook cells\n",
       "var notebookContainer = gd.closest('#notebook-container');\n",
       "if (notebookContainer) {{\n",
       "    x.observe(notebookContainer, {childList: true});\n",
       "}}\n",
       "\n",
       "// Listen for the clearing of the current output cell\n",
       "var outputEl = gd.closest('.output');\n",
       "if (outputEl) {{\n",
       "    x.observe(outputEl, {childList: true});\n",
       "}}\n",
       "\n",
       "                        })                };                });            </script>        </div>"
      ]
     },
     "metadata": {},
     "output_type": "display_data"
    }
   ],
   "source": [
    "df.sum().iplot(kind='bar')"
   ]
  },
  {
   "cell_type": "code",
   "execution_count": 28,
   "id": "f7828847",
   "metadata": {},
   "outputs": [
    {
     "data": {
      "application/vnd.plotly.v1+json": {
       "config": {
        "linkText": "Export to plot.ly",
        "plotlyServerURL": "https://plot.ly",
        "showLink": true
       },
       "data": [
        {
         "boxpoints": false,
         "line": {
          "width": 1.3
         },
         "marker": {
          "color": "rgba(255, 153, 51, 1.0)"
         },
         "name": "A",
         "orientation": "v",
         "type": "box",
         "y": [
          -1.4939770193839113,
          0.14667142183123638,
          -0.1689240577557097,
          -2.5641137671536414,
          -1.5656121600558734,
          -1.2167004550556926,
          -0.5027845423972647,
          -0.19736293137528313,
          -0.4202320935653999,
          -0.6080146837161412,
          -1.230234537785847,
          -0.834544271094505,
          -0.7525609946685502,
          0.5523681023146403,
          0.3229589353270958,
          -0.997243590029998,
          1.6663098194289763,
          0.0877021878991175,
          -0.6060662026850341,
          -0.29003690869874343,
          0.8703676454073761,
          -0.3396656057424267,
          -0.6110092567412334,
          0.1472139397558027,
          -0.6994199594869444,
          -0.6158638170930033,
          0.6156004196442771,
          -0.33322696721037726,
          0.6696539231968791,
          -0.33925674088411095,
          0.8509919769727514,
          0.9645731195640609,
          2.427305453475825,
          0.976392584761381,
          1.7805857148536182,
          -0.6989982312628092,
          0.9057176562148805,
          0.41450153571613857,
          -1.6659821355531175,
          -1.105415801135921,
          -0.62185838308645,
          0.26305694720859163,
          -1.230184259105579,
          0.32487346783814625,
          -0.37518768510514555,
          -0.22521033590958614,
          -1.259372996663426,
          1.5609125053294142,
          -0.9177503491967661,
          -0.9235315213198988,
          1.1577654753378852,
          -1.6401526659124528,
          -1.0315814928703455,
          -0.17240986524184343,
          -1.6356154035797161,
          0.46896934471230545,
          0.7402280597029676,
          0.643571936309595,
          0.9789590030816315,
          0.4323966143449856,
          0.24984758212242894,
          0.05696615292061845,
          -0.22292926821963566,
          -1.5621053325723102,
          1.030043388900891,
          -2.1995026016841543,
          -0.9890315345511191,
          1.0610392086975546,
          -0.23948857174764943,
          -0.7085900231874463,
          1.6112436502127536,
          -0.068776323064688,
          -0.8630943776533021,
          0.21452073139849748,
          -0.6856857035422566,
          0.1604062806895764,
          -1.098694902114377,
          -0.004486955967236525,
          0.41358080038338224,
          -1.1308639855228306,
          1.3416129442187854,
          -1.1604840579000024,
          0.7859899459979105,
          -0.5378788796193937,
          -0.7823692774339261,
          -1.2475717135229125,
          -0.027819608867832593,
          -1.887835449605791,
          0.9312913941371009,
          -0.6762071639586086,
          -0.7166774860693382,
          1.3317430206692487,
          -0.5679228874173067,
          -0.9745452514729301,
          0.11099751388451033,
          1.4746054242805158,
          0.22633225768022122,
          -1.073948519445465,
          1.3499284499026483,
          -0.36978755761701826
         ]
        },
        {
         "boxpoints": false,
         "line": {
          "width": 1.3
         },
         "marker": {
          "color": "rgba(55, 128, 191, 1.0)"
         },
         "name": "B",
         "orientation": "v",
         "type": "box",
         "y": [
          -0.17932594922892936,
          -1.2334150241168818,
          0.3491829430803454,
          0.22140507174626994,
          -0.4311921325864654,
          0.2728526806525845,
          -0.14671619073051312,
          -0.8361711948295325,
          -2.0525996827183524,
          1.2238954636242012,
          0.16748171442020826,
          0.9742348415959232,
          -1.459462066979266,
          0.560522495645634,
          0.22594078882224689,
          0.9936125565222024,
          2.0378905674033154,
          -0.15589591029106117,
          -1.037914776778365,
          0.5972560045854091,
          1.5396143307194154,
          -0.633578357203016,
          1.4549286148744829,
          -0.7602467680969238,
          1.4818952741568785,
          -0.35542676894068576,
          -0.1672124933215106,
          -0.4686208341591621,
          -0.6596271840718666,
          -0.7021120601503211,
          -0.4030312229739508,
          -2.4891767827615854,
          1.8067985741691368,
          0.3642482006924113,
          0.4633123311347458,
          -0.28776563158624496,
          -0.039824002265676645,
          0.3394186664968411,
          0.264005519683204,
          0.1997684212563469,
          -1.5972630604729419,
          -0.013363487980902096,
          0.628306211667071,
          0.014837486688604832,
          1.7299977564779727,
          0.8424498055863454,
          1.592948338505741,
          0.1908669085436572,
          2.7651347652023914,
          -0.052526911488933854,
          -1.3262825475191269,
          -0.7291649507936764,
          1.2249018261233362,
          0.6129613428385257,
          0.33058371496375294,
          0.4578414828592958,
          0.30186994670170814,
          0.23016785504505452,
          -0.8362591785189375,
          -0.19513012931737245,
          -0.9467488889374831,
          -0.020796939278777533,
          -0.7662354218695511,
          -0.5591934120199998,
          1.5520463274111282,
          -1.054375281258254,
          0.06319501059080465,
          0.14793864881395666,
          -0.8352938765626658,
          0.327098277975738,
          -0.5179048631445157,
          -1.1677399803679211,
          0.31009378584304187,
          -1.2490679086498058,
          -0.4379990922558729,
          -0.9952159930252686,
          -0.2966223603061448,
          -1.2253946012973123,
          0.9035519742314471,
          -0.7487703835990225,
          0.5675216231819916,
          0.2756900234536723,
          0.18778109097989296,
          0.9879978844923218,
          0.7132407851991432,
          -1.1426759234117327,
          0.603840652919978,
          -2.1987237127928667,
          -0.22001923010514926,
          -0.8474271266004348,
          -0.6214670988523815,
          -2.59231971595352,
          1.3278421248432764,
          0.11190383360680248,
          0.9314195828328372,
          0.718216542817618,
          -0.42075368128977786,
          -0.6554575354437634,
          -0.626953050550036,
          1.1939125486493873
         ]
        },
        {
         "boxpoints": false,
         "line": {
          "width": 1.3
         },
         "marker": {
          "color": "rgba(50, 171, 96, 1.0)"
         },
         "name": "c",
         "orientation": "v",
         "type": "box",
         "y": [
          -1.3974399942298057,
          -1.2594475130421092,
          -0.5129099965513799,
          -1.4635316868003996,
          -0.036594916594382645,
          0.8386515146746838,
          1.1449293042599211,
          0.5025000377864617,
          -0.03716455206183781,
          1.3146641483878034,
          -2.278234077012857,
          1.0493201039900817,
          0.9803003093927106,
          -0.04880041287019022,
          0.19162835145411555,
          -0.7258437735625,
          -0.31344990276621376,
          0.6567052337724818,
          -0.3992004044020901,
          -1.460690954366173,
          1.143373627402732,
          1.426192951102635,
          -0.44971745884800807,
          0.8236730162851648,
          -0.2810409444957771,
          -1.2016804827635277,
          1.2306390281165533,
          -0.5552008293174706,
          -0.19337377840200753,
          0.8820068034767569,
          0.5273737977529509,
          1.569147278154652,
          0.9838124218074721,
          1.6560098562132635,
          0.635596970751312,
          -1.398243184093543,
          -0.2401893957907707,
          0.6583272757948146,
          0.2634210013276405,
          -0.07884437719855053,
          -2.1010630279519575,
          0.4046073689406953,
          -0.1978026749088829,
          0.3544669122529623,
          0.8676986036454316,
          -0.3381222914735889,
          0.6685169959977112,
          -1.8268978374432823,
          -1.3531072803819177,
          -0.552508690848112,
          -0.14498776539996722,
          0.5030044542437652,
          -0.17735530133869318,
          -0.08897184011598393,
          1.9664871533579928,
          -0.590160907020762,
          0.544437555568912,
          -0.7628199761660305,
          -0.37365608934370254,
          0.8149568189856771,
          1.4249776804923213,
          -1.7093514022201677,
          1.238908174942366,
          -1.71718557854535,
          -0.05147722651968288,
          0.8287930073555166,
          -0.8737659291251622,
          -0.9480135637863218,
          -1.1003475380444532,
          0.7457965183238748,
          0.6380570744905988,
          -0.3894208135806658,
          -0.6642137606994339,
          -1.140912977389208,
          1.0865520411835587,
          -1.2275379540163869,
          0.8242411648000758,
          0.12982334611742288,
          -1.5737224631153774,
          0.44117268893298894,
          1.0316925517073288,
          0.15956785954936245,
          1.179708144879079,
          -0.5728210381568386,
          1.0299163011895074,
          0.3908133622373693,
          1.9858908014819538,
          -0.8265475737502567,
          0.663924835481197,
          -0.23147551462621171,
          -1.056044503137501,
          0.31812921564814617,
          0.30028145129488937,
          -0.9816911288518367,
          -0.9339562697285321,
          0.3584643733701401,
          1.8651159293907649,
          -1.1035540728245703,
          1.1111769078969433,
          2.0446760759430442
         ]
        },
        {
         "boxpoints": false,
         "line": {
          "width": 1.3
         },
         "marker": {
          "color": "rgba(128, 0, 128, 1.0)"
         },
         "name": "D",
         "orientation": "v",
         "type": "box",
         "y": [
          0.7120048034929688,
          0.037571924176700806,
          1.863948112983124,
          -0.8556664182979131,
          -0.22261837615277336,
          0.41350449670492756,
          1.6203319543114292,
          -0.2922523733494632,
          -1.7539373666576838,
          0.9895320045429775,
          0.6318448981936109,
          -2.221576685925559,
          -0.12057006100410533,
          -0.05776636496414596,
          -0.5503220465509001,
          0.6545978632840582,
          -1.108061140375195,
          0.07774686112593811,
          1.229150370974735,
          -0.9598138995070781,
          0.2553171944844485,
          -0.5312106448067048,
          -1.1766260005405362,
          -0.0089501762525687,
          1.5357305984753062,
          0.7354671313986141,
          -0.8110184683542013,
          1.082732376664796,
          -0.8934927035933473,
          -1.016646011537697,
          -1.2860201170696968,
          0.004796454433750215,
          -1.8649249921030508,
          0.19547129650750394,
          -0.7254502544000017,
          -1.6445739312624716,
          -0.614241250384773,
          0.947651845351561,
          -1.1829359088163829,
          -1.384355202952411,
          0.11011242718255053,
          1.197455158046334,
          -0.42809558047270085,
          -0.9757842847717417,
          0.885172144164018,
          1.1923405037845802,
          -0.9919277073072876,
          -1.317679831294402,
          -1.3245404587186131,
          0.6506861115846233,
          -0.3609133291001237,
          0.6723962599973358,
          0.34651672208847856,
          1.8591750211248126,
          -1.3852200101858028,
          -0.27685358822990774,
          0.6335764261578918,
          -2.539314836996711,
          -1.510787315277079,
          -0.11055856979500045,
          -0.491375805495196,
          -1.0192197784726929,
          2.086455864161741,
          -0.5172615980217126,
          0.8206242370564809,
          0.9858645709405398,
          1.2762610290410306,
          0.10713476342941546,
          -1.8186277461605582,
          0.6769012046049316,
          0.01366795538713723,
          -0.8986405789162267,
          0.07231285425140163,
          -0.563039626463328,
          0.03487686615991759,
          -0.8182175173066304,
          -2.035545744474048,
          0.09189039328921121,
          -1.5303055946275959,
          -1.5055761685861304,
          0.28164563964491446,
          1.0157880022485497,
          0.8905634100993131,
          -0.26830036034539123,
          0.028666062007271165,
          0.36553025568632413,
          -0.946426411782622,
          0.6027942740326115,
          0.4934687406555518,
          -0.28555189970477807,
          -0.3729824060325359,
          0.5212299692379051,
          -0.33814790277305373,
          0.44248336172215885,
          -0.26115706117549087,
          -0.5807234130298736,
          0.24323436038576762,
          0.4293091582265946,
          -0.8297263173896147,
          -1.3550401158358816
         ]
        }
       ],
       "layout": {
        "legend": {
         "bgcolor": "#F5F6F9",
         "font": {
          "color": "#4D5663"
         }
        },
        "paper_bgcolor": "#F5F6F9",
        "plot_bgcolor": "#F5F6F9",
        "template": {
         "data": {
          "bar": [
           {
            "error_x": {
             "color": "#2a3f5f"
            },
            "error_y": {
             "color": "#2a3f5f"
            },
            "marker": {
             "line": {
              "color": "#E5ECF6",
              "width": 0.5
             },
             "pattern": {
              "fillmode": "overlay",
              "size": 10,
              "solidity": 0.2
             }
            },
            "type": "bar"
           }
          ],
          "barpolar": [
           {
            "marker": {
             "line": {
              "color": "#E5ECF6",
              "width": 0.5
             },
             "pattern": {
              "fillmode": "overlay",
              "size": 10,
              "solidity": 0.2
             }
            },
            "type": "barpolar"
           }
          ],
          "carpet": [
           {
            "aaxis": {
             "endlinecolor": "#2a3f5f",
             "gridcolor": "white",
             "linecolor": "white",
             "minorgridcolor": "white",
             "startlinecolor": "#2a3f5f"
            },
            "baxis": {
             "endlinecolor": "#2a3f5f",
             "gridcolor": "white",
             "linecolor": "white",
             "minorgridcolor": "white",
             "startlinecolor": "#2a3f5f"
            },
            "type": "carpet"
           }
          ],
          "choropleth": [
           {
            "colorbar": {
             "outlinewidth": 0,
             "ticks": ""
            },
            "type": "choropleth"
           }
          ],
          "contour": [
           {
            "colorbar": {
             "outlinewidth": 0,
             "ticks": ""
            },
            "colorscale": [
             [
              0,
              "#0d0887"
             ],
             [
              0.1111111111111111,
              "#46039f"
             ],
             [
              0.2222222222222222,
              "#7201a8"
             ],
             [
              0.3333333333333333,
              "#9c179e"
             ],
             [
              0.4444444444444444,
              "#bd3786"
             ],
             [
              0.5555555555555556,
              "#d8576b"
             ],
             [
              0.6666666666666666,
              "#ed7953"
             ],
             [
              0.7777777777777778,
              "#fb9f3a"
             ],
             [
              0.8888888888888888,
              "#fdca26"
             ],
             [
              1,
              "#f0f921"
             ]
            ],
            "type": "contour"
           }
          ],
          "contourcarpet": [
           {
            "colorbar": {
             "outlinewidth": 0,
             "ticks": ""
            },
            "type": "contourcarpet"
           }
          ],
          "heatmap": [
           {
            "colorbar": {
             "outlinewidth": 0,
             "ticks": ""
            },
            "colorscale": [
             [
              0,
              "#0d0887"
             ],
             [
              0.1111111111111111,
              "#46039f"
             ],
             [
              0.2222222222222222,
              "#7201a8"
             ],
             [
              0.3333333333333333,
              "#9c179e"
             ],
             [
              0.4444444444444444,
              "#bd3786"
             ],
             [
              0.5555555555555556,
              "#d8576b"
             ],
             [
              0.6666666666666666,
              "#ed7953"
             ],
             [
              0.7777777777777778,
              "#fb9f3a"
             ],
             [
              0.8888888888888888,
              "#fdca26"
             ],
             [
              1,
              "#f0f921"
             ]
            ],
            "type": "heatmap"
           }
          ],
          "heatmapgl": [
           {
            "colorbar": {
             "outlinewidth": 0,
             "ticks": ""
            },
            "colorscale": [
             [
              0,
              "#0d0887"
             ],
             [
              0.1111111111111111,
              "#46039f"
             ],
             [
              0.2222222222222222,
              "#7201a8"
             ],
             [
              0.3333333333333333,
              "#9c179e"
             ],
             [
              0.4444444444444444,
              "#bd3786"
             ],
             [
              0.5555555555555556,
              "#d8576b"
             ],
             [
              0.6666666666666666,
              "#ed7953"
             ],
             [
              0.7777777777777778,
              "#fb9f3a"
             ],
             [
              0.8888888888888888,
              "#fdca26"
             ],
             [
              1,
              "#f0f921"
             ]
            ],
            "type": "heatmapgl"
           }
          ],
          "histogram": [
           {
            "marker": {
             "pattern": {
              "fillmode": "overlay",
              "size": 10,
              "solidity": 0.2
             }
            },
            "type": "histogram"
           }
          ],
          "histogram2d": [
           {
            "colorbar": {
             "outlinewidth": 0,
             "ticks": ""
            },
            "colorscale": [
             [
              0,
              "#0d0887"
             ],
             [
              0.1111111111111111,
              "#46039f"
             ],
             [
              0.2222222222222222,
              "#7201a8"
             ],
             [
              0.3333333333333333,
              "#9c179e"
             ],
             [
              0.4444444444444444,
              "#bd3786"
             ],
             [
              0.5555555555555556,
              "#d8576b"
             ],
             [
              0.6666666666666666,
              "#ed7953"
             ],
             [
              0.7777777777777778,
              "#fb9f3a"
             ],
             [
              0.8888888888888888,
              "#fdca26"
             ],
             [
              1,
              "#f0f921"
             ]
            ],
            "type": "histogram2d"
           }
          ],
          "histogram2dcontour": [
           {
            "colorbar": {
             "outlinewidth": 0,
             "ticks": ""
            },
            "colorscale": [
             [
              0,
              "#0d0887"
             ],
             [
              0.1111111111111111,
              "#46039f"
             ],
             [
              0.2222222222222222,
              "#7201a8"
             ],
             [
              0.3333333333333333,
              "#9c179e"
             ],
             [
              0.4444444444444444,
              "#bd3786"
             ],
             [
              0.5555555555555556,
              "#d8576b"
             ],
             [
              0.6666666666666666,
              "#ed7953"
             ],
             [
              0.7777777777777778,
              "#fb9f3a"
             ],
             [
              0.8888888888888888,
              "#fdca26"
             ],
             [
              1,
              "#f0f921"
             ]
            ],
            "type": "histogram2dcontour"
           }
          ],
          "mesh3d": [
           {
            "colorbar": {
             "outlinewidth": 0,
             "ticks": ""
            },
            "type": "mesh3d"
           }
          ],
          "parcoords": [
           {
            "line": {
             "colorbar": {
              "outlinewidth": 0,
              "ticks": ""
             }
            },
            "type": "parcoords"
           }
          ],
          "pie": [
           {
            "automargin": true,
            "type": "pie"
           }
          ],
          "scatter": [
           {
            "fillpattern": {
             "fillmode": "overlay",
             "size": 10,
             "solidity": 0.2
            },
            "type": "scatter"
           }
          ],
          "scatter3d": [
           {
            "line": {
             "colorbar": {
              "outlinewidth": 0,
              "ticks": ""
             }
            },
            "marker": {
             "colorbar": {
              "outlinewidth": 0,
              "ticks": ""
             }
            },
            "type": "scatter3d"
           }
          ],
          "scattercarpet": [
           {
            "marker": {
             "colorbar": {
              "outlinewidth": 0,
              "ticks": ""
             }
            },
            "type": "scattercarpet"
           }
          ],
          "scattergeo": [
           {
            "marker": {
             "colorbar": {
              "outlinewidth": 0,
              "ticks": ""
             }
            },
            "type": "scattergeo"
           }
          ],
          "scattergl": [
           {
            "marker": {
             "colorbar": {
              "outlinewidth": 0,
              "ticks": ""
             }
            },
            "type": "scattergl"
           }
          ],
          "scattermapbox": [
           {
            "marker": {
             "colorbar": {
              "outlinewidth": 0,
              "ticks": ""
             }
            },
            "type": "scattermapbox"
           }
          ],
          "scatterpolar": [
           {
            "marker": {
             "colorbar": {
              "outlinewidth": 0,
              "ticks": ""
             }
            },
            "type": "scatterpolar"
           }
          ],
          "scatterpolargl": [
           {
            "marker": {
             "colorbar": {
              "outlinewidth": 0,
              "ticks": ""
             }
            },
            "type": "scatterpolargl"
           }
          ],
          "scatterternary": [
           {
            "marker": {
             "colorbar": {
              "outlinewidth": 0,
              "ticks": ""
             }
            },
            "type": "scatterternary"
           }
          ],
          "surface": [
           {
            "colorbar": {
             "outlinewidth": 0,
             "ticks": ""
            },
            "colorscale": [
             [
              0,
              "#0d0887"
             ],
             [
              0.1111111111111111,
              "#46039f"
             ],
             [
              0.2222222222222222,
              "#7201a8"
             ],
             [
              0.3333333333333333,
              "#9c179e"
             ],
             [
              0.4444444444444444,
              "#bd3786"
             ],
             [
              0.5555555555555556,
              "#d8576b"
             ],
             [
              0.6666666666666666,
              "#ed7953"
             ],
             [
              0.7777777777777778,
              "#fb9f3a"
             ],
             [
              0.8888888888888888,
              "#fdca26"
             ],
             [
              1,
              "#f0f921"
             ]
            ],
            "type": "surface"
           }
          ],
          "table": [
           {
            "cells": {
             "fill": {
              "color": "#EBF0F8"
             },
             "line": {
              "color": "white"
             }
            },
            "header": {
             "fill": {
              "color": "#C8D4E3"
             },
             "line": {
              "color": "white"
             }
            },
            "type": "table"
           }
          ]
         },
         "layout": {
          "annotationdefaults": {
           "arrowcolor": "#2a3f5f",
           "arrowhead": 0,
           "arrowwidth": 1
          },
          "autotypenumbers": "strict",
          "coloraxis": {
           "colorbar": {
            "outlinewidth": 0,
            "ticks": ""
           }
          },
          "colorscale": {
           "diverging": [
            [
             0,
             "#8e0152"
            ],
            [
             0.1,
             "#c51b7d"
            ],
            [
             0.2,
             "#de77ae"
            ],
            [
             0.3,
             "#f1b6da"
            ],
            [
             0.4,
             "#fde0ef"
            ],
            [
             0.5,
             "#f7f7f7"
            ],
            [
             0.6,
             "#e6f5d0"
            ],
            [
             0.7,
             "#b8e186"
            ],
            [
             0.8,
             "#7fbc41"
            ],
            [
             0.9,
             "#4d9221"
            ],
            [
             1,
             "#276419"
            ]
           ],
           "sequential": [
            [
             0,
             "#0d0887"
            ],
            [
             0.1111111111111111,
             "#46039f"
            ],
            [
             0.2222222222222222,
             "#7201a8"
            ],
            [
             0.3333333333333333,
             "#9c179e"
            ],
            [
             0.4444444444444444,
             "#bd3786"
            ],
            [
             0.5555555555555556,
             "#d8576b"
            ],
            [
             0.6666666666666666,
             "#ed7953"
            ],
            [
             0.7777777777777778,
             "#fb9f3a"
            ],
            [
             0.8888888888888888,
             "#fdca26"
            ],
            [
             1,
             "#f0f921"
            ]
           ],
           "sequentialminus": [
            [
             0,
             "#0d0887"
            ],
            [
             0.1111111111111111,
             "#46039f"
            ],
            [
             0.2222222222222222,
             "#7201a8"
            ],
            [
             0.3333333333333333,
             "#9c179e"
            ],
            [
             0.4444444444444444,
             "#bd3786"
            ],
            [
             0.5555555555555556,
             "#d8576b"
            ],
            [
             0.6666666666666666,
             "#ed7953"
            ],
            [
             0.7777777777777778,
             "#fb9f3a"
            ],
            [
             0.8888888888888888,
             "#fdca26"
            ],
            [
             1,
             "#f0f921"
            ]
           ]
          },
          "colorway": [
           "#636efa",
           "#EF553B",
           "#00cc96",
           "#ab63fa",
           "#FFA15A",
           "#19d3f3",
           "#FF6692",
           "#B6E880",
           "#FF97FF",
           "#FECB52"
          ],
          "font": {
           "color": "#2a3f5f"
          },
          "geo": {
           "bgcolor": "white",
           "lakecolor": "white",
           "landcolor": "#E5ECF6",
           "showlakes": true,
           "showland": true,
           "subunitcolor": "white"
          },
          "hoverlabel": {
           "align": "left"
          },
          "hovermode": "closest",
          "mapbox": {
           "style": "light"
          },
          "paper_bgcolor": "white",
          "plot_bgcolor": "#E5ECF6",
          "polar": {
           "angularaxis": {
            "gridcolor": "white",
            "linecolor": "white",
            "ticks": ""
           },
           "bgcolor": "#E5ECF6",
           "radialaxis": {
            "gridcolor": "white",
            "linecolor": "white",
            "ticks": ""
           }
          },
          "scene": {
           "xaxis": {
            "backgroundcolor": "#E5ECF6",
            "gridcolor": "white",
            "gridwidth": 2,
            "linecolor": "white",
            "showbackground": true,
            "ticks": "",
            "zerolinecolor": "white"
           },
           "yaxis": {
            "backgroundcolor": "#E5ECF6",
            "gridcolor": "white",
            "gridwidth": 2,
            "linecolor": "white",
            "showbackground": true,
            "ticks": "",
            "zerolinecolor": "white"
           },
           "zaxis": {
            "backgroundcolor": "#E5ECF6",
            "gridcolor": "white",
            "gridwidth": 2,
            "linecolor": "white",
            "showbackground": true,
            "ticks": "",
            "zerolinecolor": "white"
           }
          },
          "shapedefaults": {
           "line": {
            "color": "#2a3f5f"
           }
          },
          "ternary": {
           "aaxis": {
            "gridcolor": "white",
            "linecolor": "white",
            "ticks": ""
           },
           "baxis": {
            "gridcolor": "white",
            "linecolor": "white",
            "ticks": ""
           },
           "bgcolor": "#E5ECF6",
           "caxis": {
            "gridcolor": "white",
            "linecolor": "white",
            "ticks": ""
           }
          },
          "title": {
           "x": 0.05
          },
          "xaxis": {
           "automargin": true,
           "gridcolor": "white",
           "linecolor": "white",
           "ticks": "",
           "title": {
            "standoff": 15
           },
           "zerolinecolor": "white",
           "zerolinewidth": 2
          },
          "yaxis": {
           "automargin": true,
           "gridcolor": "white",
           "linecolor": "white",
           "ticks": "",
           "title": {
            "standoff": 15
           },
           "zerolinecolor": "white",
           "zerolinewidth": 2
          }
         }
        },
        "title": {
         "font": {
          "color": "#4D5663"
         }
        },
        "xaxis": {
         "gridcolor": "#E1E5ED",
         "showgrid": true,
         "tickfont": {
          "color": "#4D5663"
         },
         "title": {
          "font": {
           "color": "#4D5663"
          },
          "text": ""
         },
         "zerolinecolor": "#E1E5ED"
        },
        "yaxis": {
         "gridcolor": "#E1E5ED",
         "showgrid": true,
         "tickfont": {
          "color": "#4D5663"
         },
         "title": {
          "font": {
           "color": "#4D5663"
          },
          "text": ""
         },
         "zerolinecolor": "#E1E5ED"
        }
       }
      },
      "text/html": [
       "<div>                            <div id=\"073783fd-2639-4274-94a9-86234d4f75c6\" class=\"plotly-graph-div\" style=\"height:525px; width:100%;\"></div>            <script type=\"text/javascript\">                require([\"plotly\"], function(Plotly) {                    window.PLOTLYENV=window.PLOTLYENV || {};\n",
       "                    window.PLOTLYENV.BASE_URL='https://plot.ly';                                    if (document.getElementById(\"073783fd-2639-4274-94a9-86234d4f75c6\")) {                    Plotly.newPlot(                        \"073783fd-2639-4274-94a9-86234d4f75c6\",                        [{\"boxpoints\":false,\"line\":{\"width\":1.3},\"marker\":{\"color\":\"rgba(255, 153, 51, 1.0)\"},\"name\":\"A\",\"orientation\":\"v\",\"y\":[-1.4939770193839113,0.14667142183123638,-0.1689240577557097,-2.5641137671536414,-1.5656121600558734,-1.2167004550556926,-0.5027845423972647,-0.19736293137528313,-0.4202320935653999,-0.6080146837161412,-1.230234537785847,-0.834544271094505,-0.7525609946685502,0.5523681023146403,0.3229589353270958,-0.997243590029998,1.6663098194289763,0.0877021878991175,-0.6060662026850341,-0.29003690869874343,0.8703676454073761,-0.3396656057424267,-0.6110092567412334,0.1472139397558027,-0.6994199594869444,-0.6158638170930033,0.6156004196442771,-0.33322696721037726,0.6696539231968791,-0.33925674088411095,0.8509919769727514,0.9645731195640609,2.427305453475825,0.976392584761381,1.7805857148536182,-0.6989982312628092,0.9057176562148805,0.41450153571613857,-1.6659821355531175,-1.105415801135921,-0.62185838308645,0.26305694720859163,-1.230184259105579,0.32487346783814625,-0.37518768510514555,-0.22521033590958614,-1.259372996663426,1.5609125053294142,-0.9177503491967661,-0.9235315213198988,1.1577654753378852,-1.6401526659124528,-1.0315814928703455,-0.17240986524184343,-1.6356154035797161,0.46896934471230545,0.7402280597029676,0.643571936309595,0.9789590030816315,0.4323966143449856,0.24984758212242894,0.05696615292061845,-0.22292926821963566,-1.5621053325723102,1.030043388900891,-2.1995026016841543,-0.9890315345511191,1.0610392086975546,-0.23948857174764943,-0.7085900231874463,1.6112436502127536,-0.068776323064688,-0.8630943776533021,0.21452073139849748,-0.6856857035422566,0.1604062806895764,-1.098694902114377,-0.004486955967236525,0.41358080038338224,-1.1308639855228306,1.3416129442187854,-1.1604840579000024,0.7859899459979105,-0.5378788796193937,-0.7823692774339261,-1.2475717135229125,-0.027819608867832593,-1.887835449605791,0.9312913941371009,-0.6762071639586086,-0.7166774860693382,1.3317430206692487,-0.5679228874173067,-0.9745452514729301,0.11099751388451033,1.4746054242805158,0.22633225768022122,-1.073948519445465,1.3499284499026483,-0.36978755761701826],\"type\":\"box\"},{\"boxpoints\":false,\"line\":{\"width\":1.3},\"marker\":{\"color\":\"rgba(55, 128, 191, 1.0)\"},\"name\":\"B\",\"orientation\":\"v\",\"y\":[-0.17932594922892936,-1.2334150241168818,0.3491829430803454,0.22140507174626994,-0.4311921325864654,0.2728526806525845,-0.14671619073051312,-0.8361711948295325,-2.0525996827183524,1.2238954636242012,0.16748171442020826,0.9742348415959232,-1.459462066979266,0.560522495645634,0.22594078882224689,0.9936125565222024,2.0378905674033154,-0.15589591029106117,-1.037914776778365,0.5972560045854091,1.5396143307194154,-0.633578357203016,1.4549286148744829,-0.7602467680969238,1.4818952741568785,-0.35542676894068576,-0.1672124933215106,-0.4686208341591621,-0.6596271840718666,-0.7021120601503211,-0.4030312229739508,-2.4891767827615854,1.8067985741691368,0.3642482006924113,0.4633123311347458,-0.28776563158624496,-0.039824002265676645,0.3394186664968411,0.264005519683204,0.1997684212563469,-1.5972630604729419,-0.013363487980902096,0.628306211667071,0.014837486688604832,1.7299977564779727,0.8424498055863454,1.592948338505741,0.1908669085436572,2.7651347652023914,-0.052526911488933854,-1.3262825475191269,-0.7291649507936764,1.2249018261233362,0.6129613428385257,0.33058371496375294,0.4578414828592958,0.30186994670170814,0.23016785504505452,-0.8362591785189375,-0.19513012931737245,-0.9467488889374831,-0.020796939278777533,-0.7662354218695511,-0.5591934120199998,1.5520463274111282,-1.054375281258254,0.06319501059080465,0.14793864881395666,-0.8352938765626658,0.327098277975738,-0.5179048631445157,-1.1677399803679211,0.31009378584304187,-1.2490679086498058,-0.4379990922558729,-0.9952159930252686,-0.2966223603061448,-1.2253946012973123,0.9035519742314471,-0.7487703835990225,0.5675216231819916,0.2756900234536723,0.18778109097989296,0.9879978844923218,0.7132407851991432,-1.1426759234117327,0.603840652919978,-2.1987237127928667,-0.22001923010514926,-0.8474271266004348,-0.6214670988523815,-2.59231971595352,1.3278421248432764,0.11190383360680248,0.9314195828328372,0.718216542817618,-0.42075368128977786,-0.6554575354437634,-0.626953050550036,1.1939125486493873],\"type\":\"box\"},{\"boxpoints\":false,\"line\":{\"width\":1.3},\"marker\":{\"color\":\"rgba(50, 171, 96, 1.0)\"},\"name\":\"c\",\"orientation\":\"v\",\"y\":[-1.3974399942298057,-1.2594475130421092,-0.5129099965513799,-1.4635316868003996,-0.036594916594382645,0.8386515146746838,1.1449293042599211,0.5025000377864617,-0.03716455206183781,1.3146641483878034,-2.278234077012857,1.0493201039900817,0.9803003093927106,-0.04880041287019022,0.19162835145411555,-0.7258437735625,-0.31344990276621376,0.6567052337724818,-0.3992004044020901,-1.460690954366173,1.143373627402732,1.426192951102635,-0.44971745884800807,0.8236730162851648,-0.2810409444957771,-1.2016804827635277,1.2306390281165533,-0.5552008293174706,-0.19337377840200753,0.8820068034767569,0.5273737977529509,1.569147278154652,0.9838124218074721,1.6560098562132635,0.635596970751312,-1.398243184093543,-0.2401893957907707,0.6583272757948146,0.2634210013276405,-0.07884437719855053,-2.1010630279519575,0.4046073689406953,-0.1978026749088829,0.3544669122529623,0.8676986036454316,-0.3381222914735889,0.6685169959977112,-1.8268978374432823,-1.3531072803819177,-0.552508690848112,-0.14498776539996722,0.5030044542437652,-0.17735530133869318,-0.08897184011598393,1.9664871533579928,-0.590160907020762,0.544437555568912,-0.7628199761660305,-0.37365608934370254,0.8149568189856771,1.4249776804923213,-1.7093514022201677,1.238908174942366,-1.71718557854535,-0.05147722651968288,0.8287930073555166,-0.8737659291251622,-0.9480135637863218,-1.1003475380444532,0.7457965183238748,0.6380570744905988,-0.3894208135806658,-0.6642137606994339,-1.140912977389208,1.0865520411835587,-1.2275379540163869,0.8242411648000758,0.12982334611742288,-1.5737224631153774,0.44117268893298894,1.0316925517073288,0.15956785954936245,1.179708144879079,-0.5728210381568386,1.0299163011895074,0.3908133622373693,1.9858908014819538,-0.8265475737502567,0.663924835481197,-0.23147551462621171,-1.056044503137501,0.31812921564814617,0.30028145129488937,-0.9816911288518367,-0.9339562697285321,0.3584643733701401,1.8651159293907649,-1.1035540728245703,1.1111769078969433,2.0446760759430442],\"type\":\"box\"},{\"boxpoints\":false,\"line\":{\"width\":1.3},\"marker\":{\"color\":\"rgba(128, 0, 128, 1.0)\"},\"name\":\"D\",\"orientation\":\"v\",\"y\":[0.7120048034929688,0.037571924176700806,1.863948112983124,-0.8556664182979131,-0.22261837615277336,0.41350449670492756,1.6203319543114292,-0.2922523733494632,-1.7539373666576838,0.9895320045429775,0.6318448981936109,-2.221576685925559,-0.12057006100410533,-0.05776636496414596,-0.5503220465509001,0.6545978632840582,-1.108061140375195,0.07774686112593811,1.229150370974735,-0.9598138995070781,0.2553171944844485,-0.5312106448067048,-1.1766260005405362,-0.0089501762525687,1.5357305984753062,0.7354671313986141,-0.8110184683542013,1.082732376664796,-0.8934927035933473,-1.016646011537697,-1.2860201170696968,0.004796454433750215,-1.8649249921030508,0.19547129650750394,-0.7254502544000017,-1.6445739312624716,-0.614241250384773,0.947651845351561,-1.1829359088163829,-1.384355202952411,0.11011242718255053,1.197455158046334,-0.42809558047270085,-0.9757842847717417,0.885172144164018,1.1923405037845802,-0.9919277073072876,-1.317679831294402,-1.3245404587186131,0.6506861115846233,-0.3609133291001237,0.6723962599973358,0.34651672208847856,1.8591750211248126,-1.3852200101858028,-0.27685358822990774,0.6335764261578918,-2.539314836996711,-1.510787315277079,-0.11055856979500045,-0.491375805495196,-1.0192197784726929,2.086455864161741,-0.5172615980217126,0.8206242370564809,0.9858645709405398,1.2762610290410306,0.10713476342941546,-1.8186277461605582,0.6769012046049316,0.01366795538713723,-0.8986405789162267,0.07231285425140163,-0.563039626463328,0.03487686615991759,-0.8182175173066304,-2.035545744474048,0.09189039328921121,-1.5303055946275959,-1.5055761685861304,0.28164563964491446,1.0157880022485497,0.8905634100993131,-0.26830036034539123,0.028666062007271165,0.36553025568632413,-0.946426411782622,0.6027942740326115,0.4934687406555518,-0.28555189970477807,-0.3729824060325359,0.5212299692379051,-0.33814790277305373,0.44248336172215885,-0.26115706117549087,-0.5807234130298736,0.24323436038576762,0.4293091582265946,-0.8297263173896147,-1.3550401158358816],\"type\":\"box\"}],                        {\"legend\":{\"bgcolor\":\"#F5F6F9\",\"font\":{\"color\":\"#4D5663\"}},\"paper_bgcolor\":\"#F5F6F9\",\"plot_bgcolor\":\"#F5F6F9\",\"template\":{\"data\":{\"barpolar\":[{\"marker\":{\"line\":{\"color\":\"#E5ECF6\",\"width\":0.5},\"pattern\":{\"fillmode\":\"overlay\",\"size\":10,\"solidity\":0.2}},\"type\":\"barpolar\"}],\"bar\":[{\"error_x\":{\"color\":\"#2a3f5f\"},\"error_y\":{\"color\":\"#2a3f5f\"},\"marker\":{\"line\":{\"color\":\"#E5ECF6\",\"width\":0.5},\"pattern\":{\"fillmode\":\"overlay\",\"size\":10,\"solidity\":0.2}},\"type\":\"bar\"}],\"carpet\":[{\"aaxis\":{\"endlinecolor\":\"#2a3f5f\",\"gridcolor\":\"white\",\"linecolor\":\"white\",\"minorgridcolor\":\"white\",\"startlinecolor\":\"#2a3f5f\"},\"baxis\":{\"endlinecolor\":\"#2a3f5f\",\"gridcolor\":\"white\",\"linecolor\":\"white\",\"minorgridcolor\":\"white\",\"startlinecolor\":\"#2a3f5f\"},\"type\":\"carpet\"}],\"choropleth\":[{\"colorbar\":{\"outlinewidth\":0,\"ticks\":\"\"},\"type\":\"choropleth\"}],\"contourcarpet\":[{\"colorbar\":{\"outlinewidth\":0,\"ticks\":\"\"},\"type\":\"contourcarpet\"}],\"contour\":[{\"colorbar\":{\"outlinewidth\":0,\"ticks\":\"\"},\"colorscale\":[[0.0,\"#0d0887\"],[0.1111111111111111,\"#46039f\"],[0.2222222222222222,\"#7201a8\"],[0.3333333333333333,\"#9c179e\"],[0.4444444444444444,\"#bd3786\"],[0.5555555555555556,\"#d8576b\"],[0.6666666666666666,\"#ed7953\"],[0.7777777777777778,\"#fb9f3a\"],[0.8888888888888888,\"#fdca26\"],[1.0,\"#f0f921\"]],\"type\":\"contour\"}],\"heatmapgl\":[{\"colorbar\":{\"outlinewidth\":0,\"ticks\":\"\"},\"colorscale\":[[0.0,\"#0d0887\"],[0.1111111111111111,\"#46039f\"],[0.2222222222222222,\"#7201a8\"],[0.3333333333333333,\"#9c179e\"],[0.4444444444444444,\"#bd3786\"],[0.5555555555555556,\"#d8576b\"],[0.6666666666666666,\"#ed7953\"],[0.7777777777777778,\"#fb9f3a\"],[0.8888888888888888,\"#fdca26\"],[1.0,\"#f0f921\"]],\"type\":\"heatmapgl\"}],\"heatmap\":[{\"colorbar\":{\"outlinewidth\":0,\"ticks\":\"\"},\"colorscale\":[[0.0,\"#0d0887\"],[0.1111111111111111,\"#46039f\"],[0.2222222222222222,\"#7201a8\"],[0.3333333333333333,\"#9c179e\"],[0.4444444444444444,\"#bd3786\"],[0.5555555555555556,\"#d8576b\"],[0.6666666666666666,\"#ed7953\"],[0.7777777777777778,\"#fb9f3a\"],[0.8888888888888888,\"#fdca26\"],[1.0,\"#f0f921\"]],\"type\":\"heatmap\"}],\"histogram2dcontour\":[{\"colorbar\":{\"outlinewidth\":0,\"ticks\":\"\"},\"colorscale\":[[0.0,\"#0d0887\"],[0.1111111111111111,\"#46039f\"],[0.2222222222222222,\"#7201a8\"],[0.3333333333333333,\"#9c179e\"],[0.4444444444444444,\"#bd3786\"],[0.5555555555555556,\"#d8576b\"],[0.6666666666666666,\"#ed7953\"],[0.7777777777777778,\"#fb9f3a\"],[0.8888888888888888,\"#fdca26\"],[1.0,\"#f0f921\"]],\"type\":\"histogram2dcontour\"}],\"histogram2d\":[{\"colorbar\":{\"outlinewidth\":0,\"ticks\":\"\"},\"colorscale\":[[0.0,\"#0d0887\"],[0.1111111111111111,\"#46039f\"],[0.2222222222222222,\"#7201a8\"],[0.3333333333333333,\"#9c179e\"],[0.4444444444444444,\"#bd3786\"],[0.5555555555555556,\"#d8576b\"],[0.6666666666666666,\"#ed7953\"],[0.7777777777777778,\"#fb9f3a\"],[0.8888888888888888,\"#fdca26\"],[1.0,\"#f0f921\"]],\"type\":\"histogram2d\"}],\"histogram\":[{\"marker\":{\"pattern\":{\"fillmode\":\"overlay\",\"size\":10,\"solidity\":0.2}},\"type\":\"histogram\"}],\"mesh3d\":[{\"colorbar\":{\"outlinewidth\":0,\"ticks\":\"\"},\"type\":\"mesh3d\"}],\"parcoords\":[{\"line\":{\"colorbar\":{\"outlinewidth\":0,\"ticks\":\"\"}},\"type\":\"parcoords\"}],\"pie\":[{\"automargin\":true,\"type\":\"pie\"}],\"scatter3d\":[{\"line\":{\"colorbar\":{\"outlinewidth\":0,\"ticks\":\"\"}},\"marker\":{\"colorbar\":{\"outlinewidth\":0,\"ticks\":\"\"}},\"type\":\"scatter3d\"}],\"scattercarpet\":[{\"marker\":{\"colorbar\":{\"outlinewidth\":0,\"ticks\":\"\"}},\"type\":\"scattercarpet\"}],\"scattergeo\":[{\"marker\":{\"colorbar\":{\"outlinewidth\":0,\"ticks\":\"\"}},\"type\":\"scattergeo\"}],\"scattergl\":[{\"marker\":{\"colorbar\":{\"outlinewidth\":0,\"ticks\":\"\"}},\"type\":\"scattergl\"}],\"scattermapbox\":[{\"marker\":{\"colorbar\":{\"outlinewidth\":0,\"ticks\":\"\"}},\"type\":\"scattermapbox\"}],\"scatterpolargl\":[{\"marker\":{\"colorbar\":{\"outlinewidth\":0,\"ticks\":\"\"}},\"type\":\"scatterpolargl\"}],\"scatterpolar\":[{\"marker\":{\"colorbar\":{\"outlinewidth\":0,\"ticks\":\"\"}},\"type\":\"scatterpolar\"}],\"scatter\":[{\"fillpattern\":{\"fillmode\":\"overlay\",\"size\":10,\"solidity\":0.2},\"type\":\"scatter\"}],\"scatterternary\":[{\"marker\":{\"colorbar\":{\"outlinewidth\":0,\"ticks\":\"\"}},\"type\":\"scatterternary\"}],\"surface\":[{\"colorbar\":{\"outlinewidth\":0,\"ticks\":\"\"},\"colorscale\":[[0.0,\"#0d0887\"],[0.1111111111111111,\"#46039f\"],[0.2222222222222222,\"#7201a8\"],[0.3333333333333333,\"#9c179e\"],[0.4444444444444444,\"#bd3786\"],[0.5555555555555556,\"#d8576b\"],[0.6666666666666666,\"#ed7953\"],[0.7777777777777778,\"#fb9f3a\"],[0.8888888888888888,\"#fdca26\"],[1.0,\"#f0f921\"]],\"type\":\"surface\"}],\"table\":[{\"cells\":{\"fill\":{\"color\":\"#EBF0F8\"},\"line\":{\"color\":\"white\"}},\"header\":{\"fill\":{\"color\":\"#C8D4E3\"},\"line\":{\"color\":\"white\"}},\"type\":\"table\"}]},\"layout\":{\"annotationdefaults\":{\"arrowcolor\":\"#2a3f5f\",\"arrowhead\":0,\"arrowwidth\":1},\"autotypenumbers\":\"strict\",\"coloraxis\":{\"colorbar\":{\"outlinewidth\":0,\"ticks\":\"\"}},\"colorscale\":{\"diverging\":[[0,\"#8e0152\"],[0.1,\"#c51b7d\"],[0.2,\"#de77ae\"],[0.3,\"#f1b6da\"],[0.4,\"#fde0ef\"],[0.5,\"#f7f7f7\"],[0.6,\"#e6f5d0\"],[0.7,\"#b8e186\"],[0.8,\"#7fbc41\"],[0.9,\"#4d9221\"],[1,\"#276419\"]],\"sequential\":[[0.0,\"#0d0887\"],[0.1111111111111111,\"#46039f\"],[0.2222222222222222,\"#7201a8\"],[0.3333333333333333,\"#9c179e\"],[0.4444444444444444,\"#bd3786\"],[0.5555555555555556,\"#d8576b\"],[0.6666666666666666,\"#ed7953\"],[0.7777777777777778,\"#fb9f3a\"],[0.8888888888888888,\"#fdca26\"],[1.0,\"#f0f921\"]],\"sequentialminus\":[[0.0,\"#0d0887\"],[0.1111111111111111,\"#46039f\"],[0.2222222222222222,\"#7201a8\"],[0.3333333333333333,\"#9c179e\"],[0.4444444444444444,\"#bd3786\"],[0.5555555555555556,\"#d8576b\"],[0.6666666666666666,\"#ed7953\"],[0.7777777777777778,\"#fb9f3a\"],[0.8888888888888888,\"#fdca26\"],[1.0,\"#f0f921\"]]},\"colorway\":[\"#636efa\",\"#EF553B\",\"#00cc96\",\"#ab63fa\",\"#FFA15A\",\"#19d3f3\",\"#FF6692\",\"#B6E880\",\"#FF97FF\",\"#FECB52\"],\"font\":{\"color\":\"#2a3f5f\"},\"geo\":{\"bgcolor\":\"white\",\"lakecolor\":\"white\",\"landcolor\":\"#E5ECF6\",\"showlakes\":true,\"showland\":true,\"subunitcolor\":\"white\"},\"hoverlabel\":{\"align\":\"left\"},\"hovermode\":\"closest\",\"mapbox\":{\"style\":\"light\"},\"paper_bgcolor\":\"white\",\"plot_bgcolor\":\"#E5ECF6\",\"polar\":{\"angularaxis\":{\"gridcolor\":\"white\",\"linecolor\":\"white\",\"ticks\":\"\"},\"bgcolor\":\"#E5ECF6\",\"radialaxis\":{\"gridcolor\":\"white\",\"linecolor\":\"white\",\"ticks\":\"\"}},\"scene\":{\"xaxis\":{\"backgroundcolor\":\"#E5ECF6\",\"gridcolor\":\"white\",\"gridwidth\":2,\"linecolor\":\"white\",\"showbackground\":true,\"ticks\":\"\",\"zerolinecolor\":\"white\"},\"yaxis\":{\"backgroundcolor\":\"#E5ECF6\",\"gridcolor\":\"white\",\"gridwidth\":2,\"linecolor\":\"white\",\"showbackground\":true,\"ticks\":\"\",\"zerolinecolor\":\"white\"},\"zaxis\":{\"backgroundcolor\":\"#E5ECF6\",\"gridcolor\":\"white\",\"gridwidth\":2,\"linecolor\":\"white\",\"showbackground\":true,\"ticks\":\"\",\"zerolinecolor\":\"white\"}},\"shapedefaults\":{\"line\":{\"color\":\"#2a3f5f\"}},\"ternary\":{\"aaxis\":{\"gridcolor\":\"white\",\"linecolor\":\"white\",\"ticks\":\"\"},\"baxis\":{\"gridcolor\":\"white\",\"linecolor\":\"white\",\"ticks\":\"\"},\"bgcolor\":\"#E5ECF6\",\"caxis\":{\"gridcolor\":\"white\",\"linecolor\":\"white\",\"ticks\":\"\"}},\"title\":{\"x\":0.05},\"xaxis\":{\"automargin\":true,\"gridcolor\":\"white\",\"linecolor\":\"white\",\"ticks\":\"\",\"title\":{\"standoff\":15},\"zerolinecolor\":\"white\",\"zerolinewidth\":2},\"yaxis\":{\"automargin\":true,\"gridcolor\":\"white\",\"linecolor\":\"white\",\"ticks\":\"\",\"title\":{\"standoff\":15},\"zerolinecolor\":\"white\",\"zerolinewidth\":2}}},\"title\":{\"font\":{\"color\":\"#4D5663\"}},\"xaxis\":{\"gridcolor\":\"#E1E5ED\",\"showgrid\":true,\"tickfont\":{\"color\":\"#4D5663\"},\"title\":{\"font\":{\"color\":\"#4D5663\"},\"text\":\"\"},\"zerolinecolor\":\"#E1E5ED\"},\"yaxis\":{\"gridcolor\":\"#E1E5ED\",\"showgrid\":true,\"tickfont\":{\"color\":\"#4D5663\"},\"title\":{\"font\":{\"color\":\"#4D5663\"},\"text\":\"\"},\"zerolinecolor\":\"#E1E5ED\"}},                        {\"showLink\": true, \"linkText\": \"Export to plot.ly\", \"plotlyServerURL\": \"https://plot.ly\", \"responsive\": true}                    ).then(function(){\n",
       "                            \n",
       "var gd = document.getElementById('073783fd-2639-4274-94a9-86234d4f75c6');\n",
       "var x = new MutationObserver(function (mutations, observer) {{\n",
       "        var display = window.getComputedStyle(gd).display;\n",
       "        if (!display || display === 'none') {{\n",
       "            console.log([gd, 'removed!']);\n",
       "            Plotly.purge(gd);\n",
       "            observer.disconnect();\n",
       "        }}\n",
       "}});\n",
       "\n",
       "// Listen for the removal of the full notebook cells\n",
       "var notebookContainer = gd.closest('#notebook-container');\n",
       "if (notebookContainer) {{\n",
       "    x.observe(notebookContainer, {childList: true});\n",
       "}}\n",
       "\n",
       "// Listen for the clearing of the current output cell\n",
       "var outputEl = gd.closest('.output');\n",
       "if (outputEl) {{\n",
       "    x.observe(outputEl, {childList: true});\n",
       "}}\n",
       "\n",
       "                        })                };                });            </script>        </div>"
      ]
     },
     "metadata": {},
     "output_type": "display_data"
    }
   ],
   "source": [
    "df.iplot(kind='box')"
   ]
  },
  {
   "cell_type": "code",
   "execution_count": 31,
   "id": "6ce0f697",
   "metadata": {},
   "outputs": [
    {
     "data": {
      "text/html": [
       "<div>\n",
       "<style scoped>\n",
       "    .dataframe tbody tr th:only-of-type {\n",
       "        vertical-align: middle;\n",
       "    }\n",
       "\n",
       "    .dataframe tbody tr th {\n",
       "        vertical-align: top;\n",
       "    }\n",
       "\n",
       "    .dataframe thead th {\n",
       "        text-align: right;\n",
       "    }\n",
       "</style>\n",
       "<table border=\"1\" class=\"dataframe\">\n",
       "  <thead>\n",
       "    <tr style=\"text-align: right;\">\n",
       "      <th></th>\n",
       "      <th>x</th>\n",
       "      <th>y</th>\n",
       "      <th>z</th>\n",
       "    </tr>\n",
       "  </thead>\n",
       "  <tbody>\n",
       "    <tr>\n",
       "      <th>0</th>\n",
       "      <td>1</td>\n",
       "      <td>10</td>\n",
       "      <td>5</td>\n",
       "    </tr>\n",
       "    <tr>\n",
       "      <th>1</th>\n",
       "      <td>2</td>\n",
       "      <td>20</td>\n",
       "      <td>4</td>\n",
       "    </tr>\n",
       "    <tr>\n",
       "      <th>2</th>\n",
       "      <td>3</td>\n",
       "      <td>30</td>\n",
       "      <td>3</td>\n",
       "    </tr>\n",
       "    <tr>\n",
       "      <th>3</th>\n",
       "      <td>4</td>\n",
       "      <td>40</td>\n",
       "      <td>2</td>\n",
       "    </tr>\n",
       "    <tr>\n",
       "      <th>4</th>\n",
       "      <td>5</td>\n",
       "      <td>50</td>\n",
       "      <td>1</td>\n",
       "    </tr>\n",
       "  </tbody>\n",
       "</table>\n",
       "</div>"
      ],
      "text/plain": [
       "   x   y  z\n",
       "0  1  10  5\n",
       "1  2  20  4\n",
       "2  3  30  3\n",
       "3  4  40  2\n",
       "4  5  50  1"
      ]
     },
     "execution_count": 31,
     "metadata": {},
     "output_type": "execute_result"
    }
   ],
   "source": [
    "df3 = pd.DataFrame({'x':[1,2,3,4,5], 'y':[10,20,30,40,50], 'z':[5,4,3,2,1]})\n",
    "df3"
   ]
  },
  {
   "cell_type": "code",
   "execution_count": 33,
   "id": "64f39a6b",
   "metadata": {},
   "outputs": [
    {
     "data": {
      "application/vnd.plotly.v1+json": {
       "config": {
        "linkText": "Export to plot.ly",
        "plotlyServerURL": "https://plot.ly",
        "showLink": true
       },
       "data": [
        {
         "colorscale": [
          [
           0,
           "rgb(165,0,38)"
          ],
          [
           0.1,
           "rgb(215,48,39)"
          ],
          [
           0.2,
           "rgb(244,109,67)"
          ],
          [
           0.3,
           "rgb(253,174,97)"
          ],
          [
           0.4,
           "rgb(254,224,144)"
          ],
          [
           0.5,
           "rgb(255,255,191)"
          ],
          [
           0.6,
           "rgb(224,243,248)"
          ],
          [
           0.7,
           "rgb(171,217,233)"
          ],
          [
           0.8,
           "rgb(116,173,209)"
          ],
          [
           0.9,
           "rgb(69,117,180)"
          ],
          [
           1,
           "rgb(49,54,149)"
          ]
         ],
         "type": "surface",
         "x": [
          0,
          1,
          2,
          3,
          4
         ],
         "y": [
          "x",
          "y",
          "z"
         ],
         "z": [
          [
           1,
           2,
           3,
           4,
           5
          ],
          [
           10,
           20,
           30,
           40,
           50
          ],
          [
           5,
           4,
           3,
           2,
           1
          ]
         ]
        }
       ],
       "layout": {
        "legend": {
         "bgcolor": "#F5F6F9",
         "font": {
          "color": "#4D5663"
         }
        },
        "paper_bgcolor": "#F5F6F9",
        "plot_bgcolor": "#F5F6F9",
        "template": {
         "data": {
          "bar": [
           {
            "error_x": {
             "color": "#2a3f5f"
            },
            "error_y": {
             "color": "#2a3f5f"
            },
            "marker": {
             "line": {
              "color": "#E5ECF6",
              "width": 0.5
             },
             "pattern": {
              "fillmode": "overlay",
              "size": 10,
              "solidity": 0.2
             }
            },
            "type": "bar"
           }
          ],
          "barpolar": [
           {
            "marker": {
             "line": {
              "color": "#E5ECF6",
              "width": 0.5
             },
             "pattern": {
              "fillmode": "overlay",
              "size": 10,
              "solidity": 0.2
             }
            },
            "type": "barpolar"
           }
          ],
          "carpet": [
           {
            "aaxis": {
             "endlinecolor": "#2a3f5f",
             "gridcolor": "white",
             "linecolor": "white",
             "minorgridcolor": "white",
             "startlinecolor": "#2a3f5f"
            },
            "baxis": {
             "endlinecolor": "#2a3f5f",
             "gridcolor": "white",
             "linecolor": "white",
             "minorgridcolor": "white",
             "startlinecolor": "#2a3f5f"
            },
            "type": "carpet"
           }
          ],
          "choropleth": [
           {
            "colorbar": {
             "outlinewidth": 0,
             "ticks": ""
            },
            "type": "choropleth"
           }
          ],
          "contour": [
           {
            "colorbar": {
             "outlinewidth": 0,
             "ticks": ""
            },
            "colorscale": [
             [
              0,
              "#0d0887"
             ],
             [
              0.1111111111111111,
              "#46039f"
             ],
             [
              0.2222222222222222,
              "#7201a8"
             ],
             [
              0.3333333333333333,
              "#9c179e"
             ],
             [
              0.4444444444444444,
              "#bd3786"
             ],
             [
              0.5555555555555556,
              "#d8576b"
             ],
             [
              0.6666666666666666,
              "#ed7953"
             ],
             [
              0.7777777777777778,
              "#fb9f3a"
             ],
             [
              0.8888888888888888,
              "#fdca26"
             ],
             [
              1,
              "#f0f921"
             ]
            ],
            "type": "contour"
           }
          ],
          "contourcarpet": [
           {
            "colorbar": {
             "outlinewidth": 0,
             "ticks": ""
            },
            "type": "contourcarpet"
           }
          ],
          "heatmap": [
           {
            "colorbar": {
             "outlinewidth": 0,
             "ticks": ""
            },
            "colorscale": [
             [
              0,
              "#0d0887"
             ],
             [
              0.1111111111111111,
              "#46039f"
             ],
             [
              0.2222222222222222,
              "#7201a8"
             ],
             [
              0.3333333333333333,
              "#9c179e"
             ],
             [
              0.4444444444444444,
              "#bd3786"
             ],
             [
              0.5555555555555556,
              "#d8576b"
             ],
             [
              0.6666666666666666,
              "#ed7953"
             ],
             [
              0.7777777777777778,
              "#fb9f3a"
             ],
             [
              0.8888888888888888,
              "#fdca26"
             ],
             [
              1,
              "#f0f921"
             ]
            ],
            "type": "heatmap"
           }
          ],
          "heatmapgl": [
           {
            "colorbar": {
             "outlinewidth": 0,
             "ticks": ""
            },
            "colorscale": [
             [
              0,
              "#0d0887"
             ],
             [
              0.1111111111111111,
              "#46039f"
             ],
             [
              0.2222222222222222,
              "#7201a8"
             ],
             [
              0.3333333333333333,
              "#9c179e"
             ],
             [
              0.4444444444444444,
              "#bd3786"
             ],
             [
              0.5555555555555556,
              "#d8576b"
             ],
             [
              0.6666666666666666,
              "#ed7953"
             ],
             [
              0.7777777777777778,
              "#fb9f3a"
             ],
             [
              0.8888888888888888,
              "#fdca26"
             ],
             [
              1,
              "#f0f921"
             ]
            ],
            "type": "heatmapgl"
           }
          ],
          "histogram": [
           {
            "marker": {
             "pattern": {
              "fillmode": "overlay",
              "size": 10,
              "solidity": 0.2
             }
            },
            "type": "histogram"
           }
          ],
          "histogram2d": [
           {
            "colorbar": {
             "outlinewidth": 0,
             "ticks": ""
            },
            "colorscale": [
             [
              0,
              "#0d0887"
             ],
             [
              0.1111111111111111,
              "#46039f"
             ],
             [
              0.2222222222222222,
              "#7201a8"
             ],
             [
              0.3333333333333333,
              "#9c179e"
             ],
             [
              0.4444444444444444,
              "#bd3786"
             ],
             [
              0.5555555555555556,
              "#d8576b"
             ],
             [
              0.6666666666666666,
              "#ed7953"
             ],
             [
              0.7777777777777778,
              "#fb9f3a"
             ],
             [
              0.8888888888888888,
              "#fdca26"
             ],
             [
              1,
              "#f0f921"
             ]
            ],
            "type": "histogram2d"
           }
          ],
          "histogram2dcontour": [
           {
            "colorbar": {
             "outlinewidth": 0,
             "ticks": ""
            },
            "colorscale": [
             [
              0,
              "#0d0887"
             ],
             [
              0.1111111111111111,
              "#46039f"
             ],
             [
              0.2222222222222222,
              "#7201a8"
             ],
             [
              0.3333333333333333,
              "#9c179e"
             ],
             [
              0.4444444444444444,
              "#bd3786"
             ],
             [
              0.5555555555555556,
              "#d8576b"
             ],
             [
              0.6666666666666666,
              "#ed7953"
             ],
             [
              0.7777777777777778,
              "#fb9f3a"
             ],
             [
              0.8888888888888888,
              "#fdca26"
             ],
             [
              1,
              "#f0f921"
             ]
            ],
            "type": "histogram2dcontour"
           }
          ],
          "mesh3d": [
           {
            "colorbar": {
             "outlinewidth": 0,
             "ticks": ""
            },
            "type": "mesh3d"
           }
          ],
          "parcoords": [
           {
            "line": {
             "colorbar": {
              "outlinewidth": 0,
              "ticks": ""
             }
            },
            "type": "parcoords"
           }
          ],
          "pie": [
           {
            "automargin": true,
            "type": "pie"
           }
          ],
          "scatter": [
           {
            "fillpattern": {
             "fillmode": "overlay",
             "size": 10,
             "solidity": 0.2
            },
            "type": "scatter"
           }
          ],
          "scatter3d": [
           {
            "line": {
             "colorbar": {
              "outlinewidth": 0,
              "ticks": ""
             }
            },
            "marker": {
             "colorbar": {
              "outlinewidth": 0,
              "ticks": ""
             }
            },
            "type": "scatter3d"
           }
          ],
          "scattercarpet": [
           {
            "marker": {
             "colorbar": {
              "outlinewidth": 0,
              "ticks": ""
             }
            },
            "type": "scattercarpet"
           }
          ],
          "scattergeo": [
           {
            "marker": {
             "colorbar": {
              "outlinewidth": 0,
              "ticks": ""
             }
            },
            "type": "scattergeo"
           }
          ],
          "scattergl": [
           {
            "marker": {
             "colorbar": {
              "outlinewidth": 0,
              "ticks": ""
             }
            },
            "type": "scattergl"
           }
          ],
          "scattermapbox": [
           {
            "marker": {
             "colorbar": {
              "outlinewidth": 0,
              "ticks": ""
             }
            },
            "type": "scattermapbox"
           }
          ],
          "scatterpolar": [
           {
            "marker": {
             "colorbar": {
              "outlinewidth": 0,
              "ticks": ""
             }
            },
            "type": "scatterpolar"
           }
          ],
          "scatterpolargl": [
           {
            "marker": {
             "colorbar": {
              "outlinewidth": 0,
              "ticks": ""
             }
            },
            "type": "scatterpolargl"
           }
          ],
          "scatterternary": [
           {
            "marker": {
             "colorbar": {
              "outlinewidth": 0,
              "ticks": ""
             }
            },
            "type": "scatterternary"
           }
          ],
          "surface": [
           {
            "colorbar": {
             "outlinewidth": 0,
             "ticks": ""
            },
            "colorscale": [
             [
              0,
              "#0d0887"
             ],
             [
              0.1111111111111111,
              "#46039f"
             ],
             [
              0.2222222222222222,
              "#7201a8"
             ],
             [
              0.3333333333333333,
              "#9c179e"
             ],
             [
              0.4444444444444444,
              "#bd3786"
             ],
             [
              0.5555555555555556,
              "#d8576b"
             ],
             [
              0.6666666666666666,
              "#ed7953"
             ],
             [
              0.7777777777777778,
              "#fb9f3a"
             ],
             [
              0.8888888888888888,
              "#fdca26"
             ],
             [
              1,
              "#f0f921"
             ]
            ],
            "type": "surface"
           }
          ],
          "table": [
           {
            "cells": {
             "fill": {
              "color": "#EBF0F8"
             },
             "line": {
              "color": "white"
             }
            },
            "header": {
             "fill": {
              "color": "#C8D4E3"
             },
             "line": {
              "color": "white"
             }
            },
            "type": "table"
           }
          ]
         },
         "layout": {
          "annotationdefaults": {
           "arrowcolor": "#2a3f5f",
           "arrowhead": 0,
           "arrowwidth": 1
          },
          "autotypenumbers": "strict",
          "coloraxis": {
           "colorbar": {
            "outlinewidth": 0,
            "ticks": ""
           }
          },
          "colorscale": {
           "diverging": [
            [
             0,
             "#8e0152"
            ],
            [
             0.1,
             "#c51b7d"
            ],
            [
             0.2,
             "#de77ae"
            ],
            [
             0.3,
             "#f1b6da"
            ],
            [
             0.4,
             "#fde0ef"
            ],
            [
             0.5,
             "#f7f7f7"
            ],
            [
             0.6,
             "#e6f5d0"
            ],
            [
             0.7,
             "#b8e186"
            ],
            [
             0.8,
             "#7fbc41"
            ],
            [
             0.9,
             "#4d9221"
            ],
            [
             1,
             "#276419"
            ]
           ],
           "sequential": [
            [
             0,
             "#0d0887"
            ],
            [
             0.1111111111111111,
             "#46039f"
            ],
            [
             0.2222222222222222,
             "#7201a8"
            ],
            [
             0.3333333333333333,
             "#9c179e"
            ],
            [
             0.4444444444444444,
             "#bd3786"
            ],
            [
             0.5555555555555556,
             "#d8576b"
            ],
            [
             0.6666666666666666,
             "#ed7953"
            ],
            [
             0.7777777777777778,
             "#fb9f3a"
            ],
            [
             0.8888888888888888,
             "#fdca26"
            ],
            [
             1,
             "#f0f921"
            ]
           ],
           "sequentialminus": [
            [
             0,
             "#0d0887"
            ],
            [
             0.1111111111111111,
             "#46039f"
            ],
            [
             0.2222222222222222,
             "#7201a8"
            ],
            [
             0.3333333333333333,
             "#9c179e"
            ],
            [
             0.4444444444444444,
             "#bd3786"
            ],
            [
             0.5555555555555556,
             "#d8576b"
            ],
            [
             0.6666666666666666,
             "#ed7953"
            ],
            [
             0.7777777777777778,
             "#fb9f3a"
            ],
            [
             0.8888888888888888,
             "#fdca26"
            ],
            [
             1,
             "#f0f921"
            ]
           ]
          },
          "colorway": [
           "#636efa",
           "#EF553B",
           "#00cc96",
           "#ab63fa",
           "#FFA15A",
           "#19d3f3",
           "#FF6692",
           "#B6E880",
           "#FF97FF",
           "#FECB52"
          ],
          "font": {
           "color": "#2a3f5f"
          },
          "geo": {
           "bgcolor": "white",
           "lakecolor": "white",
           "landcolor": "#E5ECF6",
           "showlakes": true,
           "showland": true,
           "subunitcolor": "white"
          },
          "hoverlabel": {
           "align": "left"
          },
          "hovermode": "closest",
          "mapbox": {
           "style": "light"
          },
          "paper_bgcolor": "white",
          "plot_bgcolor": "#E5ECF6",
          "polar": {
           "angularaxis": {
            "gridcolor": "white",
            "linecolor": "white",
            "ticks": ""
           },
           "bgcolor": "#E5ECF6",
           "radialaxis": {
            "gridcolor": "white",
            "linecolor": "white",
            "ticks": ""
           }
          },
          "scene": {
           "xaxis": {
            "backgroundcolor": "#E5ECF6",
            "gridcolor": "white",
            "gridwidth": 2,
            "linecolor": "white",
            "showbackground": true,
            "ticks": "",
            "zerolinecolor": "white"
           },
           "yaxis": {
            "backgroundcolor": "#E5ECF6",
            "gridcolor": "white",
            "gridwidth": 2,
            "linecolor": "white",
            "showbackground": true,
            "ticks": "",
            "zerolinecolor": "white"
           },
           "zaxis": {
            "backgroundcolor": "#E5ECF6",
            "gridcolor": "white",
            "gridwidth": 2,
            "linecolor": "white",
            "showbackground": true,
            "ticks": "",
            "zerolinecolor": "white"
           }
          },
          "shapedefaults": {
           "line": {
            "color": "#2a3f5f"
           }
          },
          "ternary": {
           "aaxis": {
            "gridcolor": "white",
            "linecolor": "white",
            "ticks": ""
           },
           "baxis": {
            "gridcolor": "white",
            "linecolor": "white",
            "ticks": ""
           },
           "bgcolor": "#E5ECF6",
           "caxis": {
            "gridcolor": "white",
            "linecolor": "white",
            "ticks": ""
           }
          },
          "title": {
           "x": 0.05
          },
          "xaxis": {
           "automargin": true,
           "gridcolor": "white",
           "linecolor": "white",
           "ticks": "",
           "title": {
            "standoff": 15
           },
           "zerolinecolor": "white",
           "zerolinewidth": 2
          },
          "yaxis": {
           "automargin": true,
           "gridcolor": "white",
           "linecolor": "white",
           "ticks": "",
           "title": {
            "standoff": 15
           },
           "zerolinecolor": "white",
           "zerolinewidth": 2
          }
         }
        },
        "title": {
         "font": {
          "color": "#4D5663"
         }
        },
        "xaxis": {
         "gridcolor": "#E1E5ED",
         "showgrid": true,
         "tickfont": {
          "color": "#4D5663"
         },
         "title": {
          "font": {
           "color": "#4D5663"
          },
          "text": ""
         },
         "zerolinecolor": "#E1E5ED"
        },
        "yaxis": {
         "gridcolor": "#E1E5ED",
         "showgrid": true,
         "tickfont": {
          "color": "#4D5663"
         },
         "title": {
          "font": {
           "color": "#4D5663"
          },
          "text": ""
         },
         "zerolinecolor": "#E1E5ED"
        }
       }
      },
      "text/html": [
       "<div>                            <div id=\"2d3b703b-63b4-4edd-bf10-426c6932afd3\" class=\"plotly-graph-div\" style=\"height:525px; width:100%;\"></div>            <script type=\"text/javascript\">                require([\"plotly\"], function(Plotly) {                    window.PLOTLYENV=window.PLOTLYENV || {};\n",
       "                    window.PLOTLYENV.BASE_URL='https://plot.ly';                                    if (document.getElementById(\"2d3b703b-63b4-4edd-bf10-426c6932afd3\")) {                    Plotly.newPlot(                        \"2d3b703b-63b4-4edd-bf10-426c6932afd3\",                        [{\"colorscale\":[[0.0,\"rgb(165,0,38)\"],[0.1,\"rgb(215,48,39)\"],[0.2,\"rgb(244,109,67)\"],[0.3,\"rgb(253,174,97)\"],[0.4,\"rgb(254,224,144)\"],[0.5,\"rgb(255,255,191)\"],[0.6,\"rgb(224,243,248)\"],[0.7,\"rgb(171,217,233)\"],[0.8,\"rgb(116,173,209)\"],[0.9,\"rgb(69,117,180)\"],[1.0,\"rgb(49,54,149)\"]],\"x\":[0,1,2,3,4],\"y\":[\"x\",\"y\",\"z\"],\"z\":[[1,2,3,4,5],[10,20,30,40,50],[5,4,3,2,1]],\"type\":\"surface\"}],                        {\"legend\":{\"bgcolor\":\"#F5F6F9\",\"font\":{\"color\":\"#4D5663\"}},\"paper_bgcolor\":\"#F5F6F9\",\"plot_bgcolor\":\"#F5F6F9\",\"template\":{\"data\":{\"barpolar\":[{\"marker\":{\"line\":{\"color\":\"#E5ECF6\",\"width\":0.5},\"pattern\":{\"fillmode\":\"overlay\",\"size\":10,\"solidity\":0.2}},\"type\":\"barpolar\"}],\"bar\":[{\"error_x\":{\"color\":\"#2a3f5f\"},\"error_y\":{\"color\":\"#2a3f5f\"},\"marker\":{\"line\":{\"color\":\"#E5ECF6\",\"width\":0.5},\"pattern\":{\"fillmode\":\"overlay\",\"size\":10,\"solidity\":0.2}},\"type\":\"bar\"}],\"carpet\":[{\"aaxis\":{\"endlinecolor\":\"#2a3f5f\",\"gridcolor\":\"white\",\"linecolor\":\"white\",\"minorgridcolor\":\"white\",\"startlinecolor\":\"#2a3f5f\"},\"baxis\":{\"endlinecolor\":\"#2a3f5f\",\"gridcolor\":\"white\",\"linecolor\":\"white\",\"minorgridcolor\":\"white\",\"startlinecolor\":\"#2a3f5f\"},\"type\":\"carpet\"}],\"choropleth\":[{\"colorbar\":{\"outlinewidth\":0,\"ticks\":\"\"},\"type\":\"choropleth\"}],\"contourcarpet\":[{\"colorbar\":{\"outlinewidth\":0,\"ticks\":\"\"},\"type\":\"contourcarpet\"}],\"contour\":[{\"colorbar\":{\"outlinewidth\":0,\"ticks\":\"\"},\"colorscale\":[[0.0,\"#0d0887\"],[0.1111111111111111,\"#46039f\"],[0.2222222222222222,\"#7201a8\"],[0.3333333333333333,\"#9c179e\"],[0.4444444444444444,\"#bd3786\"],[0.5555555555555556,\"#d8576b\"],[0.6666666666666666,\"#ed7953\"],[0.7777777777777778,\"#fb9f3a\"],[0.8888888888888888,\"#fdca26\"],[1.0,\"#f0f921\"]],\"type\":\"contour\"}],\"heatmapgl\":[{\"colorbar\":{\"outlinewidth\":0,\"ticks\":\"\"},\"colorscale\":[[0.0,\"#0d0887\"],[0.1111111111111111,\"#46039f\"],[0.2222222222222222,\"#7201a8\"],[0.3333333333333333,\"#9c179e\"],[0.4444444444444444,\"#bd3786\"],[0.5555555555555556,\"#d8576b\"],[0.6666666666666666,\"#ed7953\"],[0.7777777777777778,\"#fb9f3a\"],[0.8888888888888888,\"#fdca26\"],[1.0,\"#f0f921\"]],\"type\":\"heatmapgl\"}],\"heatmap\":[{\"colorbar\":{\"outlinewidth\":0,\"ticks\":\"\"},\"colorscale\":[[0.0,\"#0d0887\"],[0.1111111111111111,\"#46039f\"],[0.2222222222222222,\"#7201a8\"],[0.3333333333333333,\"#9c179e\"],[0.4444444444444444,\"#bd3786\"],[0.5555555555555556,\"#d8576b\"],[0.6666666666666666,\"#ed7953\"],[0.7777777777777778,\"#fb9f3a\"],[0.8888888888888888,\"#fdca26\"],[1.0,\"#f0f921\"]],\"type\":\"heatmap\"}],\"histogram2dcontour\":[{\"colorbar\":{\"outlinewidth\":0,\"ticks\":\"\"},\"colorscale\":[[0.0,\"#0d0887\"],[0.1111111111111111,\"#46039f\"],[0.2222222222222222,\"#7201a8\"],[0.3333333333333333,\"#9c179e\"],[0.4444444444444444,\"#bd3786\"],[0.5555555555555556,\"#d8576b\"],[0.6666666666666666,\"#ed7953\"],[0.7777777777777778,\"#fb9f3a\"],[0.8888888888888888,\"#fdca26\"],[1.0,\"#f0f921\"]],\"type\":\"histogram2dcontour\"}],\"histogram2d\":[{\"colorbar\":{\"outlinewidth\":0,\"ticks\":\"\"},\"colorscale\":[[0.0,\"#0d0887\"],[0.1111111111111111,\"#46039f\"],[0.2222222222222222,\"#7201a8\"],[0.3333333333333333,\"#9c179e\"],[0.4444444444444444,\"#bd3786\"],[0.5555555555555556,\"#d8576b\"],[0.6666666666666666,\"#ed7953\"],[0.7777777777777778,\"#fb9f3a\"],[0.8888888888888888,\"#fdca26\"],[1.0,\"#f0f921\"]],\"type\":\"histogram2d\"}],\"histogram\":[{\"marker\":{\"pattern\":{\"fillmode\":\"overlay\",\"size\":10,\"solidity\":0.2}},\"type\":\"histogram\"}],\"mesh3d\":[{\"colorbar\":{\"outlinewidth\":0,\"ticks\":\"\"},\"type\":\"mesh3d\"}],\"parcoords\":[{\"line\":{\"colorbar\":{\"outlinewidth\":0,\"ticks\":\"\"}},\"type\":\"parcoords\"}],\"pie\":[{\"automargin\":true,\"type\":\"pie\"}],\"scatter3d\":[{\"line\":{\"colorbar\":{\"outlinewidth\":0,\"ticks\":\"\"}},\"marker\":{\"colorbar\":{\"outlinewidth\":0,\"ticks\":\"\"}},\"type\":\"scatter3d\"}],\"scattercarpet\":[{\"marker\":{\"colorbar\":{\"outlinewidth\":0,\"ticks\":\"\"}},\"type\":\"scattercarpet\"}],\"scattergeo\":[{\"marker\":{\"colorbar\":{\"outlinewidth\":0,\"ticks\":\"\"}},\"type\":\"scattergeo\"}],\"scattergl\":[{\"marker\":{\"colorbar\":{\"outlinewidth\":0,\"ticks\":\"\"}},\"type\":\"scattergl\"}],\"scattermapbox\":[{\"marker\":{\"colorbar\":{\"outlinewidth\":0,\"ticks\":\"\"}},\"type\":\"scattermapbox\"}],\"scatterpolargl\":[{\"marker\":{\"colorbar\":{\"outlinewidth\":0,\"ticks\":\"\"}},\"type\":\"scatterpolargl\"}],\"scatterpolar\":[{\"marker\":{\"colorbar\":{\"outlinewidth\":0,\"ticks\":\"\"}},\"type\":\"scatterpolar\"}],\"scatter\":[{\"fillpattern\":{\"fillmode\":\"overlay\",\"size\":10,\"solidity\":0.2},\"type\":\"scatter\"}],\"scatterternary\":[{\"marker\":{\"colorbar\":{\"outlinewidth\":0,\"ticks\":\"\"}},\"type\":\"scatterternary\"}],\"surface\":[{\"colorbar\":{\"outlinewidth\":0,\"ticks\":\"\"},\"colorscale\":[[0.0,\"#0d0887\"],[0.1111111111111111,\"#46039f\"],[0.2222222222222222,\"#7201a8\"],[0.3333333333333333,\"#9c179e\"],[0.4444444444444444,\"#bd3786\"],[0.5555555555555556,\"#d8576b\"],[0.6666666666666666,\"#ed7953\"],[0.7777777777777778,\"#fb9f3a\"],[0.8888888888888888,\"#fdca26\"],[1.0,\"#f0f921\"]],\"type\":\"surface\"}],\"table\":[{\"cells\":{\"fill\":{\"color\":\"#EBF0F8\"},\"line\":{\"color\":\"white\"}},\"header\":{\"fill\":{\"color\":\"#C8D4E3\"},\"line\":{\"color\":\"white\"}},\"type\":\"table\"}]},\"layout\":{\"annotationdefaults\":{\"arrowcolor\":\"#2a3f5f\",\"arrowhead\":0,\"arrowwidth\":1},\"autotypenumbers\":\"strict\",\"coloraxis\":{\"colorbar\":{\"outlinewidth\":0,\"ticks\":\"\"}},\"colorscale\":{\"diverging\":[[0,\"#8e0152\"],[0.1,\"#c51b7d\"],[0.2,\"#de77ae\"],[0.3,\"#f1b6da\"],[0.4,\"#fde0ef\"],[0.5,\"#f7f7f7\"],[0.6,\"#e6f5d0\"],[0.7,\"#b8e186\"],[0.8,\"#7fbc41\"],[0.9,\"#4d9221\"],[1,\"#276419\"]],\"sequential\":[[0.0,\"#0d0887\"],[0.1111111111111111,\"#46039f\"],[0.2222222222222222,\"#7201a8\"],[0.3333333333333333,\"#9c179e\"],[0.4444444444444444,\"#bd3786\"],[0.5555555555555556,\"#d8576b\"],[0.6666666666666666,\"#ed7953\"],[0.7777777777777778,\"#fb9f3a\"],[0.8888888888888888,\"#fdca26\"],[1.0,\"#f0f921\"]],\"sequentialminus\":[[0.0,\"#0d0887\"],[0.1111111111111111,\"#46039f\"],[0.2222222222222222,\"#7201a8\"],[0.3333333333333333,\"#9c179e\"],[0.4444444444444444,\"#bd3786\"],[0.5555555555555556,\"#d8576b\"],[0.6666666666666666,\"#ed7953\"],[0.7777777777777778,\"#fb9f3a\"],[0.8888888888888888,\"#fdca26\"],[1.0,\"#f0f921\"]]},\"colorway\":[\"#636efa\",\"#EF553B\",\"#00cc96\",\"#ab63fa\",\"#FFA15A\",\"#19d3f3\",\"#FF6692\",\"#B6E880\",\"#FF97FF\",\"#FECB52\"],\"font\":{\"color\":\"#2a3f5f\"},\"geo\":{\"bgcolor\":\"white\",\"lakecolor\":\"white\",\"landcolor\":\"#E5ECF6\",\"showlakes\":true,\"showland\":true,\"subunitcolor\":\"white\"},\"hoverlabel\":{\"align\":\"left\"},\"hovermode\":\"closest\",\"mapbox\":{\"style\":\"light\"},\"paper_bgcolor\":\"white\",\"plot_bgcolor\":\"#E5ECF6\",\"polar\":{\"angularaxis\":{\"gridcolor\":\"white\",\"linecolor\":\"white\",\"ticks\":\"\"},\"bgcolor\":\"#E5ECF6\",\"radialaxis\":{\"gridcolor\":\"white\",\"linecolor\":\"white\",\"ticks\":\"\"}},\"scene\":{\"xaxis\":{\"backgroundcolor\":\"#E5ECF6\",\"gridcolor\":\"white\",\"gridwidth\":2,\"linecolor\":\"white\",\"showbackground\":true,\"ticks\":\"\",\"zerolinecolor\":\"white\"},\"yaxis\":{\"backgroundcolor\":\"#E5ECF6\",\"gridcolor\":\"white\",\"gridwidth\":2,\"linecolor\":\"white\",\"showbackground\":true,\"ticks\":\"\",\"zerolinecolor\":\"white\"},\"zaxis\":{\"backgroundcolor\":\"#E5ECF6\",\"gridcolor\":\"white\",\"gridwidth\":2,\"linecolor\":\"white\",\"showbackground\":true,\"ticks\":\"\",\"zerolinecolor\":\"white\"}},\"shapedefaults\":{\"line\":{\"color\":\"#2a3f5f\"}},\"ternary\":{\"aaxis\":{\"gridcolor\":\"white\",\"linecolor\":\"white\",\"ticks\":\"\"},\"baxis\":{\"gridcolor\":\"white\",\"linecolor\":\"white\",\"ticks\":\"\"},\"bgcolor\":\"#E5ECF6\",\"caxis\":{\"gridcolor\":\"white\",\"linecolor\":\"white\",\"ticks\":\"\"}},\"title\":{\"x\":0.05},\"xaxis\":{\"automargin\":true,\"gridcolor\":\"white\",\"linecolor\":\"white\",\"ticks\":\"\",\"title\":{\"standoff\":15},\"zerolinecolor\":\"white\",\"zerolinewidth\":2},\"yaxis\":{\"automargin\":true,\"gridcolor\":\"white\",\"linecolor\":\"white\",\"ticks\":\"\",\"title\":{\"standoff\":15},\"zerolinecolor\":\"white\",\"zerolinewidth\":2}}},\"title\":{\"font\":{\"color\":\"#4D5663\"}},\"xaxis\":{\"gridcolor\":\"#E1E5ED\",\"showgrid\":true,\"tickfont\":{\"color\":\"#4D5663\"},\"title\":{\"font\":{\"color\":\"#4D5663\"},\"text\":\"\"},\"zerolinecolor\":\"#E1E5ED\"},\"yaxis\":{\"gridcolor\":\"#E1E5ED\",\"showgrid\":true,\"tickfont\":{\"color\":\"#4D5663\"},\"title\":{\"font\":{\"color\":\"#4D5663\"},\"text\":\"\"},\"zerolinecolor\":\"#E1E5ED\"}},                        {\"showLink\": true, \"linkText\": \"Export to plot.ly\", \"plotlyServerURL\": \"https://plot.ly\", \"responsive\": true}                    ).then(function(){\n",
       "                            \n",
       "var gd = document.getElementById('2d3b703b-63b4-4edd-bf10-426c6932afd3');\n",
       "var x = new MutationObserver(function (mutations, observer) {{\n",
       "        var display = window.getComputedStyle(gd).display;\n",
       "        if (!display || display === 'none') {{\n",
       "            console.log([gd, 'removed!']);\n",
       "            Plotly.purge(gd);\n",
       "            observer.disconnect();\n",
       "        }}\n",
       "}});\n",
       "\n",
       "// Listen for the removal of the full notebook cells\n",
       "var notebookContainer = gd.closest('#notebook-container');\n",
       "if (notebookContainer) {{\n",
       "    x.observe(notebookContainer, {childList: true});\n",
       "}}\n",
       "\n",
       "// Listen for the clearing of the current output cell\n",
       "var outputEl = gd.closest('.output');\n",
       "if (outputEl) {{\n",
       "    x.observe(outputEl, {childList: true});\n",
       "}}\n",
       "\n",
       "                        })                };                });            </script>        </div>"
      ]
     },
     "metadata": {},
     "output_type": "display_data"
    }
   ],
   "source": [
    "# df3.iplot(kind='surface')\n",
    "df3.iplot(kind='surface',colorscale='rdylbu')"
   ]
  },
  {
   "cell_type": "code",
   "execution_count": 36,
   "id": "9f828178",
   "metadata": {},
   "outputs": [
    {
     "data": {
      "application/vnd.plotly.v1+json": {
       "config": {
        "linkText": "Export to plot.ly",
        "plotlyServerURL": "https://plot.ly",
        "showLink": true
       },
       "data": [
        {
         "histfunc": "count",
         "histnorm": "",
         "marker": {
          "color": "rgba(255, 153, 51, 1.0)",
          "line": {
           "color": "#4D5663",
           "width": 1.3
          }
         },
         "name": "A",
         "opacity": 0.8,
         "orientation": "v",
         "type": "histogram",
         "x": [
          -1.4939770193839113,
          0.14667142183123638,
          -0.1689240577557097,
          -2.5641137671536414,
          -1.5656121600558734,
          -1.2167004550556926,
          -0.5027845423972647,
          -0.19736293137528313,
          -0.4202320935653999,
          -0.6080146837161412,
          -1.230234537785847,
          -0.834544271094505,
          -0.7525609946685502,
          0.5523681023146403,
          0.3229589353270958,
          -0.997243590029998,
          1.6663098194289763,
          0.0877021878991175,
          -0.6060662026850341,
          -0.29003690869874343,
          0.8703676454073761,
          -0.3396656057424267,
          -0.6110092567412334,
          0.1472139397558027,
          -0.6994199594869444,
          -0.6158638170930033,
          0.6156004196442771,
          -0.33322696721037726,
          0.6696539231968791,
          -0.33925674088411095,
          0.8509919769727514,
          0.9645731195640609,
          2.427305453475825,
          0.976392584761381,
          1.7805857148536182,
          -0.6989982312628092,
          0.9057176562148805,
          0.41450153571613857,
          -1.6659821355531175,
          -1.105415801135921,
          -0.62185838308645,
          0.26305694720859163,
          -1.230184259105579,
          0.32487346783814625,
          -0.37518768510514555,
          -0.22521033590958614,
          -1.259372996663426,
          1.5609125053294142,
          -0.9177503491967661,
          -0.9235315213198988,
          1.1577654753378852,
          -1.6401526659124528,
          -1.0315814928703455,
          -0.17240986524184343,
          -1.6356154035797161,
          0.46896934471230545,
          0.7402280597029676,
          0.643571936309595,
          0.9789590030816315,
          0.4323966143449856,
          0.24984758212242894,
          0.05696615292061845,
          -0.22292926821963566,
          -1.5621053325723102,
          1.030043388900891,
          -2.1995026016841543,
          -0.9890315345511191,
          1.0610392086975546,
          -0.23948857174764943,
          -0.7085900231874463,
          1.6112436502127536,
          -0.068776323064688,
          -0.8630943776533021,
          0.21452073139849748,
          -0.6856857035422566,
          0.1604062806895764,
          -1.098694902114377,
          -0.004486955967236525,
          0.41358080038338224,
          -1.1308639855228306,
          1.3416129442187854,
          -1.1604840579000024,
          0.7859899459979105,
          -0.5378788796193937,
          -0.7823692774339261,
          -1.2475717135229125,
          -0.027819608867832593,
          -1.887835449605791,
          0.9312913941371009,
          -0.6762071639586086,
          -0.7166774860693382,
          1.3317430206692487,
          -0.5679228874173067,
          -0.9745452514729301,
          0.11099751388451033,
          1.4746054242805158,
          0.22633225768022122,
          -1.073948519445465,
          1.3499284499026483,
          -0.36978755761701826
         ]
        },
        {
         "histfunc": "count",
         "histnorm": "",
         "marker": {
          "color": "rgba(55, 128, 191, 1.0)",
          "line": {
           "color": "#4D5663",
           "width": 1.3
          }
         },
         "name": "B",
         "opacity": 0.8,
         "orientation": "v",
         "type": "histogram",
         "x": [
          -0.17932594922892936,
          -1.2334150241168818,
          0.3491829430803454,
          0.22140507174626994,
          -0.4311921325864654,
          0.2728526806525845,
          -0.14671619073051312,
          -0.8361711948295325,
          -2.0525996827183524,
          1.2238954636242012,
          0.16748171442020826,
          0.9742348415959232,
          -1.459462066979266,
          0.560522495645634,
          0.22594078882224689,
          0.9936125565222024,
          2.0378905674033154,
          -0.15589591029106117,
          -1.037914776778365,
          0.5972560045854091,
          1.5396143307194154,
          -0.633578357203016,
          1.4549286148744829,
          -0.7602467680969238,
          1.4818952741568785,
          -0.35542676894068576,
          -0.1672124933215106,
          -0.4686208341591621,
          -0.6596271840718666,
          -0.7021120601503211,
          -0.4030312229739508,
          -2.4891767827615854,
          1.8067985741691368,
          0.3642482006924113,
          0.4633123311347458,
          -0.28776563158624496,
          -0.039824002265676645,
          0.3394186664968411,
          0.264005519683204,
          0.1997684212563469,
          -1.5972630604729419,
          -0.013363487980902096,
          0.628306211667071,
          0.014837486688604832,
          1.7299977564779727,
          0.8424498055863454,
          1.592948338505741,
          0.1908669085436572,
          2.7651347652023914,
          -0.052526911488933854,
          -1.3262825475191269,
          -0.7291649507936764,
          1.2249018261233362,
          0.6129613428385257,
          0.33058371496375294,
          0.4578414828592958,
          0.30186994670170814,
          0.23016785504505452,
          -0.8362591785189375,
          -0.19513012931737245,
          -0.9467488889374831,
          -0.020796939278777533,
          -0.7662354218695511,
          -0.5591934120199998,
          1.5520463274111282,
          -1.054375281258254,
          0.06319501059080465,
          0.14793864881395666,
          -0.8352938765626658,
          0.327098277975738,
          -0.5179048631445157,
          -1.1677399803679211,
          0.31009378584304187,
          -1.2490679086498058,
          -0.4379990922558729,
          -0.9952159930252686,
          -0.2966223603061448,
          -1.2253946012973123,
          0.9035519742314471,
          -0.7487703835990225,
          0.5675216231819916,
          0.2756900234536723,
          0.18778109097989296,
          0.9879978844923218,
          0.7132407851991432,
          -1.1426759234117327,
          0.603840652919978,
          -2.1987237127928667,
          -0.22001923010514926,
          -0.8474271266004348,
          -0.6214670988523815,
          -2.59231971595352,
          1.3278421248432764,
          0.11190383360680248,
          0.9314195828328372,
          0.718216542817618,
          -0.42075368128977786,
          -0.6554575354437634,
          -0.626953050550036,
          1.1939125486493873
         ]
        },
        {
         "histfunc": "count",
         "histnorm": "",
         "marker": {
          "color": "rgba(50, 171, 96, 1.0)",
          "line": {
           "color": "#4D5663",
           "width": 1.3
          }
         },
         "name": "c",
         "opacity": 0.8,
         "orientation": "v",
         "type": "histogram",
         "x": [
          -1.3974399942298057,
          -1.2594475130421092,
          -0.5129099965513799,
          -1.4635316868003996,
          -0.036594916594382645,
          0.8386515146746838,
          1.1449293042599211,
          0.5025000377864617,
          -0.03716455206183781,
          1.3146641483878034,
          -2.278234077012857,
          1.0493201039900817,
          0.9803003093927106,
          -0.04880041287019022,
          0.19162835145411555,
          -0.7258437735625,
          -0.31344990276621376,
          0.6567052337724818,
          -0.3992004044020901,
          -1.460690954366173,
          1.143373627402732,
          1.426192951102635,
          -0.44971745884800807,
          0.8236730162851648,
          -0.2810409444957771,
          -1.2016804827635277,
          1.2306390281165533,
          -0.5552008293174706,
          -0.19337377840200753,
          0.8820068034767569,
          0.5273737977529509,
          1.569147278154652,
          0.9838124218074721,
          1.6560098562132635,
          0.635596970751312,
          -1.398243184093543,
          -0.2401893957907707,
          0.6583272757948146,
          0.2634210013276405,
          -0.07884437719855053,
          -2.1010630279519575,
          0.4046073689406953,
          -0.1978026749088829,
          0.3544669122529623,
          0.8676986036454316,
          -0.3381222914735889,
          0.6685169959977112,
          -1.8268978374432823,
          -1.3531072803819177,
          -0.552508690848112,
          -0.14498776539996722,
          0.5030044542437652,
          -0.17735530133869318,
          -0.08897184011598393,
          1.9664871533579928,
          -0.590160907020762,
          0.544437555568912,
          -0.7628199761660305,
          -0.37365608934370254,
          0.8149568189856771,
          1.4249776804923213,
          -1.7093514022201677,
          1.238908174942366,
          -1.71718557854535,
          -0.05147722651968288,
          0.8287930073555166,
          -0.8737659291251622,
          -0.9480135637863218,
          -1.1003475380444532,
          0.7457965183238748,
          0.6380570744905988,
          -0.3894208135806658,
          -0.6642137606994339,
          -1.140912977389208,
          1.0865520411835587,
          -1.2275379540163869,
          0.8242411648000758,
          0.12982334611742288,
          -1.5737224631153774,
          0.44117268893298894,
          1.0316925517073288,
          0.15956785954936245,
          1.179708144879079,
          -0.5728210381568386,
          1.0299163011895074,
          0.3908133622373693,
          1.9858908014819538,
          -0.8265475737502567,
          0.663924835481197,
          -0.23147551462621171,
          -1.056044503137501,
          0.31812921564814617,
          0.30028145129488937,
          -0.9816911288518367,
          -0.9339562697285321,
          0.3584643733701401,
          1.8651159293907649,
          -1.1035540728245703,
          1.1111769078969433,
          2.0446760759430442
         ]
        },
        {
         "histfunc": "count",
         "histnorm": "",
         "marker": {
          "color": "rgba(128, 0, 128, 1.0)",
          "line": {
           "color": "#4D5663",
           "width": 1.3
          }
         },
         "name": "D",
         "opacity": 0.8,
         "orientation": "v",
         "type": "histogram",
         "x": [
          0.7120048034929688,
          0.037571924176700806,
          1.863948112983124,
          -0.8556664182979131,
          -0.22261837615277336,
          0.41350449670492756,
          1.6203319543114292,
          -0.2922523733494632,
          -1.7539373666576838,
          0.9895320045429775,
          0.6318448981936109,
          -2.221576685925559,
          -0.12057006100410533,
          -0.05776636496414596,
          -0.5503220465509001,
          0.6545978632840582,
          -1.108061140375195,
          0.07774686112593811,
          1.229150370974735,
          -0.9598138995070781,
          0.2553171944844485,
          -0.5312106448067048,
          -1.1766260005405362,
          -0.0089501762525687,
          1.5357305984753062,
          0.7354671313986141,
          -0.8110184683542013,
          1.082732376664796,
          -0.8934927035933473,
          -1.016646011537697,
          -1.2860201170696968,
          0.004796454433750215,
          -1.8649249921030508,
          0.19547129650750394,
          -0.7254502544000017,
          -1.6445739312624716,
          -0.614241250384773,
          0.947651845351561,
          -1.1829359088163829,
          -1.384355202952411,
          0.11011242718255053,
          1.197455158046334,
          -0.42809558047270085,
          -0.9757842847717417,
          0.885172144164018,
          1.1923405037845802,
          -0.9919277073072876,
          -1.317679831294402,
          -1.3245404587186131,
          0.6506861115846233,
          -0.3609133291001237,
          0.6723962599973358,
          0.34651672208847856,
          1.8591750211248126,
          -1.3852200101858028,
          -0.27685358822990774,
          0.6335764261578918,
          -2.539314836996711,
          -1.510787315277079,
          -0.11055856979500045,
          -0.491375805495196,
          -1.0192197784726929,
          2.086455864161741,
          -0.5172615980217126,
          0.8206242370564809,
          0.9858645709405398,
          1.2762610290410306,
          0.10713476342941546,
          -1.8186277461605582,
          0.6769012046049316,
          0.01366795538713723,
          -0.8986405789162267,
          0.07231285425140163,
          -0.563039626463328,
          0.03487686615991759,
          -0.8182175173066304,
          -2.035545744474048,
          0.09189039328921121,
          -1.5303055946275959,
          -1.5055761685861304,
          0.28164563964491446,
          1.0157880022485497,
          0.8905634100993131,
          -0.26830036034539123,
          0.028666062007271165,
          0.36553025568632413,
          -0.946426411782622,
          0.6027942740326115,
          0.4934687406555518,
          -0.28555189970477807,
          -0.3729824060325359,
          0.5212299692379051,
          -0.33814790277305373,
          0.44248336172215885,
          -0.26115706117549087,
          -0.5807234130298736,
          0.24323436038576762,
          0.4293091582265946,
          -0.8297263173896147,
          -1.3550401158358816
         ]
        }
       ],
       "layout": {
        "barmode": "overlay",
        "legend": {
         "bgcolor": "#F5F6F9",
         "font": {
          "color": "#4D5663"
         }
        },
        "paper_bgcolor": "#F5F6F9",
        "plot_bgcolor": "#F5F6F9",
        "template": {
         "data": {
          "bar": [
           {
            "error_x": {
             "color": "#2a3f5f"
            },
            "error_y": {
             "color": "#2a3f5f"
            },
            "marker": {
             "line": {
              "color": "#E5ECF6",
              "width": 0.5
             },
             "pattern": {
              "fillmode": "overlay",
              "size": 10,
              "solidity": 0.2
             }
            },
            "type": "bar"
           }
          ],
          "barpolar": [
           {
            "marker": {
             "line": {
              "color": "#E5ECF6",
              "width": 0.5
             },
             "pattern": {
              "fillmode": "overlay",
              "size": 10,
              "solidity": 0.2
             }
            },
            "type": "barpolar"
           }
          ],
          "carpet": [
           {
            "aaxis": {
             "endlinecolor": "#2a3f5f",
             "gridcolor": "white",
             "linecolor": "white",
             "minorgridcolor": "white",
             "startlinecolor": "#2a3f5f"
            },
            "baxis": {
             "endlinecolor": "#2a3f5f",
             "gridcolor": "white",
             "linecolor": "white",
             "minorgridcolor": "white",
             "startlinecolor": "#2a3f5f"
            },
            "type": "carpet"
           }
          ],
          "choropleth": [
           {
            "colorbar": {
             "outlinewidth": 0,
             "ticks": ""
            },
            "type": "choropleth"
           }
          ],
          "contour": [
           {
            "colorbar": {
             "outlinewidth": 0,
             "ticks": ""
            },
            "colorscale": [
             [
              0,
              "#0d0887"
             ],
             [
              0.1111111111111111,
              "#46039f"
             ],
             [
              0.2222222222222222,
              "#7201a8"
             ],
             [
              0.3333333333333333,
              "#9c179e"
             ],
             [
              0.4444444444444444,
              "#bd3786"
             ],
             [
              0.5555555555555556,
              "#d8576b"
             ],
             [
              0.6666666666666666,
              "#ed7953"
             ],
             [
              0.7777777777777778,
              "#fb9f3a"
             ],
             [
              0.8888888888888888,
              "#fdca26"
             ],
             [
              1,
              "#f0f921"
             ]
            ],
            "type": "contour"
           }
          ],
          "contourcarpet": [
           {
            "colorbar": {
             "outlinewidth": 0,
             "ticks": ""
            },
            "type": "contourcarpet"
           }
          ],
          "heatmap": [
           {
            "colorbar": {
             "outlinewidth": 0,
             "ticks": ""
            },
            "colorscale": [
             [
              0,
              "#0d0887"
             ],
             [
              0.1111111111111111,
              "#46039f"
             ],
             [
              0.2222222222222222,
              "#7201a8"
             ],
             [
              0.3333333333333333,
              "#9c179e"
             ],
             [
              0.4444444444444444,
              "#bd3786"
             ],
             [
              0.5555555555555556,
              "#d8576b"
             ],
             [
              0.6666666666666666,
              "#ed7953"
             ],
             [
              0.7777777777777778,
              "#fb9f3a"
             ],
             [
              0.8888888888888888,
              "#fdca26"
             ],
             [
              1,
              "#f0f921"
             ]
            ],
            "type": "heatmap"
           }
          ],
          "heatmapgl": [
           {
            "colorbar": {
             "outlinewidth": 0,
             "ticks": ""
            },
            "colorscale": [
             [
              0,
              "#0d0887"
             ],
             [
              0.1111111111111111,
              "#46039f"
             ],
             [
              0.2222222222222222,
              "#7201a8"
             ],
             [
              0.3333333333333333,
              "#9c179e"
             ],
             [
              0.4444444444444444,
              "#bd3786"
             ],
             [
              0.5555555555555556,
              "#d8576b"
             ],
             [
              0.6666666666666666,
              "#ed7953"
             ],
             [
              0.7777777777777778,
              "#fb9f3a"
             ],
             [
              0.8888888888888888,
              "#fdca26"
             ],
             [
              1,
              "#f0f921"
             ]
            ],
            "type": "heatmapgl"
           }
          ],
          "histogram": [
           {
            "marker": {
             "pattern": {
              "fillmode": "overlay",
              "size": 10,
              "solidity": 0.2
             }
            },
            "type": "histogram"
           }
          ],
          "histogram2d": [
           {
            "colorbar": {
             "outlinewidth": 0,
             "ticks": ""
            },
            "colorscale": [
             [
              0,
              "#0d0887"
             ],
             [
              0.1111111111111111,
              "#46039f"
             ],
             [
              0.2222222222222222,
              "#7201a8"
             ],
             [
              0.3333333333333333,
              "#9c179e"
             ],
             [
              0.4444444444444444,
              "#bd3786"
             ],
             [
              0.5555555555555556,
              "#d8576b"
             ],
             [
              0.6666666666666666,
              "#ed7953"
             ],
             [
              0.7777777777777778,
              "#fb9f3a"
             ],
             [
              0.8888888888888888,
              "#fdca26"
             ],
             [
              1,
              "#f0f921"
             ]
            ],
            "type": "histogram2d"
           }
          ],
          "histogram2dcontour": [
           {
            "colorbar": {
             "outlinewidth": 0,
             "ticks": ""
            },
            "colorscale": [
             [
              0,
              "#0d0887"
             ],
             [
              0.1111111111111111,
              "#46039f"
             ],
             [
              0.2222222222222222,
              "#7201a8"
             ],
             [
              0.3333333333333333,
              "#9c179e"
             ],
             [
              0.4444444444444444,
              "#bd3786"
             ],
             [
              0.5555555555555556,
              "#d8576b"
             ],
             [
              0.6666666666666666,
              "#ed7953"
             ],
             [
              0.7777777777777778,
              "#fb9f3a"
             ],
             [
              0.8888888888888888,
              "#fdca26"
             ],
             [
              1,
              "#f0f921"
             ]
            ],
            "type": "histogram2dcontour"
           }
          ],
          "mesh3d": [
           {
            "colorbar": {
             "outlinewidth": 0,
             "ticks": ""
            },
            "type": "mesh3d"
           }
          ],
          "parcoords": [
           {
            "line": {
             "colorbar": {
              "outlinewidth": 0,
              "ticks": ""
             }
            },
            "type": "parcoords"
           }
          ],
          "pie": [
           {
            "automargin": true,
            "type": "pie"
           }
          ],
          "scatter": [
           {
            "fillpattern": {
             "fillmode": "overlay",
             "size": 10,
             "solidity": 0.2
            },
            "type": "scatter"
           }
          ],
          "scatter3d": [
           {
            "line": {
             "colorbar": {
              "outlinewidth": 0,
              "ticks": ""
             }
            },
            "marker": {
             "colorbar": {
              "outlinewidth": 0,
              "ticks": ""
             }
            },
            "type": "scatter3d"
           }
          ],
          "scattercarpet": [
           {
            "marker": {
             "colorbar": {
              "outlinewidth": 0,
              "ticks": ""
             }
            },
            "type": "scattercarpet"
           }
          ],
          "scattergeo": [
           {
            "marker": {
             "colorbar": {
              "outlinewidth": 0,
              "ticks": ""
             }
            },
            "type": "scattergeo"
           }
          ],
          "scattergl": [
           {
            "marker": {
             "colorbar": {
              "outlinewidth": 0,
              "ticks": ""
             }
            },
            "type": "scattergl"
           }
          ],
          "scattermapbox": [
           {
            "marker": {
             "colorbar": {
              "outlinewidth": 0,
              "ticks": ""
             }
            },
            "type": "scattermapbox"
           }
          ],
          "scatterpolar": [
           {
            "marker": {
             "colorbar": {
              "outlinewidth": 0,
              "ticks": ""
             }
            },
            "type": "scatterpolar"
           }
          ],
          "scatterpolargl": [
           {
            "marker": {
             "colorbar": {
              "outlinewidth": 0,
              "ticks": ""
             }
            },
            "type": "scatterpolargl"
           }
          ],
          "scatterternary": [
           {
            "marker": {
             "colorbar": {
              "outlinewidth": 0,
              "ticks": ""
             }
            },
            "type": "scatterternary"
           }
          ],
          "surface": [
           {
            "colorbar": {
             "outlinewidth": 0,
             "ticks": ""
            },
            "colorscale": [
             [
              0,
              "#0d0887"
             ],
             [
              0.1111111111111111,
              "#46039f"
             ],
             [
              0.2222222222222222,
              "#7201a8"
             ],
             [
              0.3333333333333333,
              "#9c179e"
             ],
             [
              0.4444444444444444,
              "#bd3786"
             ],
             [
              0.5555555555555556,
              "#d8576b"
             ],
             [
              0.6666666666666666,
              "#ed7953"
             ],
             [
              0.7777777777777778,
              "#fb9f3a"
             ],
             [
              0.8888888888888888,
              "#fdca26"
             ],
             [
              1,
              "#f0f921"
             ]
            ],
            "type": "surface"
           }
          ],
          "table": [
           {
            "cells": {
             "fill": {
              "color": "#EBF0F8"
             },
             "line": {
              "color": "white"
             }
            },
            "header": {
             "fill": {
              "color": "#C8D4E3"
             },
             "line": {
              "color": "white"
             }
            },
            "type": "table"
           }
          ]
         },
         "layout": {
          "annotationdefaults": {
           "arrowcolor": "#2a3f5f",
           "arrowhead": 0,
           "arrowwidth": 1
          },
          "autotypenumbers": "strict",
          "coloraxis": {
           "colorbar": {
            "outlinewidth": 0,
            "ticks": ""
           }
          },
          "colorscale": {
           "diverging": [
            [
             0,
             "#8e0152"
            ],
            [
             0.1,
             "#c51b7d"
            ],
            [
             0.2,
             "#de77ae"
            ],
            [
             0.3,
             "#f1b6da"
            ],
            [
             0.4,
             "#fde0ef"
            ],
            [
             0.5,
             "#f7f7f7"
            ],
            [
             0.6,
             "#e6f5d0"
            ],
            [
             0.7,
             "#b8e186"
            ],
            [
             0.8,
             "#7fbc41"
            ],
            [
             0.9,
             "#4d9221"
            ],
            [
             1,
             "#276419"
            ]
           ],
           "sequential": [
            [
             0,
             "#0d0887"
            ],
            [
             0.1111111111111111,
             "#46039f"
            ],
            [
             0.2222222222222222,
             "#7201a8"
            ],
            [
             0.3333333333333333,
             "#9c179e"
            ],
            [
             0.4444444444444444,
             "#bd3786"
            ],
            [
             0.5555555555555556,
             "#d8576b"
            ],
            [
             0.6666666666666666,
             "#ed7953"
            ],
            [
             0.7777777777777778,
             "#fb9f3a"
            ],
            [
             0.8888888888888888,
             "#fdca26"
            ],
            [
             1,
             "#f0f921"
            ]
           ],
           "sequentialminus": [
            [
             0,
             "#0d0887"
            ],
            [
             0.1111111111111111,
             "#46039f"
            ],
            [
             0.2222222222222222,
             "#7201a8"
            ],
            [
             0.3333333333333333,
             "#9c179e"
            ],
            [
             0.4444444444444444,
             "#bd3786"
            ],
            [
             0.5555555555555556,
             "#d8576b"
            ],
            [
             0.6666666666666666,
             "#ed7953"
            ],
            [
             0.7777777777777778,
             "#fb9f3a"
            ],
            [
             0.8888888888888888,
             "#fdca26"
            ],
            [
             1,
             "#f0f921"
            ]
           ]
          },
          "colorway": [
           "#636efa",
           "#EF553B",
           "#00cc96",
           "#ab63fa",
           "#FFA15A",
           "#19d3f3",
           "#FF6692",
           "#B6E880",
           "#FF97FF",
           "#FECB52"
          ],
          "font": {
           "color": "#2a3f5f"
          },
          "geo": {
           "bgcolor": "white",
           "lakecolor": "white",
           "landcolor": "#E5ECF6",
           "showlakes": true,
           "showland": true,
           "subunitcolor": "white"
          },
          "hoverlabel": {
           "align": "left"
          },
          "hovermode": "closest",
          "mapbox": {
           "style": "light"
          },
          "paper_bgcolor": "white",
          "plot_bgcolor": "#E5ECF6",
          "polar": {
           "angularaxis": {
            "gridcolor": "white",
            "linecolor": "white",
            "ticks": ""
           },
           "bgcolor": "#E5ECF6",
           "radialaxis": {
            "gridcolor": "white",
            "linecolor": "white",
            "ticks": ""
           }
          },
          "scene": {
           "xaxis": {
            "backgroundcolor": "#E5ECF6",
            "gridcolor": "white",
            "gridwidth": 2,
            "linecolor": "white",
            "showbackground": true,
            "ticks": "",
            "zerolinecolor": "white"
           },
           "yaxis": {
            "backgroundcolor": "#E5ECF6",
            "gridcolor": "white",
            "gridwidth": 2,
            "linecolor": "white",
            "showbackground": true,
            "ticks": "",
            "zerolinecolor": "white"
           },
           "zaxis": {
            "backgroundcolor": "#E5ECF6",
            "gridcolor": "white",
            "gridwidth": 2,
            "linecolor": "white",
            "showbackground": true,
            "ticks": "",
            "zerolinecolor": "white"
           }
          },
          "shapedefaults": {
           "line": {
            "color": "#2a3f5f"
           }
          },
          "ternary": {
           "aaxis": {
            "gridcolor": "white",
            "linecolor": "white",
            "ticks": ""
           },
           "baxis": {
            "gridcolor": "white",
            "linecolor": "white",
            "ticks": ""
           },
           "bgcolor": "#E5ECF6",
           "caxis": {
            "gridcolor": "white",
            "linecolor": "white",
            "ticks": ""
           }
          },
          "title": {
           "x": 0.05
          },
          "xaxis": {
           "automargin": true,
           "gridcolor": "white",
           "linecolor": "white",
           "ticks": "",
           "title": {
            "standoff": 15
           },
           "zerolinecolor": "white",
           "zerolinewidth": 2
          },
          "yaxis": {
           "automargin": true,
           "gridcolor": "white",
           "linecolor": "white",
           "ticks": "",
           "title": {
            "standoff": 15
           },
           "zerolinecolor": "white",
           "zerolinewidth": 2
          }
         }
        },
        "title": {
         "font": {
          "color": "#4D5663"
         }
        },
        "xaxis": {
         "gridcolor": "#E1E5ED",
         "showgrid": true,
         "tickfont": {
          "color": "#4D5663"
         },
         "title": {
          "font": {
           "color": "#4D5663"
          },
          "text": ""
         },
         "zerolinecolor": "#E1E5ED"
        },
        "yaxis": {
         "gridcolor": "#E1E5ED",
         "showgrid": true,
         "tickfont": {
          "color": "#4D5663"
         },
         "title": {
          "font": {
           "color": "#4D5663"
          },
          "text": ""
         },
         "zerolinecolor": "#E1E5ED"
        }
       }
      },
      "text/html": [
       "<div>                            <div id=\"7b896bd4-c7b4-4297-aee0-fc8ce1f47409\" class=\"plotly-graph-div\" style=\"height:525px; width:100%;\"></div>            <script type=\"text/javascript\">                require([\"plotly\"], function(Plotly) {                    window.PLOTLYENV=window.PLOTLYENV || {};\n",
       "                    window.PLOTLYENV.BASE_URL='https://plot.ly';                                    if (document.getElementById(\"7b896bd4-c7b4-4297-aee0-fc8ce1f47409\")) {                    Plotly.newPlot(                        \"7b896bd4-c7b4-4297-aee0-fc8ce1f47409\",                        [{\"histfunc\":\"count\",\"histnorm\":\"\",\"marker\":{\"color\":\"rgba(255, 153, 51, 1.0)\",\"line\":{\"color\":\"#4D5663\",\"width\":1.3}},\"name\":\"A\",\"opacity\":0.8,\"orientation\":\"v\",\"x\":[-1.4939770193839113,0.14667142183123638,-0.1689240577557097,-2.5641137671536414,-1.5656121600558734,-1.2167004550556926,-0.5027845423972647,-0.19736293137528313,-0.4202320935653999,-0.6080146837161412,-1.230234537785847,-0.834544271094505,-0.7525609946685502,0.5523681023146403,0.3229589353270958,-0.997243590029998,1.6663098194289763,0.0877021878991175,-0.6060662026850341,-0.29003690869874343,0.8703676454073761,-0.3396656057424267,-0.6110092567412334,0.1472139397558027,-0.6994199594869444,-0.6158638170930033,0.6156004196442771,-0.33322696721037726,0.6696539231968791,-0.33925674088411095,0.8509919769727514,0.9645731195640609,2.427305453475825,0.976392584761381,1.7805857148536182,-0.6989982312628092,0.9057176562148805,0.41450153571613857,-1.6659821355531175,-1.105415801135921,-0.62185838308645,0.26305694720859163,-1.230184259105579,0.32487346783814625,-0.37518768510514555,-0.22521033590958614,-1.259372996663426,1.5609125053294142,-0.9177503491967661,-0.9235315213198988,1.1577654753378852,-1.6401526659124528,-1.0315814928703455,-0.17240986524184343,-1.6356154035797161,0.46896934471230545,0.7402280597029676,0.643571936309595,0.9789590030816315,0.4323966143449856,0.24984758212242894,0.05696615292061845,-0.22292926821963566,-1.5621053325723102,1.030043388900891,-2.1995026016841543,-0.9890315345511191,1.0610392086975546,-0.23948857174764943,-0.7085900231874463,1.6112436502127536,-0.068776323064688,-0.8630943776533021,0.21452073139849748,-0.6856857035422566,0.1604062806895764,-1.098694902114377,-0.004486955967236525,0.41358080038338224,-1.1308639855228306,1.3416129442187854,-1.1604840579000024,0.7859899459979105,-0.5378788796193937,-0.7823692774339261,-1.2475717135229125,-0.027819608867832593,-1.887835449605791,0.9312913941371009,-0.6762071639586086,-0.7166774860693382,1.3317430206692487,-0.5679228874173067,-0.9745452514729301,0.11099751388451033,1.4746054242805158,0.22633225768022122,-1.073948519445465,1.3499284499026483,-0.36978755761701826],\"type\":\"histogram\"},{\"histfunc\":\"count\",\"histnorm\":\"\",\"marker\":{\"color\":\"rgba(55, 128, 191, 1.0)\",\"line\":{\"color\":\"#4D5663\",\"width\":1.3}},\"name\":\"B\",\"opacity\":0.8,\"orientation\":\"v\",\"x\":[-0.17932594922892936,-1.2334150241168818,0.3491829430803454,0.22140507174626994,-0.4311921325864654,0.2728526806525845,-0.14671619073051312,-0.8361711948295325,-2.0525996827183524,1.2238954636242012,0.16748171442020826,0.9742348415959232,-1.459462066979266,0.560522495645634,0.22594078882224689,0.9936125565222024,2.0378905674033154,-0.15589591029106117,-1.037914776778365,0.5972560045854091,1.5396143307194154,-0.633578357203016,1.4549286148744829,-0.7602467680969238,1.4818952741568785,-0.35542676894068576,-0.1672124933215106,-0.4686208341591621,-0.6596271840718666,-0.7021120601503211,-0.4030312229739508,-2.4891767827615854,1.8067985741691368,0.3642482006924113,0.4633123311347458,-0.28776563158624496,-0.039824002265676645,0.3394186664968411,0.264005519683204,0.1997684212563469,-1.5972630604729419,-0.013363487980902096,0.628306211667071,0.014837486688604832,1.7299977564779727,0.8424498055863454,1.592948338505741,0.1908669085436572,2.7651347652023914,-0.052526911488933854,-1.3262825475191269,-0.7291649507936764,1.2249018261233362,0.6129613428385257,0.33058371496375294,0.4578414828592958,0.30186994670170814,0.23016785504505452,-0.8362591785189375,-0.19513012931737245,-0.9467488889374831,-0.020796939278777533,-0.7662354218695511,-0.5591934120199998,1.5520463274111282,-1.054375281258254,0.06319501059080465,0.14793864881395666,-0.8352938765626658,0.327098277975738,-0.5179048631445157,-1.1677399803679211,0.31009378584304187,-1.2490679086498058,-0.4379990922558729,-0.9952159930252686,-0.2966223603061448,-1.2253946012973123,0.9035519742314471,-0.7487703835990225,0.5675216231819916,0.2756900234536723,0.18778109097989296,0.9879978844923218,0.7132407851991432,-1.1426759234117327,0.603840652919978,-2.1987237127928667,-0.22001923010514926,-0.8474271266004348,-0.6214670988523815,-2.59231971595352,1.3278421248432764,0.11190383360680248,0.9314195828328372,0.718216542817618,-0.42075368128977786,-0.6554575354437634,-0.626953050550036,1.1939125486493873],\"type\":\"histogram\"},{\"histfunc\":\"count\",\"histnorm\":\"\",\"marker\":{\"color\":\"rgba(50, 171, 96, 1.0)\",\"line\":{\"color\":\"#4D5663\",\"width\":1.3}},\"name\":\"c\",\"opacity\":0.8,\"orientation\":\"v\",\"x\":[-1.3974399942298057,-1.2594475130421092,-0.5129099965513799,-1.4635316868003996,-0.036594916594382645,0.8386515146746838,1.1449293042599211,0.5025000377864617,-0.03716455206183781,1.3146641483878034,-2.278234077012857,1.0493201039900817,0.9803003093927106,-0.04880041287019022,0.19162835145411555,-0.7258437735625,-0.31344990276621376,0.6567052337724818,-0.3992004044020901,-1.460690954366173,1.143373627402732,1.426192951102635,-0.44971745884800807,0.8236730162851648,-0.2810409444957771,-1.2016804827635277,1.2306390281165533,-0.5552008293174706,-0.19337377840200753,0.8820068034767569,0.5273737977529509,1.569147278154652,0.9838124218074721,1.6560098562132635,0.635596970751312,-1.398243184093543,-0.2401893957907707,0.6583272757948146,0.2634210013276405,-0.07884437719855053,-2.1010630279519575,0.4046073689406953,-0.1978026749088829,0.3544669122529623,0.8676986036454316,-0.3381222914735889,0.6685169959977112,-1.8268978374432823,-1.3531072803819177,-0.552508690848112,-0.14498776539996722,0.5030044542437652,-0.17735530133869318,-0.08897184011598393,1.9664871533579928,-0.590160907020762,0.544437555568912,-0.7628199761660305,-0.37365608934370254,0.8149568189856771,1.4249776804923213,-1.7093514022201677,1.238908174942366,-1.71718557854535,-0.05147722651968288,0.8287930073555166,-0.8737659291251622,-0.9480135637863218,-1.1003475380444532,0.7457965183238748,0.6380570744905988,-0.3894208135806658,-0.6642137606994339,-1.140912977389208,1.0865520411835587,-1.2275379540163869,0.8242411648000758,0.12982334611742288,-1.5737224631153774,0.44117268893298894,1.0316925517073288,0.15956785954936245,1.179708144879079,-0.5728210381568386,1.0299163011895074,0.3908133622373693,1.9858908014819538,-0.8265475737502567,0.663924835481197,-0.23147551462621171,-1.056044503137501,0.31812921564814617,0.30028145129488937,-0.9816911288518367,-0.9339562697285321,0.3584643733701401,1.8651159293907649,-1.1035540728245703,1.1111769078969433,2.0446760759430442],\"type\":\"histogram\"},{\"histfunc\":\"count\",\"histnorm\":\"\",\"marker\":{\"color\":\"rgba(128, 0, 128, 1.0)\",\"line\":{\"color\":\"#4D5663\",\"width\":1.3}},\"name\":\"D\",\"opacity\":0.8,\"orientation\":\"v\",\"x\":[0.7120048034929688,0.037571924176700806,1.863948112983124,-0.8556664182979131,-0.22261837615277336,0.41350449670492756,1.6203319543114292,-0.2922523733494632,-1.7539373666576838,0.9895320045429775,0.6318448981936109,-2.221576685925559,-0.12057006100410533,-0.05776636496414596,-0.5503220465509001,0.6545978632840582,-1.108061140375195,0.07774686112593811,1.229150370974735,-0.9598138995070781,0.2553171944844485,-0.5312106448067048,-1.1766260005405362,-0.0089501762525687,1.5357305984753062,0.7354671313986141,-0.8110184683542013,1.082732376664796,-0.8934927035933473,-1.016646011537697,-1.2860201170696968,0.004796454433750215,-1.8649249921030508,0.19547129650750394,-0.7254502544000017,-1.6445739312624716,-0.614241250384773,0.947651845351561,-1.1829359088163829,-1.384355202952411,0.11011242718255053,1.197455158046334,-0.42809558047270085,-0.9757842847717417,0.885172144164018,1.1923405037845802,-0.9919277073072876,-1.317679831294402,-1.3245404587186131,0.6506861115846233,-0.3609133291001237,0.6723962599973358,0.34651672208847856,1.8591750211248126,-1.3852200101858028,-0.27685358822990774,0.6335764261578918,-2.539314836996711,-1.510787315277079,-0.11055856979500045,-0.491375805495196,-1.0192197784726929,2.086455864161741,-0.5172615980217126,0.8206242370564809,0.9858645709405398,1.2762610290410306,0.10713476342941546,-1.8186277461605582,0.6769012046049316,0.01366795538713723,-0.8986405789162267,0.07231285425140163,-0.563039626463328,0.03487686615991759,-0.8182175173066304,-2.035545744474048,0.09189039328921121,-1.5303055946275959,-1.5055761685861304,0.28164563964491446,1.0157880022485497,0.8905634100993131,-0.26830036034539123,0.028666062007271165,0.36553025568632413,-0.946426411782622,0.6027942740326115,0.4934687406555518,-0.28555189970477807,-0.3729824060325359,0.5212299692379051,-0.33814790277305373,0.44248336172215885,-0.26115706117549087,-0.5807234130298736,0.24323436038576762,0.4293091582265946,-0.8297263173896147,-1.3550401158358816],\"type\":\"histogram\"}],                        {\"barmode\":\"overlay\",\"legend\":{\"bgcolor\":\"#F5F6F9\",\"font\":{\"color\":\"#4D5663\"}},\"paper_bgcolor\":\"#F5F6F9\",\"plot_bgcolor\":\"#F5F6F9\",\"template\":{\"data\":{\"barpolar\":[{\"marker\":{\"line\":{\"color\":\"#E5ECF6\",\"width\":0.5},\"pattern\":{\"fillmode\":\"overlay\",\"size\":10,\"solidity\":0.2}},\"type\":\"barpolar\"}],\"bar\":[{\"error_x\":{\"color\":\"#2a3f5f\"},\"error_y\":{\"color\":\"#2a3f5f\"},\"marker\":{\"line\":{\"color\":\"#E5ECF6\",\"width\":0.5},\"pattern\":{\"fillmode\":\"overlay\",\"size\":10,\"solidity\":0.2}},\"type\":\"bar\"}],\"carpet\":[{\"aaxis\":{\"endlinecolor\":\"#2a3f5f\",\"gridcolor\":\"white\",\"linecolor\":\"white\",\"minorgridcolor\":\"white\",\"startlinecolor\":\"#2a3f5f\"},\"baxis\":{\"endlinecolor\":\"#2a3f5f\",\"gridcolor\":\"white\",\"linecolor\":\"white\",\"minorgridcolor\":\"white\",\"startlinecolor\":\"#2a3f5f\"},\"type\":\"carpet\"}],\"choropleth\":[{\"colorbar\":{\"outlinewidth\":0,\"ticks\":\"\"},\"type\":\"choropleth\"}],\"contourcarpet\":[{\"colorbar\":{\"outlinewidth\":0,\"ticks\":\"\"},\"type\":\"contourcarpet\"}],\"contour\":[{\"colorbar\":{\"outlinewidth\":0,\"ticks\":\"\"},\"colorscale\":[[0.0,\"#0d0887\"],[0.1111111111111111,\"#46039f\"],[0.2222222222222222,\"#7201a8\"],[0.3333333333333333,\"#9c179e\"],[0.4444444444444444,\"#bd3786\"],[0.5555555555555556,\"#d8576b\"],[0.6666666666666666,\"#ed7953\"],[0.7777777777777778,\"#fb9f3a\"],[0.8888888888888888,\"#fdca26\"],[1.0,\"#f0f921\"]],\"type\":\"contour\"}],\"heatmapgl\":[{\"colorbar\":{\"outlinewidth\":0,\"ticks\":\"\"},\"colorscale\":[[0.0,\"#0d0887\"],[0.1111111111111111,\"#46039f\"],[0.2222222222222222,\"#7201a8\"],[0.3333333333333333,\"#9c179e\"],[0.4444444444444444,\"#bd3786\"],[0.5555555555555556,\"#d8576b\"],[0.6666666666666666,\"#ed7953\"],[0.7777777777777778,\"#fb9f3a\"],[0.8888888888888888,\"#fdca26\"],[1.0,\"#f0f921\"]],\"type\":\"heatmapgl\"}],\"heatmap\":[{\"colorbar\":{\"outlinewidth\":0,\"ticks\":\"\"},\"colorscale\":[[0.0,\"#0d0887\"],[0.1111111111111111,\"#46039f\"],[0.2222222222222222,\"#7201a8\"],[0.3333333333333333,\"#9c179e\"],[0.4444444444444444,\"#bd3786\"],[0.5555555555555556,\"#d8576b\"],[0.6666666666666666,\"#ed7953\"],[0.7777777777777778,\"#fb9f3a\"],[0.8888888888888888,\"#fdca26\"],[1.0,\"#f0f921\"]],\"type\":\"heatmap\"}],\"histogram2dcontour\":[{\"colorbar\":{\"outlinewidth\":0,\"ticks\":\"\"},\"colorscale\":[[0.0,\"#0d0887\"],[0.1111111111111111,\"#46039f\"],[0.2222222222222222,\"#7201a8\"],[0.3333333333333333,\"#9c179e\"],[0.4444444444444444,\"#bd3786\"],[0.5555555555555556,\"#d8576b\"],[0.6666666666666666,\"#ed7953\"],[0.7777777777777778,\"#fb9f3a\"],[0.8888888888888888,\"#fdca26\"],[1.0,\"#f0f921\"]],\"type\":\"histogram2dcontour\"}],\"histogram2d\":[{\"colorbar\":{\"outlinewidth\":0,\"ticks\":\"\"},\"colorscale\":[[0.0,\"#0d0887\"],[0.1111111111111111,\"#46039f\"],[0.2222222222222222,\"#7201a8\"],[0.3333333333333333,\"#9c179e\"],[0.4444444444444444,\"#bd3786\"],[0.5555555555555556,\"#d8576b\"],[0.6666666666666666,\"#ed7953\"],[0.7777777777777778,\"#fb9f3a\"],[0.8888888888888888,\"#fdca26\"],[1.0,\"#f0f921\"]],\"type\":\"histogram2d\"}],\"histogram\":[{\"marker\":{\"pattern\":{\"fillmode\":\"overlay\",\"size\":10,\"solidity\":0.2}},\"type\":\"histogram\"}],\"mesh3d\":[{\"colorbar\":{\"outlinewidth\":0,\"ticks\":\"\"},\"type\":\"mesh3d\"}],\"parcoords\":[{\"line\":{\"colorbar\":{\"outlinewidth\":0,\"ticks\":\"\"}},\"type\":\"parcoords\"}],\"pie\":[{\"automargin\":true,\"type\":\"pie\"}],\"scatter3d\":[{\"line\":{\"colorbar\":{\"outlinewidth\":0,\"ticks\":\"\"}},\"marker\":{\"colorbar\":{\"outlinewidth\":0,\"ticks\":\"\"}},\"type\":\"scatter3d\"}],\"scattercarpet\":[{\"marker\":{\"colorbar\":{\"outlinewidth\":0,\"ticks\":\"\"}},\"type\":\"scattercarpet\"}],\"scattergeo\":[{\"marker\":{\"colorbar\":{\"outlinewidth\":0,\"ticks\":\"\"}},\"type\":\"scattergeo\"}],\"scattergl\":[{\"marker\":{\"colorbar\":{\"outlinewidth\":0,\"ticks\":\"\"}},\"type\":\"scattergl\"}],\"scattermapbox\":[{\"marker\":{\"colorbar\":{\"outlinewidth\":0,\"ticks\":\"\"}},\"type\":\"scattermapbox\"}],\"scatterpolargl\":[{\"marker\":{\"colorbar\":{\"outlinewidth\":0,\"ticks\":\"\"}},\"type\":\"scatterpolargl\"}],\"scatterpolar\":[{\"marker\":{\"colorbar\":{\"outlinewidth\":0,\"ticks\":\"\"}},\"type\":\"scatterpolar\"}],\"scatter\":[{\"fillpattern\":{\"fillmode\":\"overlay\",\"size\":10,\"solidity\":0.2},\"type\":\"scatter\"}],\"scatterternary\":[{\"marker\":{\"colorbar\":{\"outlinewidth\":0,\"ticks\":\"\"}},\"type\":\"scatterternary\"}],\"surface\":[{\"colorbar\":{\"outlinewidth\":0,\"ticks\":\"\"},\"colorscale\":[[0.0,\"#0d0887\"],[0.1111111111111111,\"#46039f\"],[0.2222222222222222,\"#7201a8\"],[0.3333333333333333,\"#9c179e\"],[0.4444444444444444,\"#bd3786\"],[0.5555555555555556,\"#d8576b\"],[0.6666666666666666,\"#ed7953\"],[0.7777777777777778,\"#fb9f3a\"],[0.8888888888888888,\"#fdca26\"],[1.0,\"#f0f921\"]],\"type\":\"surface\"}],\"table\":[{\"cells\":{\"fill\":{\"color\":\"#EBF0F8\"},\"line\":{\"color\":\"white\"}},\"header\":{\"fill\":{\"color\":\"#C8D4E3\"},\"line\":{\"color\":\"white\"}},\"type\":\"table\"}]},\"layout\":{\"annotationdefaults\":{\"arrowcolor\":\"#2a3f5f\",\"arrowhead\":0,\"arrowwidth\":1},\"autotypenumbers\":\"strict\",\"coloraxis\":{\"colorbar\":{\"outlinewidth\":0,\"ticks\":\"\"}},\"colorscale\":{\"diverging\":[[0,\"#8e0152\"],[0.1,\"#c51b7d\"],[0.2,\"#de77ae\"],[0.3,\"#f1b6da\"],[0.4,\"#fde0ef\"],[0.5,\"#f7f7f7\"],[0.6,\"#e6f5d0\"],[0.7,\"#b8e186\"],[0.8,\"#7fbc41\"],[0.9,\"#4d9221\"],[1,\"#276419\"]],\"sequential\":[[0.0,\"#0d0887\"],[0.1111111111111111,\"#46039f\"],[0.2222222222222222,\"#7201a8\"],[0.3333333333333333,\"#9c179e\"],[0.4444444444444444,\"#bd3786\"],[0.5555555555555556,\"#d8576b\"],[0.6666666666666666,\"#ed7953\"],[0.7777777777777778,\"#fb9f3a\"],[0.8888888888888888,\"#fdca26\"],[1.0,\"#f0f921\"]],\"sequentialminus\":[[0.0,\"#0d0887\"],[0.1111111111111111,\"#46039f\"],[0.2222222222222222,\"#7201a8\"],[0.3333333333333333,\"#9c179e\"],[0.4444444444444444,\"#bd3786\"],[0.5555555555555556,\"#d8576b\"],[0.6666666666666666,\"#ed7953\"],[0.7777777777777778,\"#fb9f3a\"],[0.8888888888888888,\"#fdca26\"],[1.0,\"#f0f921\"]]},\"colorway\":[\"#636efa\",\"#EF553B\",\"#00cc96\",\"#ab63fa\",\"#FFA15A\",\"#19d3f3\",\"#FF6692\",\"#B6E880\",\"#FF97FF\",\"#FECB52\"],\"font\":{\"color\":\"#2a3f5f\"},\"geo\":{\"bgcolor\":\"white\",\"lakecolor\":\"white\",\"landcolor\":\"#E5ECF6\",\"showlakes\":true,\"showland\":true,\"subunitcolor\":\"white\"},\"hoverlabel\":{\"align\":\"left\"},\"hovermode\":\"closest\",\"mapbox\":{\"style\":\"light\"},\"paper_bgcolor\":\"white\",\"plot_bgcolor\":\"#E5ECF6\",\"polar\":{\"angularaxis\":{\"gridcolor\":\"white\",\"linecolor\":\"white\",\"ticks\":\"\"},\"bgcolor\":\"#E5ECF6\",\"radialaxis\":{\"gridcolor\":\"white\",\"linecolor\":\"white\",\"ticks\":\"\"}},\"scene\":{\"xaxis\":{\"backgroundcolor\":\"#E5ECF6\",\"gridcolor\":\"white\",\"gridwidth\":2,\"linecolor\":\"white\",\"showbackground\":true,\"ticks\":\"\",\"zerolinecolor\":\"white\"},\"yaxis\":{\"backgroundcolor\":\"#E5ECF6\",\"gridcolor\":\"white\",\"gridwidth\":2,\"linecolor\":\"white\",\"showbackground\":true,\"ticks\":\"\",\"zerolinecolor\":\"white\"},\"zaxis\":{\"backgroundcolor\":\"#E5ECF6\",\"gridcolor\":\"white\",\"gridwidth\":2,\"linecolor\":\"white\",\"showbackground\":true,\"ticks\":\"\",\"zerolinecolor\":\"white\"}},\"shapedefaults\":{\"line\":{\"color\":\"#2a3f5f\"}},\"ternary\":{\"aaxis\":{\"gridcolor\":\"white\",\"linecolor\":\"white\",\"ticks\":\"\"},\"baxis\":{\"gridcolor\":\"white\",\"linecolor\":\"white\",\"ticks\":\"\"},\"bgcolor\":\"#E5ECF6\",\"caxis\":{\"gridcolor\":\"white\",\"linecolor\":\"white\",\"ticks\":\"\"}},\"title\":{\"x\":0.05},\"xaxis\":{\"automargin\":true,\"gridcolor\":\"white\",\"linecolor\":\"white\",\"ticks\":\"\",\"title\":{\"standoff\":15},\"zerolinecolor\":\"white\",\"zerolinewidth\":2},\"yaxis\":{\"automargin\":true,\"gridcolor\":\"white\",\"linecolor\":\"white\",\"ticks\":\"\",\"title\":{\"standoff\":15},\"zerolinecolor\":\"white\",\"zerolinewidth\":2}}},\"title\":{\"font\":{\"color\":\"#4D5663\"}},\"xaxis\":{\"gridcolor\":\"#E1E5ED\",\"showgrid\":true,\"tickfont\":{\"color\":\"#4D5663\"},\"title\":{\"font\":{\"color\":\"#4D5663\"},\"text\":\"\"},\"zerolinecolor\":\"#E1E5ED\"},\"yaxis\":{\"gridcolor\":\"#E1E5ED\",\"showgrid\":true,\"tickfont\":{\"color\":\"#4D5663\"},\"title\":{\"font\":{\"color\":\"#4D5663\"},\"text\":\"\"},\"zerolinecolor\":\"#E1E5ED\"}},                        {\"showLink\": true, \"linkText\": \"Export to plot.ly\", \"plotlyServerURL\": \"https://plot.ly\", \"responsive\": true}                    ).then(function(){\n",
       "                            \n",
       "var gd = document.getElementById('7b896bd4-c7b4-4297-aee0-fc8ce1f47409');\n",
       "var x = new MutationObserver(function (mutations, observer) {{\n",
       "        var display = window.getComputedStyle(gd).display;\n",
       "        if (!display || display === 'none') {{\n",
       "            console.log([gd, 'removed!']);\n",
       "            Plotly.purge(gd);\n",
       "            observer.disconnect();\n",
       "        }}\n",
       "}});\n",
       "\n",
       "// Listen for the removal of the full notebook cells\n",
       "var notebookContainer = gd.closest('#notebook-container');\n",
       "if (notebookContainer) {{\n",
       "    x.observe(notebookContainer, {childList: true});\n",
       "}}\n",
       "\n",
       "// Listen for the clearing of the current output cell\n",
       "var outputEl = gd.closest('.output');\n",
       "if (outputEl) {{\n",
       "    x.observe(outputEl, {childList: true});\n",
       "}}\n",
       "\n",
       "                        })                };                });            </script>        </div>"
      ]
     },
     "metadata": {},
     "output_type": "display_data"
    }
   ],
   "source": [
    "df.iplot(kind='hist')"
   ]
  },
  {
   "cell_type": "code",
   "execution_count": 38,
   "id": "2d152f79",
   "metadata": {},
   "outputs": [
    {
     "name": "stderr",
     "output_type": "stream",
     "text": [
      "C:\\Users\\harsh\\anaconda3\\envs\\common\\lib\\site-packages\\cufflinks\\plotlytools.py:849: FutureWarning:\n",
      "\n",
      "The pandas.np module is deprecated and will be removed from pandas in a future version. Import numpy directly instead.\n",
      "\n",
      "C:\\Users\\harsh\\anaconda3\\envs\\common\\lib\\site-packages\\cufflinks\\plotlytools.py:850: FutureWarning:\n",
      "\n",
      "The pandas.np module is deprecated and will be removed from pandas in a future version. Import numpy directly instead.\n",
      "\n"
     ]
    },
    {
     "data": {
      "application/vnd.plotly.v1+json": {
       "config": {
        "linkText": "Export to plot.ly",
        "plotlyServerURL": "https://plot.ly",
        "showLink": true
       },
       "data": [
        {
         "line": {
          "color": "rgba(255, 153, 51, 1.0)",
          "dash": "solid",
          "shape": "linear",
          "width": 1.3
         },
         "mode": "lines",
         "name": "A",
         "text": "",
         "type": "scatter",
         "x": [
          0,
          1,
          2,
          3,
          4,
          5,
          6,
          7,
          8,
          9,
          10,
          11,
          12,
          13,
          14,
          15,
          16,
          17,
          18,
          19,
          20,
          21,
          22,
          23,
          24,
          25,
          26,
          27,
          28,
          29,
          30,
          31,
          32,
          33,
          34,
          35,
          36,
          37,
          38,
          39,
          40,
          41,
          42,
          43,
          44,
          45,
          46,
          47,
          48,
          49,
          50,
          51,
          52,
          53,
          54,
          55,
          56,
          57,
          58,
          59,
          60,
          61,
          62,
          63,
          64,
          65,
          66,
          67,
          68,
          69,
          70,
          71,
          72,
          73,
          74,
          75,
          76,
          77,
          78,
          79,
          80,
          81,
          82,
          83,
          84,
          85,
          86,
          87,
          88,
          89,
          90,
          91,
          92,
          93,
          94,
          95,
          96,
          97,
          98,
          99
         ],
         "y": [
          -1.4939770193839113,
          0.14667142183123638,
          -0.1689240577557097,
          -2.5641137671536414,
          -1.5656121600558734,
          -1.2167004550556926,
          -0.5027845423972647,
          -0.19736293137528313,
          -0.4202320935653999,
          -0.6080146837161412,
          -1.230234537785847,
          -0.834544271094505,
          -0.7525609946685502,
          0.5523681023146403,
          0.3229589353270958,
          -0.997243590029998,
          1.6663098194289763,
          0.0877021878991175,
          -0.6060662026850341,
          -0.29003690869874343,
          0.8703676454073761,
          -0.3396656057424267,
          -0.6110092567412334,
          0.1472139397558027,
          -0.6994199594869444,
          -0.6158638170930033,
          0.6156004196442771,
          -0.33322696721037726,
          0.6696539231968791,
          -0.33925674088411095,
          0.8509919769727514,
          0.9645731195640609,
          2.427305453475825,
          0.976392584761381,
          1.7805857148536182,
          -0.6989982312628092,
          0.9057176562148805,
          0.41450153571613857,
          -1.6659821355531175,
          -1.105415801135921,
          -0.62185838308645,
          0.26305694720859163,
          -1.230184259105579,
          0.32487346783814625,
          -0.37518768510514555,
          -0.22521033590958614,
          -1.259372996663426,
          1.5609125053294142,
          -0.9177503491967661,
          -0.9235315213198988,
          1.1577654753378852,
          -1.6401526659124528,
          -1.0315814928703455,
          -0.17240986524184343,
          -1.6356154035797161,
          0.46896934471230545,
          0.7402280597029676,
          0.643571936309595,
          0.9789590030816315,
          0.4323966143449856,
          0.24984758212242894,
          0.05696615292061845,
          -0.22292926821963566,
          -1.5621053325723102,
          1.030043388900891,
          -2.1995026016841543,
          -0.9890315345511191,
          1.0610392086975546,
          -0.23948857174764943,
          -0.7085900231874463,
          1.6112436502127536,
          -0.068776323064688,
          -0.8630943776533021,
          0.21452073139849748,
          -0.6856857035422566,
          0.1604062806895764,
          -1.098694902114377,
          -0.004486955967236525,
          0.41358080038338224,
          -1.1308639855228306,
          1.3416129442187854,
          -1.1604840579000024,
          0.7859899459979105,
          -0.5378788796193937,
          -0.7823692774339261,
          -1.2475717135229125,
          -0.027819608867832593,
          -1.887835449605791,
          0.9312913941371009,
          -0.6762071639586086,
          -0.7166774860693382,
          1.3317430206692487,
          -0.5679228874173067,
          -0.9745452514729301,
          0.11099751388451033,
          1.4746054242805158,
          0.22633225768022122,
          -1.073948519445465,
          1.3499284499026483,
          -0.36978755761701826
         ]
        },
        {
         "line": {
          "color": "rgba(55, 128, 191, 1.0)",
          "dash": "solid",
          "shape": "linear",
          "width": 1.3
         },
         "mode": "lines",
         "name": "B",
         "text": "",
         "type": "scatter",
         "x": [
          0,
          1,
          2,
          3,
          4,
          5,
          6,
          7,
          8,
          9,
          10,
          11,
          12,
          13,
          14,
          15,
          16,
          17,
          18,
          19,
          20,
          21,
          22,
          23,
          24,
          25,
          26,
          27,
          28,
          29,
          30,
          31,
          32,
          33,
          34,
          35,
          36,
          37,
          38,
          39,
          40,
          41,
          42,
          43,
          44,
          45,
          46,
          47,
          48,
          49,
          50,
          51,
          52,
          53,
          54,
          55,
          56,
          57,
          58,
          59,
          60,
          61,
          62,
          63,
          64,
          65,
          66,
          67,
          68,
          69,
          70,
          71,
          72,
          73,
          74,
          75,
          76,
          77,
          78,
          79,
          80,
          81,
          82,
          83,
          84,
          85,
          86,
          87,
          88,
          89,
          90,
          91,
          92,
          93,
          94,
          95,
          96,
          97,
          98,
          99
         ],
         "y": [
          -0.17932594922892936,
          -1.2334150241168818,
          0.3491829430803454,
          0.22140507174626994,
          -0.4311921325864654,
          0.2728526806525845,
          -0.14671619073051312,
          -0.8361711948295325,
          -2.0525996827183524,
          1.2238954636242012,
          0.16748171442020826,
          0.9742348415959232,
          -1.459462066979266,
          0.560522495645634,
          0.22594078882224689,
          0.9936125565222024,
          2.0378905674033154,
          -0.15589591029106117,
          -1.037914776778365,
          0.5972560045854091,
          1.5396143307194154,
          -0.633578357203016,
          1.4549286148744829,
          -0.7602467680969238,
          1.4818952741568785,
          -0.35542676894068576,
          -0.1672124933215106,
          -0.4686208341591621,
          -0.6596271840718666,
          -0.7021120601503211,
          -0.4030312229739508,
          -2.4891767827615854,
          1.8067985741691368,
          0.3642482006924113,
          0.4633123311347458,
          -0.28776563158624496,
          -0.039824002265676645,
          0.3394186664968411,
          0.264005519683204,
          0.1997684212563469,
          -1.5972630604729419,
          -0.013363487980902096,
          0.628306211667071,
          0.014837486688604832,
          1.7299977564779727,
          0.8424498055863454,
          1.592948338505741,
          0.1908669085436572,
          2.7651347652023914,
          -0.052526911488933854,
          -1.3262825475191269,
          -0.7291649507936764,
          1.2249018261233362,
          0.6129613428385257,
          0.33058371496375294,
          0.4578414828592958,
          0.30186994670170814,
          0.23016785504505452,
          -0.8362591785189375,
          -0.19513012931737245,
          -0.9467488889374831,
          -0.020796939278777533,
          -0.7662354218695511,
          -0.5591934120199998,
          1.5520463274111282,
          -1.054375281258254,
          0.06319501059080465,
          0.14793864881395666,
          -0.8352938765626658,
          0.327098277975738,
          -0.5179048631445157,
          -1.1677399803679211,
          0.31009378584304187,
          -1.2490679086498058,
          -0.4379990922558729,
          -0.9952159930252686,
          -0.2966223603061448,
          -1.2253946012973123,
          0.9035519742314471,
          -0.7487703835990225,
          0.5675216231819916,
          0.2756900234536723,
          0.18778109097989296,
          0.9879978844923218,
          0.7132407851991432,
          -1.1426759234117327,
          0.603840652919978,
          -2.1987237127928667,
          -0.22001923010514926,
          -0.8474271266004348,
          -0.6214670988523815,
          -2.59231971595352,
          1.3278421248432764,
          0.11190383360680248,
          0.9314195828328372,
          0.718216542817618,
          -0.42075368128977786,
          -0.6554575354437634,
          -0.626953050550036,
          1.1939125486493873
         ]
        },
        {
         "connectgaps": false,
         "fill": "tozeroy",
         "line": {
          "color": "green",
          "dash": "solid",
          "shape": "linear",
          "width": 0.5
         },
         "mode": "lines",
         "name": "Spread",
         "showlegend": false,
         "type": "scatter",
         "x": [
          0,
          1,
          2,
          3,
          4,
          5,
          6,
          7,
          8,
          9,
          10,
          11,
          12,
          13,
          14,
          15,
          16,
          17,
          18,
          19,
          20,
          21,
          22,
          23,
          24,
          25,
          26,
          27,
          28,
          29,
          30,
          31,
          32,
          33,
          34,
          35,
          36,
          37,
          38,
          39,
          40,
          41,
          42,
          43,
          44,
          45,
          46,
          47,
          48,
          49,
          50,
          51,
          52,
          53,
          54,
          55,
          56,
          57,
          58,
          59,
          60,
          61,
          62,
          63,
          64,
          65,
          66,
          67,
          68,
          69,
          70,
          71,
          72,
          73,
          74,
          75,
          76,
          77,
          78,
          79,
          80,
          81,
          82,
          83,
          84,
          85,
          86,
          87,
          88,
          89,
          90,
          91,
          92,
          93,
          94,
          95,
          96,
          97,
          98,
          99
         ],
         "xaxis": "x2",
         "y": [
          "",
          1.3800864459481181,
          "",
          "",
          "",
          "",
          "",
          0.6388082634542493,
          1.6323675891529525,
          "",
          "",
          "",
          0.7069010723107158,
          "",
          0.09701814650484891,
          "",
          "",
          0.2435980981901787,
          0.4318485740933309,
          "",
          "",
          0.2939127514605893,
          "",
          0.9074607078527265,
          "",
          "",
          0.7828129129657877,
          0.13539386694878486,
          1.3292811072687458,
          0.3628553192662102,
          1.2540231999467022,
          3.4537499023256464,
          0.6205068793066881,
          0.6121443840689698,
          1.3172733837188724,
          "",
          0.9455416584805572,
          0.07508286921929747,
          "",
          "",
          0.9754046773864918,
          0.2764204351894937,
          "",
          0.3100359811495414,
          "",
          "",
          "",
          1.370045596785757,
          "",
          "",
          2.484048022857012,
          "",
          "",
          "",
          "",
          0.011127861853009624,
          0.43835811300125943,
          0.4134040812645404,
          1.815218181600569,
          0.627526743662358,
          1.196596471059912,
          0.07776309219939598,
          0.5433061536499154,
          "",
          "",
          "",
          "",
          0.913100559883598,
          0.5958053048150165,
          "",
          2.1291485133572694,
          1.098963657303233,
          "",
          1.4635886400483034,
          "",
          1.1556222737148452,
          "",
          1.2209076453300758,
          "",
          "",
          0.7740913210367938,
          "",
          0.5982088550180176,
          "",
          "",
          "",
          "",
          0.31088826318707574,
          1.1513106242422502,
          0.17121996264182626,
          "",
          3.9240627366227683,
          "",
          "",
          "",
          0.7563888814628977,
          0.6470859389699991,
          "",
          1.9768815004526843,
          ""
         ],
         "yaxis": "y2"
        },
        {
         "connectgaps": false,
         "fill": "tozeroy",
         "line": {
          "color": "red",
          "dash": "solid",
          "shape": "linear",
          "width": 0.5
         },
         "mode": "lines",
         "name": "Spread",
         "showlegend": false,
         "type": "scatter",
         "x": [
          0,
          1,
          2,
          3,
          4,
          5,
          6,
          7,
          8,
          9,
          10,
          11,
          12,
          13,
          14,
          15,
          16,
          17,
          18,
          19,
          20,
          21,
          22,
          23,
          24,
          25,
          26,
          27,
          28,
          29,
          30,
          31,
          32,
          33,
          34,
          35,
          36,
          37,
          38,
          39,
          40,
          41,
          42,
          43,
          44,
          45,
          46,
          47,
          48,
          49,
          50,
          51,
          52,
          53,
          54,
          55,
          56,
          57,
          58,
          59,
          60,
          61,
          62,
          63,
          64,
          65,
          66,
          67,
          68,
          69,
          70,
          71,
          72,
          73,
          74,
          75,
          76,
          77,
          78,
          79,
          80,
          81,
          82,
          83,
          84,
          85,
          86,
          87,
          88,
          89,
          90,
          91,
          92,
          93,
          94,
          95,
          96,
          97,
          98,
          99
         ],
         "xaxis": "x2",
         "y": [
          -1.3146510701549818,
          "",
          -0.5181070008360551,
          -2.7855188388999115,
          -1.134420027469408,
          -1.489553135708277,
          -0.35606835166675155,
          "",
          "",
          -1.8319101473403423,
          -1.3977162522060553,
          -1.8087791126904282,
          "",
          -0.008154393330993659,
          "",
          -1.9908561465522003,
          -0.37158074797433915,
          "",
          "",
          -0.8872929132841525,
          -0.6692466853120393,
          "",
          -2.0659378716157164,
          "",
          -2.181315233643823,
          -0.26043704815231755,
          "",
          "",
          "",
          "",
          "",
          "",
          "",
          "",
          "",
          -0.4112325996765643,
          "",
          "",
          -1.9299876552363215,
          -1.3051842223922678,
          "",
          "",
          -1.85849047077265,
          "",
          -2.105185441583118,
          -1.0676601414959315,
          -2.852321335169167,
          "",
          -3.6828851143991574,
          -0.871004609830965,
          "",
          -0.9109877151187764,
          -2.2564833189936815,
          -0.7853712080803691,
          -1.966199118543469,
          "",
          "",
          "",
          "",
          "",
          "",
          "",
          "",
          -1.0029119205523105,
          -0.5220029385102372,
          -1.1451273204259003,
          -1.0522265451419237,
          "",
          "",
          -1.0356883011631843,
          "",
          "",
          -1.173188163496344,
          "",
          -0.24768661128638364,
          "",
          -0.8020725418082322,
          "",
          -0.4899711738480648,
          -0.38209360192380815,
          "",
          -1.4361740813536747,
          "",
          -1.5258767641117155,
          -1.4956100626330695,
          -0.10489579011117978,
          -0.6316602617878107,
          "",
          "",
          "",
          -0.09521038721695674,
          "",
          -1.8957650122605831,
          -1.0864490850797326,
          -0.8204220689483269,
          "",
          "",
          -0.4184909840017016,
          "",
          -1.5637001062664055
         ],
         "yaxis": "y2"
        }
       ],
       "layout": {
        "hovermode": "x",
        "legend": {
         "bgcolor": "#F5F6F9",
         "font": {
          "color": "#4D5663"
         }
        },
        "paper_bgcolor": "#F5F6F9",
        "plot_bgcolor": "#F5F6F9",
        "template": {
         "data": {
          "bar": [
           {
            "error_x": {
             "color": "#2a3f5f"
            },
            "error_y": {
             "color": "#2a3f5f"
            },
            "marker": {
             "line": {
              "color": "#E5ECF6",
              "width": 0.5
             },
             "pattern": {
              "fillmode": "overlay",
              "size": 10,
              "solidity": 0.2
             }
            },
            "type": "bar"
           }
          ],
          "barpolar": [
           {
            "marker": {
             "line": {
              "color": "#E5ECF6",
              "width": 0.5
             },
             "pattern": {
              "fillmode": "overlay",
              "size": 10,
              "solidity": 0.2
             }
            },
            "type": "barpolar"
           }
          ],
          "carpet": [
           {
            "aaxis": {
             "endlinecolor": "#2a3f5f",
             "gridcolor": "white",
             "linecolor": "white",
             "minorgridcolor": "white",
             "startlinecolor": "#2a3f5f"
            },
            "baxis": {
             "endlinecolor": "#2a3f5f",
             "gridcolor": "white",
             "linecolor": "white",
             "minorgridcolor": "white",
             "startlinecolor": "#2a3f5f"
            },
            "type": "carpet"
           }
          ],
          "choropleth": [
           {
            "colorbar": {
             "outlinewidth": 0,
             "ticks": ""
            },
            "type": "choropleth"
           }
          ],
          "contour": [
           {
            "colorbar": {
             "outlinewidth": 0,
             "ticks": ""
            },
            "colorscale": [
             [
              0,
              "#0d0887"
             ],
             [
              0.1111111111111111,
              "#46039f"
             ],
             [
              0.2222222222222222,
              "#7201a8"
             ],
             [
              0.3333333333333333,
              "#9c179e"
             ],
             [
              0.4444444444444444,
              "#bd3786"
             ],
             [
              0.5555555555555556,
              "#d8576b"
             ],
             [
              0.6666666666666666,
              "#ed7953"
             ],
             [
              0.7777777777777778,
              "#fb9f3a"
             ],
             [
              0.8888888888888888,
              "#fdca26"
             ],
             [
              1,
              "#f0f921"
             ]
            ],
            "type": "contour"
           }
          ],
          "contourcarpet": [
           {
            "colorbar": {
             "outlinewidth": 0,
             "ticks": ""
            },
            "type": "contourcarpet"
           }
          ],
          "heatmap": [
           {
            "colorbar": {
             "outlinewidth": 0,
             "ticks": ""
            },
            "colorscale": [
             [
              0,
              "#0d0887"
             ],
             [
              0.1111111111111111,
              "#46039f"
             ],
             [
              0.2222222222222222,
              "#7201a8"
             ],
             [
              0.3333333333333333,
              "#9c179e"
             ],
             [
              0.4444444444444444,
              "#bd3786"
             ],
             [
              0.5555555555555556,
              "#d8576b"
             ],
             [
              0.6666666666666666,
              "#ed7953"
             ],
             [
              0.7777777777777778,
              "#fb9f3a"
             ],
             [
              0.8888888888888888,
              "#fdca26"
             ],
             [
              1,
              "#f0f921"
             ]
            ],
            "type": "heatmap"
           }
          ],
          "heatmapgl": [
           {
            "colorbar": {
             "outlinewidth": 0,
             "ticks": ""
            },
            "colorscale": [
             [
              0,
              "#0d0887"
             ],
             [
              0.1111111111111111,
              "#46039f"
             ],
             [
              0.2222222222222222,
              "#7201a8"
             ],
             [
              0.3333333333333333,
              "#9c179e"
             ],
             [
              0.4444444444444444,
              "#bd3786"
             ],
             [
              0.5555555555555556,
              "#d8576b"
             ],
             [
              0.6666666666666666,
              "#ed7953"
             ],
             [
              0.7777777777777778,
              "#fb9f3a"
             ],
             [
              0.8888888888888888,
              "#fdca26"
             ],
             [
              1,
              "#f0f921"
             ]
            ],
            "type": "heatmapgl"
           }
          ],
          "histogram": [
           {
            "marker": {
             "pattern": {
              "fillmode": "overlay",
              "size": 10,
              "solidity": 0.2
             }
            },
            "type": "histogram"
           }
          ],
          "histogram2d": [
           {
            "colorbar": {
             "outlinewidth": 0,
             "ticks": ""
            },
            "colorscale": [
             [
              0,
              "#0d0887"
             ],
             [
              0.1111111111111111,
              "#46039f"
             ],
             [
              0.2222222222222222,
              "#7201a8"
             ],
             [
              0.3333333333333333,
              "#9c179e"
             ],
             [
              0.4444444444444444,
              "#bd3786"
             ],
             [
              0.5555555555555556,
              "#d8576b"
             ],
             [
              0.6666666666666666,
              "#ed7953"
             ],
             [
              0.7777777777777778,
              "#fb9f3a"
             ],
             [
              0.8888888888888888,
              "#fdca26"
             ],
             [
              1,
              "#f0f921"
             ]
            ],
            "type": "histogram2d"
           }
          ],
          "histogram2dcontour": [
           {
            "colorbar": {
             "outlinewidth": 0,
             "ticks": ""
            },
            "colorscale": [
             [
              0,
              "#0d0887"
             ],
             [
              0.1111111111111111,
              "#46039f"
             ],
             [
              0.2222222222222222,
              "#7201a8"
             ],
             [
              0.3333333333333333,
              "#9c179e"
             ],
             [
              0.4444444444444444,
              "#bd3786"
             ],
             [
              0.5555555555555556,
              "#d8576b"
             ],
             [
              0.6666666666666666,
              "#ed7953"
             ],
             [
              0.7777777777777778,
              "#fb9f3a"
             ],
             [
              0.8888888888888888,
              "#fdca26"
             ],
             [
              1,
              "#f0f921"
             ]
            ],
            "type": "histogram2dcontour"
           }
          ],
          "mesh3d": [
           {
            "colorbar": {
             "outlinewidth": 0,
             "ticks": ""
            },
            "type": "mesh3d"
           }
          ],
          "parcoords": [
           {
            "line": {
             "colorbar": {
              "outlinewidth": 0,
              "ticks": ""
             }
            },
            "type": "parcoords"
           }
          ],
          "pie": [
           {
            "automargin": true,
            "type": "pie"
           }
          ],
          "scatter": [
           {
            "fillpattern": {
             "fillmode": "overlay",
             "size": 10,
             "solidity": 0.2
            },
            "type": "scatter"
           }
          ],
          "scatter3d": [
           {
            "line": {
             "colorbar": {
              "outlinewidth": 0,
              "ticks": ""
             }
            },
            "marker": {
             "colorbar": {
              "outlinewidth": 0,
              "ticks": ""
             }
            },
            "type": "scatter3d"
           }
          ],
          "scattercarpet": [
           {
            "marker": {
             "colorbar": {
              "outlinewidth": 0,
              "ticks": ""
             }
            },
            "type": "scattercarpet"
           }
          ],
          "scattergeo": [
           {
            "marker": {
             "colorbar": {
              "outlinewidth": 0,
              "ticks": ""
             }
            },
            "type": "scattergeo"
           }
          ],
          "scattergl": [
           {
            "marker": {
             "colorbar": {
              "outlinewidth": 0,
              "ticks": ""
             }
            },
            "type": "scattergl"
           }
          ],
          "scattermapbox": [
           {
            "marker": {
             "colorbar": {
              "outlinewidth": 0,
              "ticks": ""
             }
            },
            "type": "scattermapbox"
           }
          ],
          "scatterpolar": [
           {
            "marker": {
             "colorbar": {
              "outlinewidth": 0,
              "ticks": ""
             }
            },
            "type": "scatterpolar"
           }
          ],
          "scatterpolargl": [
           {
            "marker": {
             "colorbar": {
              "outlinewidth": 0,
              "ticks": ""
             }
            },
            "type": "scatterpolargl"
           }
          ],
          "scatterternary": [
           {
            "marker": {
             "colorbar": {
              "outlinewidth": 0,
              "ticks": ""
             }
            },
            "type": "scatterternary"
           }
          ],
          "surface": [
           {
            "colorbar": {
             "outlinewidth": 0,
             "ticks": ""
            },
            "colorscale": [
             [
              0,
              "#0d0887"
             ],
             [
              0.1111111111111111,
              "#46039f"
             ],
             [
              0.2222222222222222,
              "#7201a8"
             ],
             [
              0.3333333333333333,
              "#9c179e"
             ],
             [
              0.4444444444444444,
              "#bd3786"
             ],
             [
              0.5555555555555556,
              "#d8576b"
             ],
             [
              0.6666666666666666,
              "#ed7953"
             ],
             [
              0.7777777777777778,
              "#fb9f3a"
             ],
             [
              0.8888888888888888,
              "#fdca26"
             ],
             [
              1,
              "#f0f921"
             ]
            ],
            "type": "surface"
           }
          ],
          "table": [
           {
            "cells": {
             "fill": {
              "color": "#EBF0F8"
             },
             "line": {
              "color": "white"
             }
            },
            "header": {
             "fill": {
              "color": "#C8D4E3"
             },
             "line": {
              "color": "white"
             }
            },
            "type": "table"
           }
          ]
         },
         "layout": {
          "annotationdefaults": {
           "arrowcolor": "#2a3f5f",
           "arrowhead": 0,
           "arrowwidth": 1
          },
          "autotypenumbers": "strict",
          "coloraxis": {
           "colorbar": {
            "outlinewidth": 0,
            "ticks": ""
           }
          },
          "colorscale": {
           "diverging": [
            [
             0,
             "#8e0152"
            ],
            [
             0.1,
             "#c51b7d"
            ],
            [
             0.2,
             "#de77ae"
            ],
            [
             0.3,
             "#f1b6da"
            ],
            [
             0.4,
             "#fde0ef"
            ],
            [
             0.5,
             "#f7f7f7"
            ],
            [
             0.6,
             "#e6f5d0"
            ],
            [
             0.7,
             "#b8e186"
            ],
            [
             0.8,
             "#7fbc41"
            ],
            [
             0.9,
             "#4d9221"
            ],
            [
             1,
             "#276419"
            ]
           ],
           "sequential": [
            [
             0,
             "#0d0887"
            ],
            [
             0.1111111111111111,
             "#46039f"
            ],
            [
             0.2222222222222222,
             "#7201a8"
            ],
            [
             0.3333333333333333,
             "#9c179e"
            ],
            [
             0.4444444444444444,
             "#bd3786"
            ],
            [
             0.5555555555555556,
             "#d8576b"
            ],
            [
             0.6666666666666666,
             "#ed7953"
            ],
            [
             0.7777777777777778,
             "#fb9f3a"
            ],
            [
             0.8888888888888888,
             "#fdca26"
            ],
            [
             1,
             "#f0f921"
            ]
           ],
           "sequentialminus": [
            [
             0,
             "#0d0887"
            ],
            [
             0.1111111111111111,
             "#46039f"
            ],
            [
             0.2222222222222222,
             "#7201a8"
            ],
            [
             0.3333333333333333,
             "#9c179e"
            ],
            [
             0.4444444444444444,
             "#bd3786"
            ],
            [
             0.5555555555555556,
             "#d8576b"
            ],
            [
             0.6666666666666666,
             "#ed7953"
            ],
            [
             0.7777777777777778,
             "#fb9f3a"
            ],
            [
             0.8888888888888888,
             "#fdca26"
            ],
            [
             1,
             "#f0f921"
            ]
           ]
          },
          "colorway": [
           "#636efa",
           "#EF553B",
           "#00cc96",
           "#ab63fa",
           "#FFA15A",
           "#19d3f3",
           "#FF6692",
           "#B6E880",
           "#FF97FF",
           "#FECB52"
          ],
          "font": {
           "color": "#2a3f5f"
          },
          "geo": {
           "bgcolor": "white",
           "lakecolor": "white",
           "landcolor": "#E5ECF6",
           "showlakes": true,
           "showland": true,
           "subunitcolor": "white"
          },
          "hoverlabel": {
           "align": "left"
          },
          "hovermode": "closest",
          "mapbox": {
           "style": "light"
          },
          "paper_bgcolor": "white",
          "plot_bgcolor": "#E5ECF6",
          "polar": {
           "angularaxis": {
            "gridcolor": "white",
            "linecolor": "white",
            "ticks": ""
           },
           "bgcolor": "#E5ECF6",
           "radialaxis": {
            "gridcolor": "white",
            "linecolor": "white",
            "ticks": ""
           }
          },
          "scene": {
           "xaxis": {
            "backgroundcolor": "#E5ECF6",
            "gridcolor": "white",
            "gridwidth": 2,
            "linecolor": "white",
            "showbackground": true,
            "ticks": "",
            "zerolinecolor": "white"
           },
           "yaxis": {
            "backgroundcolor": "#E5ECF6",
            "gridcolor": "white",
            "gridwidth": 2,
            "linecolor": "white",
            "showbackground": true,
            "ticks": "",
            "zerolinecolor": "white"
           },
           "zaxis": {
            "backgroundcolor": "#E5ECF6",
            "gridcolor": "white",
            "gridwidth": 2,
            "linecolor": "white",
            "showbackground": true,
            "ticks": "",
            "zerolinecolor": "white"
           }
          },
          "shapedefaults": {
           "line": {
            "color": "#2a3f5f"
           }
          },
          "ternary": {
           "aaxis": {
            "gridcolor": "white",
            "linecolor": "white",
            "ticks": ""
           },
           "baxis": {
            "gridcolor": "white",
            "linecolor": "white",
            "ticks": ""
           },
           "bgcolor": "#E5ECF6",
           "caxis": {
            "gridcolor": "white",
            "linecolor": "white",
            "ticks": ""
           }
          },
          "title": {
           "x": 0.05
          },
          "xaxis": {
           "automargin": true,
           "gridcolor": "white",
           "linecolor": "white",
           "ticks": "",
           "title": {
            "standoff": 15
           },
           "zerolinecolor": "white",
           "zerolinewidth": 2
          },
          "yaxis": {
           "automargin": true,
           "gridcolor": "white",
           "linecolor": "white",
           "ticks": "",
           "title": {
            "standoff": 15
           },
           "zerolinecolor": "white",
           "zerolinewidth": 2
          }
         }
        },
        "title": {
         "font": {
          "color": "#4D5663"
         }
        },
        "xaxis": {
         "gridcolor": "#E1E5ED",
         "showgrid": true,
         "tickfont": {
          "color": "#4D5663"
         },
         "title": {
          "font": {
           "color": "#4D5663"
          },
          "text": ""
         },
         "zerolinecolor": "#E1E5ED"
        },
        "xaxis2": {
         "anchor": "y2",
         "gridcolor": "#E1E5ED",
         "showgrid": true,
         "showticklabels": false,
         "tickfont": {
          "color": "#4D5663"
         },
         "title": {
          "font": {
           "color": "#4D5663"
          },
          "text": ""
         },
         "zerolinecolor": "#E1E5ED"
        },
        "yaxis": {
         "domain": [
          0.3,
          1
         ],
         "gridcolor": "#E1E5ED",
         "showgrid": true,
         "tickfont": {
          "color": "#4D5663"
         },
         "title": {
          "font": {
           "color": "#4D5663"
          },
          "text": ""
         },
         "zerolinecolor": "#E1E5ED"
        },
        "yaxis2": {
         "domain": [
          0,
          0.25
         ],
         "gridcolor": "#E1E5ED",
         "showgrid": true,
         "tickfont": {
          "color": "#4D5663"
         },
         "title": {
          "font": {
           "color": "#4D5663"
          },
          "text": "Spread"
         },
         "zerolinecolor": "#E1E5ED"
        }
       }
      },
      "text/html": [
       "<div>                            <div id=\"2ac6da31-4663-4fc0-bc30-6b53d189b438\" class=\"plotly-graph-div\" style=\"height:525px; width:100%;\"></div>            <script type=\"text/javascript\">                require([\"plotly\"], function(Plotly) {                    window.PLOTLYENV=window.PLOTLYENV || {};\n",
       "                    window.PLOTLYENV.BASE_URL='https://plot.ly';                                    if (document.getElementById(\"2ac6da31-4663-4fc0-bc30-6b53d189b438\")) {                    Plotly.newPlot(                        \"2ac6da31-4663-4fc0-bc30-6b53d189b438\",                        [{\"line\":{\"color\":\"rgba(255, 153, 51, 1.0)\",\"dash\":\"solid\",\"shape\":\"linear\",\"width\":1.3},\"mode\":\"lines\",\"name\":\"A\",\"text\":\"\",\"x\":[0,1,2,3,4,5,6,7,8,9,10,11,12,13,14,15,16,17,18,19,20,21,22,23,24,25,26,27,28,29,30,31,32,33,34,35,36,37,38,39,40,41,42,43,44,45,46,47,48,49,50,51,52,53,54,55,56,57,58,59,60,61,62,63,64,65,66,67,68,69,70,71,72,73,74,75,76,77,78,79,80,81,82,83,84,85,86,87,88,89,90,91,92,93,94,95,96,97,98,99],\"y\":[-1.4939770193839113,0.14667142183123638,-0.1689240577557097,-2.5641137671536414,-1.5656121600558734,-1.2167004550556926,-0.5027845423972647,-0.19736293137528313,-0.4202320935653999,-0.6080146837161412,-1.230234537785847,-0.834544271094505,-0.7525609946685502,0.5523681023146403,0.3229589353270958,-0.997243590029998,1.6663098194289763,0.0877021878991175,-0.6060662026850341,-0.29003690869874343,0.8703676454073761,-0.3396656057424267,-0.6110092567412334,0.1472139397558027,-0.6994199594869444,-0.6158638170930033,0.6156004196442771,-0.33322696721037726,0.6696539231968791,-0.33925674088411095,0.8509919769727514,0.9645731195640609,2.427305453475825,0.976392584761381,1.7805857148536182,-0.6989982312628092,0.9057176562148805,0.41450153571613857,-1.6659821355531175,-1.105415801135921,-0.62185838308645,0.26305694720859163,-1.230184259105579,0.32487346783814625,-0.37518768510514555,-0.22521033590958614,-1.259372996663426,1.5609125053294142,-0.9177503491967661,-0.9235315213198988,1.1577654753378852,-1.6401526659124528,-1.0315814928703455,-0.17240986524184343,-1.6356154035797161,0.46896934471230545,0.7402280597029676,0.643571936309595,0.9789590030816315,0.4323966143449856,0.24984758212242894,0.05696615292061845,-0.22292926821963566,-1.5621053325723102,1.030043388900891,-2.1995026016841543,-0.9890315345511191,1.0610392086975546,-0.23948857174764943,-0.7085900231874463,1.6112436502127536,-0.068776323064688,-0.8630943776533021,0.21452073139849748,-0.6856857035422566,0.1604062806895764,-1.098694902114377,-0.004486955967236525,0.41358080038338224,-1.1308639855228306,1.3416129442187854,-1.1604840579000024,0.7859899459979105,-0.5378788796193937,-0.7823692774339261,-1.2475717135229125,-0.027819608867832593,-1.887835449605791,0.9312913941371009,-0.6762071639586086,-0.7166774860693382,1.3317430206692487,-0.5679228874173067,-0.9745452514729301,0.11099751388451033,1.4746054242805158,0.22633225768022122,-1.073948519445465,1.3499284499026483,-0.36978755761701826],\"type\":\"scatter\"},{\"line\":{\"color\":\"rgba(55, 128, 191, 1.0)\",\"dash\":\"solid\",\"shape\":\"linear\",\"width\":1.3},\"mode\":\"lines\",\"name\":\"B\",\"text\":\"\",\"x\":[0,1,2,3,4,5,6,7,8,9,10,11,12,13,14,15,16,17,18,19,20,21,22,23,24,25,26,27,28,29,30,31,32,33,34,35,36,37,38,39,40,41,42,43,44,45,46,47,48,49,50,51,52,53,54,55,56,57,58,59,60,61,62,63,64,65,66,67,68,69,70,71,72,73,74,75,76,77,78,79,80,81,82,83,84,85,86,87,88,89,90,91,92,93,94,95,96,97,98,99],\"y\":[-0.17932594922892936,-1.2334150241168818,0.3491829430803454,0.22140507174626994,-0.4311921325864654,0.2728526806525845,-0.14671619073051312,-0.8361711948295325,-2.0525996827183524,1.2238954636242012,0.16748171442020826,0.9742348415959232,-1.459462066979266,0.560522495645634,0.22594078882224689,0.9936125565222024,2.0378905674033154,-0.15589591029106117,-1.037914776778365,0.5972560045854091,1.5396143307194154,-0.633578357203016,1.4549286148744829,-0.7602467680969238,1.4818952741568785,-0.35542676894068576,-0.1672124933215106,-0.4686208341591621,-0.6596271840718666,-0.7021120601503211,-0.4030312229739508,-2.4891767827615854,1.8067985741691368,0.3642482006924113,0.4633123311347458,-0.28776563158624496,-0.039824002265676645,0.3394186664968411,0.264005519683204,0.1997684212563469,-1.5972630604729419,-0.013363487980902096,0.628306211667071,0.014837486688604832,1.7299977564779727,0.8424498055863454,1.592948338505741,0.1908669085436572,2.7651347652023914,-0.052526911488933854,-1.3262825475191269,-0.7291649507936764,1.2249018261233362,0.6129613428385257,0.33058371496375294,0.4578414828592958,0.30186994670170814,0.23016785504505452,-0.8362591785189375,-0.19513012931737245,-0.9467488889374831,-0.020796939278777533,-0.7662354218695511,-0.5591934120199998,1.5520463274111282,-1.054375281258254,0.06319501059080465,0.14793864881395666,-0.8352938765626658,0.327098277975738,-0.5179048631445157,-1.1677399803679211,0.31009378584304187,-1.2490679086498058,-0.4379990922558729,-0.9952159930252686,-0.2966223603061448,-1.2253946012973123,0.9035519742314471,-0.7487703835990225,0.5675216231819916,0.2756900234536723,0.18778109097989296,0.9879978844923218,0.7132407851991432,-1.1426759234117327,0.603840652919978,-2.1987237127928667,-0.22001923010514926,-0.8474271266004348,-0.6214670988523815,-2.59231971595352,1.3278421248432764,0.11190383360680248,0.9314195828328372,0.718216542817618,-0.42075368128977786,-0.6554575354437634,-0.626953050550036,1.1939125486493873],\"type\":\"scatter\"},{\"connectgaps\":false,\"fill\":\"tozeroy\",\"line\":{\"color\":\"green\",\"dash\":\"solid\",\"shape\":\"linear\",\"width\":0.5},\"mode\":\"lines\",\"name\":\"Spread\",\"showlegend\":false,\"x\":[0,1,2,3,4,5,6,7,8,9,10,11,12,13,14,15,16,17,18,19,20,21,22,23,24,25,26,27,28,29,30,31,32,33,34,35,36,37,38,39,40,41,42,43,44,45,46,47,48,49,50,51,52,53,54,55,56,57,58,59,60,61,62,63,64,65,66,67,68,69,70,71,72,73,74,75,76,77,78,79,80,81,82,83,84,85,86,87,88,89,90,91,92,93,94,95,96,97,98,99],\"xaxis\":\"x2\",\"y\":[\"\",1.3800864459481181,\"\",\"\",\"\",\"\",\"\",0.6388082634542493,1.6323675891529525,\"\",\"\",\"\",0.7069010723107158,\"\",0.09701814650484891,\"\",\"\",0.2435980981901787,0.4318485740933309,\"\",\"\",0.2939127514605893,\"\",0.9074607078527265,\"\",\"\",0.7828129129657877,0.13539386694878486,1.3292811072687458,0.3628553192662102,1.2540231999467022,3.4537499023256464,0.6205068793066881,0.6121443840689698,1.3172733837188724,\"\",0.9455416584805572,0.07508286921929747,\"\",\"\",0.9754046773864918,0.2764204351894937,\"\",0.3100359811495414,\"\",\"\",\"\",1.370045596785757,\"\",\"\",2.484048022857012,\"\",\"\",\"\",\"\",0.011127861853009624,0.43835811300125943,0.4134040812645404,1.815218181600569,0.627526743662358,1.196596471059912,0.07776309219939598,0.5433061536499154,\"\",\"\",\"\",\"\",0.913100559883598,0.5958053048150165,\"\",2.1291485133572694,1.098963657303233,\"\",1.4635886400483034,\"\",1.1556222737148452,\"\",1.2209076453300758,\"\",\"\",0.7740913210367938,\"\",0.5982088550180176,\"\",\"\",\"\",\"\",0.31088826318707574,1.1513106242422502,0.17121996264182626,\"\",3.9240627366227683,\"\",\"\",\"\",0.7563888814628977,0.6470859389699991,\"\",1.9768815004526843,\"\"],\"yaxis\":\"y2\",\"type\":\"scatter\"},{\"connectgaps\":false,\"fill\":\"tozeroy\",\"line\":{\"color\":\"red\",\"dash\":\"solid\",\"shape\":\"linear\",\"width\":0.5},\"mode\":\"lines\",\"name\":\"Spread\",\"showlegend\":false,\"x\":[0,1,2,3,4,5,6,7,8,9,10,11,12,13,14,15,16,17,18,19,20,21,22,23,24,25,26,27,28,29,30,31,32,33,34,35,36,37,38,39,40,41,42,43,44,45,46,47,48,49,50,51,52,53,54,55,56,57,58,59,60,61,62,63,64,65,66,67,68,69,70,71,72,73,74,75,76,77,78,79,80,81,82,83,84,85,86,87,88,89,90,91,92,93,94,95,96,97,98,99],\"xaxis\":\"x2\",\"y\":[-1.3146510701549818,\"\",-0.5181070008360551,-2.7855188388999115,-1.134420027469408,-1.489553135708277,-0.35606835166675155,\"\",\"\",-1.8319101473403423,-1.3977162522060553,-1.8087791126904282,\"\",-0.008154393330993659,\"\",-1.9908561465522003,-0.37158074797433915,\"\",\"\",-0.8872929132841525,-0.6692466853120393,\"\",-2.0659378716157164,\"\",-2.181315233643823,-0.26043704815231755,\"\",\"\",\"\",\"\",\"\",\"\",\"\",\"\",\"\",-0.4112325996765643,\"\",\"\",-1.9299876552363215,-1.3051842223922678,\"\",\"\",-1.85849047077265,\"\",-2.105185441583118,-1.0676601414959315,-2.852321335169167,\"\",-3.6828851143991574,-0.871004609830965,\"\",-0.9109877151187764,-2.2564833189936815,-0.7853712080803691,-1.966199118543469,\"\",\"\",\"\",\"\",\"\",\"\",\"\",\"\",-1.0029119205523105,-0.5220029385102372,-1.1451273204259003,-1.0522265451419237,\"\",\"\",-1.0356883011631843,\"\",\"\",-1.173188163496344,\"\",-0.24768661128638364,\"\",-0.8020725418082322,\"\",-0.4899711738480648,-0.38209360192380815,\"\",-1.4361740813536747,\"\",-1.5258767641117155,-1.4956100626330695,-0.10489579011117978,-0.6316602617878107,\"\",\"\",\"\",-0.09521038721695674,\"\",-1.8957650122605831,-1.0864490850797326,-0.8204220689483269,\"\",\"\",-0.4184909840017016,\"\",-1.5637001062664055],\"yaxis\":\"y2\",\"type\":\"scatter\"}],                        {\"hovermode\":\"x\",\"legend\":{\"bgcolor\":\"#F5F6F9\",\"font\":{\"color\":\"#4D5663\"}},\"paper_bgcolor\":\"#F5F6F9\",\"plot_bgcolor\":\"#F5F6F9\",\"template\":{\"data\":{\"barpolar\":[{\"marker\":{\"line\":{\"color\":\"#E5ECF6\",\"width\":0.5},\"pattern\":{\"fillmode\":\"overlay\",\"size\":10,\"solidity\":0.2}},\"type\":\"barpolar\"}],\"bar\":[{\"error_x\":{\"color\":\"#2a3f5f\"},\"error_y\":{\"color\":\"#2a3f5f\"},\"marker\":{\"line\":{\"color\":\"#E5ECF6\",\"width\":0.5},\"pattern\":{\"fillmode\":\"overlay\",\"size\":10,\"solidity\":0.2}},\"type\":\"bar\"}],\"carpet\":[{\"aaxis\":{\"endlinecolor\":\"#2a3f5f\",\"gridcolor\":\"white\",\"linecolor\":\"white\",\"minorgridcolor\":\"white\",\"startlinecolor\":\"#2a3f5f\"},\"baxis\":{\"endlinecolor\":\"#2a3f5f\",\"gridcolor\":\"white\",\"linecolor\":\"white\",\"minorgridcolor\":\"white\",\"startlinecolor\":\"#2a3f5f\"},\"type\":\"carpet\"}],\"choropleth\":[{\"colorbar\":{\"outlinewidth\":0,\"ticks\":\"\"},\"type\":\"choropleth\"}],\"contourcarpet\":[{\"colorbar\":{\"outlinewidth\":0,\"ticks\":\"\"},\"type\":\"contourcarpet\"}],\"contour\":[{\"colorbar\":{\"outlinewidth\":0,\"ticks\":\"\"},\"colorscale\":[[0.0,\"#0d0887\"],[0.1111111111111111,\"#46039f\"],[0.2222222222222222,\"#7201a8\"],[0.3333333333333333,\"#9c179e\"],[0.4444444444444444,\"#bd3786\"],[0.5555555555555556,\"#d8576b\"],[0.6666666666666666,\"#ed7953\"],[0.7777777777777778,\"#fb9f3a\"],[0.8888888888888888,\"#fdca26\"],[1.0,\"#f0f921\"]],\"type\":\"contour\"}],\"heatmapgl\":[{\"colorbar\":{\"outlinewidth\":0,\"ticks\":\"\"},\"colorscale\":[[0.0,\"#0d0887\"],[0.1111111111111111,\"#46039f\"],[0.2222222222222222,\"#7201a8\"],[0.3333333333333333,\"#9c179e\"],[0.4444444444444444,\"#bd3786\"],[0.5555555555555556,\"#d8576b\"],[0.6666666666666666,\"#ed7953\"],[0.7777777777777778,\"#fb9f3a\"],[0.8888888888888888,\"#fdca26\"],[1.0,\"#f0f921\"]],\"type\":\"heatmapgl\"}],\"heatmap\":[{\"colorbar\":{\"outlinewidth\":0,\"ticks\":\"\"},\"colorscale\":[[0.0,\"#0d0887\"],[0.1111111111111111,\"#46039f\"],[0.2222222222222222,\"#7201a8\"],[0.3333333333333333,\"#9c179e\"],[0.4444444444444444,\"#bd3786\"],[0.5555555555555556,\"#d8576b\"],[0.6666666666666666,\"#ed7953\"],[0.7777777777777778,\"#fb9f3a\"],[0.8888888888888888,\"#fdca26\"],[1.0,\"#f0f921\"]],\"type\":\"heatmap\"}],\"histogram2dcontour\":[{\"colorbar\":{\"outlinewidth\":0,\"ticks\":\"\"},\"colorscale\":[[0.0,\"#0d0887\"],[0.1111111111111111,\"#46039f\"],[0.2222222222222222,\"#7201a8\"],[0.3333333333333333,\"#9c179e\"],[0.4444444444444444,\"#bd3786\"],[0.5555555555555556,\"#d8576b\"],[0.6666666666666666,\"#ed7953\"],[0.7777777777777778,\"#fb9f3a\"],[0.8888888888888888,\"#fdca26\"],[1.0,\"#f0f921\"]],\"type\":\"histogram2dcontour\"}],\"histogram2d\":[{\"colorbar\":{\"outlinewidth\":0,\"ticks\":\"\"},\"colorscale\":[[0.0,\"#0d0887\"],[0.1111111111111111,\"#46039f\"],[0.2222222222222222,\"#7201a8\"],[0.3333333333333333,\"#9c179e\"],[0.4444444444444444,\"#bd3786\"],[0.5555555555555556,\"#d8576b\"],[0.6666666666666666,\"#ed7953\"],[0.7777777777777778,\"#fb9f3a\"],[0.8888888888888888,\"#fdca26\"],[1.0,\"#f0f921\"]],\"type\":\"histogram2d\"}],\"histogram\":[{\"marker\":{\"pattern\":{\"fillmode\":\"overlay\",\"size\":10,\"solidity\":0.2}},\"type\":\"histogram\"}],\"mesh3d\":[{\"colorbar\":{\"outlinewidth\":0,\"ticks\":\"\"},\"type\":\"mesh3d\"}],\"parcoords\":[{\"line\":{\"colorbar\":{\"outlinewidth\":0,\"ticks\":\"\"}},\"type\":\"parcoords\"}],\"pie\":[{\"automargin\":true,\"type\":\"pie\"}],\"scatter3d\":[{\"line\":{\"colorbar\":{\"outlinewidth\":0,\"ticks\":\"\"}},\"marker\":{\"colorbar\":{\"outlinewidth\":0,\"ticks\":\"\"}},\"type\":\"scatter3d\"}],\"scattercarpet\":[{\"marker\":{\"colorbar\":{\"outlinewidth\":0,\"ticks\":\"\"}},\"type\":\"scattercarpet\"}],\"scattergeo\":[{\"marker\":{\"colorbar\":{\"outlinewidth\":0,\"ticks\":\"\"}},\"type\":\"scattergeo\"}],\"scattergl\":[{\"marker\":{\"colorbar\":{\"outlinewidth\":0,\"ticks\":\"\"}},\"type\":\"scattergl\"}],\"scattermapbox\":[{\"marker\":{\"colorbar\":{\"outlinewidth\":0,\"ticks\":\"\"}},\"type\":\"scattermapbox\"}],\"scatterpolargl\":[{\"marker\":{\"colorbar\":{\"outlinewidth\":0,\"ticks\":\"\"}},\"type\":\"scatterpolargl\"}],\"scatterpolar\":[{\"marker\":{\"colorbar\":{\"outlinewidth\":0,\"ticks\":\"\"}},\"type\":\"scatterpolar\"}],\"scatter\":[{\"fillpattern\":{\"fillmode\":\"overlay\",\"size\":10,\"solidity\":0.2},\"type\":\"scatter\"}],\"scatterternary\":[{\"marker\":{\"colorbar\":{\"outlinewidth\":0,\"ticks\":\"\"}},\"type\":\"scatterternary\"}],\"surface\":[{\"colorbar\":{\"outlinewidth\":0,\"ticks\":\"\"},\"colorscale\":[[0.0,\"#0d0887\"],[0.1111111111111111,\"#46039f\"],[0.2222222222222222,\"#7201a8\"],[0.3333333333333333,\"#9c179e\"],[0.4444444444444444,\"#bd3786\"],[0.5555555555555556,\"#d8576b\"],[0.6666666666666666,\"#ed7953\"],[0.7777777777777778,\"#fb9f3a\"],[0.8888888888888888,\"#fdca26\"],[1.0,\"#f0f921\"]],\"type\":\"surface\"}],\"table\":[{\"cells\":{\"fill\":{\"color\":\"#EBF0F8\"},\"line\":{\"color\":\"white\"}},\"header\":{\"fill\":{\"color\":\"#C8D4E3\"},\"line\":{\"color\":\"white\"}},\"type\":\"table\"}]},\"layout\":{\"annotationdefaults\":{\"arrowcolor\":\"#2a3f5f\",\"arrowhead\":0,\"arrowwidth\":1},\"autotypenumbers\":\"strict\",\"coloraxis\":{\"colorbar\":{\"outlinewidth\":0,\"ticks\":\"\"}},\"colorscale\":{\"diverging\":[[0,\"#8e0152\"],[0.1,\"#c51b7d\"],[0.2,\"#de77ae\"],[0.3,\"#f1b6da\"],[0.4,\"#fde0ef\"],[0.5,\"#f7f7f7\"],[0.6,\"#e6f5d0\"],[0.7,\"#b8e186\"],[0.8,\"#7fbc41\"],[0.9,\"#4d9221\"],[1,\"#276419\"]],\"sequential\":[[0.0,\"#0d0887\"],[0.1111111111111111,\"#46039f\"],[0.2222222222222222,\"#7201a8\"],[0.3333333333333333,\"#9c179e\"],[0.4444444444444444,\"#bd3786\"],[0.5555555555555556,\"#d8576b\"],[0.6666666666666666,\"#ed7953\"],[0.7777777777777778,\"#fb9f3a\"],[0.8888888888888888,\"#fdca26\"],[1.0,\"#f0f921\"]],\"sequentialminus\":[[0.0,\"#0d0887\"],[0.1111111111111111,\"#46039f\"],[0.2222222222222222,\"#7201a8\"],[0.3333333333333333,\"#9c179e\"],[0.4444444444444444,\"#bd3786\"],[0.5555555555555556,\"#d8576b\"],[0.6666666666666666,\"#ed7953\"],[0.7777777777777778,\"#fb9f3a\"],[0.8888888888888888,\"#fdca26\"],[1.0,\"#f0f921\"]]},\"colorway\":[\"#636efa\",\"#EF553B\",\"#00cc96\",\"#ab63fa\",\"#FFA15A\",\"#19d3f3\",\"#FF6692\",\"#B6E880\",\"#FF97FF\",\"#FECB52\"],\"font\":{\"color\":\"#2a3f5f\"},\"geo\":{\"bgcolor\":\"white\",\"lakecolor\":\"white\",\"landcolor\":\"#E5ECF6\",\"showlakes\":true,\"showland\":true,\"subunitcolor\":\"white\"},\"hoverlabel\":{\"align\":\"left\"},\"hovermode\":\"closest\",\"mapbox\":{\"style\":\"light\"},\"paper_bgcolor\":\"white\",\"plot_bgcolor\":\"#E5ECF6\",\"polar\":{\"angularaxis\":{\"gridcolor\":\"white\",\"linecolor\":\"white\",\"ticks\":\"\"},\"bgcolor\":\"#E5ECF6\",\"radialaxis\":{\"gridcolor\":\"white\",\"linecolor\":\"white\",\"ticks\":\"\"}},\"scene\":{\"xaxis\":{\"backgroundcolor\":\"#E5ECF6\",\"gridcolor\":\"white\",\"gridwidth\":2,\"linecolor\":\"white\",\"showbackground\":true,\"ticks\":\"\",\"zerolinecolor\":\"white\"},\"yaxis\":{\"backgroundcolor\":\"#E5ECF6\",\"gridcolor\":\"white\",\"gridwidth\":2,\"linecolor\":\"white\",\"showbackground\":true,\"ticks\":\"\",\"zerolinecolor\":\"white\"},\"zaxis\":{\"backgroundcolor\":\"#E5ECF6\",\"gridcolor\":\"white\",\"gridwidth\":2,\"linecolor\":\"white\",\"showbackground\":true,\"ticks\":\"\",\"zerolinecolor\":\"white\"}},\"shapedefaults\":{\"line\":{\"color\":\"#2a3f5f\"}},\"ternary\":{\"aaxis\":{\"gridcolor\":\"white\",\"linecolor\":\"white\",\"ticks\":\"\"},\"baxis\":{\"gridcolor\":\"white\",\"linecolor\":\"white\",\"ticks\":\"\"},\"bgcolor\":\"#E5ECF6\",\"caxis\":{\"gridcolor\":\"white\",\"linecolor\":\"white\",\"ticks\":\"\"}},\"title\":{\"x\":0.05},\"xaxis\":{\"automargin\":true,\"gridcolor\":\"white\",\"linecolor\":\"white\",\"ticks\":\"\",\"title\":{\"standoff\":15},\"zerolinecolor\":\"white\",\"zerolinewidth\":2},\"yaxis\":{\"automargin\":true,\"gridcolor\":\"white\",\"linecolor\":\"white\",\"ticks\":\"\",\"title\":{\"standoff\":15},\"zerolinecolor\":\"white\",\"zerolinewidth\":2}}},\"title\":{\"font\":{\"color\":\"#4D5663\"}},\"xaxis\":{\"gridcolor\":\"#E1E5ED\",\"showgrid\":true,\"tickfont\":{\"color\":\"#4D5663\"},\"title\":{\"font\":{\"color\":\"#4D5663\"},\"text\":\"\"},\"zerolinecolor\":\"#E1E5ED\"},\"yaxis\":{\"domain\":[0.3,1],\"gridcolor\":\"#E1E5ED\",\"showgrid\":true,\"tickfont\":{\"color\":\"#4D5663\"},\"title\":{\"font\":{\"color\":\"#4D5663\"},\"text\":\"\"},\"zerolinecolor\":\"#E1E5ED\"},\"yaxis2\":{\"domain\":[0,0.25],\"gridcolor\":\"#E1E5ED\",\"showgrid\":true,\"tickfont\":{\"color\":\"#4D5663\"},\"title\":{\"font\":{\"color\":\"#4D5663\"},\"text\":\"Spread\"},\"zerolinecolor\":\"#E1E5ED\"},\"xaxis2\":{\"anchor\":\"y2\",\"gridcolor\":\"#E1E5ED\",\"showgrid\":true,\"showticklabels\":false,\"tickfont\":{\"color\":\"#4D5663\"},\"title\":{\"font\":{\"color\":\"#4D5663\"},\"text\":\"\"},\"zerolinecolor\":\"#E1E5ED\"}},                        {\"showLink\": true, \"linkText\": \"Export to plot.ly\", \"plotlyServerURL\": \"https://plot.ly\", \"responsive\": true}                    ).then(function(){\n",
       "                            \n",
       "var gd = document.getElementById('2ac6da31-4663-4fc0-bc30-6b53d189b438');\n",
       "var x = new MutationObserver(function (mutations, observer) {{\n",
       "        var display = window.getComputedStyle(gd).display;\n",
       "        if (!display || display === 'none') {{\n",
       "            console.log([gd, 'removed!']);\n",
       "            Plotly.purge(gd);\n",
       "            observer.disconnect();\n",
       "        }}\n",
       "}});\n",
       "\n",
       "// Listen for the removal of the full notebook cells\n",
       "var notebookContainer = gd.closest('#notebook-container');\n",
       "if (notebookContainer) {{\n",
       "    x.observe(notebookContainer, {childList: true});\n",
       "}}\n",
       "\n",
       "// Listen for the clearing of the current output cell\n",
       "var outputEl = gd.closest('.output');\n",
       "if (outputEl) {{\n",
       "    x.observe(outputEl, {childList: true});\n",
       "}}\n",
       "\n",
       "                        })                };                });            </script>        </div>"
      ]
     },
     "metadata": {},
     "output_type": "display_data"
    }
   ],
   "source": [
    "df[['A', 'B']].iplot(kind='spread')"
   ]
  },
  {
   "cell_type": "code",
   "execution_count": 44,
   "id": "9e81580d",
   "metadata": {},
   "outputs": [
    {
     "data": {
      "application/vnd.plotly.v1+json": {
       "config": {
        "linkText": "Export to plot.ly",
        "plotlyServerURL": "https://plot.ly",
        "showLink": true
       },
       "data": [
        {
         "marker": {
          "color": [
           "rgb(255, 153, 51)",
           "rgb(55, 128, 191)",
           "rgb(50, 171, 96)",
           "rgb(128, 0, 128)",
           "rgb(219, 64, 82)",
           "rgb(0, 128, 128)",
           "rgb(255, 255, 51)",
           "rgb(128, 128, 0)",
           "rgb(251, 128, 114)",
           "rgb(128, 177, 211)"
          ],
          "line": {
           "width": 1.3
          },
          "size": [
           32,
           35,
           52,
           30,
           63,
           84,
           91,
           76,
           63,
           95,
           12,
           88,
           87,
           63,
           69,
           47,
           57,
           79,
           55,
           30,
           91,
           97,
           54,
           83,
           58,
           36,
           93,
           51,
           60,
           85,
           76,
           100,
           87,
           103,
           79,
           32,
           59,
           79,
           70,
           62,
           16,
           74,
           60,
           72,
           84,
           56,
           80,
           22,
           33,
           51,
           61,
           76,
           60,
           62,
           110,
           51,
           77,
           47,
           56,
           83,
           97,
           25,
           93,
           24,
           63,
           83,
           44,
           42,
           39,
           81,
           79,
           55,
           49,
           38,
           89,
           36,
           83,
           67,
           28,
           74,
           88,
           68,
           91,
           51,
           88,
           73,
           110,
           45,
           80,
           59,
           40,
           72,
           71,
           41,
           43,
           72,
           107,
           39,
           90,
           112
          ],
          "symbol": "circle"
         },
         "mode": "markers",
         "text": "",
         "type": "scatter",
         "x": [
          -1.4939770193839113,
          0.14667142183123638,
          -0.1689240577557097,
          -2.5641137671536414,
          -1.5656121600558734,
          -1.2167004550556926,
          -0.5027845423972647,
          -0.19736293137528313,
          -0.4202320935653999,
          -0.6080146837161412,
          -1.230234537785847,
          -0.834544271094505,
          -0.7525609946685502,
          0.5523681023146403,
          0.3229589353270958,
          -0.997243590029998,
          1.6663098194289763,
          0.0877021878991175,
          -0.6060662026850341,
          -0.29003690869874343,
          0.8703676454073761,
          -0.3396656057424267,
          -0.6110092567412334,
          0.1472139397558027,
          -0.6994199594869444,
          -0.6158638170930033,
          0.6156004196442771,
          -0.33322696721037726,
          0.6696539231968791,
          -0.33925674088411095,
          0.8509919769727514,
          0.9645731195640609,
          2.427305453475825,
          0.976392584761381,
          1.7805857148536182,
          -0.6989982312628092,
          0.9057176562148805,
          0.41450153571613857,
          -1.6659821355531175,
          -1.105415801135921,
          -0.62185838308645,
          0.26305694720859163,
          -1.230184259105579,
          0.32487346783814625,
          -0.37518768510514555,
          -0.22521033590958614,
          -1.259372996663426,
          1.5609125053294142,
          -0.9177503491967661,
          -0.9235315213198988,
          1.1577654753378852,
          -1.6401526659124528,
          -1.0315814928703455,
          -0.17240986524184343,
          -1.6356154035797161,
          0.46896934471230545,
          0.7402280597029676,
          0.643571936309595,
          0.9789590030816315,
          0.4323966143449856,
          0.24984758212242894,
          0.05696615292061845,
          -0.22292926821963566,
          -1.5621053325723102,
          1.030043388900891,
          -2.1995026016841543,
          -0.9890315345511191,
          1.0610392086975546,
          -0.23948857174764943,
          -0.7085900231874463,
          1.6112436502127536,
          -0.068776323064688,
          -0.8630943776533021,
          0.21452073139849748,
          -0.6856857035422566,
          0.1604062806895764,
          -1.098694902114377,
          -0.004486955967236525,
          0.41358080038338224,
          -1.1308639855228306,
          1.3416129442187854,
          -1.1604840579000024,
          0.7859899459979105,
          -0.5378788796193937,
          -0.7823692774339261,
          -1.2475717135229125,
          -0.027819608867832593,
          -1.887835449605791,
          0.9312913941371009,
          -0.6762071639586086,
          -0.7166774860693382,
          1.3317430206692487,
          -0.5679228874173067,
          -0.9745452514729301,
          0.11099751388451033,
          1.4746054242805158,
          0.22633225768022122,
          -1.073948519445465,
          1.3499284499026483,
          -0.36978755761701826
         ],
         "y": [
          -0.17932594922892936,
          -1.2334150241168818,
          0.3491829430803454,
          0.22140507174626994,
          -0.4311921325864654,
          0.2728526806525845,
          -0.14671619073051312,
          -0.8361711948295325,
          -2.0525996827183524,
          1.2238954636242012,
          0.16748171442020826,
          0.9742348415959232,
          -1.459462066979266,
          0.560522495645634,
          0.22594078882224689,
          0.9936125565222024,
          2.0378905674033154,
          -0.15589591029106117,
          -1.037914776778365,
          0.5972560045854091,
          1.5396143307194154,
          -0.633578357203016,
          1.4549286148744829,
          -0.7602467680969238,
          1.4818952741568785,
          -0.35542676894068576,
          -0.1672124933215106,
          -0.4686208341591621,
          -0.6596271840718666,
          -0.7021120601503211,
          -0.4030312229739508,
          -2.4891767827615854,
          1.8067985741691368,
          0.3642482006924113,
          0.4633123311347458,
          -0.28776563158624496,
          -0.039824002265676645,
          0.3394186664968411,
          0.264005519683204,
          0.1997684212563469,
          -1.5972630604729419,
          -0.013363487980902096,
          0.628306211667071,
          0.014837486688604832,
          1.7299977564779727,
          0.8424498055863454,
          1.592948338505741,
          0.1908669085436572,
          2.7651347652023914,
          -0.052526911488933854,
          -1.3262825475191269,
          -0.7291649507936764,
          1.2249018261233362,
          0.6129613428385257,
          0.33058371496375294,
          0.4578414828592958,
          0.30186994670170814,
          0.23016785504505452,
          -0.8362591785189375,
          -0.19513012931737245,
          -0.9467488889374831,
          -0.020796939278777533,
          -0.7662354218695511,
          -0.5591934120199998,
          1.5520463274111282,
          -1.054375281258254,
          0.06319501059080465,
          0.14793864881395666,
          -0.8352938765626658,
          0.327098277975738,
          -0.5179048631445157,
          -1.1677399803679211,
          0.31009378584304187,
          -1.2490679086498058,
          -0.4379990922558729,
          -0.9952159930252686,
          -0.2966223603061448,
          -1.2253946012973123,
          0.9035519742314471,
          -0.7487703835990225,
          0.5675216231819916,
          0.2756900234536723,
          0.18778109097989296,
          0.9879978844923218,
          0.7132407851991432,
          -1.1426759234117327,
          0.603840652919978,
          -2.1987237127928667,
          -0.22001923010514926,
          -0.8474271266004348,
          -0.6214670988523815,
          -2.59231971595352,
          1.3278421248432764,
          0.11190383360680248,
          0.9314195828328372,
          0.718216542817618,
          -0.42075368128977786,
          -0.6554575354437634,
          -0.626953050550036,
          1.1939125486493873
         ]
        }
       ],
       "layout": {
        "legend": {
         "bgcolor": "#F5F6F9",
         "font": {
          "color": "#4D5663"
         }
        },
        "paper_bgcolor": "#F5F6F9",
        "plot_bgcolor": "#F5F6F9",
        "template": {
         "data": {
          "bar": [
           {
            "error_x": {
             "color": "#2a3f5f"
            },
            "error_y": {
             "color": "#2a3f5f"
            },
            "marker": {
             "line": {
              "color": "#E5ECF6",
              "width": 0.5
             },
             "pattern": {
              "fillmode": "overlay",
              "size": 10,
              "solidity": 0.2
             }
            },
            "type": "bar"
           }
          ],
          "barpolar": [
           {
            "marker": {
             "line": {
              "color": "#E5ECF6",
              "width": 0.5
             },
             "pattern": {
              "fillmode": "overlay",
              "size": 10,
              "solidity": 0.2
             }
            },
            "type": "barpolar"
           }
          ],
          "carpet": [
           {
            "aaxis": {
             "endlinecolor": "#2a3f5f",
             "gridcolor": "white",
             "linecolor": "white",
             "minorgridcolor": "white",
             "startlinecolor": "#2a3f5f"
            },
            "baxis": {
             "endlinecolor": "#2a3f5f",
             "gridcolor": "white",
             "linecolor": "white",
             "minorgridcolor": "white",
             "startlinecolor": "#2a3f5f"
            },
            "type": "carpet"
           }
          ],
          "choropleth": [
           {
            "colorbar": {
             "outlinewidth": 0,
             "ticks": ""
            },
            "type": "choropleth"
           }
          ],
          "contour": [
           {
            "colorbar": {
             "outlinewidth": 0,
             "ticks": ""
            },
            "colorscale": [
             [
              0,
              "#0d0887"
             ],
             [
              0.1111111111111111,
              "#46039f"
             ],
             [
              0.2222222222222222,
              "#7201a8"
             ],
             [
              0.3333333333333333,
              "#9c179e"
             ],
             [
              0.4444444444444444,
              "#bd3786"
             ],
             [
              0.5555555555555556,
              "#d8576b"
             ],
             [
              0.6666666666666666,
              "#ed7953"
             ],
             [
              0.7777777777777778,
              "#fb9f3a"
             ],
             [
              0.8888888888888888,
              "#fdca26"
             ],
             [
              1,
              "#f0f921"
             ]
            ],
            "type": "contour"
           }
          ],
          "contourcarpet": [
           {
            "colorbar": {
             "outlinewidth": 0,
             "ticks": ""
            },
            "type": "contourcarpet"
           }
          ],
          "heatmap": [
           {
            "colorbar": {
             "outlinewidth": 0,
             "ticks": ""
            },
            "colorscale": [
             [
              0,
              "#0d0887"
             ],
             [
              0.1111111111111111,
              "#46039f"
             ],
             [
              0.2222222222222222,
              "#7201a8"
             ],
             [
              0.3333333333333333,
              "#9c179e"
             ],
             [
              0.4444444444444444,
              "#bd3786"
             ],
             [
              0.5555555555555556,
              "#d8576b"
             ],
             [
              0.6666666666666666,
              "#ed7953"
             ],
             [
              0.7777777777777778,
              "#fb9f3a"
             ],
             [
              0.8888888888888888,
              "#fdca26"
             ],
             [
              1,
              "#f0f921"
             ]
            ],
            "type": "heatmap"
           }
          ],
          "heatmapgl": [
           {
            "colorbar": {
             "outlinewidth": 0,
             "ticks": ""
            },
            "colorscale": [
             [
              0,
              "#0d0887"
             ],
             [
              0.1111111111111111,
              "#46039f"
             ],
             [
              0.2222222222222222,
              "#7201a8"
             ],
             [
              0.3333333333333333,
              "#9c179e"
             ],
             [
              0.4444444444444444,
              "#bd3786"
             ],
             [
              0.5555555555555556,
              "#d8576b"
             ],
             [
              0.6666666666666666,
              "#ed7953"
             ],
             [
              0.7777777777777778,
              "#fb9f3a"
             ],
             [
              0.8888888888888888,
              "#fdca26"
             ],
             [
              1,
              "#f0f921"
             ]
            ],
            "type": "heatmapgl"
           }
          ],
          "histogram": [
           {
            "marker": {
             "pattern": {
              "fillmode": "overlay",
              "size": 10,
              "solidity": 0.2
             }
            },
            "type": "histogram"
           }
          ],
          "histogram2d": [
           {
            "colorbar": {
             "outlinewidth": 0,
             "ticks": ""
            },
            "colorscale": [
             [
              0,
              "#0d0887"
             ],
             [
              0.1111111111111111,
              "#46039f"
             ],
             [
              0.2222222222222222,
              "#7201a8"
             ],
             [
              0.3333333333333333,
              "#9c179e"
             ],
             [
              0.4444444444444444,
              "#bd3786"
             ],
             [
              0.5555555555555556,
              "#d8576b"
             ],
             [
              0.6666666666666666,
              "#ed7953"
             ],
             [
              0.7777777777777778,
              "#fb9f3a"
             ],
             [
              0.8888888888888888,
              "#fdca26"
             ],
             [
              1,
              "#f0f921"
             ]
            ],
            "type": "histogram2d"
           }
          ],
          "histogram2dcontour": [
           {
            "colorbar": {
             "outlinewidth": 0,
             "ticks": ""
            },
            "colorscale": [
             [
              0,
              "#0d0887"
             ],
             [
              0.1111111111111111,
              "#46039f"
             ],
             [
              0.2222222222222222,
              "#7201a8"
             ],
             [
              0.3333333333333333,
              "#9c179e"
             ],
             [
              0.4444444444444444,
              "#bd3786"
             ],
             [
              0.5555555555555556,
              "#d8576b"
             ],
             [
              0.6666666666666666,
              "#ed7953"
             ],
             [
              0.7777777777777778,
              "#fb9f3a"
             ],
             [
              0.8888888888888888,
              "#fdca26"
             ],
             [
              1,
              "#f0f921"
             ]
            ],
            "type": "histogram2dcontour"
           }
          ],
          "mesh3d": [
           {
            "colorbar": {
             "outlinewidth": 0,
             "ticks": ""
            },
            "type": "mesh3d"
           }
          ],
          "parcoords": [
           {
            "line": {
             "colorbar": {
              "outlinewidth": 0,
              "ticks": ""
             }
            },
            "type": "parcoords"
           }
          ],
          "pie": [
           {
            "automargin": true,
            "type": "pie"
           }
          ],
          "scatter": [
           {
            "fillpattern": {
             "fillmode": "overlay",
             "size": 10,
             "solidity": 0.2
            },
            "type": "scatter"
           }
          ],
          "scatter3d": [
           {
            "line": {
             "colorbar": {
              "outlinewidth": 0,
              "ticks": ""
             }
            },
            "marker": {
             "colorbar": {
              "outlinewidth": 0,
              "ticks": ""
             }
            },
            "type": "scatter3d"
           }
          ],
          "scattercarpet": [
           {
            "marker": {
             "colorbar": {
              "outlinewidth": 0,
              "ticks": ""
             }
            },
            "type": "scattercarpet"
           }
          ],
          "scattergeo": [
           {
            "marker": {
             "colorbar": {
              "outlinewidth": 0,
              "ticks": ""
             }
            },
            "type": "scattergeo"
           }
          ],
          "scattergl": [
           {
            "marker": {
             "colorbar": {
              "outlinewidth": 0,
              "ticks": ""
             }
            },
            "type": "scattergl"
           }
          ],
          "scattermapbox": [
           {
            "marker": {
             "colorbar": {
              "outlinewidth": 0,
              "ticks": ""
             }
            },
            "type": "scattermapbox"
           }
          ],
          "scatterpolar": [
           {
            "marker": {
             "colorbar": {
              "outlinewidth": 0,
              "ticks": ""
             }
            },
            "type": "scatterpolar"
           }
          ],
          "scatterpolargl": [
           {
            "marker": {
             "colorbar": {
              "outlinewidth": 0,
              "ticks": ""
             }
            },
            "type": "scatterpolargl"
           }
          ],
          "scatterternary": [
           {
            "marker": {
             "colorbar": {
              "outlinewidth": 0,
              "ticks": ""
             }
            },
            "type": "scatterternary"
           }
          ],
          "surface": [
           {
            "colorbar": {
             "outlinewidth": 0,
             "ticks": ""
            },
            "colorscale": [
             [
              0,
              "#0d0887"
             ],
             [
              0.1111111111111111,
              "#46039f"
             ],
             [
              0.2222222222222222,
              "#7201a8"
             ],
             [
              0.3333333333333333,
              "#9c179e"
             ],
             [
              0.4444444444444444,
              "#bd3786"
             ],
             [
              0.5555555555555556,
              "#d8576b"
             ],
             [
              0.6666666666666666,
              "#ed7953"
             ],
             [
              0.7777777777777778,
              "#fb9f3a"
             ],
             [
              0.8888888888888888,
              "#fdca26"
             ],
             [
              1,
              "#f0f921"
             ]
            ],
            "type": "surface"
           }
          ],
          "table": [
           {
            "cells": {
             "fill": {
              "color": "#EBF0F8"
             },
             "line": {
              "color": "white"
             }
            },
            "header": {
             "fill": {
              "color": "#C8D4E3"
             },
             "line": {
              "color": "white"
             }
            },
            "type": "table"
           }
          ]
         },
         "layout": {
          "annotationdefaults": {
           "arrowcolor": "#2a3f5f",
           "arrowhead": 0,
           "arrowwidth": 1
          },
          "autotypenumbers": "strict",
          "coloraxis": {
           "colorbar": {
            "outlinewidth": 0,
            "ticks": ""
           }
          },
          "colorscale": {
           "diverging": [
            [
             0,
             "#8e0152"
            ],
            [
             0.1,
             "#c51b7d"
            ],
            [
             0.2,
             "#de77ae"
            ],
            [
             0.3,
             "#f1b6da"
            ],
            [
             0.4,
             "#fde0ef"
            ],
            [
             0.5,
             "#f7f7f7"
            ],
            [
             0.6,
             "#e6f5d0"
            ],
            [
             0.7,
             "#b8e186"
            ],
            [
             0.8,
             "#7fbc41"
            ],
            [
             0.9,
             "#4d9221"
            ],
            [
             1,
             "#276419"
            ]
           ],
           "sequential": [
            [
             0,
             "#0d0887"
            ],
            [
             0.1111111111111111,
             "#46039f"
            ],
            [
             0.2222222222222222,
             "#7201a8"
            ],
            [
             0.3333333333333333,
             "#9c179e"
            ],
            [
             0.4444444444444444,
             "#bd3786"
            ],
            [
             0.5555555555555556,
             "#d8576b"
            ],
            [
             0.6666666666666666,
             "#ed7953"
            ],
            [
             0.7777777777777778,
             "#fb9f3a"
            ],
            [
             0.8888888888888888,
             "#fdca26"
            ],
            [
             1,
             "#f0f921"
            ]
           ],
           "sequentialminus": [
            [
             0,
             "#0d0887"
            ],
            [
             0.1111111111111111,
             "#46039f"
            ],
            [
             0.2222222222222222,
             "#7201a8"
            ],
            [
             0.3333333333333333,
             "#9c179e"
            ],
            [
             0.4444444444444444,
             "#bd3786"
            ],
            [
             0.5555555555555556,
             "#d8576b"
            ],
            [
             0.6666666666666666,
             "#ed7953"
            ],
            [
             0.7777777777777778,
             "#fb9f3a"
            ],
            [
             0.8888888888888888,
             "#fdca26"
            ],
            [
             1,
             "#f0f921"
            ]
           ]
          },
          "colorway": [
           "#636efa",
           "#EF553B",
           "#00cc96",
           "#ab63fa",
           "#FFA15A",
           "#19d3f3",
           "#FF6692",
           "#B6E880",
           "#FF97FF",
           "#FECB52"
          ],
          "font": {
           "color": "#2a3f5f"
          },
          "geo": {
           "bgcolor": "white",
           "lakecolor": "white",
           "landcolor": "#E5ECF6",
           "showlakes": true,
           "showland": true,
           "subunitcolor": "white"
          },
          "hoverlabel": {
           "align": "left"
          },
          "hovermode": "closest",
          "mapbox": {
           "style": "light"
          },
          "paper_bgcolor": "white",
          "plot_bgcolor": "#E5ECF6",
          "polar": {
           "angularaxis": {
            "gridcolor": "white",
            "linecolor": "white",
            "ticks": ""
           },
           "bgcolor": "#E5ECF6",
           "radialaxis": {
            "gridcolor": "white",
            "linecolor": "white",
            "ticks": ""
           }
          },
          "scene": {
           "xaxis": {
            "backgroundcolor": "#E5ECF6",
            "gridcolor": "white",
            "gridwidth": 2,
            "linecolor": "white",
            "showbackground": true,
            "ticks": "",
            "zerolinecolor": "white"
           },
           "yaxis": {
            "backgroundcolor": "#E5ECF6",
            "gridcolor": "white",
            "gridwidth": 2,
            "linecolor": "white",
            "showbackground": true,
            "ticks": "",
            "zerolinecolor": "white"
           },
           "zaxis": {
            "backgroundcolor": "#E5ECF6",
            "gridcolor": "white",
            "gridwidth": 2,
            "linecolor": "white",
            "showbackground": true,
            "ticks": "",
            "zerolinecolor": "white"
           }
          },
          "shapedefaults": {
           "line": {
            "color": "#2a3f5f"
           }
          },
          "ternary": {
           "aaxis": {
            "gridcolor": "white",
            "linecolor": "white",
            "ticks": ""
           },
           "baxis": {
            "gridcolor": "white",
            "linecolor": "white",
            "ticks": ""
           },
           "bgcolor": "#E5ECF6",
           "caxis": {
            "gridcolor": "white",
            "linecolor": "white",
            "ticks": ""
           }
          },
          "title": {
           "x": 0.05
          },
          "xaxis": {
           "automargin": true,
           "gridcolor": "white",
           "linecolor": "white",
           "ticks": "",
           "title": {
            "standoff": 15
           },
           "zerolinecolor": "white",
           "zerolinewidth": 2
          },
          "yaxis": {
           "automargin": true,
           "gridcolor": "white",
           "linecolor": "white",
           "ticks": "",
           "title": {
            "standoff": 15
           },
           "zerolinecolor": "white",
           "zerolinewidth": 2
          }
         }
        },
        "title": {
         "font": {
          "color": "#4D5663"
         }
        },
        "xaxis": {
         "gridcolor": "#E1E5ED",
         "showgrid": true,
         "tickfont": {
          "color": "#4D5663"
         },
         "title": {
          "font": {
           "color": "#4D5663"
          },
          "text": ""
         },
         "zerolinecolor": "#E1E5ED"
        },
        "yaxis": {
         "gridcolor": "#E1E5ED",
         "showgrid": true,
         "tickfont": {
          "color": "#4D5663"
         },
         "title": {
          "font": {
           "color": "#4D5663"
          },
          "text": ""
         },
         "zerolinecolor": "#E1E5ED"
        }
       }
      },
      "text/html": [
       "<div>                            <div id=\"fd820820-1294-4637-a2bc-7aea9aba0c53\" class=\"plotly-graph-div\" style=\"height:525px; width:100%;\"></div>            <script type=\"text/javascript\">                require([\"plotly\"], function(Plotly) {                    window.PLOTLYENV=window.PLOTLYENV || {};\n",
       "                    window.PLOTLYENV.BASE_URL='https://plot.ly';                                    if (document.getElementById(\"fd820820-1294-4637-a2bc-7aea9aba0c53\")) {                    Plotly.newPlot(                        \"fd820820-1294-4637-a2bc-7aea9aba0c53\",                        [{\"marker\":{\"color\":[\"rgb(255, 153, 51)\",\"rgb(55, 128, 191)\",\"rgb(50, 171, 96)\",\"rgb(128, 0, 128)\",\"rgb(219, 64, 82)\",\"rgb(0, 128, 128)\",\"rgb(255, 255, 51)\",\"rgb(128, 128, 0)\",\"rgb(251, 128, 114)\",\"rgb(128, 177, 211)\"],\"line\":{\"width\":1.3},\"size\":[32,35,52,30,63,84,91,76,63,95,12,88,87,63,69,47,57,79,55,30,91,97,54,83,58,36,93,51,60,85,76,100,87,103,79,32,59,79,70,62,16,74,60,72,84,56,80,22,33,51,61,76,60,62,110,51,77,47,56,83,97,25,93,24,63,83,44,42,39,81,79,55,49,38,89,36,83,67,28,74,88,68,91,51,88,73,110,45,80,59,40,72,71,41,43,72,107,39,90,112],\"symbol\":\"circle\"},\"mode\":\"markers\",\"text\":\"\",\"x\":[-1.4939770193839113,0.14667142183123638,-0.1689240577557097,-2.5641137671536414,-1.5656121600558734,-1.2167004550556926,-0.5027845423972647,-0.19736293137528313,-0.4202320935653999,-0.6080146837161412,-1.230234537785847,-0.834544271094505,-0.7525609946685502,0.5523681023146403,0.3229589353270958,-0.997243590029998,1.6663098194289763,0.0877021878991175,-0.6060662026850341,-0.29003690869874343,0.8703676454073761,-0.3396656057424267,-0.6110092567412334,0.1472139397558027,-0.6994199594869444,-0.6158638170930033,0.6156004196442771,-0.33322696721037726,0.6696539231968791,-0.33925674088411095,0.8509919769727514,0.9645731195640609,2.427305453475825,0.976392584761381,1.7805857148536182,-0.6989982312628092,0.9057176562148805,0.41450153571613857,-1.6659821355531175,-1.105415801135921,-0.62185838308645,0.26305694720859163,-1.230184259105579,0.32487346783814625,-0.37518768510514555,-0.22521033590958614,-1.259372996663426,1.5609125053294142,-0.9177503491967661,-0.9235315213198988,1.1577654753378852,-1.6401526659124528,-1.0315814928703455,-0.17240986524184343,-1.6356154035797161,0.46896934471230545,0.7402280597029676,0.643571936309595,0.9789590030816315,0.4323966143449856,0.24984758212242894,0.05696615292061845,-0.22292926821963566,-1.5621053325723102,1.030043388900891,-2.1995026016841543,-0.9890315345511191,1.0610392086975546,-0.23948857174764943,-0.7085900231874463,1.6112436502127536,-0.068776323064688,-0.8630943776533021,0.21452073139849748,-0.6856857035422566,0.1604062806895764,-1.098694902114377,-0.004486955967236525,0.41358080038338224,-1.1308639855228306,1.3416129442187854,-1.1604840579000024,0.7859899459979105,-0.5378788796193937,-0.7823692774339261,-1.2475717135229125,-0.027819608867832593,-1.887835449605791,0.9312913941371009,-0.6762071639586086,-0.7166774860693382,1.3317430206692487,-0.5679228874173067,-0.9745452514729301,0.11099751388451033,1.4746054242805158,0.22633225768022122,-1.073948519445465,1.3499284499026483,-0.36978755761701826],\"y\":[-0.17932594922892936,-1.2334150241168818,0.3491829430803454,0.22140507174626994,-0.4311921325864654,0.2728526806525845,-0.14671619073051312,-0.8361711948295325,-2.0525996827183524,1.2238954636242012,0.16748171442020826,0.9742348415959232,-1.459462066979266,0.560522495645634,0.22594078882224689,0.9936125565222024,2.0378905674033154,-0.15589591029106117,-1.037914776778365,0.5972560045854091,1.5396143307194154,-0.633578357203016,1.4549286148744829,-0.7602467680969238,1.4818952741568785,-0.35542676894068576,-0.1672124933215106,-0.4686208341591621,-0.6596271840718666,-0.7021120601503211,-0.4030312229739508,-2.4891767827615854,1.8067985741691368,0.3642482006924113,0.4633123311347458,-0.28776563158624496,-0.039824002265676645,0.3394186664968411,0.264005519683204,0.1997684212563469,-1.5972630604729419,-0.013363487980902096,0.628306211667071,0.014837486688604832,1.7299977564779727,0.8424498055863454,1.592948338505741,0.1908669085436572,2.7651347652023914,-0.052526911488933854,-1.3262825475191269,-0.7291649507936764,1.2249018261233362,0.6129613428385257,0.33058371496375294,0.4578414828592958,0.30186994670170814,0.23016785504505452,-0.8362591785189375,-0.19513012931737245,-0.9467488889374831,-0.020796939278777533,-0.7662354218695511,-0.5591934120199998,1.5520463274111282,-1.054375281258254,0.06319501059080465,0.14793864881395666,-0.8352938765626658,0.327098277975738,-0.5179048631445157,-1.1677399803679211,0.31009378584304187,-1.2490679086498058,-0.4379990922558729,-0.9952159930252686,-0.2966223603061448,-1.2253946012973123,0.9035519742314471,-0.7487703835990225,0.5675216231819916,0.2756900234536723,0.18778109097989296,0.9879978844923218,0.7132407851991432,-1.1426759234117327,0.603840652919978,-2.1987237127928667,-0.22001923010514926,-0.8474271266004348,-0.6214670988523815,-2.59231971595352,1.3278421248432764,0.11190383360680248,0.9314195828328372,0.718216542817618,-0.42075368128977786,-0.6554575354437634,-0.626953050550036,1.1939125486493873],\"type\":\"scatter\"}],                        {\"legend\":{\"bgcolor\":\"#F5F6F9\",\"font\":{\"color\":\"#4D5663\"}},\"paper_bgcolor\":\"#F5F6F9\",\"plot_bgcolor\":\"#F5F6F9\",\"template\":{\"data\":{\"barpolar\":[{\"marker\":{\"line\":{\"color\":\"#E5ECF6\",\"width\":0.5},\"pattern\":{\"fillmode\":\"overlay\",\"size\":10,\"solidity\":0.2}},\"type\":\"barpolar\"}],\"bar\":[{\"error_x\":{\"color\":\"#2a3f5f\"},\"error_y\":{\"color\":\"#2a3f5f\"},\"marker\":{\"line\":{\"color\":\"#E5ECF6\",\"width\":0.5},\"pattern\":{\"fillmode\":\"overlay\",\"size\":10,\"solidity\":0.2}},\"type\":\"bar\"}],\"carpet\":[{\"aaxis\":{\"endlinecolor\":\"#2a3f5f\",\"gridcolor\":\"white\",\"linecolor\":\"white\",\"minorgridcolor\":\"white\",\"startlinecolor\":\"#2a3f5f\"},\"baxis\":{\"endlinecolor\":\"#2a3f5f\",\"gridcolor\":\"white\",\"linecolor\":\"white\",\"minorgridcolor\":\"white\",\"startlinecolor\":\"#2a3f5f\"},\"type\":\"carpet\"}],\"choropleth\":[{\"colorbar\":{\"outlinewidth\":0,\"ticks\":\"\"},\"type\":\"choropleth\"}],\"contourcarpet\":[{\"colorbar\":{\"outlinewidth\":0,\"ticks\":\"\"},\"type\":\"contourcarpet\"}],\"contour\":[{\"colorbar\":{\"outlinewidth\":0,\"ticks\":\"\"},\"colorscale\":[[0.0,\"#0d0887\"],[0.1111111111111111,\"#46039f\"],[0.2222222222222222,\"#7201a8\"],[0.3333333333333333,\"#9c179e\"],[0.4444444444444444,\"#bd3786\"],[0.5555555555555556,\"#d8576b\"],[0.6666666666666666,\"#ed7953\"],[0.7777777777777778,\"#fb9f3a\"],[0.8888888888888888,\"#fdca26\"],[1.0,\"#f0f921\"]],\"type\":\"contour\"}],\"heatmapgl\":[{\"colorbar\":{\"outlinewidth\":0,\"ticks\":\"\"},\"colorscale\":[[0.0,\"#0d0887\"],[0.1111111111111111,\"#46039f\"],[0.2222222222222222,\"#7201a8\"],[0.3333333333333333,\"#9c179e\"],[0.4444444444444444,\"#bd3786\"],[0.5555555555555556,\"#d8576b\"],[0.6666666666666666,\"#ed7953\"],[0.7777777777777778,\"#fb9f3a\"],[0.8888888888888888,\"#fdca26\"],[1.0,\"#f0f921\"]],\"type\":\"heatmapgl\"}],\"heatmap\":[{\"colorbar\":{\"outlinewidth\":0,\"ticks\":\"\"},\"colorscale\":[[0.0,\"#0d0887\"],[0.1111111111111111,\"#46039f\"],[0.2222222222222222,\"#7201a8\"],[0.3333333333333333,\"#9c179e\"],[0.4444444444444444,\"#bd3786\"],[0.5555555555555556,\"#d8576b\"],[0.6666666666666666,\"#ed7953\"],[0.7777777777777778,\"#fb9f3a\"],[0.8888888888888888,\"#fdca26\"],[1.0,\"#f0f921\"]],\"type\":\"heatmap\"}],\"histogram2dcontour\":[{\"colorbar\":{\"outlinewidth\":0,\"ticks\":\"\"},\"colorscale\":[[0.0,\"#0d0887\"],[0.1111111111111111,\"#46039f\"],[0.2222222222222222,\"#7201a8\"],[0.3333333333333333,\"#9c179e\"],[0.4444444444444444,\"#bd3786\"],[0.5555555555555556,\"#d8576b\"],[0.6666666666666666,\"#ed7953\"],[0.7777777777777778,\"#fb9f3a\"],[0.8888888888888888,\"#fdca26\"],[1.0,\"#f0f921\"]],\"type\":\"histogram2dcontour\"}],\"histogram2d\":[{\"colorbar\":{\"outlinewidth\":0,\"ticks\":\"\"},\"colorscale\":[[0.0,\"#0d0887\"],[0.1111111111111111,\"#46039f\"],[0.2222222222222222,\"#7201a8\"],[0.3333333333333333,\"#9c179e\"],[0.4444444444444444,\"#bd3786\"],[0.5555555555555556,\"#d8576b\"],[0.6666666666666666,\"#ed7953\"],[0.7777777777777778,\"#fb9f3a\"],[0.8888888888888888,\"#fdca26\"],[1.0,\"#f0f921\"]],\"type\":\"histogram2d\"}],\"histogram\":[{\"marker\":{\"pattern\":{\"fillmode\":\"overlay\",\"size\":10,\"solidity\":0.2}},\"type\":\"histogram\"}],\"mesh3d\":[{\"colorbar\":{\"outlinewidth\":0,\"ticks\":\"\"},\"type\":\"mesh3d\"}],\"parcoords\":[{\"line\":{\"colorbar\":{\"outlinewidth\":0,\"ticks\":\"\"}},\"type\":\"parcoords\"}],\"pie\":[{\"automargin\":true,\"type\":\"pie\"}],\"scatter3d\":[{\"line\":{\"colorbar\":{\"outlinewidth\":0,\"ticks\":\"\"}},\"marker\":{\"colorbar\":{\"outlinewidth\":0,\"ticks\":\"\"}},\"type\":\"scatter3d\"}],\"scattercarpet\":[{\"marker\":{\"colorbar\":{\"outlinewidth\":0,\"ticks\":\"\"}},\"type\":\"scattercarpet\"}],\"scattergeo\":[{\"marker\":{\"colorbar\":{\"outlinewidth\":0,\"ticks\":\"\"}},\"type\":\"scattergeo\"}],\"scattergl\":[{\"marker\":{\"colorbar\":{\"outlinewidth\":0,\"ticks\":\"\"}},\"type\":\"scattergl\"}],\"scattermapbox\":[{\"marker\":{\"colorbar\":{\"outlinewidth\":0,\"ticks\":\"\"}},\"type\":\"scattermapbox\"}],\"scatterpolargl\":[{\"marker\":{\"colorbar\":{\"outlinewidth\":0,\"ticks\":\"\"}},\"type\":\"scatterpolargl\"}],\"scatterpolar\":[{\"marker\":{\"colorbar\":{\"outlinewidth\":0,\"ticks\":\"\"}},\"type\":\"scatterpolar\"}],\"scatter\":[{\"fillpattern\":{\"fillmode\":\"overlay\",\"size\":10,\"solidity\":0.2},\"type\":\"scatter\"}],\"scatterternary\":[{\"marker\":{\"colorbar\":{\"outlinewidth\":0,\"ticks\":\"\"}},\"type\":\"scatterternary\"}],\"surface\":[{\"colorbar\":{\"outlinewidth\":0,\"ticks\":\"\"},\"colorscale\":[[0.0,\"#0d0887\"],[0.1111111111111111,\"#46039f\"],[0.2222222222222222,\"#7201a8\"],[0.3333333333333333,\"#9c179e\"],[0.4444444444444444,\"#bd3786\"],[0.5555555555555556,\"#d8576b\"],[0.6666666666666666,\"#ed7953\"],[0.7777777777777778,\"#fb9f3a\"],[0.8888888888888888,\"#fdca26\"],[1.0,\"#f0f921\"]],\"type\":\"surface\"}],\"table\":[{\"cells\":{\"fill\":{\"color\":\"#EBF0F8\"},\"line\":{\"color\":\"white\"}},\"header\":{\"fill\":{\"color\":\"#C8D4E3\"},\"line\":{\"color\":\"white\"}},\"type\":\"table\"}]},\"layout\":{\"annotationdefaults\":{\"arrowcolor\":\"#2a3f5f\",\"arrowhead\":0,\"arrowwidth\":1},\"autotypenumbers\":\"strict\",\"coloraxis\":{\"colorbar\":{\"outlinewidth\":0,\"ticks\":\"\"}},\"colorscale\":{\"diverging\":[[0,\"#8e0152\"],[0.1,\"#c51b7d\"],[0.2,\"#de77ae\"],[0.3,\"#f1b6da\"],[0.4,\"#fde0ef\"],[0.5,\"#f7f7f7\"],[0.6,\"#e6f5d0\"],[0.7,\"#b8e186\"],[0.8,\"#7fbc41\"],[0.9,\"#4d9221\"],[1,\"#276419\"]],\"sequential\":[[0.0,\"#0d0887\"],[0.1111111111111111,\"#46039f\"],[0.2222222222222222,\"#7201a8\"],[0.3333333333333333,\"#9c179e\"],[0.4444444444444444,\"#bd3786\"],[0.5555555555555556,\"#d8576b\"],[0.6666666666666666,\"#ed7953\"],[0.7777777777777778,\"#fb9f3a\"],[0.8888888888888888,\"#fdca26\"],[1.0,\"#f0f921\"]],\"sequentialminus\":[[0.0,\"#0d0887\"],[0.1111111111111111,\"#46039f\"],[0.2222222222222222,\"#7201a8\"],[0.3333333333333333,\"#9c179e\"],[0.4444444444444444,\"#bd3786\"],[0.5555555555555556,\"#d8576b\"],[0.6666666666666666,\"#ed7953\"],[0.7777777777777778,\"#fb9f3a\"],[0.8888888888888888,\"#fdca26\"],[1.0,\"#f0f921\"]]},\"colorway\":[\"#636efa\",\"#EF553B\",\"#00cc96\",\"#ab63fa\",\"#FFA15A\",\"#19d3f3\",\"#FF6692\",\"#B6E880\",\"#FF97FF\",\"#FECB52\"],\"font\":{\"color\":\"#2a3f5f\"},\"geo\":{\"bgcolor\":\"white\",\"lakecolor\":\"white\",\"landcolor\":\"#E5ECF6\",\"showlakes\":true,\"showland\":true,\"subunitcolor\":\"white\"},\"hoverlabel\":{\"align\":\"left\"},\"hovermode\":\"closest\",\"mapbox\":{\"style\":\"light\"},\"paper_bgcolor\":\"white\",\"plot_bgcolor\":\"#E5ECF6\",\"polar\":{\"angularaxis\":{\"gridcolor\":\"white\",\"linecolor\":\"white\",\"ticks\":\"\"},\"bgcolor\":\"#E5ECF6\",\"radialaxis\":{\"gridcolor\":\"white\",\"linecolor\":\"white\",\"ticks\":\"\"}},\"scene\":{\"xaxis\":{\"backgroundcolor\":\"#E5ECF6\",\"gridcolor\":\"white\",\"gridwidth\":2,\"linecolor\":\"white\",\"showbackground\":true,\"ticks\":\"\",\"zerolinecolor\":\"white\"},\"yaxis\":{\"backgroundcolor\":\"#E5ECF6\",\"gridcolor\":\"white\",\"gridwidth\":2,\"linecolor\":\"white\",\"showbackground\":true,\"ticks\":\"\",\"zerolinecolor\":\"white\"},\"zaxis\":{\"backgroundcolor\":\"#E5ECF6\",\"gridcolor\":\"white\",\"gridwidth\":2,\"linecolor\":\"white\",\"showbackground\":true,\"ticks\":\"\",\"zerolinecolor\":\"white\"}},\"shapedefaults\":{\"line\":{\"color\":\"#2a3f5f\"}},\"ternary\":{\"aaxis\":{\"gridcolor\":\"white\",\"linecolor\":\"white\",\"ticks\":\"\"},\"baxis\":{\"gridcolor\":\"white\",\"linecolor\":\"white\",\"ticks\":\"\"},\"bgcolor\":\"#E5ECF6\",\"caxis\":{\"gridcolor\":\"white\",\"linecolor\":\"white\",\"ticks\":\"\"}},\"title\":{\"x\":0.05},\"xaxis\":{\"automargin\":true,\"gridcolor\":\"white\",\"linecolor\":\"white\",\"ticks\":\"\",\"title\":{\"standoff\":15},\"zerolinecolor\":\"white\",\"zerolinewidth\":2},\"yaxis\":{\"automargin\":true,\"gridcolor\":\"white\",\"linecolor\":\"white\",\"ticks\":\"\",\"title\":{\"standoff\":15},\"zerolinecolor\":\"white\",\"zerolinewidth\":2}}},\"title\":{\"font\":{\"color\":\"#4D5663\"}},\"xaxis\":{\"gridcolor\":\"#E1E5ED\",\"showgrid\":true,\"tickfont\":{\"color\":\"#4D5663\"},\"title\":{\"font\":{\"color\":\"#4D5663\"},\"text\":\"\"},\"zerolinecolor\":\"#E1E5ED\"},\"yaxis\":{\"gridcolor\":\"#E1E5ED\",\"showgrid\":true,\"tickfont\":{\"color\":\"#4D5663\"},\"title\":{\"font\":{\"color\":\"#4D5663\"},\"text\":\"\"},\"zerolinecolor\":\"#E1E5ED\"}},                        {\"showLink\": true, \"linkText\": \"Export to plot.ly\", \"plotlyServerURL\": \"https://plot.ly\", \"responsive\": true}                    ).then(function(){\n",
       "                            \n",
       "var gd = document.getElementById('fd820820-1294-4637-a2bc-7aea9aba0c53');\n",
       "var x = new MutationObserver(function (mutations, observer) {{\n",
       "        var display = window.getComputedStyle(gd).display;\n",
       "        if (!display || display === 'none') {{\n",
       "            console.log([gd, 'removed!']);\n",
       "            Plotly.purge(gd);\n",
       "            observer.disconnect();\n",
       "        }}\n",
       "}});\n",
       "\n",
       "// Listen for the removal of the full notebook cells\n",
       "var notebookContainer = gd.closest('#notebook-container');\n",
       "if (notebookContainer) {{\n",
       "    x.observe(notebookContainer, {childList: true});\n",
       "}}\n",
       "\n",
       "// Listen for the clearing of the current output cell\n",
       "var outputEl = gd.closest('.output');\n",
       "if (outputEl) {{\n",
       "    x.observe(outputEl, {childList: true});\n",
       "}}\n",
       "\n",
       "                        })                };                });            </script>        </div>"
      ]
     },
     "metadata": {},
     "output_type": "display_data"
    }
   ],
   "source": [
    "df.iplot(kind='bubble', x='A', y='B', size='c')"
   ]
  },
  {
   "cell_type": "code",
   "execution_count": 45,
   "id": "eb6846a7",
   "metadata": {},
   "outputs": [
    {
     "data": {
      "application/vnd.plotly.v1+json": {
       "config": {
        "linkText": "Export to plot.ly",
        "plotlyServerURL": "https://plot.ly",
        "showLink": true
       },
       "data": [
        {
         "histfunc": "count",
         "histnorm": "",
         "marker": {
          "color": "rgba(255, 153, 51, 1.0)",
          "line": {
           "color": "#4D5663",
           "width": 1.3
          }
         },
         "name": "A",
         "nbinsx": 10,
         "opacity": 0.8,
         "orientation": "v",
         "type": "histogram",
         "x": [
          -1.4939770193839113,
          0.14667142183123638,
          -0.1689240577557097,
          -2.5641137671536414,
          -1.5656121600558734,
          -1.2167004550556926,
          -0.5027845423972647,
          -0.19736293137528313,
          -0.4202320935653999,
          -0.6080146837161412,
          -1.230234537785847,
          -0.834544271094505,
          -0.7525609946685502,
          0.5523681023146403,
          0.3229589353270958,
          -0.997243590029998,
          1.6663098194289763,
          0.0877021878991175,
          -0.6060662026850341,
          -0.29003690869874343,
          0.8703676454073761,
          -0.3396656057424267,
          -0.6110092567412334,
          0.1472139397558027,
          -0.6994199594869444,
          -0.6158638170930033,
          0.6156004196442771,
          -0.33322696721037726,
          0.6696539231968791,
          -0.33925674088411095,
          0.8509919769727514,
          0.9645731195640609,
          2.427305453475825,
          0.976392584761381,
          1.7805857148536182,
          -0.6989982312628092,
          0.9057176562148805,
          0.41450153571613857,
          -1.6659821355531175,
          -1.105415801135921,
          -0.62185838308645,
          0.26305694720859163,
          -1.230184259105579,
          0.32487346783814625,
          -0.37518768510514555,
          -0.22521033590958614,
          -1.259372996663426,
          1.5609125053294142,
          -0.9177503491967661,
          -0.9235315213198988,
          1.1577654753378852,
          -1.6401526659124528,
          -1.0315814928703455,
          -0.17240986524184343,
          -1.6356154035797161,
          0.46896934471230545,
          0.7402280597029676,
          0.643571936309595,
          0.9789590030816315,
          0.4323966143449856,
          0.24984758212242894,
          0.05696615292061845,
          -0.22292926821963566,
          -1.5621053325723102,
          1.030043388900891,
          -2.1995026016841543,
          -0.9890315345511191,
          1.0610392086975546,
          -0.23948857174764943,
          -0.7085900231874463,
          1.6112436502127536,
          -0.068776323064688,
          -0.8630943776533021,
          0.21452073139849748,
          -0.6856857035422566,
          0.1604062806895764,
          -1.098694902114377,
          -0.004486955967236525,
          0.41358080038338224,
          -1.1308639855228306,
          1.3416129442187854,
          -1.1604840579000024,
          0.7859899459979105,
          -0.5378788796193937,
          -0.7823692774339261,
          -1.2475717135229125,
          -0.027819608867832593,
          -1.887835449605791,
          0.9312913941371009,
          -0.6762071639586086,
          -0.7166774860693382,
          1.3317430206692487,
          -0.5679228874173067,
          -0.9745452514729301,
          0.11099751388451033,
          1.4746054242805158,
          0.22633225768022122,
          -1.073948519445465,
          1.3499284499026483,
          -0.36978755761701826
         ],
         "xaxis": "x",
         "yaxis": "y"
        },
        {
         "line": {
          "color": "rgba(128, 128, 128, 1.0)",
          "dash": "solid",
          "shape": "linear",
          "width": 1.3
         },
         "marker": {
          "size": 2,
          "symbol": "circle"
         },
         "mode": "markers",
         "name": "A",
         "text": "",
         "type": "scatter",
         "x": [
          -0.17932594922892936,
          -1.2334150241168818,
          0.3491829430803454,
          0.22140507174626994,
          -0.4311921325864654,
          0.2728526806525845,
          -0.14671619073051312,
          -0.8361711948295325,
          -2.0525996827183524,
          1.2238954636242012,
          0.16748171442020826,
          0.9742348415959232,
          -1.459462066979266,
          0.560522495645634,
          0.22594078882224689,
          0.9936125565222024,
          2.0378905674033154,
          -0.15589591029106117,
          -1.037914776778365,
          0.5972560045854091,
          1.5396143307194154,
          -0.633578357203016,
          1.4549286148744829,
          -0.7602467680969238,
          1.4818952741568785,
          -0.35542676894068576,
          -0.1672124933215106,
          -0.4686208341591621,
          -0.6596271840718666,
          -0.7021120601503211,
          -0.4030312229739508,
          -2.4891767827615854,
          1.8067985741691368,
          0.3642482006924113,
          0.4633123311347458,
          -0.28776563158624496,
          -0.039824002265676645,
          0.3394186664968411,
          0.264005519683204,
          0.1997684212563469,
          -1.5972630604729419,
          -0.013363487980902096,
          0.628306211667071,
          0.014837486688604832,
          1.7299977564779727,
          0.8424498055863454,
          1.592948338505741,
          0.1908669085436572,
          2.7651347652023914,
          -0.052526911488933854,
          -1.3262825475191269,
          -0.7291649507936764,
          1.2249018261233362,
          0.6129613428385257,
          0.33058371496375294,
          0.4578414828592958,
          0.30186994670170814,
          0.23016785504505452,
          -0.8362591785189375,
          -0.19513012931737245,
          -0.9467488889374831,
          -0.020796939278777533,
          -0.7662354218695511,
          -0.5591934120199998,
          1.5520463274111282,
          -1.054375281258254,
          0.06319501059080465,
          0.14793864881395666,
          -0.8352938765626658,
          0.327098277975738,
          -0.5179048631445157,
          -1.1677399803679211,
          0.31009378584304187,
          -1.2490679086498058,
          -0.4379990922558729,
          -0.9952159930252686,
          -0.2966223603061448,
          -1.2253946012973123,
          0.9035519742314471,
          -0.7487703835990225,
          0.5675216231819916,
          0.2756900234536723,
          0.18778109097989296,
          0.9879978844923218,
          0.7132407851991432,
          -1.1426759234117327,
          0.603840652919978,
          -2.1987237127928667,
          -0.22001923010514926,
          -0.8474271266004348,
          -0.6214670988523815,
          -2.59231971595352,
          1.3278421248432764,
          0.11190383360680248,
          0.9314195828328372,
          0.718216542817618,
          -0.42075368128977786,
          -0.6554575354437634,
          -0.626953050550036,
          1.1939125486493873
         ],
         "xaxis": "x2",
         "y": [
          -1.4939770193839113,
          0.14667142183123638,
          -0.1689240577557097,
          -2.5641137671536414,
          -1.5656121600558734,
          -1.2167004550556926,
          -0.5027845423972647,
          -0.19736293137528313,
          -0.4202320935653999,
          -0.6080146837161412,
          -1.230234537785847,
          -0.834544271094505,
          -0.7525609946685502,
          0.5523681023146403,
          0.3229589353270958,
          -0.997243590029998,
          1.6663098194289763,
          0.0877021878991175,
          -0.6060662026850341,
          -0.29003690869874343,
          0.8703676454073761,
          -0.3396656057424267,
          -0.6110092567412334,
          0.1472139397558027,
          -0.6994199594869444,
          -0.6158638170930033,
          0.6156004196442771,
          -0.33322696721037726,
          0.6696539231968791,
          -0.33925674088411095,
          0.8509919769727514,
          0.9645731195640609,
          2.427305453475825,
          0.976392584761381,
          1.7805857148536182,
          -0.6989982312628092,
          0.9057176562148805,
          0.41450153571613857,
          -1.6659821355531175,
          -1.105415801135921,
          -0.62185838308645,
          0.26305694720859163,
          -1.230184259105579,
          0.32487346783814625,
          -0.37518768510514555,
          -0.22521033590958614,
          -1.259372996663426,
          1.5609125053294142,
          -0.9177503491967661,
          -0.9235315213198988,
          1.1577654753378852,
          -1.6401526659124528,
          -1.0315814928703455,
          -0.17240986524184343,
          -1.6356154035797161,
          0.46896934471230545,
          0.7402280597029676,
          0.643571936309595,
          0.9789590030816315,
          0.4323966143449856,
          0.24984758212242894,
          0.05696615292061845,
          -0.22292926821963566,
          -1.5621053325723102,
          1.030043388900891,
          -2.1995026016841543,
          -0.9890315345511191,
          1.0610392086975546,
          -0.23948857174764943,
          -0.7085900231874463,
          1.6112436502127536,
          -0.068776323064688,
          -0.8630943776533021,
          0.21452073139849748,
          -0.6856857035422566,
          0.1604062806895764,
          -1.098694902114377,
          -0.004486955967236525,
          0.41358080038338224,
          -1.1308639855228306,
          1.3416129442187854,
          -1.1604840579000024,
          0.7859899459979105,
          -0.5378788796193937,
          -0.7823692774339261,
          -1.2475717135229125,
          -0.027819608867832593,
          -1.887835449605791,
          0.9312913941371009,
          -0.6762071639586086,
          -0.7166774860693382,
          1.3317430206692487,
          -0.5679228874173067,
          -0.9745452514729301,
          0.11099751388451033,
          1.4746054242805158,
          0.22633225768022122,
          -1.073948519445465,
          1.3499284499026483,
          -0.36978755761701826
         ],
         "yaxis": "y2"
        },
        {
         "line": {
          "color": "rgba(128, 128, 128, 1.0)",
          "dash": "solid",
          "shape": "linear",
          "width": 1.3
         },
         "marker": {
          "size": 2,
          "symbol": "circle"
         },
         "mode": "markers",
         "name": "A",
         "text": "",
         "type": "scatter",
         "x": [
          -1.3974399942298057,
          -1.2594475130421092,
          -0.5129099965513799,
          -1.4635316868003996,
          -0.036594916594382645,
          0.8386515146746838,
          1.1449293042599211,
          0.5025000377864617,
          -0.03716455206183781,
          1.3146641483878034,
          -2.278234077012857,
          1.0493201039900817,
          0.9803003093927106,
          -0.04880041287019022,
          0.19162835145411555,
          -0.7258437735625,
          -0.31344990276621376,
          0.6567052337724818,
          -0.3992004044020901,
          -1.460690954366173,
          1.143373627402732,
          1.426192951102635,
          -0.44971745884800807,
          0.8236730162851648,
          -0.2810409444957771,
          -1.2016804827635277,
          1.2306390281165533,
          -0.5552008293174706,
          -0.19337377840200753,
          0.8820068034767569,
          0.5273737977529509,
          1.569147278154652,
          0.9838124218074721,
          1.6560098562132635,
          0.635596970751312,
          -1.398243184093543,
          -0.2401893957907707,
          0.6583272757948146,
          0.2634210013276405,
          -0.07884437719855053,
          -2.1010630279519575,
          0.4046073689406953,
          -0.1978026749088829,
          0.3544669122529623,
          0.8676986036454316,
          -0.3381222914735889,
          0.6685169959977112,
          -1.8268978374432823,
          -1.3531072803819177,
          -0.552508690848112,
          -0.14498776539996722,
          0.5030044542437652,
          -0.17735530133869318,
          -0.08897184011598393,
          1.9664871533579928,
          -0.590160907020762,
          0.544437555568912,
          -0.7628199761660305,
          -0.37365608934370254,
          0.8149568189856771,
          1.4249776804923213,
          -1.7093514022201677,
          1.238908174942366,
          -1.71718557854535,
          -0.05147722651968288,
          0.8287930073555166,
          -0.8737659291251622,
          -0.9480135637863218,
          -1.1003475380444532,
          0.7457965183238748,
          0.6380570744905988,
          -0.3894208135806658,
          -0.6642137606994339,
          -1.140912977389208,
          1.0865520411835587,
          -1.2275379540163869,
          0.8242411648000758,
          0.12982334611742288,
          -1.5737224631153774,
          0.44117268893298894,
          1.0316925517073288,
          0.15956785954936245,
          1.179708144879079,
          -0.5728210381568386,
          1.0299163011895074,
          0.3908133622373693,
          1.9858908014819538,
          -0.8265475737502567,
          0.663924835481197,
          -0.23147551462621171,
          -1.056044503137501,
          0.31812921564814617,
          0.30028145129488937,
          -0.9816911288518367,
          -0.9339562697285321,
          0.3584643733701401,
          1.8651159293907649,
          -1.1035540728245703,
          1.1111769078969433,
          2.0446760759430442
         ],
         "xaxis": "x3",
         "y": [
          -1.4939770193839113,
          0.14667142183123638,
          -0.1689240577557097,
          -2.5641137671536414,
          -1.5656121600558734,
          -1.2167004550556926,
          -0.5027845423972647,
          -0.19736293137528313,
          -0.4202320935653999,
          -0.6080146837161412,
          -1.230234537785847,
          -0.834544271094505,
          -0.7525609946685502,
          0.5523681023146403,
          0.3229589353270958,
          -0.997243590029998,
          1.6663098194289763,
          0.0877021878991175,
          -0.6060662026850341,
          -0.29003690869874343,
          0.8703676454073761,
          -0.3396656057424267,
          -0.6110092567412334,
          0.1472139397558027,
          -0.6994199594869444,
          -0.6158638170930033,
          0.6156004196442771,
          -0.33322696721037726,
          0.6696539231968791,
          -0.33925674088411095,
          0.8509919769727514,
          0.9645731195640609,
          2.427305453475825,
          0.976392584761381,
          1.7805857148536182,
          -0.6989982312628092,
          0.9057176562148805,
          0.41450153571613857,
          -1.6659821355531175,
          -1.105415801135921,
          -0.62185838308645,
          0.26305694720859163,
          -1.230184259105579,
          0.32487346783814625,
          -0.37518768510514555,
          -0.22521033590958614,
          -1.259372996663426,
          1.5609125053294142,
          -0.9177503491967661,
          -0.9235315213198988,
          1.1577654753378852,
          -1.6401526659124528,
          -1.0315814928703455,
          -0.17240986524184343,
          -1.6356154035797161,
          0.46896934471230545,
          0.7402280597029676,
          0.643571936309595,
          0.9789590030816315,
          0.4323966143449856,
          0.24984758212242894,
          0.05696615292061845,
          -0.22292926821963566,
          -1.5621053325723102,
          1.030043388900891,
          -2.1995026016841543,
          -0.9890315345511191,
          1.0610392086975546,
          -0.23948857174764943,
          -0.7085900231874463,
          1.6112436502127536,
          -0.068776323064688,
          -0.8630943776533021,
          0.21452073139849748,
          -0.6856857035422566,
          0.1604062806895764,
          -1.098694902114377,
          -0.004486955967236525,
          0.41358080038338224,
          -1.1308639855228306,
          1.3416129442187854,
          -1.1604840579000024,
          0.7859899459979105,
          -0.5378788796193937,
          -0.7823692774339261,
          -1.2475717135229125,
          -0.027819608867832593,
          -1.887835449605791,
          0.9312913941371009,
          -0.6762071639586086,
          -0.7166774860693382,
          1.3317430206692487,
          -0.5679228874173067,
          -0.9745452514729301,
          0.11099751388451033,
          1.4746054242805158,
          0.22633225768022122,
          -1.073948519445465,
          1.3499284499026483,
          -0.36978755761701826
         ],
         "yaxis": "y3"
        },
        {
         "line": {
          "color": "rgba(128, 128, 128, 1.0)",
          "dash": "solid",
          "shape": "linear",
          "width": 1.3
         },
         "marker": {
          "size": 2,
          "symbol": "circle"
         },
         "mode": "markers",
         "name": "A",
         "text": "",
         "type": "scatter",
         "x": [
          0.7120048034929688,
          0.037571924176700806,
          1.863948112983124,
          -0.8556664182979131,
          -0.22261837615277336,
          0.41350449670492756,
          1.6203319543114292,
          -0.2922523733494632,
          -1.7539373666576838,
          0.9895320045429775,
          0.6318448981936109,
          -2.221576685925559,
          -0.12057006100410533,
          -0.05776636496414596,
          -0.5503220465509001,
          0.6545978632840582,
          -1.108061140375195,
          0.07774686112593811,
          1.229150370974735,
          -0.9598138995070781,
          0.2553171944844485,
          -0.5312106448067048,
          -1.1766260005405362,
          -0.0089501762525687,
          1.5357305984753062,
          0.7354671313986141,
          -0.8110184683542013,
          1.082732376664796,
          -0.8934927035933473,
          -1.016646011537697,
          -1.2860201170696968,
          0.004796454433750215,
          -1.8649249921030508,
          0.19547129650750394,
          -0.7254502544000017,
          -1.6445739312624716,
          -0.614241250384773,
          0.947651845351561,
          -1.1829359088163829,
          -1.384355202952411,
          0.11011242718255053,
          1.197455158046334,
          -0.42809558047270085,
          -0.9757842847717417,
          0.885172144164018,
          1.1923405037845802,
          -0.9919277073072876,
          -1.317679831294402,
          -1.3245404587186131,
          0.6506861115846233,
          -0.3609133291001237,
          0.6723962599973358,
          0.34651672208847856,
          1.8591750211248126,
          -1.3852200101858028,
          -0.27685358822990774,
          0.6335764261578918,
          -2.539314836996711,
          -1.510787315277079,
          -0.11055856979500045,
          -0.491375805495196,
          -1.0192197784726929,
          2.086455864161741,
          -0.5172615980217126,
          0.8206242370564809,
          0.9858645709405398,
          1.2762610290410306,
          0.10713476342941546,
          -1.8186277461605582,
          0.6769012046049316,
          0.01366795538713723,
          -0.8986405789162267,
          0.07231285425140163,
          -0.563039626463328,
          0.03487686615991759,
          -0.8182175173066304,
          -2.035545744474048,
          0.09189039328921121,
          -1.5303055946275959,
          -1.5055761685861304,
          0.28164563964491446,
          1.0157880022485497,
          0.8905634100993131,
          -0.26830036034539123,
          0.028666062007271165,
          0.36553025568632413,
          -0.946426411782622,
          0.6027942740326115,
          0.4934687406555518,
          -0.28555189970477807,
          -0.3729824060325359,
          0.5212299692379051,
          -0.33814790277305373,
          0.44248336172215885,
          -0.26115706117549087,
          -0.5807234130298736,
          0.24323436038576762,
          0.4293091582265946,
          -0.8297263173896147,
          -1.3550401158358816
         ],
         "xaxis": "x4",
         "y": [
          -1.4939770193839113,
          0.14667142183123638,
          -0.1689240577557097,
          -2.5641137671536414,
          -1.5656121600558734,
          -1.2167004550556926,
          -0.5027845423972647,
          -0.19736293137528313,
          -0.4202320935653999,
          -0.6080146837161412,
          -1.230234537785847,
          -0.834544271094505,
          -0.7525609946685502,
          0.5523681023146403,
          0.3229589353270958,
          -0.997243590029998,
          1.6663098194289763,
          0.0877021878991175,
          -0.6060662026850341,
          -0.29003690869874343,
          0.8703676454073761,
          -0.3396656057424267,
          -0.6110092567412334,
          0.1472139397558027,
          -0.6994199594869444,
          -0.6158638170930033,
          0.6156004196442771,
          -0.33322696721037726,
          0.6696539231968791,
          -0.33925674088411095,
          0.8509919769727514,
          0.9645731195640609,
          2.427305453475825,
          0.976392584761381,
          1.7805857148536182,
          -0.6989982312628092,
          0.9057176562148805,
          0.41450153571613857,
          -1.6659821355531175,
          -1.105415801135921,
          -0.62185838308645,
          0.26305694720859163,
          -1.230184259105579,
          0.32487346783814625,
          -0.37518768510514555,
          -0.22521033590958614,
          -1.259372996663426,
          1.5609125053294142,
          -0.9177503491967661,
          -0.9235315213198988,
          1.1577654753378852,
          -1.6401526659124528,
          -1.0315814928703455,
          -0.17240986524184343,
          -1.6356154035797161,
          0.46896934471230545,
          0.7402280597029676,
          0.643571936309595,
          0.9789590030816315,
          0.4323966143449856,
          0.24984758212242894,
          0.05696615292061845,
          -0.22292926821963566,
          -1.5621053325723102,
          1.030043388900891,
          -2.1995026016841543,
          -0.9890315345511191,
          1.0610392086975546,
          -0.23948857174764943,
          -0.7085900231874463,
          1.6112436502127536,
          -0.068776323064688,
          -0.8630943776533021,
          0.21452073139849748,
          -0.6856857035422566,
          0.1604062806895764,
          -1.098694902114377,
          -0.004486955967236525,
          0.41358080038338224,
          -1.1308639855228306,
          1.3416129442187854,
          -1.1604840579000024,
          0.7859899459979105,
          -0.5378788796193937,
          -0.7823692774339261,
          -1.2475717135229125,
          -0.027819608867832593,
          -1.887835449605791,
          0.9312913941371009,
          -0.6762071639586086,
          -0.7166774860693382,
          1.3317430206692487,
          -0.5679228874173067,
          -0.9745452514729301,
          0.11099751388451033,
          1.4746054242805158,
          0.22633225768022122,
          -1.073948519445465,
          1.3499284499026483,
          -0.36978755761701826
         ],
         "yaxis": "y4"
        },
        {
         "line": {
          "color": "rgba(128, 128, 128, 1.0)",
          "dash": "solid",
          "shape": "linear",
          "width": 1.3
         },
         "marker": {
          "size": 2,
          "symbol": "circle"
         },
         "mode": "markers",
         "name": "B",
         "text": "",
         "type": "scatter",
         "x": [
          -1.4939770193839113,
          0.14667142183123638,
          -0.1689240577557097,
          -2.5641137671536414,
          -1.5656121600558734,
          -1.2167004550556926,
          -0.5027845423972647,
          -0.19736293137528313,
          -0.4202320935653999,
          -0.6080146837161412,
          -1.230234537785847,
          -0.834544271094505,
          -0.7525609946685502,
          0.5523681023146403,
          0.3229589353270958,
          -0.997243590029998,
          1.6663098194289763,
          0.0877021878991175,
          -0.6060662026850341,
          -0.29003690869874343,
          0.8703676454073761,
          -0.3396656057424267,
          -0.6110092567412334,
          0.1472139397558027,
          -0.6994199594869444,
          -0.6158638170930033,
          0.6156004196442771,
          -0.33322696721037726,
          0.6696539231968791,
          -0.33925674088411095,
          0.8509919769727514,
          0.9645731195640609,
          2.427305453475825,
          0.976392584761381,
          1.7805857148536182,
          -0.6989982312628092,
          0.9057176562148805,
          0.41450153571613857,
          -1.6659821355531175,
          -1.105415801135921,
          -0.62185838308645,
          0.26305694720859163,
          -1.230184259105579,
          0.32487346783814625,
          -0.37518768510514555,
          -0.22521033590958614,
          -1.259372996663426,
          1.5609125053294142,
          -0.9177503491967661,
          -0.9235315213198988,
          1.1577654753378852,
          -1.6401526659124528,
          -1.0315814928703455,
          -0.17240986524184343,
          -1.6356154035797161,
          0.46896934471230545,
          0.7402280597029676,
          0.643571936309595,
          0.9789590030816315,
          0.4323966143449856,
          0.24984758212242894,
          0.05696615292061845,
          -0.22292926821963566,
          -1.5621053325723102,
          1.030043388900891,
          -2.1995026016841543,
          -0.9890315345511191,
          1.0610392086975546,
          -0.23948857174764943,
          -0.7085900231874463,
          1.6112436502127536,
          -0.068776323064688,
          -0.8630943776533021,
          0.21452073139849748,
          -0.6856857035422566,
          0.1604062806895764,
          -1.098694902114377,
          -0.004486955967236525,
          0.41358080038338224,
          -1.1308639855228306,
          1.3416129442187854,
          -1.1604840579000024,
          0.7859899459979105,
          -0.5378788796193937,
          -0.7823692774339261,
          -1.2475717135229125,
          -0.027819608867832593,
          -1.887835449605791,
          0.9312913941371009,
          -0.6762071639586086,
          -0.7166774860693382,
          1.3317430206692487,
          -0.5679228874173067,
          -0.9745452514729301,
          0.11099751388451033,
          1.4746054242805158,
          0.22633225768022122,
          -1.073948519445465,
          1.3499284499026483,
          -0.36978755761701826
         ],
         "xaxis": "x5",
         "y": [
          -0.17932594922892936,
          -1.2334150241168818,
          0.3491829430803454,
          0.22140507174626994,
          -0.4311921325864654,
          0.2728526806525845,
          -0.14671619073051312,
          -0.8361711948295325,
          -2.0525996827183524,
          1.2238954636242012,
          0.16748171442020826,
          0.9742348415959232,
          -1.459462066979266,
          0.560522495645634,
          0.22594078882224689,
          0.9936125565222024,
          2.0378905674033154,
          -0.15589591029106117,
          -1.037914776778365,
          0.5972560045854091,
          1.5396143307194154,
          -0.633578357203016,
          1.4549286148744829,
          -0.7602467680969238,
          1.4818952741568785,
          -0.35542676894068576,
          -0.1672124933215106,
          -0.4686208341591621,
          -0.6596271840718666,
          -0.7021120601503211,
          -0.4030312229739508,
          -2.4891767827615854,
          1.8067985741691368,
          0.3642482006924113,
          0.4633123311347458,
          -0.28776563158624496,
          -0.039824002265676645,
          0.3394186664968411,
          0.264005519683204,
          0.1997684212563469,
          -1.5972630604729419,
          -0.013363487980902096,
          0.628306211667071,
          0.014837486688604832,
          1.7299977564779727,
          0.8424498055863454,
          1.592948338505741,
          0.1908669085436572,
          2.7651347652023914,
          -0.052526911488933854,
          -1.3262825475191269,
          -0.7291649507936764,
          1.2249018261233362,
          0.6129613428385257,
          0.33058371496375294,
          0.4578414828592958,
          0.30186994670170814,
          0.23016785504505452,
          -0.8362591785189375,
          -0.19513012931737245,
          -0.9467488889374831,
          -0.020796939278777533,
          -0.7662354218695511,
          -0.5591934120199998,
          1.5520463274111282,
          -1.054375281258254,
          0.06319501059080465,
          0.14793864881395666,
          -0.8352938765626658,
          0.327098277975738,
          -0.5179048631445157,
          -1.1677399803679211,
          0.31009378584304187,
          -1.2490679086498058,
          -0.4379990922558729,
          -0.9952159930252686,
          -0.2966223603061448,
          -1.2253946012973123,
          0.9035519742314471,
          -0.7487703835990225,
          0.5675216231819916,
          0.2756900234536723,
          0.18778109097989296,
          0.9879978844923218,
          0.7132407851991432,
          -1.1426759234117327,
          0.603840652919978,
          -2.1987237127928667,
          -0.22001923010514926,
          -0.8474271266004348,
          -0.6214670988523815,
          -2.59231971595352,
          1.3278421248432764,
          0.11190383360680248,
          0.9314195828328372,
          0.718216542817618,
          -0.42075368128977786,
          -0.6554575354437634,
          -0.626953050550036,
          1.1939125486493873
         ],
         "yaxis": "y5"
        },
        {
         "histfunc": "count",
         "histnorm": "",
         "marker": {
          "color": "rgba(55, 128, 191, 1.0)",
          "line": {
           "color": "#4D5663",
           "width": 1.3
          }
         },
         "name": "B",
         "nbinsx": 10,
         "opacity": 0.8,
         "orientation": "v",
         "type": "histogram",
         "x": [
          -0.17932594922892936,
          -1.2334150241168818,
          0.3491829430803454,
          0.22140507174626994,
          -0.4311921325864654,
          0.2728526806525845,
          -0.14671619073051312,
          -0.8361711948295325,
          -2.0525996827183524,
          1.2238954636242012,
          0.16748171442020826,
          0.9742348415959232,
          -1.459462066979266,
          0.560522495645634,
          0.22594078882224689,
          0.9936125565222024,
          2.0378905674033154,
          -0.15589591029106117,
          -1.037914776778365,
          0.5972560045854091,
          1.5396143307194154,
          -0.633578357203016,
          1.4549286148744829,
          -0.7602467680969238,
          1.4818952741568785,
          -0.35542676894068576,
          -0.1672124933215106,
          -0.4686208341591621,
          -0.6596271840718666,
          -0.7021120601503211,
          -0.4030312229739508,
          -2.4891767827615854,
          1.8067985741691368,
          0.3642482006924113,
          0.4633123311347458,
          -0.28776563158624496,
          -0.039824002265676645,
          0.3394186664968411,
          0.264005519683204,
          0.1997684212563469,
          -1.5972630604729419,
          -0.013363487980902096,
          0.628306211667071,
          0.014837486688604832,
          1.7299977564779727,
          0.8424498055863454,
          1.592948338505741,
          0.1908669085436572,
          2.7651347652023914,
          -0.052526911488933854,
          -1.3262825475191269,
          -0.7291649507936764,
          1.2249018261233362,
          0.6129613428385257,
          0.33058371496375294,
          0.4578414828592958,
          0.30186994670170814,
          0.23016785504505452,
          -0.8362591785189375,
          -0.19513012931737245,
          -0.9467488889374831,
          -0.020796939278777533,
          -0.7662354218695511,
          -0.5591934120199998,
          1.5520463274111282,
          -1.054375281258254,
          0.06319501059080465,
          0.14793864881395666,
          -0.8352938765626658,
          0.327098277975738,
          -0.5179048631445157,
          -1.1677399803679211,
          0.31009378584304187,
          -1.2490679086498058,
          -0.4379990922558729,
          -0.9952159930252686,
          -0.2966223603061448,
          -1.2253946012973123,
          0.9035519742314471,
          -0.7487703835990225,
          0.5675216231819916,
          0.2756900234536723,
          0.18778109097989296,
          0.9879978844923218,
          0.7132407851991432,
          -1.1426759234117327,
          0.603840652919978,
          -2.1987237127928667,
          -0.22001923010514926,
          -0.8474271266004348,
          -0.6214670988523815,
          -2.59231971595352,
          1.3278421248432764,
          0.11190383360680248,
          0.9314195828328372,
          0.718216542817618,
          -0.42075368128977786,
          -0.6554575354437634,
          -0.626953050550036,
          1.1939125486493873
         ],
         "xaxis": "x6",
         "yaxis": "y6"
        },
        {
         "line": {
          "color": "rgba(128, 128, 128, 1.0)",
          "dash": "solid",
          "shape": "linear",
          "width": 1.3
         },
         "marker": {
          "size": 2,
          "symbol": "circle"
         },
         "mode": "markers",
         "name": "B",
         "text": "",
         "type": "scatter",
         "x": [
          -1.3974399942298057,
          -1.2594475130421092,
          -0.5129099965513799,
          -1.4635316868003996,
          -0.036594916594382645,
          0.8386515146746838,
          1.1449293042599211,
          0.5025000377864617,
          -0.03716455206183781,
          1.3146641483878034,
          -2.278234077012857,
          1.0493201039900817,
          0.9803003093927106,
          -0.04880041287019022,
          0.19162835145411555,
          -0.7258437735625,
          -0.31344990276621376,
          0.6567052337724818,
          -0.3992004044020901,
          -1.460690954366173,
          1.143373627402732,
          1.426192951102635,
          -0.44971745884800807,
          0.8236730162851648,
          -0.2810409444957771,
          -1.2016804827635277,
          1.2306390281165533,
          -0.5552008293174706,
          -0.19337377840200753,
          0.8820068034767569,
          0.5273737977529509,
          1.569147278154652,
          0.9838124218074721,
          1.6560098562132635,
          0.635596970751312,
          -1.398243184093543,
          -0.2401893957907707,
          0.6583272757948146,
          0.2634210013276405,
          -0.07884437719855053,
          -2.1010630279519575,
          0.4046073689406953,
          -0.1978026749088829,
          0.3544669122529623,
          0.8676986036454316,
          -0.3381222914735889,
          0.6685169959977112,
          -1.8268978374432823,
          -1.3531072803819177,
          -0.552508690848112,
          -0.14498776539996722,
          0.5030044542437652,
          -0.17735530133869318,
          -0.08897184011598393,
          1.9664871533579928,
          -0.590160907020762,
          0.544437555568912,
          -0.7628199761660305,
          -0.37365608934370254,
          0.8149568189856771,
          1.4249776804923213,
          -1.7093514022201677,
          1.238908174942366,
          -1.71718557854535,
          -0.05147722651968288,
          0.8287930073555166,
          -0.8737659291251622,
          -0.9480135637863218,
          -1.1003475380444532,
          0.7457965183238748,
          0.6380570744905988,
          -0.3894208135806658,
          -0.6642137606994339,
          -1.140912977389208,
          1.0865520411835587,
          -1.2275379540163869,
          0.8242411648000758,
          0.12982334611742288,
          -1.5737224631153774,
          0.44117268893298894,
          1.0316925517073288,
          0.15956785954936245,
          1.179708144879079,
          -0.5728210381568386,
          1.0299163011895074,
          0.3908133622373693,
          1.9858908014819538,
          -0.8265475737502567,
          0.663924835481197,
          -0.23147551462621171,
          -1.056044503137501,
          0.31812921564814617,
          0.30028145129488937,
          -0.9816911288518367,
          -0.9339562697285321,
          0.3584643733701401,
          1.8651159293907649,
          -1.1035540728245703,
          1.1111769078969433,
          2.0446760759430442
         ],
         "xaxis": "x7",
         "y": [
          -0.17932594922892936,
          -1.2334150241168818,
          0.3491829430803454,
          0.22140507174626994,
          -0.4311921325864654,
          0.2728526806525845,
          -0.14671619073051312,
          -0.8361711948295325,
          -2.0525996827183524,
          1.2238954636242012,
          0.16748171442020826,
          0.9742348415959232,
          -1.459462066979266,
          0.560522495645634,
          0.22594078882224689,
          0.9936125565222024,
          2.0378905674033154,
          -0.15589591029106117,
          -1.037914776778365,
          0.5972560045854091,
          1.5396143307194154,
          -0.633578357203016,
          1.4549286148744829,
          -0.7602467680969238,
          1.4818952741568785,
          -0.35542676894068576,
          -0.1672124933215106,
          -0.4686208341591621,
          -0.6596271840718666,
          -0.7021120601503211,
          -0.4030312229739508,
          -2.4891767827615854,
          1.8067985741691368,
          0.3642482006924113,
          0.4633123311347458,
          -0.28776563158624496,
          -0.039824002265676645,
          0.3394186664968411,
          0.264005519683204,
          0.1997684212563469,
          -1.5972630604729419,
          -0.013363487980902096,
          0.628306211667071,
          0.014837486688604832,
          1.7299977564779727,
          0.8424498055863454,
          1.592948338505741,
          0.1908669085436572,
          2.7651347652023914,
          -0.052526911488933854,
          -1.3262825475191269,
          -0.7291649507936764,
          1.2249018261233362,
          0.6129613428385257,
          0.33058371496375294,
          0.4578414828592958,
          0.30186994670170814,
          0.23016785504505452,
          -0.8362591785189375,
          -0.19513012931737245,
          -0.9467488889374831,
          -0.020796939278777533,
          -0.7662354218695511,
          -0.5591934120199998,
          1.5520463274111282,
          -1.054375281258254,
          0.06319501059080465,
          0.14793864881395666,
          -0.8352938765626658,
          0.327098277975738,
          -0.5179048631445157,
          -1.1677399803679211,
          0.31009378584304187,
          -1.2490679086498058,
          -0.4379990922558729,
          -0.9952159930252686,
          -0.2966223603061448,
          -1.2253946012973123,
          0.9035519742314471,
          -0.7487703835990225,
          0.5675216231819916,
          0.2756900234536723,
          0.18778109097989296,
          0.9879978844923218,
          0.7132407851991432,
          -1.1426759234117327,
          0.603840652919978,
          -2.1987237127928667,
          -0.22001923010514926,
          -0.8474271266004348,
          -0.6214670988523815,
          -2.59231971595352,
          1.3278421248432764,
          0.11190383360680248,
          0.9314195828328372,
          0.718216542817618,
          -0.42075368128977786,
          -0.6554575354437634,
          -0.626953050550036,
          1.1939125486493873
         ],
         "yaxis": "y7"
        },
        {
         "line": {
          "color": "rgba(128, 128, 128, 1.0)",
          "dash": "solid",
          "shape": "linear",
          "width": 1.3
         },
         "marker": {
          "size": 2,
          "symbol": "circle"
         },
         "mode": "markers",
         "name": "B",
         "text": "",
         "type": "scatter",
         "x": [
          0.7120048034929688,
          0.037571924176700806,
          1.863948112983124,
          -0.8556664182979131,
          -0.22261837615277336,
          0.41350449670492756,
          1.6203319543114292,
          -0.2922523733494632,
          -1.7539373666576838,
          0.9895320045429775,
          0.6318448981936109,
          -2.221576685925559,
          -0.12057006100410533,
          -0.05776636496414596,
          -0.5503220465509001,
          0.6545978632840582,
          -1.108061140375195,
          0.07774686112593811,
          1.229150370974735,
          -0.9598138995070781,
          0.2553171944844485,
          -0.5312106448067048,
          -1.1766260005405362,
          -0.0089501762525687,
          1.5357305984753062,
          0.7354671313986141,
          -0.8110184683542013,
          1.082732376664796,
          -0.8934927035933473,
          -1.016646011537697,
          -1.2860201170696968,
          0.004796454433750215,
          -1.8649249921030508,
          0.19547129650750394,
          -0.7254502544000017,
          -1.6445739312624716,
          -0.614241250384773,
          0.947651845351561,
          -1.1829359088163829,
          -1.384355202952411,
          0.11011242718255053,
          1.197455158046334,
          -0.42809558047270085,
          -0.9757842847717417,
          0.885172144164018,
          1.1923405037845802,
          -0.9919277073072876,
          -1.317679831294402,
          -1.3245404587186131,
          0.6506861115846233,
          -0.3609133291001237,
          0.6723962599973358,
          0.34651672208847856,
          1.8591750211248126,
          -1.3852200101858028,
          -0.27685358822990774,
          0.6335764261578918,
          -2.539314836996711,
          -1.510787315277079,
          -0.11055856979500045,
          -0.491375805495196,
          -1.0192197784726929,
          2.086455864161741,
          -0.5172615980217126,
          0.8206242370564809,
          0.9858645709405398,
          1.2762610290410306,
          0.10713476342941546,
          -1.8186277461605582,
          0.6769012046049316,
          0.01366795538713723,
          -0.8986405789162267,
          0.07231285425140163,
          -0.563039626463328,
          0.03487686615991759,
          -0.8182175173066304,
          -2.035545744474048,
          0.09189039328921121,
          -1.5303055946275959,
          -1.5055761685861304,
          0.28164563964491446,
          1.0157880022485497,
          0.8905634100993131,
          -0.26830036034539123,
          0.028666062007271165,
          0.36553025568632413,
          -0.946426411782622,
          0.6027942740326115,
          0.4934687406555518,
          -0.28555189970477807,
          -0.3729824060325359,
          0.5212299692379051,
          -0.33814790277305373,
          0.44248336172215885,
          -0.26115706117549087,
          -0.5807234130298736,
          0.24323436038576762,
          0.4293091582265946,
          -0.8297263173896147,
          -1.3550401158358816
         ],
         "xaxis": "x8",
         "y": [
          -0.17932594922892936,
          -1.2334150241168818,
          0.3491829430803454,
          0.22140507174626994,
          -0.4311921325864654,
          0.2728526806525845,
          -0.14671619073051312,
          -0.8361711948295325,
          -2.0525996827183524,
          1.2238954636242012,
          0.16748171442020826,
          0.9742348415959232,
          -1.459462066979266,
          0.560522495645634,
          0.22594078882224689,
          0.9936125565222024,
          2.0378905674033154,
          -0.15589591029106117,
          -1.037914776778365,
          0.5972560045854091,
          1.5396143307194154,
          -0.633578357203016,
          1.4549286148744829,
          -0.7602467680969238,
          1.4818952741568785,
          -0.35542676894068576,
          -0.1672124933215106,
          -0.4686208341591621,
          -0.6596271840718666,
          -0.7021120601503211,
          -0.4030312229739508,
          -2.4891767827615854,
          1.8067985741691368,
          0.3642482006924113,
          0.4633123311347458,
          -0.28776563158624496,
          -0.039824002265676645,
          0.3394186664968411,
          0.264005519683204,
          0.1997684212563469,
          -1.5972630604729419,
          -0.013363487980902096,
          0.628306211667071,
          0.014837486688604832,
          1.7299977564779727,
          0.8424498055863454,
          1.592948338505741,
          0.1908669085436572,
          2.7651347652023914,
          -0.052526911488933854,
          -1.3262825475191269,
          -0.7291649507936764,
          1.2249018261233362,
          0.6129613428385257,
          0.33058371496375294,
          0.4578414828592958,
          0.30186994670170814,
          0.23016785504505452,
          -0.8362591785189375,
          -0.19513012931737245,
          -0.9467488889374831,
          -0.020796939278777533,
          -0.7662354218695511,
          -0.5591934120199998,
          1.5520463274111282,
          -1.054375281258254,
          0.06319501059080465,
          0.14793864881395666,
          -0.8352938765626658,
          0.327098277975738,
          -0.5179048631445157,
          -1.1677399803679211,
          0.31009378584304187,
          -1.2490679086498058,
          -0.4379990922558729,
          -0.9952159930252686,
          -0.2966223603061448,
          -1.2253946012973123,
          0.9035519742314471,
          -0.7487703835990225,
          0.5675216231819916,
          0.2756900234536723,
          0.18778109097989296,
          0.9879978844923218,
          0.7132407851991432,
          -1.1426759234117327,
          0.603840652919978,
          -2.1987237127928667,
          -0.22001923010514926,
          -0.8474271266004348,
          -0.6214670988523815,
          -2.59231971595352,
          1.3278421248432764,
          0.11190383360680248,
          0.9314195828328372,
          0.718216542817618,
          -0.42075368128977786,
          -0.6554575354437634,
          -0.626953050550036,
          1.1939125486493873
         ],
         "yaxis": "y8"
        },
        {
         "line": {
          "color": "rgba(128, 128, 128, 1.0)",
          "dash": "solid",
          "shape": "linear",
          "width": 1.3
         },
         "marker": {
          "size": 2,
          "symbol": "circle"
         },
         "mode": "markers",
         "name": "c",
         "text": "",
         "type": "scatter",
         "x": [
          -1.4939770193839113,
          0.14667142183123638,
          -0.1689240577557097,
          -2.5641137671536414,
          -1.5656121600558734,
          -1.2167004550556926,
          -0.5027845423972647,
          -0.19736293137528313,
          -0.4202320935653999,
          -0.6080146837161412,
          -1.230234537785847,
          -0.834544271094505,
          -0.7525609946685502,
          0.5523681023146403,
          0.3229589353270958,
          -0.997243590029998,
          1.6663098194289763,
          0.0877021878991175,
          -0.6060662026850341,
          -0.29003690869874343,
          0.8703676454073761,
          -0.3396656057424267,
          -0.6110092567412334,
          0.1472139397558027,
          -0.6994199594869444,
          -0.6158638170930033,
          0.6156004196442771,
          -0.33322696721037726,
          0.6696539231968791,
          -0.33925674088411095,
          0.8509919769727514,
          0.9645731195640609,
          2.427305453475825,
          0.976392584761381,
          1.7805857148536182,
          -0.6989982312628092,
          0.9057176562148805,
          0.41450153571613857,
          -1.6659821355531175,
          -1.105415801135921,
          -0.62185838308645,
          0.26305694720859163,
          -1.230184259105579,
          0.32487346783814625,
          -0.37518768510514555,
          -0.22521033590958614,
          -1.259372996663426,
          1.5609125053294142,
          -0.9177503491967661,
          -0.9235315213198988,
          1.1577654753378852,
          -1.6401526659124528,
          -1.0315814928703455,
          -0.17240986524184343,
          -1.6356154035797161,
          0.46896934471230545,
          0.7402280597029676,
          0.643571936309595,
          0.9789590030816315,
          0.4323966143449856,
          0.24984758212242894,
          0.05696615292061845,
          -0.22292926821963566,
          -1.5621053325723102,
          1.030043388900891,
          -2.1995026016841543,
          -0.9890315345511191,
          1.0610392086975546,
          -0.23948857174764943,
          -0.7085900231874463,
          1.6112436502127536,
          -0.068776323064688,
          -0.8630943776533021,
          0.21452073139849748,
          -0.6856857035422566,
          0.1604062806895764,
          -1.098694902114377,
          -0.004486955967236525,
          0.41358080038338224,
          -1.1308639855228306,
          1.3416129442187854,
          -1.1604840579000024,
          0.7859899459979105,
          -0.5378788796193937,
          -0.7823692774339261,
          -1.2475717135229125,
          -0.027819608867832593,
          -1.887835449605791,
          0.9312913941371009,
          -0.6762071639586086,
          -0.7166774860693382,
          1.3317430206692487,
          -0.5679228874173067,
          -0.9745452514729301,
          0.11099751388451033,
          1.4746054242805158,
          0.22633225768022122,
          -1.073948519445465,
          1.3499284499026483,
          -0.36978755761701826
         ],
         "xaxis": "x9",
         "y": [
          -1.3974399942298057,
          -1.2594475130421092,
          -0.5129099965513799,
          -1.4635316868003996,
          -0.036594916594382645,
          0.8386515146746838,
          1.1449293042599211,
          0.5025000377864617,
          -0.03716455206183781,
          1.3146641483878034,
          -2.278234077012857,
          1.0493201039900817,
          0.9803003093927106,
          -0.04880041287019022,
          0.19162835145411555,
          -0.7258437735625,
          -0.31344990276621376,
          0.6567052337724818,
          -0.3992004044020901,
          -1.460690954366173,
          1.143373627402732,
          1.426192951102635,
          -0.44971745884800807,
          0.8236730162851648,
          -0.2810409444957771,
          -1.2016804827635277,
          1.2306390281165533,
          -0.5552008293174706,
          -0.19337377840200753,
          0.8820068034767569,
          0.5273737977529509,
          1.569147278154652,
          0.9838124218074721,
          1.6560098562132635,
          0.635596970751312,
          -1.398243184093543,
          -0.2401893957907707,
          0.6583272757948146,
          0.2634210013276405,
          -0.07884437719855053,
          -2.1010630279519575,
          0.4046073689406953,
          -0.1978026749088829,
          0.3544669122529623,
          0.8676986036454316,
          -0.3381222914735889,
          0.6685169959977112,
          -1.8268978374432823,
          -1.3531072803819177,
          -0.552508690848112,
          -0.14498776539996722,
          0.5030044542437652,
          -0.17735530133869318,
          -0.08897184011598393,
          1.9664871533579928,
          -0.590160907020762,
          0.544437555568912,
          -0.7628199761660305,
          -0.37365608934370254,
          0.8149568189856771,
          1.4249776804923213,
          -1.7093514022201677,
          1.238908174942366,
          -1.71718557854535,
          -0.05147722651968288,
          0.8287930073555166,
          -0.8737659291251622,
          -0.9480135637863218,
          -1.1003475380444532,
          0.7457965183238748,
          0.6380570744905988,
          -0.3894208135806658,
          -0.6642137606994339,
          -1.140912977389208,
          1.0865520411835587,
          -1.2275379540163869,
          0.8242411648000758,
          0.12982334611742288,
          -1.5737224631153774,
          0.44117268893298894,
          1.0316925517073288,
          0.15956785954936245,
          1.179708144879079,
          -0.5728210381568386,
          1.0299163011895074,
          0.3908133622373693,
          1.9858908014819538,
          -0.8265475737502567,
          0.663924835481197,
          -0.23147551462621171,
          -1.056044503137501,
          0.31812921564814617,
          0.30028145129488937,
          -0.9816911288518367,
          -0.9339562697285321,
          0.3584643733701401,
          1.8651159293907649,
          -1.1035540728245703,
          1.1111769078969433,
          2.0446760759430442
         ],
         "yaxis": "y9"
        },
        {
         "line": {
          "color": "rgba(128, 128, 128, 1.0)",
          "dash": "solid",
          "shape": "linear",
          "width": 1.3
         },
         "marker": {
          "size": 2,
          "symbol": "circle"
         },
         "mode": "markers",
         "name": "c",
         "text": "",
         "type": "scatter",
         "x": [
          -0.17932594922892936,
          -1.2334150241168818,
          0.3491829430803454,
          0.22140507174626994,
          -0.4311921325864654,
          0.2728526806525845,
          -0.14671619073051312,
          -0.8361711948295325,
          -2.0525996827183524,
          1.2238954636242012,
          0.16748171442020826,
          0.9742348415959232,
          -1.459462066979266,
          0.560522495645634,
          0.22594078882224689,
          0.9936125565222024,
          2.0378905674033154,
          -0.15589591029106117,
          -1.037914776778365,
          0.5972560045854091,
          1.5396143307194154,
          -0.633578357203016,
          1.4549286148744829,
          -0.7602467680969238,
          1.4818952741568785,
          -0.35542676894068576,
          -0.1672124933215106,
          -0.4686208341591621,
          -0.6596271840718666,
          -0.7021120601503211,
          -0.4030312229739508,
          -2.4891767827615854,
          1.8067985741691368,
          0.3642482006924113,
          0.4633123311347458,
          -0.28776563158624496,
          -0.039824002265676645,
          0.3394186664968411,
          0.264005519683204,
          0.1997684212563469,
          -1.5972630604729419,
          -0.013363487980902096,
          0.628306211667071,
          0.014837486688604832,
          1.7299977564779727,
          0.8424498055863454,
          1.592948338505741,
          0.1908669085436572,
          2.7651347652023914,
          -0.052526911488933854,
          -1.3262825475191269,
          -0.7291649507936764,
          1.2249018261233362,
          0.6129613428385257,
          0.33058371496375294,
          0.4578414828592958,
          0.30186994670170814,
          0.23016785504505452,
          -0.8362591785189375,
          -0.19513012931737245,
          -0.9467488889374831,
          -0.020796939278777533,
          -0.7662354218695511,
          -0.5591934120199998,
          1.5520463274111282,
          -1.054375281258254,
          0.06319501059080465,
          0.14793864881395666,
          -0.8352938765626658,
          0.327098277975738,
          -0.5179048631445157,
          -1.1677399803679211,
          0.31009378584304187,
          -1.2490679086498058,
          -0.4379990922558729,
          -0.9952159930252686,
          -0.2966223603061448,
          -1.2253946012973123,
          0.9035519742314471,
          -0.7487703835990225,
          0.5675216231819916,
          0.2756900234536723,
          0.18778109097989296,
          0.9879978844923218,
          0.7132407851991432,
          -1.1426759234117327,
          0.603840652919978,
          -2.1987237127928667,
          -0.22001923010514926,
          -0.8474271266004348,
          -0.6214670988523815,
          -2.59231971595352,
          1.3278421248432764,
          0.11190383360680248,
          0.9314195828328372,
          0.718216542817618,
          -0.42075368128977786,
          -0.6554575354437634,
          -0.626953050550036,
          1.1939125486493873
         ],
         "xaxis": "x10",
         "y": [
          -1.3974399942298057,
          -1.2594475130421092,
          -0.5129099965513799,
          -1.4635316868003996,
          -0.036594916594382645,
          0.8386515146746838,
          1.1449293042599211,
          0.5025000377864617,
          -0.03716455206183781,
          1.3146641483878034,
          -2.278234077012857,
          1.0493201039900817,
          0.9803003093927106,
          -0.04880041287019022,
          0.19162835145411555,
          -0.7258437735625,
          -0.31344990276621376,
          0.6567052337724818,
          -0.3992004044020901,
          -1.460690954366173,
          1.143373627402732,
          1.426192951102635,
          -0.44971745884800807,
          0.8236730162851648,
          -0.2810409444957771,
          -1.2016804827635277,
          1.2306390281165533,
          -0.5552008293174706,
          -0.19337377840200753,
          0.8820068034767569,
          0.5273737977529509,
          1.569147278154652,
          0.9838124218074721,
          1.6560098562132635,
          0.635596970751312,
          -1.398243184093543,
          -0.2401893957907707,
          0.6583272757948146,
          0.2634210013276405,
          -0.07884437719855053,
          -2.1010630279519575,
          0.4046073689406953,
          -0.1978026749088829,
          0.3544669122529623,
          0.8676986036454316,
          -0.3381222914735889,
          0.6685169959977112,
          -1.8268978374432823,
          -1.3531072803819177,
          -0.552508690848112,
          -0.14498776539996722,
          0.5030044542437652,
          -0.17735530133869318,
          -0.08897184011598393,
          1.9664871533579928,
          -0.590160907020762,
          0.544437555568912,
          -0.7628199761660305,
          -0.37365608934370254,
          0.8149568189856771,
          1.4249776804923213,
          -1.7093514022201677,
          1.238908174942366,
          -1.71718557854535,
          -0.05147722651968288,
          0.8287930073555166,
          -0.8737659291251622,
          -0.9480135637863218,
          -1.1003475380444532,
          0.7457965183238748,
          0.6380570744905988,
          -0.3894208135806658,
          -0.6642137606994339,
          -1.140912977389208,
          1.0865520411835587,
          -1.2275379540163869,
          0.8242411648000758,
          0.12982334611742288,
          -1.5737224631153774,
          0.44117268893298894,
          1.0316925517073288,
          0.15956785954936245,
          1.179708144879079,
          -0.5728210381568386,
          1.0299163011895074,
          0.3908133622373693,
          1.9858908014819538,
          -0.8265475737502567,
          0.663924835481197,
          -0.23147551462621171,
          -1.056044503137501,
          0.31812921564814617,
          0.30028145129488937,
          -0.9816911288518367,
          -0.9339562697285321,
          0.3584643733701401,
          1.8651159293907649,
          -1.1035540728245703,
          1.1111769078969433,
          2.0446760759430442
         ],
         "yaxis": "y10"
        },
        {
         "histfunc": "count",
         "histnorm": "",
         "marker": {
          "color": "rgba(50, 171, 96, 1.0)",
          "line": {
           "color": "#4D5663",
           "width": 1.3
          }
         },
         "name": "c",
         "nbinsx": 10,
         "opacity": 0.8,
         "orientation": "v",
         "type": "histogram",
         "x": [
          -1.3974399942298057,
          -1.2594475130421092,
          -0.5129099965513799,
          -1.4635316868003996,
          -0.036594916594382645,
          0.8386515146746838,
          1.1449293042599211,
          0.5025000377864617,
          -0.03716455206183781,
          1.3146641483878034,
          -2.278234077012857,
          1.0493201039900817,
          0.9803003093927106,
          -0.04880041287019022,
          0.19162835145411555,
          -0.7258437735625,
          -0.31344990276621376,
          0.6567052337724818,
          -0.3992004044020901,
          -1.460690954366173,
          1.143373627402732,
          1.426192951102635,
          -0.44971745884800807,
          0.8236730162851648,
          -0.2810409444957771,
          -1.2016804827635277,
          1.2306390281165533,
          -0.5552008293174706,
          -0.19337377840200753,
          0.8820068034767569,
          0.5273737977529509,
          1.569147278154652,
          0.9838124218074721,
          1.6560098562132635,
          0.635596970751312,
          -1.398243184093543,
          -0.2401893957907707,
          0.6583272757948146,
          0.2634210013276405,
          -0.07884437719855053,
          -2.1010630279519575,
          0.4046073689406953,
          -0.1978026749088829,
          0.3544669122529623,
          0.8676986036454316,
          -0.3381222914735889,
          0.6685169959977112,
          -1.8268978374432823,
          -1.3531072803819177,
          -0.552508690848112,
          -0.14498776539996722,
          0.5030044542437652,
          -0.17735530133869318,
          -0.08897184011598393,
          1.9664871533579928,
          -0.590160907020762,
          0.544437555568912,
          -0.7628199761660305,
          -0.37365608934370254,
          0.8149568189856771,
          1.4249776804923213,
          -1.7093514022201677,
          1.238908174942366,
          -1.71718557854535,
          -0.05147722651968288,
          0.8287930073555166,
          -0.8737659291251622,
          -0.9480135637863218,
          -1.1003475380444532,
          0.7457965183238748,
          0.6380570744905988,
          -0.3894208135806658,
          -0.6642137606994339,
          -1.140912977389208,
          1.0865520411835587,
          -1.2275379540163869,
          0.8242411648000758,
          0.12982334611742288,
          -1.5737224631153774,
          0.44117268893298894,
          1.0316925517073288,
          0.15956785954936245,
          1.179708144879079,
          -0.5728210381568386,
          1.0299163011895074,
          0.3908133622373693,
          1.9858908014819538,
          -0.8265475737502567,
          0.663924835481197,
          -0.23147551462621171,
          -1.056044503137501,
          0.31812921564814617,
          0.30028145129488937,
          -0.9816911288518367,
          -0.9339562697285321,
          0.3584643733701401,
          1.8651159293907649,
          -1.1035540728245703,
          1.1111769078969433,
          2.0446760759430442
         ],
         "xaxis": "x11",
         "yaxis": "y11"
        },
        {
         "line": {
          "color": "rgba(128, 128, 128, 1.0)",
          "dash": "solid",
          "shape": "linear",
          "width": 1.3
         },
         "marker": {
          "size": 2,
          "symbol": "circle"
         },
         "mode": "markers",
         "name": "c",
         "text": "",
         "type": "scatter",
         "x": [
          0.7120048034929688,
          0.037571924176700806,
          1.863948112983124,
          -0.8556664182979131,
          -0.22261837615277336,
          0.41350449670492756,
          1.6203319543114292,
          -0.2922523733494632,
          -1.7539373666576838,
          0.9895320045429775,
          0.6318448981936109,
          -2.221576685925559,
          -0.12057006100410533,
          -0.05776636496414596,
          -0.5503220465509001,
          0.6545978632840582,
          -1.108061140375195,
          0.07774686112593811,
          1.229150370974735,
          -0.9598138995070781,
          0.2553171944844485,
          -0.5312106448067048,
          -1.1766260005405362,
          -0.0089501762525687,
          1.5357305984753062,
          0.7354671313986141,
          -0.8110184683542013,
          1.082732376664796,
          -0.8934927035933473,
          -1.016646011537697,
          -1.2860201170696968,
          0.004796454433750215,
          -1.8649249921030508,
          0.19547129650750394,
          -0.7254502544000017,
          -1.6445739312624716,
          -0.614241250384773,
          0.947651845351561,
          -1.1829359088163829,
          -1.384355202952411,
          0.11011242718255053,
          1.197455158046334,
          -0.42809558047270085,
          -0.9757842847717417,
          0.885172144164018,
          1.1923405037845802,
          -0.9919277073072876,
          -1.317679831294402,
          -1.3245404587186131,
          0.6506861115846233,
          -0.3609133291001237,
          0.6723962599973358,
          0.34651672208847856,
          1.8591750211248126,
          -1.3852200101858028,
          -0.27685358822990774,
          0.6335764261578918,
          -2.539314836996711,
          -1.510787315277079,
          -0.11055856979500045,
          -0.491375805495196,
          -1.0192197784726929,
          2.086455864161741,
          -0.5172615980217126,
          0.8206242370564809,
          0.9858645709405398,
          1.2762610290410306,
          0.10713476342941546,
          -1.8186277461605582,
          0.6769012046049316,
          0.01366795538713723,
          -0.8986405789162267,
          0.07231285425140163,
          -0.563039626463328,
          0.03487686615991759,
          -0.8182175173066304,
          -2.035545744474048,
          0.09189039328921121,
          -1.5303055946275959,
          -1.5055761685861304,
          0.28164563964491446,
          1.0157880022485497,
          0.8905634100993131,
          -0.26830036034539123,
          0.028666062007271165,
          0.36553025568632413,
          -0.946426411782622,
          0.6027942740326115,
          0.4934687406555518,
          -0.28555189970477807,
          -0.3729824060325359,
          0.5212299692379051,
          -0.33814790277305373,
          0.44248336172215885,
          -0.26115706117549087,
          -0.5807234130298736,
          0.24323436038576762,
          0.4293091582265946,
          -0.8297263173896147,
          -1.3550401158358816
         ],
         "xaxis": "x12",
         "y": [
          -1.3974399942298057,
          -1.2594475130421092,
          -0.5129099965513799,
          -1.4635316868003996,
          -0.036594916594382645,
          0.8386515146746838,
          1.1449293042599211,
          0.5025000377864617,
          -0.03716455206183781,
          1.3146641483878034,
          -2.278234077012857,
          1.0493201039900817,
          0.9803003093927106,
          -0.04880041287019022,
          0.19162835145411555,
          -0.7258437735625,
          -0.31344990276621376,
          0.6567052337724818,
          -0.3992004044020901,
          -1.460690954366173,
          1.143373627402732,
          1.426192951102635,
          -0.44971745884800807,
          0.8236730162851648,
          -0.2810409444957771,
          -1.2016804827635277,
          1.2306390281165533,
          -0.5552008293174706,
          -0.19337377840200753,
          0.8820068034767569,
          0.5273737977529509,
          1.569147278154652,
          0.9838124218074721,
          1.6560098562132635,
          0.635596970751312,
          -1.398243184093543,
          -0.2401893957907707,
          0.6583272757948146,
          0.2634210013276405,
          -0.07884437719855053,
          -2.1010630279519575,
          0.4046073689406953,
          -0.1978026749088829,
          0.3544669122529623,
          0.8676986036454316,
          -0.3381222914735889,
          0.6685169959977112,
          -1.8268978374432823,
          -1.3531072803819177,
          -0.552508690848112,
          -0.14498776539996722,
          0.5030044542437652,
          -0.17735530133869318,
          -0.08897184011598393,
          1.9664871533579928,
          -0.590160907020762,
          0.544437555568912,
          -0.7628199761660305,
          -0.37365608934370254,
          0.8149568189856771,
          1.4249776804923213,
          -1.7093514022201677,
          1.238908174942366,
          -1.71718557854535,
          -0.05147722651968288,
          0.8287930073555166,
          -0.8737659291251622,
          -0.9480135637863218,
          -1.1003475380444532,
          0.7457965183238748,
          0.6380570744905988,
          -0.3894208135806658,
          -0.6642137606994339,
          -1.140912977389208,
          1.0865520411835587,
          -1.2275379540163869,
          0.8242411648000758,
          0.12982334611742288,
          -1.5737224631153774,
          0.44117268893298894,
          1.0316925517073288,
          0.15956785954936245,
          1.179708144879079,
          -0.5728210381568386,
          1.0299163011895074,
          0.3908133622373693,
          1.9858908014819538,
          -0.8265475737502567,
          0.663924835481197,
          -0.23147551462621171,
          -1.056044503137501,
          0.31812921564814617,
          0.30028145129488937,
          -0.9816911288518367,
          -0.9339562697285321,
          0.3584643733701401,
          1.8651159293907649,
          -1.1035540728245703,
          1.1111769078969433,
          2.0446760759430442
         ],
         "yaxis": "y12"
        },
        {
         "line": {
          "color": "rgba(128, 128, 128, 1.0)",
          "dash": "solid",
          "shape": "linear",
          "width": 1.3
         },
         "marker": {
          "size": 2,
          "symbol": "circle"
         },
         "mode": "markers",
         "name": "D",
         "text": "",
         "type": "scatter",
         "x": [
          -1.4939770193839113,
          0.14667142183123638,
          -0.1689240577557097,
          -2.5641137671536414,
          -1.5656121600558734,
          -1.2167004550556926,
          -0.5027845423972647,
          -0.19736293137528313,
          -0.4202320935653999,
          -0.6080146837161412,
          -1.230234537785847,
          -0.834544271094505,
          -0.7525609946685502,
          0.5523681023146403,
          0.3229589353270958,
          -0.997243590029998,
          1.6663098194289763,
          0.0877021878991175,
          -0.6060662026850341,
          -0.29003690869874343,
          0.8703676454073761,
          -0.3396656057424267,
          -0.6110092567412334,
          0.1472139397558027,
          -0.6994199594869444,
          -0.6158638170930033,
          0.6156004196442771,
          -0.33322696721037726,
          0.6696539231968791,
          -0.33925674088411095,
          0.8509919769727514,
          0.9645731195640609,
          2.427305453475825,
          0.976392584761381,
          1.7805857148536182,
          -0.6989982312628092,
          0.9057176562148805,
          0.41450153571613857,
          -1.6659821355531175,
          -1.105415801135921,
          -0.62185838308645,
          0.26305694720859163,
          -1.230184259105579,
          0.32487346783814625,
          -0.37518768510514555,
          -0.22521033590958614,
          -1.259372996663426,
          1.5609125053294142,
          -0.9177503491967661,
          -0.9235315213198988,
          1.1577654753378852,
          -1.6401526659124528,
          -1.0315814928703455,
          -0.17240986524184343,
          -1.6356154035797161,
          0.46896934471230545,
          0.7402280597029676,
          0.643571936309595,
          0.9789590030816315,
          0.4323966143449856,
          0.24984758212242894,
          0.05696615292061845,
          -0.22292926821963566,
          -1.5621053325723102,
          1.030043388900891,
          -2.1995026016841543,
          -0.9890315345511191,
          1.0610392086975546,
          -0.23948857174764943,
          -0.7085900231874463,
          1.6112436502127536,
          -0.068776323064688,
          -0.8630943776533021,
          0.21452073139849748,
          -0.6856857035422566,
          0.1604062806895764,
          -1.098694902114377,
          -0.004486955967236525,
          0.41358080038338224,
          -1.1308639855228306,
          1.3416129442187854,
          -1.1604840579000024,
          0.7859899459979105,
          -0.5378788796193937,
          -0.7823692774339261,
          -1.2475717135229125,
          -0.027819608867832593,
          -1.887835449605791,
          0.9312913941371009,
          -0.6762071639586086,
          -0.7166774860693382,
          1.3317430206692487,
          -0.5679228874173067,
          -0.9745452514729301,
          0.11099751388451033,
          1.4746054242805158,
          0.22633225768022122,
          -1.073948519445465,
          1.3499284499026483,
          -0.36978755761701826
         ],
         "xaxis": "x13",
         "y": [
          0.7120048034929688,
          0.037571924176700806,
          1.863948112983124,
          -0.8556664182979131,
          -0.22261837615277336,
          0.41350449670492756,
          1.6203319543114292,
          -0.2922523733494632,
          -1.7539373666576838,
          0.9895320045429775,
          0.6318448981936109,
          -2.221576685925559,
          -0.12057006100410533,
          -0.05776636496414596,
          -0.5503220465509001,
          0.6545978632840582,
          -1.108061140375195,
          0.07774686112593811,
          1.229150370974735,
          -0.9598138995070781,
          0.2553171944844485,
          -0.5312106448067048,
          -1.1766260005405362,
          -0.0089501762525687,
          1.5357305984753062,
          0.7354671313986141,
          -0.8110184683542013,
          1.082732376664796,
          -0.8934927035933473,
          -1.016646011537697,
          -1.2860201170696968,
          0.004796454433750215,
          -1.8649249921030508,
          0.19547129650750394,
          -0.7254502544000017,
          -1.6445739312624716,
          -0.614241250384773,
          0.947651845351561,
          -1.1829359088163829,
          -1.384355202952411,
          0.11011242718255053,
          1.197455158046334,
          -0.42809558047270085,
          -0.9757842847717417,
          0.885172144164018,
          1.1923405037845802,
          -0.9919277073072876,
          -1.317679831294402,
          -1.3245404587186131,
          0.6506861115846233,
          -0.3609133291001237,
          0.6723962599973358,
          0.34651672208847856,
          1.8591750211248126,
          -1.3852200101858028,
          -0.27685358822990774,
          0.6335764261578918,
          -2.539314836996711,
          -1.510787315277079,
          -0.11055856979500045,
          -0.491375805495196,
          -1.0192197784726929,
          2.086455864161741,
          -0.5172615980217126,
          0.8206242370564809,
          0.9858645709405398,
          1.2762610290410306,
          0.10713476342941546,
          -1.8186277461605582,
          0.6769012046049316,
          0.01366795538713723,
          -0.8986405789162267,
          0.07231285425140163,
          -0.563039626463328,
          0.03487686615991759,
          -0.8182175173066304,
          -2.035545744474048,
          0.09189039328921121,
          -1.5303055946275959,
          -1.5055761685861304,
          0.28164563964491446,
          1.0157880022485497,
          0.8905634100993131,
          -0.26830036034539123,
          0.028666062007271165,
          0.36553025568632413,
          -0.946426411782622,
          0.6027942740326115,
          0.4934687406555518,
          -0.28555189970477807,
          -0.3729824060325359,
          0.5212299692379051,
          -0.33814790277305373,
          0.44248336172215885,
          -0.26115706117549087,
          -0.5807234130298736,
          0.24323436038576762,
          0.4293091582265946,
          -0.8297263173896147,
          -1.3550401158358816
         ],
         "yaxis": "y13"
        },
        {
         "line": {
          "color": "rgba(128, 128, 128, 1.0)",
          "dash": "solid",
          "shape": "linear",
          "width": 1.3
         },
         "marker": {
          "size": 2,
          "symbol": "circle"
         },
         "mode": "markers",
         "name": "D",
         "text": "",
         "type": "scatter",
         "x": [
          -0.17932594922892936,
          -1.2334150241168818,
          0.3491829430803454,
          0.22140507174626994,
          -0.4311921325864654,
          0.2728526806525845,
          -0.14671619073051312,
          -0.8361711948295325,
          -2.0525996827183524,
          1.2238954636242012,
          0.16748171442020826,
          0.9742348415959232,
          -1.459462066979266,
          0.560522495645634,
          0.22594078882224689,
          0.9936125565222024,
          2.0378905674033154,
          -0.15589591029106117,
          -1.037914776778365,
          0.5972560045854091,
          1.5396143307194154,
          -0.633578357203016,
          1.4549286148744829,
          -0.7602467680969238,
          1.4818952741568785,
          -0.35542676894068576,
          -0.1672124933215106,
          -0.4686208341591621,
          -0.6596271840718666,
          -0.7021120601503211,
          -0.4030312229739508,
          -2.4891767827615854,
          1.8067985741691368,
          0.3642482006924113,
          0.4633123311347458,
          -0.28776563158624496,
          -0.039824002265676645,
          0.3394186664968411,
          0.264005519683204,
          0.1997684212563469,
          -1.5972630604729419,
          -0.013363487980902096,
          0.628306211667071,
          0.014837486688604832,
          1.7299977564779727,
          0.8424498055863454,
          1.592948338505741,
          0.1908669085436572,
          2.7651347652023914,
          -0.052526911488933854,
          -1.3262825475191269,
          -0.7291649507936764,
          1.2249018261233362,
          0.6129613428385257,
          0.33058371496375294,
          0.4578414828592958,
          0.30186994670170814,
          0.23016785504505452,
          -0.8362591785189375,
          -0.19513012931737245,
          -0.9467488889374831,
          -0.020796939278777533,
          -0.7662354218695511,
          -0.5591934120199998,
          1.5520463274111282,
          -1.054375281258254,
          0.06319501059080465,
          0.14793864881395666,
          -0.8352938765626658,
          0.327098277975738,
          -0.5179048631445157,
          -1.1677399803679211,
          0.31009378584304187,
          -1.2490679086498058,
          -0.4379990922558729,
          -0.9952159930252686,
          -0.2966223603061448,
          -1.2253946012973123,
          0.9035519742314471,
          -0.7487703835990225,
          0.5675216231819916,
          0.2756900234536723,
          0.18778109097989296,
          0.9879978844923218,
          0.7132407851991432,
          -1.1426759234117327,
          0.603840652919978,
          -2.1987237127928667,
          -0.22001923010514926,
          -0.8474271266004348,
          -0.6214670988523815,
          -2.59231971595352,
          1.3278421248432764,
          0.11190383360680248,
          0.9314195828328372,
          0.718216542817618,
          -0.42075368128977786,
          -0.6554575354437634,
          -0.626953050550036,
          1.1939125486493873
         ],
         "xaxis": "x14",
         "y": [
          0.7120048034929688,
          0.037571924176700806,
          1.863948112983124,
          -0.8556664182979131,
          -0.22261837615277336,
          0.41350449670492756,
          1.6203319543114292,
          -0.2922523733494632,
          -1.7539373666576838,
          0.9895320045429775,
          0.6318448981936109,
          -2.221576685925559,
          -0.12057006100410533,
          -0.05776636496414596,
          -0.5503220465509001,
          0.6545978632840582,
          -1.108061140375195,
          0.07774686112593811,
          1.229150370974735,
          -0.9598138995070781,
          0.2553171944844485,
          -0.5312106448067048,
          -1.1766260005405362,
          -0.0089501762525687,
          1.5357305984753062,
          0.7354671313986141,
          -0.8110184683542013,
          1.082732376664796,
          -0.8934927035933473,
          -1.016646011537697,
          -1.2860201170696968,
          0.004796454433750215,
          -1.8649249921030508,
          0.19547129650750394,
          -0.7254502544000017,
          -1.6445739312624716,
          -0.614241250384773,
          0.947651845351561,
          -1.1829359088163829,
          -1.384355202952411,
          0.11011242718255053,
          1.197455158046334,
          -0.42809558047270085,
          -0.9757842847717417,
          0.885172144164018,
          1.1923405037845802,
          -0.9919277073072876,
          -1.317679831294402,
          -1.3245404587186131,
          0.6506861115846233,
          -0.3609133291001237,
          0.6723962599973358,
          0.34651672208847856,
          1.8591750211248126,
          -1.3852200101858028,
          -0.27685358822990774,
          0.6335764261578918,
          -2.539314836996711,
          -1.510787315277079,
          -0.11055856979500045,
          -0.491375805495196,
          -1.0192197784726929,
          2.086455864161741,
          -0.5172615980217126,
          0.8206242370564809,
          0.9858645709405398,
          1.2762610290410306,
          0.10713476342941546,
          -1.8186277461605582,
          0.6769012046049316,
          0.01366795538713723,
          -0.8986405789162267,
          0.07231285425140163,
          -0.563039626463328,
          0.03487686615991759,
          -0.8182175173066304,
          -2.035545744474048,
          0.09189039328921121,
          -1.5303055946275959,
          -1.5055761685861304,
          0.28164563964491446,
          1.0157880022485497,
          0.8905634100993131,
          -0.26830036034539123,
          0.028666062007271165,
          0.36553025568632413,
          -0.946426411782622,
          0.6027942740326115,
          0.4934687406555518,
          -0.28555189970477807,
          -0.3729824060325359,
          0.5212299692379051,
          -0.33814790277305373,
          0.44248336172215885,
          -0.26115706117549087,
          -0.5807234130298736,
          0.24323436038576762,
          0.4293091582265946,
          -0.8297263173896147,
          -1.3550401158358816
         ],
         "yaxis": "y14"
        },
        {
         "line": {
          "color": "rgba(128, 128, 128, 1.0)",
          "dash": "solid",
          "shape": "linear",
          "width": 1.3
         },
         "marker": {
          "size": 2,
          "symbol": "circle"
         },
         "mode": "markers",
         "name": "D",
         "text": "",
         "type": "scatter",
         "x": [
          -1.3974399942298057,
          -1.2594475130421092,
          -0.5129099965513799,
          -1.4635316868003996,
          -0.036594916594382645,
          0.8386515146746838,
          1.1449293042599211,
          0.5025000377864617,
          -0.03716455206183781,
          1.3146641483878034,
          -2.278234077012857,
          1.0493201039900817,
          0.9803003093927106,
          -0.04880041287019022,
          0.19162835145411555,
          -0.7258437735625,
          -0.31344990276621376,
          0.6567052337724818,
          -0.3992004044020901,
          -1.460690954366173,
          1.143373627402732,
          1.426192951102635,
          -0.44971745884800807,
          0.8236730162851648,
          -0.2810409444957771,
          -1.2016804827635277,
          1.2306390281165533,
          -0.5552008293174706,
          -0.19337377840200753,
          0.8820068034767569,
          0.5273737977529509,
          1.569147278154652,
          0.9838124218074721,
          1.6560098562132635,
          0.635596970751312,
          -1.398243184093543,
          -0.2401893957907707,
          0.6583272757948146,
          0.2634210013276405,
          -0.07884437719855053,
          -2.1010630279519575,
          0.4046073689406953,
          -0.1978026749088829,
          0.3544669122529623,
          0.8676986036454316,
          -0.3381222914735889,
          0.6685169959977112,
          -1.8268978374432823,
          -1.3531072803819177,
          -0.552508690848112,
          -0.14498776539996722,
          0.5030044542437652,
          -0.17735530133869318,
          -0.08897184011598393,
          1.9664871533579928,
          -0.590160907020762,
          0.544437555568912,
          -0.7628199761660305,
          -0.37365608934370254,
          0.8149568189856771,
          1.4249776804923213,
          -1.7093514022201677,
          1.238908174942366,
          -1.71718557854535,
          -0.05147722651968288,
          0.8287930073555166,
          -0.8737659291251622,
          -0.9480135637863218,
          -1.1003475380444532,
          0.7457965183238748,
          0.6380570744905988,
          -0.3894208135806658,
          -0.6642137606994339,
          -1.140912977389208,
          1.0865520411835587,
          -1.2275379540163869,
          0.8242411648000758,
          0.12982334611742288,
          -1.5737224631153774,
          0.44117268893298894,
          1.0316925517073288,
          0.15956785954936245,
          1.179708144879079,
          -0.5728210381568386,
          1.0299163011895074,
          0.3908133622373693,
          1.9858908014819538,
          -0.8265475737502567,
          0.663924835481197,
          -0.23147551462621171,
          -1.056044503137501,
          0.31812921564814617,
          0.30028145129488937,
          -0.9816911288518367,
          -0.9339562697285321,
          0.3584643733701401,
          1.8651159293907649,
          -1.1035540728245703,
          1.1111769078969433,
          2.0446760759430442
         ],
         "xaxis": "x15",
         "y": [
          0.7120048034929688,
          0.037571924176700806,
          1.863948112983124,
          -0.8556664182979131,
          -0.22261837615277336,
          0.41350449670492756,
          1.6203319543114292,
          -0.2922523733494632,
          -1.7539373666576838,
          0.9895320045429775,
          0.6318448981936109,
          -2.221576685925559,
          -0.12057006100410533,
          -0.05776636496414596,
          -0.5503220465509001,
          0.6545978632840582,
          -1.108061140375195,
          0.07774686112593811,
          1.229150370974735,
          -0.9598138995070781,
          0.2553171944844485,
          -0.5312106448067048,
          -1.1766260005405362,
          -0.0089501762525687,
          1.5357305984753062,
          0.7354671313986141,
          -0.8110184683542013,
          1.082732376664796,
          -0.8934927035933473,
          -1.016646011537697,
          -1.2860201170696968,
          0.004796454433750215,
          -1.8649249921030508,
          0.19547129650750394,
          -0.7254502544000017,
          -1.6445739312624716,
          -0.614241250384773,
          0.947651845351561,
          -1.1829359088163829,
          -1.384355202952411,
          0.11011242718255053,
          1.197455158046334,
          -0.42809558047270085,
          -0.9757842847717417,
          0.885172144164018,
          1.1923405037845802,
          -0.9919277073072876,
          -1.317679831294402,
          -1.3245404587186131,
          0.6506861115846233,
          -0.3609133291001237,
          0.6723962599973358,
          0.34651672208847856,
          1.8591750211248126,
          -1.3852200101858028,
          -0.27685358822990774,
          0.6335764261578918,
          -2.539314836996711,
          -1.510787315277079,
          -0.11055856979500045,
          -0.491375805495196,
          -1.0192197784726929,
          2.086455864161741,
          -0.5172615980217126,
          0.8206242370564809,
          0.9858645709405398,
          1.2762610290410306,
          0.10713476342941546,
          -1.8186277461605582,
          0.6769012046049316,
          0.01366795538713723,
          -0.8986405789162267,
          0.07231285425140163,
          -0.563039626463328,
          0.03487686615991759,
          -0.8182175173066304,
          -2.035545744474048,
          0.09189039328921121,
          -1.5303055946275959,
          -1.5055761685861304,
          0.28164563964491446,
          1.0157880022485497,
          0.8905634100993131,
          -0.26830036034539123,
          0.028666062007271165,
          0.36553025568632413,
          -0.946426411782622,
          0.6027942740326115,
          0.4934687406555518,
          -0.28555189970477807,
          -0.3729824060325359,
          0.5212299692379051,
          -0.33814790277305373,
          0.44248336172215885,
          -0.26115706117549087,
          -0.5807234130298736,
          0.24323436038576762,
          0.4293091582265946,
          -0.8297263173896147,
          -1.3550401158358816
         ],
         "yaxis": "y15"
        },
        {
         "histfunc": "count",
         "histnorm": "",
         "marker": {
          "color": "rgba(128, 0, 128, 1.0)",
          "line": {
           "color": "#4D5663",
           "width": 1.3
          }
         },
         "name": "D",
         "nbinsx": 10,
         "opacity": 0.8,
         "orientation": "v",
         "type": "histogram",
         "x": [
          0.7120048034929688,
          0.037571924176700806,
          1.863948112983124,
          -0.8556664182979131,
          -0.22261837615277336,
          0.41350449670492756,
          1.6203319543114292,
          -0.2922523733494632,
          -1.7539373666576838,
          0.9895320045429775,
          0.6318448981936109,
          -2.221576685925559,
          -0.12057006100410533,
          -0.05776636496414596,
          -0.5503220465509001,
          0.6545978632840582,
          -1.108061140375195,
          0.07774686112593811,
          1.229150370974735,
          -0.9598138995070781,
          0.2553171944844485,
          -0.5312106448067048,
          -1.1766260005405362,
          -0.0089501762525687,
          1.5357305984753062,
          0.7354671313986141,
          -0.8110184683542013,
          1.082732376664796,
          -0.8934927035933473,
          -1.016646011537697,
          -1.2860201170696968,
          0.004796454433750215,
          -1.8649249921030508,
          0.19547129650750394,
          -0.7254502544000017,
          -1.6445739312624716,
          -0.614241250384773,
          0.947651845351561,
          -1.1829359088163829,
          -1.384355202952411,
          0.11011242718255053,
          1.197455158046334,
          -0.42809558047270085,
          -0.9757842847717417,
          0.885172144164018,
          1.1923405037845802,
          -0.9919277073072876,
          -1.317679831294402,
          -1.3245404587186131,
          0.6506861115846233,
          -0.3609133291001237,
          0.6723962599973358,
          0.34651672208847856,
          1.8591750211248126,
          -1.3852200101858028,
          -0.27685358822990774,
          0.6335764261578918,
          -2.539314836996711,
          -1.510787315277079,
          -0.11055856979500045,
          -0.491375805495196,
          -1.0192197784726929,
          2.086455864161741,
          -0.5172615980217126,
          0.8206242370564809,
          0.9858645709405398,
          1.2762610290410306,
          0.10713476342941546,
          -1.8186277461605582,
          0.6769012046049316,
          0.01366795538713723,
          -0.8986405789162267,
          0.07231285425140163,
          -0.563039626463328,
          0.03487686615991759,
          -0.8182175173066304,
          -2.035545744474048,
          0.09189039328921121,
          -1.5303055946275959,
          -1.5055761685861304,
          0.28164563964491446,
          1.0157880022485497,
          0.8905634100993131,
          -0.26830036034539123,
          0.028666062007271165,
          0.36553025568632413,
          -0.946426411782622,
          0.6027942740326115,
          0.4934687406555518,
          -0.28555189970477807,
          -0.3729824060325359,
          0.5212299692379051,
          -0.33814790277305373,
          0.44248336172215885,
          -0.26115706117549087,
          -0.5807234130298736,
          0.24323436038576762,
          0.4293091582265946,
          -0.8297263173896147,
          -1.3550401158358816
         ],
         "xaxis": "x16",
         "yaxis": "y16"
        }
       ],
       "layout": {
        "bargap": 0.02,
        "legend": {
         "bgcolor": "#F5F6F9",
         "font": {
          "color": "#4D5663"
         }
        },
        "paper_bgcolor": "#F5F6F9",
        "plot_bgcolor": "#F5F6F9",
        "showlegend": false,
        "template": {
         "data": {
          "bar": [
           {
            "error_x": {
             "color": "#2a3f5f"
            },
            "error_y": {
             "color": "#2a3f5f"
            },
            "marker": {
             "line": {
              "color": "#E5ECF6",
              "width": 0.5
             },
             "pattern": {
              "fillmode": "overlay",
              "size": 10,
              "solidity": 0.2
             }
            },
            "type": "bar"
           }
          ],
          "barpolar": [
           {
            "marker": {
             "line": {
              "color": "#E5ECF6",
              "width": 0.5
             },
             "pattern": {
              "fillmode": "overlay",
              "size": 10,
              "solidity": 0.2
             }
            },
            "type": "barpolar"
           }
          ],
          "carpet": [
           {
            "aaxis": {
             "endlinecolor": "#2a3f5f",
             "gridcolor": "white",
             "linecolor": "white",
             "minorgridcolor": "white",
             "startlinecolor": "#2a3f5f"
            },
            "baxis": {
             "endlinecolor": "#2a3f5f",
             "gridcolor": "white",
             "linecolor": "white",
             "minorgridcolor": "white",
             "startlinecolor": "#2a3f5f"
            },
            "type": "carpet"
           }
          ],
          "choropleth": [
           {
            "colorbar": {
             "outlinewidth": 0,
             "ticks": ""
            },
            "type": "choropleth"
           }
          ],
          "contour": [
           {
            "colorbar": {
             "outlinewidth": 0,
             "ticks": ""
            },
            "colorscale": [
             [
              0,
              "#0d0887"
             ],
             [
              0.1111111111111111,
              "#46039f"
             ],
             [
              0.2222222222222222,
              "#7201a8"
             ],
             [
              0.3333333333333333,
              "#9c179e"
             ],
             [
              0.4444444444444444,
              "#bd3786"
             ],
             [
              0.5555555555555556,
              "#d8576b"
             ],
             [
              0.6666666666666666,
              "#ed7953"
             ],
             [
              0.7777777777777778,
              "#fb9f3a"
             ],
             [
              0.8888888888888888,
              "#fdca26"
             ],
             [
              1,
              "#f0f921"
             ]
            ],
            "type": "contour"
           }
          ],
          "contourcarpet": [
           {
            "colorbar": {
             "outlinewidth": 0,
             "ticks": ""
            },
            "type": "contourcarpet"
           }
          ],
          "heatmap": [
           {
            "colorbar": {
             "outlinewidth": 0,
             "ticks": ""
            },
            "colorscale": [
             [
              0,
              "#0d0887"
             ],
             [
              0.1111111111111111,
              "#46039f"
             ],
             [
              0.2222222222222222,
              "#7201a8"
             ],
             [
              0.3333333333333333,
              "#9c179e"
             ],
             [
              0.4444444444444444,
              "#bd3786"
             ],
             [
              0.5555555555555556,
              "#d8576b"
             ],
             [
              0.6666666666666666,
              "#ed7953"
             ],
             [
              0.7777777777777778,
              "#fb9f3a"
             ],
             [
              0.8888888888888888,
              "#fdca26"
             ],
             [
              1,
              "#f0f921"
             ]
            ],
            "type": "heatmap"
           }
          ],
          "heatmapgl": [
           {
            "colorbar": {
             "outlinewidth": 0,
             "ticks": ""
            },
            "colorscale": [
             [
              0,
              "#0d0887"
             ],
             [
              0.1111111111111111,
              "#46039f"
             ],
             [
              0.2222222222222222,
              "#7201a8"
             ],
             [
              0.3333333333333333,
              "#9c179e"
             ],
             [
              0.4444444444444444,
              "#bd3786"
             ],
             [
              0.5555555555555556,
              "#d8576b"
             ],
             [
              0.6666666666666666,
              "#ed7953"
             ],
             [
              0.7777777777777778,
              "#fb9f3a"
             ],
             [
              0.8888888888888888,
              "#fdca26"
             ],
             [
              1,
              "#f0f921"
             ]
            ],
            "type": "heatmapgl"
           }
          ],
          "histogram": [
           {
            "marker": {
             "pattern": {
              "fillmode": "overlay",
              "size": 10,
              "solidity": 0.2
             }
            },
            "type": "histogram"
           }
          ],
          "histogram2d": [
           {
            "colorbar": {
             "outlinewidth": 0,
             "ticks": ""
            },
            "colorscale": [
             [
              0,
              "#0d0887"
             ],
             [
              0.1111111111111111,
              "#46039f"
             ],
             [
              0.2222222222222222,
              "#7201a8"
             ],
             [
              0.3333333333333333,
              "#9c179e"
             ],
             [
              0.4444444444444444,
              "#bd3786"
             ],
             [
              0.5555555555555556,
              "#d8576b"
             ],
             [
              0.6666666666666666,
              "#ed7953"
             ],
             [
              0.7777777777777778,
              "#fb9f3a"
             ],
             [
              0.8888888888888888,
              "#fdca26"
             ],
             [
              1,
              "#f0f921"
             ]
            ],
            "type": "histogram2d"
           }
          ],
          "histogram2dcontour": [
           {
            "colorbar": {
             "outlinewidth": 0,
             "ticks": ""
            },
            "colorscale": [
             [
              0,
              "#0d0887"
             ],
             [
              0.1111111111111111,
              "#46039f"
             ],
             [
              0.2222222222222222,
              "#7201a8"
             ],
             [
              0.3333333333333333,
              "#9c179e"
             ],
             [
              0.4444444444444444,
              "#bd3786"
             ],
             [
              0.5555555555555556,
              "#d8576b"
             ],
             [
              0.6666666666666666,
              "#ed7953"
             ],
             [
              0.7777777777777778,
              "#fb9f3a"
             ],
             [
              0.8888888888888888,
              "#fdca26"
             ],
             [
              1,
              "#f0f921"
             ]
            ],
            "type": "histogram2dcontour"
           }
          ],
          "mesh3d": [
           {
            "colorbar": {
             "outlinewidth": 0,
             "ticks": ""
            },
            "type": "mesh3d"
           }
          ],
          "parcoords": [
           {
            "line": {
             "colorbar": {
              "outlinewidth": 0,
              "ticks": ""
             }
            },
            "type": "parcoords"
           }
          ],
          "pie": [
           {
            "automargin": true,
            "type": "pie"
           }
          ],
          "scatter": [
           {
            "fillpattern": {
             "fillmode": "overlay",
             "size": 10,
             "solidity": 0.2
            },
            "type": "scatter"
           }
          ],
          "scatter3d": [
           {
            "line": {
             "colorbar": {
              "outlinewidth": 0,
              "ticks": ""
             }
            },
            "marker": {
             "colorbar": {
              "outlinewidth": 0,
              "ticks": ""
             }
            },
            "type": "scatter3d"
           }
          ],
          "scattercarpet": [
           {
            "marker": {
             "colorbar": {
              "outlinewidth": 0,
              "ticks": ""
             }
            },
            "type": "scattercarpet"
           }
          ],
          "scattergeo": [
           {
            "marker": {
             "colorbar": {
              "outlinewidth": 0,
              "ticks": ""
             }
            },
            "type": "scattergeo"
           }
          ],
          "scattergl": [
           {
            "marker": {
             "colorbar": {
              "outlinewidth": 0,
              "ticks": ""
             }
            },
            "type": "scattergl"
           }
          ],
          "scattermapbox": [
           {
            "marker": {
             "colorbar": {
              "outlinewidth": 0,
              "ticks": ""
             }
            },
            "type": "scattermapbox"
           }
          ],
          "scatterpolar": [
           {
            "marker": {
             "colorbar": {
              "outlinewidth": 0,
              "ticks": ""
             }
            },
            "type": "scatterpolar"
           }
          ],
          "scatterpolargl": [
           {
            "marker": {
             "colorbar": {
              "outlinewidth": 0,
              "ticks": ""
             }
            },
            "type": "scatterpolargl"
           }
          ],
          "scatterternary": [
           {
            "marker": {
             "colorbar": {
              "outlinewidth": 0,
              "ticks": ""
             }
            },
            "type": "scatterternary"
           }
          ],
          "surface": [
           {
            "colorbar": {
             "outlinewidth": 0,
             "ticks": ""
            },
            "colorscale": [
             [
              0,
              "#0d0887"
             ],
             [
              0.1111111111111111,
              "#46039f"
             ],
             [
              0.2222222222222222,
              "#7201a8"
             ],
             [
              0.3333333333333333,
              "#9c179e"
             ],
             [
              0.4444444444444444,
              "#bd3786"
             ],
             [
              0.5555555555555556,
              "#d8576b"
             ],
             [
              0.6666666666666666,
              "#ed7953"
             ],
             [
              0.7777777777777778,
              "#fb9f3a"
             ],
             [
              0.8888888888888888,
              "#fdca26"
             ],
             [
              1,
              "#f0f921"
             ]
            ],
            "type": "surface"
           }
          ],
          "table": [
           {
            "cells": {
             "fill": {
              "color": "#EBF0F8"
             },
             "line": {
              "color": "white"
             }
            },
            "header": {
             "fill": {
              "color": "#C8D4E3"
             },
             "line": {
              "color": "white"
             }
            },
            "type": "table"
           }
          ]
         },
         "layout": {
          "annotationdefaults": {
           "arrowcolor": "#2a3f5f",
           "arrowhead": 0,
           "arrowwidth": 1
          },
          "autotypenumbers": "strict",
          "coloraxis": {
           "colorbar": {
            "outlinewidth": 0,
            "ticks": ""
           }
          },
          "colorscale": {
           "diverging": [
            [
             0,
             "#8e0152"
            ],
            [
             0.1,
             "#c51b7d"
            ],
            [
             0.2,
             "#de77ae"
            ],
            [
             0.3,
             "#f1b6da"
            ],
            [
             0.4,
             "#fde0ef"
            ],
            [
             0.5,
             "#f7f7f7"
            ],
            [
             0.6,
             "#e6f5d0"
            ],
            [
             0.7,
             "#b8e186"
            ],
            [
             0.8,
             "#7fbc41"
            ],
            [
             0.9,
             "#4d9221"
            ],
            [
             1,
             "#276419"
            ]
           ],
           "sequential": [
            [
             0,
             "#0d0887"
            ],
            [
             0.1111111111111111,
             "#46039f"
            ],
            [
             0.2222222222222222,
             "#7201a8"
            ],
            [
             0.3333333333333333,
             "#9c179e"
            ],
            [
             0.4444444444444444,
             "#bd3786"
            ],
            [
             0.5555555555555556,
             "#d8576b"
            ],
            [
             0.6666666666666666,
             "#ed7953"
            ],
            [
             0.7777777777777778,
             "#fb9f3a"
            ],
            [
             0.8888888888888888,
             "#fdca26"
            ],
            [
             1,
             "#f0f921"
            ]
           ],
           "sequentialminus": [
            [
             0,
             "#0d0887"
            ],
            [
             0.1111111111111111,
             "#46039f"
            ],
            [
             0.2222222222222222,
             "#7201a8"
            ],
            [
             0.3333333333333333,
             "#9c179e"
            ],
            [
             0.4444444444444444,
             "#bd3786"
            ],
            [
             0.5555555555555556,
             "#d8576b"
            ],
            [
             0.6666666666666666,
             "#ed7953"
            ],
            [
             0.7777777777777778,
             "#fb9f3a"
            ],
            [
             0.8888888888888888,
             "#fdca26"
            ],
            [
             1,
             "#f0f921"
            ]
           ]
          },
          "colorway": [
           "#636efa",
           "#EF553B",
           "#00cc96",
           "#ab63fa",
           "#FFA15A",
           "#19d3f3",
           "#FF6692",
           "#B6E880",
           "#FF97FF",
           "#FECB52"
          ],
          "font": {
           "color": "#2a3f5f"
          },
          "geo": {
           "bgcolor": "white",
           "lakecolor": "white",
           "landcolor": "#E5ECF6",
           "showlakes": true,
           "showland": true,
           "subunitcolor": "white"
          },
          "hoverlabel": {
           "align": "left"
          },
          "hovermode": "closest",
          "mapbox": {
           "style": "light"
          },
          "paper_bgcolor": "white",
          "plot_bgcolor": "#E5ECF6",
          "polar": {
           "angularaxis": {
            "gridcolor": "white",
            "linecolor": "white",
            "ticks": ""
           },
           "bgcolor": "#E5ECF6",
           "radialaxis": {
            "gridcolor": "white",
            "linecolor": "white",
            "ticks": ""
           }
          },
          "scene": {
           "xaxis": {
            "backgroundcolor": "#E5ECF6",
            "gridcolor": "white",
            "gridwidth": 2,
            "linecolor": "white",
            "showbackground": true,
            "ticks": "",
            "zerolinecolor": "white"
           },
           "yaxis": {
            "backgroundcolor": "#E5ECF6",
            "gridcolor": "white",
            "gridwidth": 2,
            "linecolor": "white",
            "showbackground": true,
            "ticks": "",
            "zerolinecolor": "white"
           },
           "zaxis": {
            "backgroundcolor": "#E5ECF6",
            "gridcolor": "white",
            "gridwidth": 2,
            "linecolor": "white",
            "showbackground": true,
            "ticks": "",
            "zerolinecolor": "white"
           }
          },
          "shapedefaults": {
           "line": {
            "color": "#2a3f5f"
           }
          },
          "ternary": {
           "aaxis": {
            "gridcolor": "white",
            "linecolor": "white",
            "ticks": ""
           },
           "baxis": {
            "gridcolor": "white",
            "linecolor": "white",
            "ticks": ""
           },
           "bgcolor": "#E5ECF6",
           "caxis": {
            "gridcolor": "white",
            "linecolor": "white",
            "ticks": ""
           }
          },
          "title": {
           "x": 0.05
          },
          "xaxis": {
           "automargin": true,
           "gridcolor": "white",
           "linecolor": "white",
           "ticks": "",
           "title": {
            "standoff": 15
           },
           "zerolinecolor": "white",
           "zerolinewidth": 2
          },
          "yaxis": {
           "automargin": true,
           "gridcolor": "white",
           "linecolor": "white",
           "ticks": "",
           "title": {
            "standoff": 15
           },
           "zerolinecolor": "white",
           "zerolinewidth": 2
          }
         }
        },
        "title": {
         "font": {
          "color": "#4D5663"
         }
        },
        "xaxis": {
         "anchor": "y",
         "domain": [
          0,
          0.2125
         ],
         "gridcolor": "#E1E5ED",
         "showgrid": false,
         "tickfont": {
          "color": "#4D5663"
         },
         "title": {
          "font": {
           "color": "#4D5663"
          },
          "text": ""
         },
         "zerolinecolor": "#E1E5ED"
        },
        "xaxis10": {
         "anchor": "y10",
         "domain": [
          0.2625,
          0.475
         ],
         "gridcolor": "#E1E5ED",
         "showgrid": false,
         "tickfont": {
          "color": "#4D5663"
         },
         "title": {
          "font": {
           "color": "#4D5663"
          },
          "text": ""
         },
         "zerolinecolor": "#E1E5ED"
        },
        "xaxis11": {
         "anchor": "y11",
         "domain": [
          0.525,
          0.7375
         ],
         "gridcolor": "#E1E5ED",
         "showgrid": false,
         "tickfont": {
          "color": "#4D5663"
         },
         "title": {
          "font": {
           "color": "#4D5663"
          },
          "text": ""
         },
         "zerolinecolor": "#E1E5ED"
        },
        "xaxis12": {
         "anchor": "y12",
         "domain": [
          0.7875,
          1
         ],
         "gridcolor": "#E1E5ED",
         "showgrid": false,
         "tickfont": {
          "color": "#4D5663"
         },
         "title": {
          "font": {
           "color": "#4D5663"
          },
          "text": ""
         },
         "zerolinecolor": "#E1E5ED"
        },
        "xaxis13": {
         "anchor": "y13",
         "domain": [
          0,
          0.2125
         ],
         "gridcolor": "#E1E5ED",
         "showgrid": false,
         "tickfont": {
          "color": "#4D5663"
         },
         "title": {
          "font": {
           "color": "#4D5663"
          },
          "text": ""
         },
         "zerolinecolor": "#E1E5ED"
        },
        "xaxis14": {
         "anchor": "y14",
         "domain": [
          0.2625,
          0.475
         ],
         "gridcolor": "#E1E5ED",
         "showgrid": false,
         "tickfont": {
          "color": "#4D5663"
         },
         "title": {
          "font": {
           "color": "#4D5663"
          },
          "text": ""
         },
         "zerolinecolor": "#E1E5ED"
        },
        "xaxis15": {
         "anchor": "y15",
         "domain": [
          0.525,
          0.7375
         ],
         "gridcolor": "#E1E5ED",
         "showgrid": false,
         "tickfont": {
          "color": "#4D5663"
         },
         "title": {
          "font": {
           "color": "#4D5663"
          },
          "text": ""
         },
         "zerolinecolor": "#E1E5ED"
        },
        "xaxis16": {
         "anchor": "y16",
         "domain": [
          0.7875,
          1
         ],
         "gridcolor": "#E1E5ED",
         "showgrid": false,
         "tickfont": {
          "color": "#4D5663"
         },
         "title": {
          "font": {
           "color": "#4D5663"
          },
          "text": ""
         },
         "zerolinecolor": "#E1E5ED"
        },
        "xaxis2": {
         "anchor": "y2",
         "domain": [
          0.2625,
          0.475
         ],
         "gridcolor": "#E1E5ED",
         "showgrid": false,
         "tickfont": {
          "color": "#4D5663"
         },
         "title": {
          "font": {
           "color": "#4D5663"
          },
          "text": ""
         },
         "zerolinecolor": "#E1E5ED"
        },
        "xaxis3": {
         "anchor": "y3",
         "domain": [
          0.525,
          0.7375
         ],
         "gridcolor": "#E1E5ED",
         "showgrid": false,
         "tickfont": {
          "color": "#4D5663"
         },
         "title": {
          "font": {
           "color": "#4D5663"
          },
          "text": ""
         },
         "zerolinecolor": "#E1E5ED"
        },
        "xaxis4": {
         "anchor": "y4",
         "domain": [
          0.7875,
          1
         ],
         "gridcolor": "#E1E5ED",
         "showgrid": false,
         "tickfont": {
          "color": "#4D5663"
         },
         "title": {
          "font": {
           "color": "#4D5663"
          },
          "text": ""
         },
         "zerolinecolor": "#E1E5ED"
        },
        "xaxis5": {
         "anchor": "y5",
         "domain": [
          0,
          0.2125
         ],
         "gridcolor": "#E1E5ED",
         "showgrid": false,
         "tickfont": {
          "color": "#4D5663"
         },
         "title": {
          "font": {
           "color": "#4D5663"
          },
          "text": ""
         },
         "zerolinecolor": "#E1E5ED"
        },
        "xaxis6": {
         "anchor": "y6",
         "domain": [
          0.2625,
          0.475
         ],
         "gridcolor": "#E1E5ED",
         "showgrid": false,
         "tickfont": {
          "color": "#4D5663"
         },
         "title": {
          "font": {
           "color": "#4D5663"
          },
          "text": ""
         },
         "zerolinecolor": "#E1E5ED"
        },
        "xaxis7": {
         "anchor": "y7",
         "domain": [
          0.525,
          0.7375
         ],
         "gridcolor": "#E1E5ED",
         "showgrid": false,
         "tickfont": {
          "color": "#4D5663"
         },
         "title": {
          "font": {
           "color": "#4D5663"
          },
          "text": ""
         },
         "zerolinecolor": "#E1E5ED"
        },
        "xaxis8": {
         "anchor": "y8",
         "domain": [
          0.7875,
          1
         ],
         "gridcolor": "#E1E5ED",
         "showgrid": false,
         "tickfont": {
          "color": "#4D5663"
         },
         "title": {
          "font": {
           "color": "#4D5663"
          },
          "text": ""
         },
         "zerolinecolor": "#E1E5ED"
        },
        "xaxis9": {
         "anchor": "y9",
         "domain": [
          0,
          0.2125
         ],
         "gridcolor": "#E1E5ED",
         "showgrid": false,
         "tickfont": {
          "color": "#4D5663"
         },
         "title": {
          "font": {
           "color": "#4D5663"
          },
          "text": ""
         },
         "zerolinecolor": "#E1E5ED"
        },
        "yaxis": {
         "anchor": "x",
         "domain": [
          0.8025,
          1
         ],
         "gridcolor": "#E1E5ED",
         "showgrid": false,
         "tickfont": {
          "color": "#4D5663"
         },
         "title": {
          "font": {
           "color": "#4D5663"
          },
          "text": ""
         },
         "zerolinecolor": "#E1E5ED"
        },
        "yaxis10": {
         "anchor": "x10",
         "domain": [
          0.2675,
          0.465
         ],
         "gridcolor": "#E1E5ED",
         "showgrid": false,
         "tickfont": {
          "color": "#4D5663"
         },
         "title": {
          "font": {
           "color": "#4D5663"
          },
          "text": ""
         },
         "zerolinecolor": "#E1E5ED"
        },
        "yaxis11": {
         "anchor": "x11",
         "domain": [
          0.2675,
          0.465
         ],
         "gridcolor": "#E1E5ED",
         "showgrid": false,
         "tickfont": {
          "color": "#4D5663"
         },
         "title": {
          "font": {
           "color": "#4D5663"
          },
          "text": ""
         },
         "zerolinecolor": "#E1E5ED"
        },
        "yaxis12": {
         "anchor": "x12",
         "domain": [
          0.2675,
          0.465
         ],
         "gridcolor": "#E1E5ED",
         "showgrid": false,
         "tickfont": {
          "color": "#4D5663"
         },
         "title": {
          "font": {
           "color": "#4D5663"
          },
          "text": ""
         },
         "zerolinecolor": "#E1E5ED"
        },
        "yaxis13": {
         "anchor": "x13",
         "domain": [
          0,
          0.1975
         ],
         "gridcolor": "#E1E5ED",
         "showgrid": false,
         "tickfont": {
          "color": "#4D5663"
         },
         "title": {
          "font": {
           "color": "#4D5663"
          },
          "text": ""
         },
         "zerolinecolor": "#E1E5ED"
        },
        "yaxis14": {
         "anchor": "x14",
         "domain": [
          0,
          0.1975
         ],
         "gridcolor": "#E1E5ED",
         "showgrid": false,
         "tickfont": {
          "color": "#4D5663"
         },
         "title": {
          "font": {
           "color": "#4D5663"
          },
          "text": ""
         },
         "zerolinecolor": "#E1E5ED"
        },
        "yaxis15": {
         "anchor": "x15",
         "domain": [
          0,
          0.1975
         ],
         "gridcolor": "#E1E5ED",
         "showgrid": false,
         "tickfont": {
          "color": "#4D5663"
         },
         "title": {
          "font": {
           "color": "#4D5663"
          },
          "text": ""
         },
         "zerolinecolor": "#E1E5ED"
        },
        "yaxis16": {
         "anchor": "x16",
         "domain": [
          0,
          0.1975
         ],
         "gridcolor": "#E1E5ED",
         "showgrid": false,
         "tickfont": {
          "color": "#4D5663"
         },
         "title": {
          "font": {
           "color": "#4D5663"
          },
          "text": ""
         },
         "zerolinecolor": "#E1E5ED"
        },
        "yaxis2": {
         "anchor": "x2",
         "domain": [
          0.8025,
          1
         ],
         "gridcolor": "#E1E5ED",
         "showgrid": false,
         "tickfont": {
          "color": "#4D5663"
         },
         "title": {
          "font": {
           "color": "#4D5663"
          },
          "text": ""
         },
         "zerolinecolor": "#E1E5ED"
        },
        "yaxis3": {
         "anchor": "x3",
         "domain": [
          0.8025,
          1
         ],
         "gridcolor": "#E1E5ED",
         "showgrid": false,
         "tickfont": {
          "color": "#4D5663"
         },
         "title": {
          "font": {
           "color": "#4D5663"
          },
          "text": ""
         },
         "zerolinecolor": "#E1E5ED"
        },
        "yaxis4": {
         "anchor": "x4",
         "domain": [
          0.8025,
          1
         ],
         "gridcolor": "#E1E5ED",
         "showgrid": false,
         "tickfont": {
          "color": "#4D5663"
         },
         "title": {
          "font": {
           "color": "#4D5663"
          },
          "text": ""
         },
         "zerolinecolor": "#E1E5ED"
        },
        "yaxis5": {
         "anchor": "x5",
         "domain": [
          0.535,
          0.7325
         ],
         "gridcolor": "#E1E5ED",
         "showgrid": false,
         "tickfont": {
          "color": "#4D5663"
         },
         "title": {
          "font": {
           "color": "#4D5663"
          },
          "text": ""
         },
         "zerolinecolor": "#E1E5ED"
        },
        "yaxis6": {
         "anchor": "x6",
         "domain": [
          0.535,
          0.7325
         ],
         "gridcolor": "#E1E5ED",
         "showgrid": false,
         "tickfont": {
          "color": "#4D5663"
         },
         "title": {
          "font": {
           "color": "#4D5663"
          },
          "text": ""
         },
         "zerolinecolor": "#E1E5ED"
        },
        "yaxis7": {
         "anchor": "x7",
         "domain": [
          0.535,
          0.7325
         ],
         "gridcolor": "#E1E5ED",
         "showgrid": false,
         "tickfont": {
          "color": "#4D5663"
         },
         "title": {
          "font": {
           "color": "#4D5663"
          },
          "text": ""
         },
         "zerolinecolor": "#E1E5ED"
        },
        "yaxis8": {
         "anchor": "x8",
         "domain": [
          0.535,
          0.7325
         ],
         "gridcolor": "#E1E5ED",
         "showgrid": false,
         "tickfont": {
          "color": "#4D5663"
         },
         "title": {
          "font": {
           "color": "#4D5663"
          },
          "text": ""
         },
         "zerolinecolor": "#E1E5ED"
        },
        "yaxis9": {
         "anchor": "x9",
         "domain": [
          0.2675,
          0.465
         ],
         "gridcolor": "#E1E5ED",
         "showgrid": false,
         "tickfont": {
          "color": "#4D5663"
         },
         "title": {
          "font": {
           "color": "#4D5663"
          },
          "text": ""
         },
         "zerolinecolor": "#E1E5ED"
        }
       }
      },
      "text/html": [
       "<div>                            <div id=\"6da32541-d25a-41be-94fc-63dfaf1aac55\" class=\"plotly-graph-div\" style=\"height:525px; width:100%;\"></div>            <script type=\"text/javascript\">                require([\"plotly\"], function(Plotly) {                    window.PLOTLYENV=window.PLOTLYENV || {};\n",
       "                    window.PLOTLYENV.BASE_URL='https://plot.ly';                                    if (document.getElementById(\"6da32541-d25a-41be-94fc-63dfaf1aac55\")) {                    Plotly.newPlot(                        \"6da32541-d25a-41be-94fc-63dfaf1aac55\",                        [{\"histfunc\":\"count\",\"histnorm\":\"\",\"marker\":{\"color\":\"rgba(255, 153, 51, 1.0)\",\"line\":{\"color\":\"#4D5663\",\"width\":1.3}},\"name\":\"A\",\"nbinsx\":10,\"opacity\":0.8,\"orientation\":\"v\",\"x\":[-1.4939770193839113,0.14667142183123638,-0.1689240577557097,-2.5641137671536414,-1.5656121600558734,-1.2167004550556926,-0.5027845423972647,-0.19736293137528313,-0.4202320935653999,-0.6080146837161412,-1.230234537785847,-0.834544271094505,-0.7525609946685502,0.5523681023146403,0.3229589353270958,-0.997243590029998,1.6663098194289763,0.0877021878991175,-0.6060662026850341,-0.29003690869874343,0.8703676454073761,-0.3396656057424267,-0.6110092567412334,0.1472139397558027,-0.6994199594869444,-0.6158638170930033,0.6156004196442771,-0.33322696721037726,0.6696539231968791,-0.33925674088411095,0.8509919769727514,0.9645731195640609,2.427305453475825,0.976392584761381,1.7805857148536182,-0.6989982312628092,0.9057176562148805,0.41450153571613857,-1.6659821355531175,-1.105415801135921,-0.62185838308645,0.26305694720859163,-1.230184259105579,0.32487346783814625,-0.37518768510514555,-0.22521033590958614,-1.259372996663426,1.5609125053294142,-0.9177503491967661,-0.9235315213198988,1.1577654753378852,-1.6401526659124528,-1.0315814928703455,-0.17240986524184343,-1.6356154035797161,0.46896934471230545,0.7402280597029676,0.643571936309595,0.9789590030816315,0.4323966143449856,0.24984758212242894,0.05696615292061845,-0.22292926821963566,-1.5621053325723102,1.030043388900891,-2.1995026016841543,-0.9890315345511191,1.0610392086975546,-0.23948857174764943,-0.7085900231874463,1.6112436502127536,-0.068776323064688,-0.8630943776533021,0.21452073139849748,-0.6856857035422566,0.1604062806895764,-1.098694902114377,-0.004486955967236525,0.41358080038338224,-1.1308639855228306,1.3416129442187854,-1.1604840579000024,0.7859899459979105,-0.5378788796193937,-0.7823692774339261,-1.2475717135229125,-0.027819608867832593,-1.887835449605791,0.9312913941371009,-0.6762071639586086,-0.7166774860693382,1.3317430206692487,-0.5679228874173067,-0.9745452514729301,0.11099751388451033,1.4746054242805158,0.22633225768022122,-1.073948519445465,1.3499284499026483,-0.36978755761701826],\"xaxis\":\"x\",\"yaxis\":\"y\",\"type\":\"histogram\"},{\"line\":{\"color\":\"rgba(128, 128, 128, 1.0)\",\"dash\":\"solid\",\"shape\":\"linear\",\"width\":1.3},\"marker\":{\"size\":2,\"symbol\":\"circle\"},\"mode\":\"markers\",\"name\":\"A\",\"text\":\"\",\"x\":[-0.17932594922892936,-1.2334150241168818,0.3491829430803454,0.22140507174626994,-0.4311921325864654,0.2728526806525845,-0.14671619073051312,-0.8361711948295325,-2.0525996827183524,1.2238954636242012,0.16748171442020826,0.9742348415959232,-1.459462066979266,0.560522495645634,0.22594078882224689,0.9936125565222024,2.0378905674033154,-0.15589591029106117,-1.037914776778365,0.5972560045854091,1.5396143307194154,-0.633578357203016,1.4549286148744829,-0.7602467680969238,1.4818952741568785,-0.35542676894068576,-0.1672124933215106,-0.4686208341591621,-0.6596271840718666,-0.7021120601503211,-0.4030312229739508,-2.4891767827615854,1.8067985741691368,0.3642482006924113,0.4633123311347458,-0.28776563158624496,-0.039824002265676645,0.3394186664968411,0.264005519683204,0.1997684212563469,-1.5972630604729419,-0.013363487980902096,0.628306211667071,0.014837486688604832,1.7299977564779727,0.8424498055863454,1.592948338505741,0.1908669085436572,2.7651347652023914,-0.052526911488933854,-1.3262825475191269,-0.7291649507936764,1.2249018261233362,0.6129613428385257,0.33058371496375294,0.4578414828592958,0.30186994670170814,0.23016785504505452,-0.8362591785189375,-0.19513012931737245,-0.9467488889374831,-0.020796939278777533,-0.7662354218695511,-0.5591934120199998,1.5520463274111282,-1.054375281258254,0.06319501059080465,0.14793864881395666,-0.8352938765626658,0.327098277975738,-0.5179048631445157,-1.1677399803679211,0.31009378584304187,-1.2490679086498058,-0.4379990922558729,-0.9952159930252686,-0.2966223603061448,-1.2253946012973123,0.9035519742314471,-0.7487703835990225,0.5675216231819916,0.2756900234536723,0.18778109097989296,0.9879978844923218,0.7132407851991432,-1.1426759234117327,0.603840652919978,-2.1987237127928667,-0.22001923010514926,-0.8474271266004348,-0.6214670988523815,-2.59231971595352,1.3278421248432764,0.11190383360680248,0.9314195828328372,0.718216542817618,-0.42075368128977786,-0.6554575354437634,-0.626953050550036,1.1939125486493873],\"xaxis\":\"x2\",\"y\":[-1.4939770193839113,0.14667142183123638,-0.1689240577557097,-2.5641137671536414,-1.5656121600558734,-1.2167004550556926,-0.5027845423972647,-0.19736293137528313,-0.4202320935653999,-0.6080146837161412,-1.230234537785847,-0.834544271094505,-0.7525609946685502,0.5523681023146403,0.3229589353270958,-0.997243590029998,1.6663098194289763,0.0877021878991175,-0.6060662026850341,-0.29003690869874343,0.8703676454073761,-0.3396656057424267,-0.6110092567412334,0.1472139397558027,-0.6994199594869444,-0.6158638170930033,0.6156004196442771,-0.33322696721037726,0.6696539231968791,-0.33925674088411095,0.8509919769727514,0.9645731195640609,2.427305453475825,0.976392584761381,1.7805857148536182,-0.6989982312628092,0.9057176562148805,0.41450153571613857,-1.6659821355531175,-1.105415801135921,-0.62185838308645,0.26305694720859163,-1.230184259105579,0.32487346783814625,-0.37518768510514555,-0.22521033590958614,-1.259372996663426,1.5609125053294142,-0.9177503491967661,-0.9235315213198988,1.1577654753378852,-1.6401526659124528,-1.0315814928703455,-0.17240986524184343,-1.6356154035797161,0.46896934471230545,0.7402280597029676,0.643571936309595,0.9789590030816315,0.4323966143449856,0.24984758212242894,0.05696615292061845,-0.22292926821963566,-1.5621053325723102,1.030043388900891,-2.1995026016841543,-0.9890315345511191,1.0610392086975546,-0.23948857174764943,-0.7085900231874463,1.6112436502127536,-0.068776323064688,-0.8630943776533021,0.21452073139849748,-0.6856857035422566,0.1604062806895764,-1.098694902114377,-0.004486955967236525,0.41358080038338224,-1.1308639855228306,1.3416129442187854,-1.1604840579000024,0.7859899459979105,-0.5378788796193937,-0.7823692774339261,-1.2475717135229125,-0.027819608867832593,-1.887835449605791,0.9312913941371009,-0.6762071639586086,-0.7166774860693382,1.3317430206692487,-0.5679228874173067,-0.9745452514729301,0.11099751388451033,1.4746054242805158,0.22633225768022122,-1.073948519445465,1.3499284499026483,-0.36978755761701826],\"yaxis\":\"y2\",\"type\":\"scatter\"},{\"line\":{\"color\":\"rgba(128, 128, 128, 1.0)\",\"dash\":\"solid\",\"shape\":\"linear\",\"width\":1.3},\"marker\":{\"size\":2,\"symbol\":\"circle\"},\"mode\":\"markers\",\"name\":\"A\",\"text\":\"\",\"x\":[-1.3974399942298057,-1.2594475130421092,-0.5129099965513799,-1.4635316868003996,-0.036594916594382645,0.8386515146746838,1.1449293042599211,0.5025000377864617,-0.03716455206183781,1.3146641483878034,-2.278234077012857,1.0493201039900817,0.9803003093927106,-0.04880041287019022,0.19162835145411555,-0.7258437735625,-0.31344990276621376,0.6567052337724818,-0.3992004044020901,-1.460690954366173,1.143373627402732,1.426192951102635,-0.44971745884800807,0.8236730162851648,-0.2810409444957771,-1.2016804827635277,1.2306390281165533,-0.5552008293174706,-0.19337377840200753,0.8820068034767569,0.5273737977529509,1.569147278154652,0.9838124218074721,1.6560098562132635,0.635596970751312,-1.398243184093543,-0.2401893957907707,0.6583272757948146,0.2634210013276405,-0.07884437719855053,-2.1010630279519575,0.4046073689406953,-0.1978026749088829,0.3544669122529623,0.8676986036454316,-0.3381222914735889,0.6685169959977112,-1.8268978374432823,-1.3531072803819177,-0.552508690848112,-0.14498776539996722,0.5030044542437652,-0.17735530133869318,-0.08897184011598393,1.9664871533579928,-0.590160907020762,0.544437555568912,-0.7628199761660305,-0.37365608934370254,0.8149568189856771,1.4249776804923213,-1.7093514022201677,1.238908174942366,-1.71718557854535,-0.05147722651968288,0.8287930073555166,-0.8737659291251622,-0.9480135637863218,-1.1003475380444532,0.7457965183238748,0.6380570744905988,-0.3894208135806658,-0.6642137606994339,-1.140912977389208,1.0865520411835587,-1.2275379540163869,0.8242411648000758,0.12982334611742288,-1.5737224631153774,0.44117268893298894,1.0316925517073288,0.15956785954936245,1.179708144879079,-0.5728210381568386,1.0299163011895074,0.3908133622373693,1.9858908014819538,-0.8265475737502567,0.663924835481197,-0.23147551462621171,-1.056044503137501,0.31812921564814617,0.30028145129488937,-0.9816911288518367,-0.9339562697285321,0.3584643733701401,1.8651159293907649,-1.1035540728245703,1.1111769078969433,2.0446760759430442],\"xaxis\":\"x3\",\"y\":[-1.4939770193839113,0.14667142183123638,-0.1689240577557097,-2.5641137671536414,-1.5656121600558734,-1.2167004550556926,-0.5027845423972647,-0.19736293137528313,-0.4202320935653999,-0.6080146837161412,-1.230234537785847,-0.834544271094505,-0.7525609946685502,0.5523681023146403,0.3229589353270958,-0.997243590029998,1.6663098194289763,0.0877021878991175,-0.6060662026850341,-0.29003690869874343,0.8703676454073761,-0.3396656057424267,-0.6110092567412334,0.1472139397558027,-0.6994199594869444,-0.6158638170930033,0.6156004196442771,-0.33322696721037726,0.6696539231968791,-0.33925674088411095,0.8509919769727514,0.9645731195640609,2.427305453475825,0.976392584761381,1.7805857148536182,-0.6989982312628092,0.9057176562148805,0.41450153571613857,-1.6659821355531175,-1.105415801135921,-0.62185838308645,0.26305694720859163,-1.230184259105579,0.32487346783814625,-0.37518768510514555,-0.22521033590958614,-1.259372996663426,1.5609125053294142,-0.9177503491967661,-0.9235315213198988,1.1577654753378852,-1.6401526659124528,-1.0315814928703455,-0.17240986524184343,-1.6356154035797161,0.46896934471230545,0.7402280597029676,0.643571936309595,0.9789590030816315,0.4323966143449856,0.24984758212242894,0.05696615292061845,-0.22292926821963566,-1.5621053325723102,1.030043388900891,-2.1995026016841543,-0.9890315345511191,1.0610392086975546,-0.23948857174764943,-0.7085900231874463,1.6112436502127536,-0.068776323064688,-0.8630943776533021,0.21452073139849748,-0.6856857035422566,0.1604062806895764,-1.098694902114377,-0.004486955967236525,0.41358080038338224,-1.1308639855228306,1.3416129442187854,-1.1604840579000024,0.7859899459979105,-0.5378788796193937,-0.7823692774339261,-1.2475717135229125,-0.027819608867832593,-1.887835449605791,0.9312913941371009,-0.6762071639586086,-0.7166774860693382,1.3317430206692487,-0.5679228874173067,-0.9745452514729301,0.11099751388451033,1.4746054242805158,0.22633225768022122,-1.073948519445465,1.3499284499026483,-0.36978755761701826],\"yaxis\":\"y3\",\"type\":\"scatter\"},{\"line\":{\"color\":\"rgba(128, 128, 128, 1.0)\",\"dash\":\"solid\",\"shape\":\"linear\",\"width\":1.3},\"marker\":{\"size\":2,\"symbol\":\"circle\"},\"mode\":\"markers\",\"name\":\"A\",\"text\":\"\",\"x\":[0.7120048034929688,0.037571924176700806,1.863948112983124,-0.8556664182979131,-0.22261837615277336,0.41350449670492756,1.6203319543114292,-0.2922523733494632,-1.7539373666576838,0.9895320045429775,0.6318448981936109,-2.221576685925559,-0.12057006100410533,-0.05776636496414596,-0.5503220465509001,0.6545978632840582,-1.108061140375195,0.07774686112593811,1.229150370974735,-0.9598138995070781,0.2553171944844485,-0.5312106448067048,-1.1766260005405362,-0.0089501762525687,1.5357305984753062,0.7354671313986141,-0.8110184683542013,1.082732376664796,-0.8934927035933473,-1.016646011537697,-1.2860201170696968,0.004796454433750215,-1.8649249921030508,0.19547129650750394,-0.7254502544000017,-1.6445739312624716,-0.614241250384773,0.947651845351561,-1.1829359088163829,-1.384355202952411,0.11011242718255053,1.197455158046334,-0.42809558047270085,-0.9757842847717417,0.885172144164018,1.1923405037845802,-0.9919277073072876,-1.317679831294402,-1.3245404587186131,0.6506861115846233,-0.3609133291001237,0.6723962599973358,0.34651672208847856,1.8591750211248126,-1.3852200101858028,-0.27685358822990774,0.6335764261578918,-2.539314836996711,-1.510787315277079,-0.11055856979500045,-0.491375805495196,-1.0192197784726929,2.086455864161741,-0.5172615980217126,0.8206242370564809,0.9858645709405398,1.2762610290410306,0.10713476342941546,-1.8186277461605582,0.6769012046049316,0.01366795538713723,-0.8986405789162267,0.07231285425140163,-0.563039626463328,0.03487686615991759,-0.8182175173066304,-2.035545744474048,0.09189039328921121,-1.5303055946275959,-1.5055761685861304,0.28164563964491446,1.0157880022485497,0.8905634100993131,-0.26830036034539123,0.028666062007271165,0.36553025568632413,-0.946426411782622,0.6027942740326115,0.4934687406555518,-0.28555189970477807,-0.3729824060325359,0.5212299692379051,-0.33814790277305373,0.44248336172215885,-0.26115706117549087,-0.5807234130298736,0.24323436038576762,0.4293091582265946,-0.8297263173896147,-1.3550401158358816],\"xaxis\":\"x4\",\"y\":[-1.4939770193839113,0.14667142183123638,-0.1689240577557097,-2.5641137671536414,-1.5656121600558734,-1.2167004550556926,-0.5027845423972647,-0.19736293137528313,-0.4202320935653999,-0.6080146837161412,-1.230234537785847,-0.834544271094505,-0.7525609946685502,0.5523681023146403,0.3229589353270958,-0.997243590029998,1.6663098194289763,0.0877021878991175,-0.6060662026850341,-0.29003690869874343,0.8703676454073761,-0.3396656057424267,-0.6110092567412334,0.1472139397558027,-0.6994199594869444,-0.6158638170930033,0.6156004196442771,-0.33322696721037726,0.6696539231968791,-0.33925674088411095,0.8509919769727514,0.9645731195640609,2.427305453475825,0.976392584761381,1.7805857148536182,-0.6989982312628092,0.9057176562148805,0.41450153571613857,-1.6659821355531175,-1.105415801135921,-0.62185838308645,0.26305694720859163,-1.230184259105579,0.32487346783814625,-0.37518768510514555,-0.22521033590958614,-1.259372996663426,1.5609125053294142,-0.9177503491967661,-0.9235315213198988,1.1577654753378852,-1.6401526659124528,-1.0315814928703455,-0.17240986524184343,-1.6356154035797161,0.46896934471230545,0.7402280597029676,0.643571936309595,0.9789590030816315,0.4323966143449856,0.24984758212242894,0.05696615292061845,-0.22292926821963566,-1.5621053325723102,1.030043388900891,-2.1995026016841543,-0.9890315345511191,1.0610392086975546,-0.23948857174764943,-0.7085900231874463,1.6112436502127536,-0.068776323064688,-0.8630943776533021,0.21452073139849748,-0.6856857035422566,0.1604062806895764,-1.098694902114377,-0.004486955967236525,0.41358080038338224,-1.1308639855228306,1.3416129442187854,-1.1604840579000024,0.7859899459979105,-0.5378788796193937,-0.7823692774339261,-1.2475717135229125,-0.027819608867832593,-1.887835449605791,0.9312913941371009,-0.6762071639586086,-0.7166774860693382,1.3317430206692487,-0.5679228874173067,-0.9745452514729301,0.11099751388451033,1.4746054242805158,0.22633225768022122,-1.073948519445465,1.3499284499026483,-0.36978755761701826],\"yaxis\":\"y4\",\"type\":\"scatter\"},{\"line\":{\"color\":\"rgba(128, 128, 128, 1.0)\",\"dash\":\"solid\",\"shape\":\"linear\",\"width\":1.3},\"marker\":{\"size\":2,\"symbol\":\"circle\"},\"mode\":\"markers\",\"name\":\"B\",\"text\":\"\",\"x\":[-1.4939770193839113,0.14667142183123638,-0.1689240577557097,-2.5641137671536414,-1.5656121600558734,-1.2167004550556926,-0.5027845423972647,-0.19736293137528313,-0.4202320935653999,-0.6080146837161412,-1.230234537785847,-0.834544271094505,-0.7525609946685502,0.5523681023146403,0.3229589353270958,-0.997243590029998,1.6663098194289763,0.0877021878991175,-0.6060662026850341,-0.29003690869874343,0.8703676454073761,-0.3396656057424267,-0.6110092567412334,0.1472139397558027,-0.6994199594869444,-0.6158638170930033,0.6156004196442771,-0.33322696721037726,0.6696539231968791,-0.33925674088411095,0.8509919769727514,0.9645731195640609,2.427305453475825,0.976392584761381,1.7805857148536182,-0.6989982312628092,0.9057176562148805,0.41450153571613857,-1.6659821355531175,-1.105415801135921,-0.62185838308645,0.26305694720859163,-1.230184259105579,0.32487346783814625,-0.37518768510514555,-0.22521033590958614,-1.259372996663426,1.5609125053294142,-0.9177503491967661,-0.9235315213198988,1.1577654753378852,-1.6401526659124528,-1.0315814928703455,-0.17240986524184343,-1.6356154035797161,0.46896934471230545,0.7402280597029676,0.643571936309595,0.9789590030816315,0.4323966143449856,0.24984758212242894,0.05696615292061845,-0.22292926821963566,-1.5621053325723102,1.030043388900891,-2.1995026016841543,-0.9890315345511191,1.0610392086975546,-0.23948857174764943,-0.7085900231874463,1.6112436502127536,-0.068776323064688,-0.8630943776533021,0.21452073139849748,-0.6856857035422566,0.1604062806895764,-1.098694902114377,-0.004486955967236525,0.41358080038338224,-1.1308639855228306,1.3416129442187854,-1.1604840579000024,0.7859899459979105,-0.5378788796193937,-0.7823692774339261,-1.2475717135229125,-0.027819608867832593,-1.887835449605791,0.9312913941371009,-0.6762071639586086,-0.7166774860693382,1.3317430206692487,-0.5679228874173067,-0.9745452514729301,0.11099751388451033,1.4746054242805158,0.22633225768022122,-1.073948519445465,1.3499284499026483,-0.36978755761701826],\"xaxis\":\"x5\",\"y\":[-0.17932594922892936,-1.2334150241168818,0.3491829430803454,0.22140507174626994,-0.4311921325864654,0.2728526806525845,-0.14671619073051312,-0.8361711948295325,-2.0525996827183524,1.2238954636242012,0.16748171442020826,0.9742348415959232,-1.459462066979266,0.560522495645634,0.22594078882224689,0.9936125565222024,2.0378905674033154,-0.15589591029106117,-1.037914776778365,0.5972560045854091,1.5396143307194154,-0.633578357203016,1.4549286148744829,-0.7602467680969238,1.4818952741568785,-0.35542676894068576,-0.1672124933215106,-0.4686208341591621,-0.6596271840718666,-0.7021120601503211,-0.4030312229739508,-2.4891767827615854,1.8067985741691368,0.3642482006924113,0.4633123311347458,-0.28776563158624496,-0.039824002265676645,0.3394186664968411,0.264005519683204,0.1997684212563469,-1.5972630604729419,-0.013363487980902096,0.628306211667071,0.014837486688604832,1.7299977564779727,0.8424498055863454,1.592948338505741,0.1908669085436572,2.7651347652023914,-0.052526911488933854,-1.3262825475191269,-0.7291649507936764,1.2249018261233362,0.6129613428385257,0.33058371496375294,0.4578414828592958,0.30186994670170814,0.23016785504505452,-0.8362591785189375,-0.19513012931737245,-0.9467488889374831,-0.020796939278777533,-0.7662354218695511,-0.5591934120199998,1.5520463274111282,-1.054375281258254,0.06319501059080465,0.14793864881395666,-0.8352938765626658,0.327098277975738,-0.5179048631445157,-1.1677399803679211,0.31009378584304187,-1.2490679086498058,-0.4379990922558729,-0.9952159930252686,-0.2966223603061448,-1.2253946012973123,0.9035519742314471,-0.7487703835990225,0.5675216231819916,0.2756900234536723,0.18778109097989296,0.9879978844923218,0.7132407851991432,-1.1426759234117327,0.603840652919978,-2.1987237127928667,-0.22001923010514926,-0.8474271266004348,-0.6214670988523815,-2.59231971595352,1.3278421248432764,0.11190383360680248,0.9314195828328372,0.718216542817618,-0.42075368128977786,-0.6554575354437634,-0.626953050550036,1.1939125486493873],\"yaxis\":\"y5\",\"type\":\"scatter\"},{\"histfunc\":\"count\",\"histnorm\":\"\",\"marker\":{\"color\":\"rgba(55, 128, 191, 1.0)\",\"line\":{\"color\":\"#4D5663\",\"width\":1.3}},\"name\":\"B\",\"nbinsx\":10,\"opacity\":0.8,\"orientation\":\"v\",\"x\":[-0.17932594922892936,-1.2334150241168818,0.3491829430803454,0.22140507174626994,-0.4311921325864654,0.2728526806525845,-0.14671619073051312,-0.8361711948295325,-2.0525996827183524,1.2238954636242012,0.16748171442020826,0.9742348415959232,-1.459462066979266,0.560522495645634,0.22594078882224689,0.9936125565222024,2.0378905674033154,-0.15589591029106117,-1.037914776778365,0.5972560045854091,1.5396143307194154,-0.633578357203016,1.4549286148744829,-0.7602467680969238,1.4818952741568785,-0.35542676894068576,-0.1672124933215106,-0.4686208341591621,-0.6596271840718666,-0.7021120601503211,-0.4030312229739508,-2.4891767827615854,1.8067985741691368,0.3642482006924113,0.4633123311347458,-0.28776563158624496,-0.039824002265676645,0.3394186664968411,0.264005519683204,0.1997684212563469,-1.5972630604729419,-0.013363487980902096,0.628306211667071,0.014837486688604832,1.7299977564779727,0.8424498055863454,1.592948338505741,0.1908669085436572,2.7651347652023914,-0.052526911488933854,-1.3262825475191269,-0.7291649507936764,1.2249018261233362,0.6129613428385257,0.33058371496375294,0.4578414828592958,0.30186994670170814,0.23016785504505452,-0.8362591785189375,-0.19513012931737245,-0.9467488889374831,-0.020796939278777533,-0.7662354218695511,-0.5591934120199998,1.5520463274111282,-1.054375281258254,0.06319501059080465,0.14793864881395666,-0.8352938765626658,0.327098277975738,-0.5179048631445157,-1.1677399803679211,0.31009378584304187,-1.2490679086498058,-0.4379990922558729,-0.9952159930252686,-0.2966223603061448,-1.2253946012973123,0.9035519742314471,-0.7487703835990225,0.5675216231819916,0.2756900234536723,0.18778109097989296,0.9879978844923218,0.7132407851991432,-1.1426759234117327,0.603840652919978,-2.1987237127928667,-0.22001923010514926,-0.8474271266004348,-0.6214670988523815,-2.59231971595352,1.3278421248432764,0.11190383360680248,0.9314195828328372,0.718216542817618,-0.42075368128977786,-0.6554575354437634,-0.626953050550036,1.1939125486493873],\"xaxis\":\"x6\",\"yaxis\":\"y6\",\"type\":\"histogram\"},{\"line\":{\"color\":\"rgba(128, 128, 128, 1.0)\",\"dash\":\"solid\",\"shape\":\"linear\",\"width\":1.3},\"marker\":{\"size\":2,\"symbol\":\"circle\"},\"mode\":\"markers\",\"name\":\"B\",\"text\":\"\",\"x\":[-1.3974399942298057,-1.2594475130421092,-0.5129099965513799,-1.4635316868003996,-0.036594916594382645,0.8386515146746838,1.1449293042599211,0.5025000377864617,-0.03716455206183781,1.3146641483878034,-2.278234077012857,1.0493201039900817,0.9803003093927106,-0.04880041287019022,0.19162835145411555,-0.7258437735625,-0.31344990276621376,0.6567052337724818,-0.3992004044020901,-1.460690954366173,1.143373627402732,1.426192951102635,-0.44971745884800807,0.8236730162851648,-0.2810409444957771,-1.2016804827635277,1.2306390281165533,-0.5552008293174706,-0.19337377840200753,0.8820068034767569,0.5273737977529509,1.569147278154652,0.9838124218074721,1.6560098562132635,0.635596970751312,-1.398243184093543,-0.2401893957907707,0.6583272757948146,0.2634210013276405,-0.07884437719855053,-2.1010630279519575,0.4046073689406953,-0.1978026749088829,0.3544669122529623,0.8676986036454316,-0.3381222914735889,0.6685169959977112,-1.8268978374432823,-1.3531072803819177,-0.552508690848112,-0.14498776539996722,0.5030044542437652,-0.17735530133869318,-0.08897184011598393,1.9664871533579928,-0.590160907020762,0.544437555568912,-0.7628199761660305,-0.37365608934370254,0.8149568189856771,1.4249776804923213,-1.7093514022201677,1.238908174942366,-1.71718557854535,-0.05147722651968288,0.8287930073555166,-0.8737659291251622,-0.9480135637863218,-1.1003475380444532,0.7457965183238748,0.6380570744905988,-0.3894208135806658,-0.6642137606994339,-1.140912977389208,1.0865520411835587,-1.2275379540163869,0.8242411648000758,0.12982334611742288,-1.5737224631153774,0.44117268893298894,1.0316925517073288,0.15956785954936245,1.179708144879079,-0.5728210381568386,1.0299163011895074,0.3908133622373693,1.9858908014819538,-0.8265475737502567,0.663924835481197,-0.23147551462621171,-1.056044503137501,0.31812921564814617,0.30028145129488937,-0.9816911288518367,-0.9339562697285321,0.3584643733701401,1.8651159293907649,-1.1035540728245703,1.1111769078969433,2.0446760759430442],\"xaxis\":\"x7\",\"y\":[-0.17932594922892936,-1.2334150241168818,0.3491829430803454,0.22140507174626994,-0.4311921325864654,0.2728526806525845,-0.14671619073051312,-0.8361711948295325,-2.0525996827183524,1.2238954636242012,0.16748171442020826,0.9742348415959232,-1.459462066979266,0.560522495645634,0.22594078882224689,0.9936125565222024,2.0378905674033154,-0.15589591029106117,-1.037914776778365,0.5972560045854091,1.5396143307194154,-0.633578357203016,1.4549286148744829,-0.7602467680969238,1.4818952741568785,-0.35542676894068576,-0.1672124933215106,-0.4686208341591621,-0.6596271840718666,-0.7021120601503211,-0.4030312229739508,-2.4891767827615854,1.8067985741691368,0.3642482006924113,0.4633123311347458,-0.28776563158624496,-0.039824002265676645,0.3394186664968411,0.264005519683204,0.1997684212563469,-1.5972630604729419,-0.013363487980902096,0.628306211667071,0.014837486688604832,1.7299977564779727,0.8424498055863454,1.592948338505741,0.1908669085436572,2.7651347652023914,-0.052526911488933854,-1.3262825475191269,-0.7291649507936764,1.2249018261233362,0.6129613428385257,0.33058371496375294,0.4578414828592958,0.30186994670170814,0.23016785504505452,-0.8362591785189375,-0.19513012931737245,-0.9467488889374831,-0.020796939278777533,-0.7662354218695511,-0.5591934120199998,1.5520463274111282,-1.054375281258254,0.06319501059080465,0.14793864881395666,-0.8352938765626658,0.327098277975738,-0.5179048631445157,-1.1677399803679211,0.31009378584304187,-1.2490679086498058,-0.4379990922558729,-0.9952159930252686,-0.2966223603061448,-1.2253946012973123,0.9035519742314471,-0.7487703835990225,0.5675216231819916,0.2756900234536723,0.18778109097989296,0.9879978844923218,0.7132407851991432,-1.1426759234117327,0.603840652919978,-2.1987237127928667,-0.22001923010514926,-0.8474271266004348,-0.6214670988523815,-2.59231971595352,1.3278421248432764,0.11190383360680248,0.9314195828328372,0.718216542817618,-0.42075368128977786,-0.6554575354437634,-0.626953050550036,1.1939125486493873],\"yaxis\":\"y7\",\"type\":\"scatter\"},{\"line\":{\"color\":\"rgba(128, 128, 128, 1.0)\",\"dash\":\"solid\",\"shape\":\"linear\",\"width\":1.3},\"marker\":{\"size\":2,\"symbol\":\"circle\"},\"mode\":\"markers\",\"name\":\"B\",\"text\":\"\",\"x\":[0.7120048034929688,0.037571924176700806,1.863948112983124,-0.8556664182979131,-0.22261837615277336,0.41350449670492756,1.6203319543114292,-0.2922523733494632,-1.7539373666576838,0.9895320045429775,0.6318448981936109,-2.221576685925559,-0.12057006100410533,-0.05776636496414596,-0.5503220465509001,0.6545978632840582,-1.108061140375195,0.07774686112593811,1.229150370974735,-0.9598138995070781,0.2553171944844485,-0.5312106448067048,-1.1766260005405362,-0.0089501762525687,1.5357305984753062,0.7354671313986141,-0.8110184683542013,1.082732376664796,-0.8934927035933473,-1.016646011537697,-1.2860201170696968,0.004796454433750215,-1.8649249921030508,0.19547129650750394,-0.7254502544000017,-1.6445739312624716,-0.614241250384773,0.947651845351561,-1.1829359088163829,-1.384355202952411,0.11011242718255053,1.197455158046334,-0.42809558047270085,-0.9757842847717417,0.885172144164018,1.1923405037845802,-0.9919277073072876,-1.317679831294402,-1.3245404587186131,0.6506861115846233,-0.3609133291001237,0.6723962599973358,0.34651672208847856,1.8591750211248126,-1.3852200101858028,-0.27685358822990774,0.6335764261578918,-2.539314836996711,-1.510787315277079,-0.11055856979500045,-0.491375805495196,-1.0192197784726929,2.086455864161741,-0.5172615980217126,0.8206242370564809,0.9858645709405398,1.2762610290410306,0.10713476342941546,-1.8186277461605582,0.6769012046049316,0.01366795538713723,-0.8986405789162267,0.07231285425140163,-0.563039626463328,0.03487686615991759,-0.8182175173066304,-2.035545744474048,0.09189039328921121,-1.5303055946275959,-1.5055761685861304,0.28164563964491446,1.0157880022485497,0.8905634100993131,-0.26830036034539123,0.028666062007271165,0.36553025568632413,-0.946426411782622,0.6027942740326115,0.4934687406555518,-0.28555189970477807,-0.3729824060325359,0.5212299692379051,-0.33814790277305373,0.44248336172215885,-0.26115706117549087,-0.5807234130298736,0.24323436038576762,0.4293091582265946,-0.8297263173896147,-1.3550401158358816],\"xaxis\":\"x8\",\"y\":[-0.17932594922892936,-1.2334150241168818,0.3491829430803454,0.22140507174626994,-0.4311921325864654,0.2728526806525845,-0.14671619073051312,-0.8361711948295325,-2.0525996827183524,1.2238954636242012,0.16748171442020826,0.9742348415959232,-1.459462066979266,0.560522495645634,0.22594078882224689,0.9936125565222024,2.0378905674033154,-0.15589591029106117,-1.037914776778365,0.5972560045854091,1.5396143307194154,-0.633578357203016,1.4549286148744829,-0.7602467680969238,1.4818952741568785,-0.35542676894068576,-0.1672124933215106,-0.4686208341591621,-0.6596271840718666,-0.7021120601503211,-0.4030312229739508,-2.4891767827615854,1.8067985741691368,0.3642482006924113,0.4633123311347458,-0.28776563158624496,-0.039824002265676645,0.3394186664968411,0.264005519683204,0.1997684212563469,-1.5972630604729419,-0.013363487980902096,0.628306211667071,0.014837486688604832,1.7299977564779727,0.8424498055863454,1.592948338505741,0.1908669085436572,2.7651347652023914,-0.052526911488933854,-1.3262825475191269,-0.7291649507936764,1.2249018261233362,0.6129613428385257,0.33058371496375294,0.4578414828592958,0.30186994670170814,0.23016785504505452,-0.8362591785189375,-0.19513012931737245,-0.9467488889374831,-0.020796939278777533,-0.7662354218695511,-0.5591934120199998,1.5520463274111282,-1.054375281258254,0.06319501059080465,0.14793864881395666,-0.8352938765626658,0.327098277975738,-0.5179048631445157,-1.1677399803679211,0.31009378584304187,-1.2490679086498058,-0.4379990922558729,-0.9952159930252686,-0.2966223603061448,-1.2253946012973123,0.9035519742314471,-0.7487703835990225,0.5675216231819916,0.2756900234536723,0.18778109097989296,0.9879978844923218,0.7132407851991432,-1.1426759234117327,0.603840652919978,-2.1987237127928667,-0.22001923010514926,-0.8474271266004348,-0.6214670988523815,-2.59231971595352,1.3278421248432764,0.11190383360680248,0.9314195828328372,0.718216542817618,-0.42075368128977786,-0.6554575354437634,-0.626953050550036,1.1939125486493873],\"yaxis\":\"y8\",\"type\":\"scatter\"},{\"line\":{\"color\":\"rgba(128, 128, 128, 1.0)\",\"dash\":\"solid\",\"shape\":\"linear\",\"width\":1.3},\"marker\":{\"size\":2,\"symbol\":\"circle\"},\"mode\":\"markers\",\"name\":\"c\",\"text\":\"\",\"x\":[-1.4939770193839113,0.14667142183123638,-0.1689240577557097,-2.5641137671536414,-1.5656121600558734,-1.2167004550556926,-0.5027845423972647,-0.19736293137528313,-0.4202320935653999,-0.6080146837161412,-1.230234537785847,-0.834544271094505,-0.7525609946685502,0.5523681023146403,0.3229589353270958,-0.997243590029998,1.6663098194289763,0.0877021878991175,-0.6060662026850341,-0.29003690869874343,0.8703676454073761,-0.3396656057424267,-0.6110092567412334,0.1472139397558027,-0.6994199594869444,-0.6158638170930033,0.6156004196442771,-0.33322696721037726,0.6696539231968791,-0.33925674088411095,0.8509919769727514,0.9645731195640609,2.427305453475825,0.976392584761381,1.7805857148536182,-0.6989982312628092,0.9057176562148805,0.41450153571613857,-1.6659821355531175,-1.105415801135921,-0.62185838308645,0.26305694720859163,-1.230184259105579,0.32487346783814625,-0.37518768510514555,-0.22521033590958614,-1.259372996663426,1.5609125053294142,-0.9177503491967661,-0.9235315213198988,1.1577654753378852,-1.6401526659124528,-1.0315814928703455,-0.17240986524184343,-1.6356154035797161,0.46896934471230545,0.7402280597029676,0.643571936309595,0.9789590030816315,0.4323966143449856,0.24984758212242894,0.05696615292061845,-0.22292926821963566,-1.5621053325723102,1.030043388900891,-2.1995026016841543,-0.9890315345511191,1.0610392086975546,-0.23948857174764943,-0.7085900231874463,1.6112436502127536,-0.068776323064688,-0.8630943776533021,0.21452073139849748,-0.6856857035422566,0.1604062806895764,-1.098694902114377,-0.004486955967236525,0.41358080038338224,-1.1308639855228306,1.3416129442187854,-1.1604840579000024,0.7859899459979105,-0.5378788796193937,-0.7823692774339261,-1.2475717135229125,-0.027819608867832593,-1.887835449605791,0.9312913941371009,-0.6762071639586086,-0.7166774860693382,1.3317430206692487,-0.5679228874173067,-0.9745452514729301,0.11099751388451033,1.4746054242805158,0.22633225768022122,-1.073948519445465,1.3499284499026483,-0.36978755761701826],\"xaxis\":\"x9\",\"y\":[-1.3974399942298057,-1.2594475130421092,-0.5129099965513799,-1.4635316868003996,-0.036594916594382645,0.8386515146746838,1.1449293042599211,0.5025000377864617,-0.03716455206183781,1.3146641483878034,-2.278234077012857,1.0493201039900817,0.9803003093927106,-0.04880041287019022,0.19162835145411555,-0.7258437735625,-0.31344990276621376,0.6567052337724818,-0.3992004044020901,-1.460690954366173,1.143373627402732,1.426192951102635,-0.44971745884800807,0.8236730162851648,-0.2810409444957771,-1.2016804827635277,1.2306390281165533,-0.5552008293174706,-0.19337377840200753,0.8820068034767569,0.5273737977529509,1.569147278154652,0.9838124218074721,1.6560098562132635,0.635596970751312,-1.398243184093543,-0.2401893957907707,0.6583272757948146,0.2634210013276405,-0.07884437719855053,-2.1010630279519575,0.4046073689406953,-0.1978026749088829,0.3544669122529623,0.8676986036454316,-0.3381222914735889,0.6685169959977112,-1.8268978374432823,-1.3531072803819177,-0.552508690848112,-0.14498776539996722,0.5030044542437652,-0.17735530133869318,-0.08897184011598393,1.9664871533579928,-0.590160907020762,0.544437555568912,-0.7628199761660305,-0.37365608934370254,0.8149568189856771,1.4249776804923213,-1.7093514022201677,1.238908174942366,-1.71718557854535,-0.05147722651968288,0.8287930073555166,-0.8737659291251622,-0.9480135637863218,-1.1003475380444532,0.7457965183238748,0.6380570744905988,-0.3894208135806658,-0.6642137606994339,-1.140912977389208,1.0865520411835587,-1.2275379540163869,0.8242411648000758,0.12982334611742288,-1.5737224631153774,0.44117268893298894,1.0316925517073288,0.15956785954936245,1.179708144879079,-0.5728210381568386,1.0299163011895074,0.3908133622373693,1.9858908014819538,-0.8265475737502567,0.663924835481197,-0.23147551462621171,-1.056044503137501,0.31812921564814617,0.30028145129488937,-0.9816911288518367,-0.9339562697285321,0.3584643733701401,1.8651159293907649,-1.1035540728245703,1.1111769078969433,2.0446760759430442],\"yaxis\":\"y9\",\"type\":\"scatter\"},{\"line\":{\"color\":\"rgba(128, 128, 128, 1.0)\",\"dash\":\"solid\",\"shape\":\"linear\",\"width\":1.3},\"marker\":{\"size\":2,\"symbol\":\"circle\"},\"mode\":\"markers\",\"name\":\"c\",\"text\":\"\",\"x\":[-0.17932594922892936,-1.2334150241168818,0.3491829430803454,0.22140507174626994,-0.4311921325864654,0.2728526806525845,-0.14671619073051312,-0.8361711948295325,-2.0525996827183524,1.2238954636242012,0.16748171442020826,0.9742348415959232,-1.459462066979266,0.560522495645634,0.22594078882224689,0.9936125565222024,2.0378905674033154,-0.15589591029106117,-1.037914776778365,0.5972560045854091,1.5396143307194154,-0.633578357203016,1.4549286148744829,-0.7602467680969238,1.4818952741568785,-0.35542676894068576,-0.1672124933215106,-0.4686208341591621,-0.6596271840718666,-0.7021120601503211,-0.4030312229739508,-2.4891767827615854,1.8067985741691368,0.3642482006924113,0.4633123311347458,-0.28776563158624496,-0.039824002265676645,0.3394186664968411,0.264005519683204,0.1997684212563469,-1.5972630604729419,-0.013363487980902096,0.628306211667071,0.014837486688604832,1.7299977564779727,0.8424498055863454,1.592948338505741,0.1908669085436572,2.7651347652023914,-0.052526911488933854,-1.3262825475191269,-0.7291649507936764,1.2249018261233362,0.6129613428385257,0.33058371496375294,0.4578414828592958,0.30186994670170814,0.23016785504505452,-0.8362591785189375,-0.19513012931737245,-0.9467488889374831,-0.020796939278777533,-0.7662354218695511,-0.5591934120199998,1.5520463274111282,-1.054375281258254,0.06319501059080465,0.14793864881395666,-0.8352938765626658,0.327098277975738,-0.5179048631445157,-1.1677399803679211,0.31009378584304187,-1.2490679086498058,-0.4379990922558729,-0.9952159930252686,-0.2966223603061448,-1.2253946012973123,0.9035519742314471,-0.7487703835990225,0.5675216231819916,0.2756900234536723,0.18778109097989296,0.9879978844923218,0.7132407851991432,-1.1426759234117327,0.603840652919978,-2.1987237127928667,-0.22001923010514926,-0.8474271266004348,-0.6214670988523815,-2.59231971595352,1.3278421248432764,0.11190383360680248,0.9314195828328372,0.718216542817618,-0.42075368128977786,-0.6554575354437634,-0.626953050550036,1.1939125486493873],\"xaxis\":\"x10\",\"y\":[-1.3974399942298057,-1.2594475130421092,-0.5129099965513799,-1.4635316868003996,-0.036594916594382645,0.8386515146746838,1.1449293042599211,0.5025000377864617,-0.03716455206183781,1.3146641483878034,-2.278234077012857,1.0493201039900817,0.9803003093927106,-0.04880041287019022,0.19162835145411555,-0.7258437735625,-0.31344990276621376,0.6567052337724818,-0.3992004044020901,-1.460690954366173,1.143373627402732,1.426192951102635,-0.44971745884800807,0.8236730162851648,-0.2810409444957771,-1.2016804827635277,1.2306390281165533,-0.5552008293174706,-0.19337377840200753,0.8820068034767569,0.5273737977529509,1.569147278154652,0.9838124218074721,1.6560098562132635,0.635596970751312,-1.398243184093543,-0.2401893957907707,0.6583272757948146,0.2634210013276405,-0.07884437719855053,-2.1010630279519575,0.4046073689406953,-0.1978026749088829,0.3544669122529623,0.8676986036454316,-0.3381222914735889,0.6685169959977112,-1.8268978374432823,-1.3531072803819177,-0.552508690848112,-0.14498776539996722,0.5030044542437652,-0.17735530133869318,-0.08897184011598393,1.9664871533579928,-0.590160907020762,0.544437555568912,-0.7628199761660305,-0.37365608934370254,0.8149568189856771,1.4249776804923213,-1.7093514022201677,1.238908174942366,-1.71718557854535,-0.05147722651968288,0.8287930073555166,-0.8737659291251622,-0.9480135637863218,-1.1003475380444532,0.7457965183238748,0.6380570744905988,-0.3894208135806658,-0.6642137606994339,-1.140912977389208,1.0865520411835587,-1.2275379540163869,0.8242411648000758,0.12982334611742288,-1.5737224631153774,0.44117268893298894,1.0316925517073288,0.15956785954936245,1.179708144879079,-0.5728210381568386,1.0299163011895074,0.3908133622373693,1.9858908014819538,-0.8265475737502567,0.663924835481197,-0.23147551462621171,-1.056044503137501,0.31812921564814617,0.30028145129488937,-0.9816911288518367,-0.9339562697285321,0.3584643733701401,1.8651159293907649,-1.1035540728245703,1.1111769078969433,2.0446760759430442],\"yaxis\":\"y10\",\"type\":\"scatter\"},{\"histfunc\":\"count\",\"histnorm\":\"\",\"marker\":{\"color\":\"rgba(50, 171, 96, 1.0)\",\"line\":{\"color\":\"#4D5663\",\"width\":1.3}},\"name\":\"c\",\"nbinsx\":10,\"opacity\":0.8,\"orientation\":\"v\",\"x\":[-1.3974399942298057,-1.2594475130421092,-0.5129099965513799,-1.4635316868003996,-0.036594916594382645,0.8386515146746838,1.1449293042599211,0.5025000377864617,-0.03716455206183781,1.3146641483878034,-2.278234077012857,1.0493201039900817,0.9803003093927106,-0.04880041287019022,0.19162835145411555,-0.7258437735625,-0.31344990276621376,0.6567052337724818,-0.3992004044020901,-1.460690954366173,1.143373627402732,1.426192951102635,-0.44971745884800807,0.8236730162851648,-0.2810409444957771,-1.2016804827635277,1.2306390281165533,-0.5552008293174706,-0.19337377840200753,0.8820068034767569,0.5273737977529509,1.569147278154652,0.9838124218074721,1.6560098562132635,0.635596970751312,-1.398243184093543,-0.2401893957907707,0.6583272757948146,0.2634210013276405,-0.07884437719855053,-2.1010630279519575,0.4046073689406953,-0.1978026749088829,0.3544669122529623,0.8676986036454316,-0.3381222914735889,0.6685169959977112,-1.8268978374432823,-1.3531072803819177,-0.552508690848112,-0.14498776539996722,0.5030044542437652,-0.17735530133869318,-0.08897184011598393,1.9664871533579928,-0.590160907020762,0.544437555568912,-0.7628199761660305,-0.37365608934370254,0.8149568189856771,1.4249776804923213,-1.7093514022201677,1.238908174942366,-1.71718557854535,-0.05147722651968288,0.8287930073555166,-0.8737659291251622,-0.9480135637863218,-1.1003475380444532,0.7457965183238748,0.6380570744905988,-0.3894208135806658,-0.6642137606994339,-1.140912977389208,1.0865520411835587,-1.2275379540163869,0.8242411648000758,0.12982334611742288,-1.5737224631153774,0.44117268893298894,1.0316925517073288,0.15956785954936245,1.179708144879079,-0.5728210381568386,1.0299163011895074,0.3908133622373693,1.9858908014819538,-0.8265475737502567,0.663924835481197,-0.23147551462621171,-1.056044503137501,0.31812921564814617,0.30028145129488937,-0.9816911288518367,-0.9339562697285321,0.3584643733701401,1.8651159293907649,-1.1035540728245703,1.1111769078969433,2.0446760759430442],\"xaxis\":\"x11\",\"yaxis\":\"y11\",\"type\":\"histogram\"},{\"line\":{\"color\":\"rgba(128, 128, 128, 1.0)\",\"dash\":\"solid\",\"shape\":\"linear\",\"width\":1.3},\"marker\":{\"size\":2,\"symbol\":\"circle\"},\"mode\":\"markers\",\"name\":\"c\",\"text\":\"\",\"x\":[0.7120048034929688,0.037571924176700806,1.863948112983124,-0.8556664182979131,-0.22261837615277336,0.41350449670492756,1.6203319543114292,-0.2922523733494632,-1.7539373666576838,0.9895320045429775,0.6318448981936109,-2.221576685925559,-0.12057006100410533,-0.05776636496414596,-0.5503220465509001,0.6545978632840582,-1.108061140375195,0.07774686112593811,1.229150370974735,-0.9598138995070781,0.2553171944844485,-0.5312106448067048,-1.1766260005405362,-0.0089501762525687,1.5357305984753062,0.7354671313986141,-0.8110184683542013,1.082732376664796,-0.8934927035933473,-1.016646011537697,-1.2860201170696968,0.004796454433750215,-1.8649249921030508,0.19547129650750394,-0.7254502544000017,-1.6445739312624716,-0.614241250384773,0.947651845351561,-1.1829359088163829,-1.384355202952411,0.11011242718255053,1.197455158046334,-0.42809558047270085,-0.9757842847717417,0.885172144164018,1.1923405037845802,-0.9919277073072876,-1.317679831294402,-1.3245404587186131,0.6506861115846233,-0.3609133291001237,0.6723962599973358,0.34651672208847856,1.8591750211248126,-1.3852200101858028,-0.27685358822990774,0.6335764261578918,-2.539314836996711,-1.510787315277079,-0.11055856979500045,-0.491375805495196,-1.0192197784726929,2.086455864161741,-0.5172615980217126,0.8206242370564809,0.9858645709405398,1.2762610290410306,0.10713476342941546,-1.8186277461605582,0.6769012046049316,0.01366795538713723,-0.8986405789162267,0.07231285425140163,-0.563039626463328,0.03487686615991759,-0.8182175173066304,-2.035545744474048,0.09189039328921121,-1.5303055946275959,-1.5055761685861304,0.28164563964491446,1.0157880022485497,0.8905634100993131,-0.26830036034539123,0.028666062007271165,0.36553025568632413,-0.946426411782622,0.6027942740326115,0.4934687406555518,-0.28555189970477807,-0.3729824060325359,0.5212299692379051,-0.33814790277305373,0.44248336172215885,-0.26115706117549087,-0.5807234130298736,0.24323436038576762,0.4293091582265946,-0.8297263173896147,-1.3550401158358816],\"xaxis\":\"x12\",\"y\":[-1.3974399942298057,-1.2594475130421092,-0.5129099965513799,-1.4635316868003996,-0.036594916594382645,0.8386515146746838,1.1449293042599211,0.5025000377864617,-0.03716455206183781,1.3146641483878034,-2.278234077012857,1.0493201039900817,0.9803003093927106,-0.04880041287019022,0.19162835145411555,-0.7258437735625,-0.31344990276621376,0.6567052337724818,-0.3992004044020901,-1.460690954366173,1.143373627402732,1.426192951102635,-0.44971745884800807,0.8236730162851648,-0.2810409444957771,-1.2016804827635277,1.2306390281165533,-0.5552008293174706,-0.19337377840200753,0.8820068034767569,0.5273737977529509,1.569147278154652,0.9838124218074721,1.6560098562132635,0.635596970751312,-1.398243184093543,-0.2401893957907707,0.6583272757948146,0.2634210013276405,-0.07884437719855053,-2.1010630279519575,0.4046073689406953,-0.1978026749088829,0.3544669122529623,0.8676986036454316,-0.3381222914735889,0.6685169959977112,-1.8268978374432823,-1.3531072803819177,-0.552508690848112,-0.14498776539996722,0.5030044542437652,-0.17735530133869318,-0.08897184011598393,1.9664871533579928,-0.590160907020762,0.544437555568912,-0.7628199761660305,-0.37365608934370254,0.8149568189856771,1.4249776804923213,-1.7093514022201677,1.238908174942366,-1.71718557854535,-0.05147722651968288,0.8287930073555166,-0.8737659291251622,-0.9480135637863218,-1.1003475380444532,0.7457965183238748,0.6380570744905988,-0.3894208135806658,-0.6642137606994339,-1.140912977389208,1.0865520411835587,-1.2275379540163869,0.8242411648000758,0.12982334611742288,-1.5737224631153774,0.44117268893298894,1.0316925517073288,0.15956785954936245,1.179708144879079,-0.5728210381568386,1.0299163011895074,0.3908133622373693,1.9858908014819538,-0.8265475737502567,0.663924835481197,-0.23147551462621171,-1.056044503137501,0.31812921564814617,0.30028145129488937,-0.9816911288518367,-0.9339562697285321,0.3584643733701401,1.8651159293907649,-1.1035540728245703,1.1111769078969433,2.0446760759430442],\"yaxis\":\"y12\",\"type\":\"scatter\"},{\"line\":{\"color\":\"rgba(128, 128, 128, 1.0)\",\"dash\":\"solid\",\"shape\":\"linear\",\"width\":1.3},\"marker\":{\"size\":2,\"symbol\":\"circle\"},\"mode\":\"markers\",\"name\":\"D\",\"text\":\"\",\"x\":[-1.4939770193839113,0.14667142183123638,-0.1689240577557097,-2.5641137671536414,-1.5656121600558734,-1.2167004550556926,-0.5027845423972647,-0.19736293137528313,-0.4202320935653999,-0.6080146837161412,-1.230234537785847,-0.834544271094505,-0.7525609946685502,0.5523681023146403,0.3229589353270958,-0.997243590029998,1.6663098194289763,0.0877021878991175,-0.6060662026850341,-0.29003690869874343,0.8703676454073761,-0.3396656057424267,-0.6110092567412334,0.1472139397558027,-0.6994199594869444,-0.6158638170930033,0.6156004196442771,-0.33322696721037726,0.6696539231968791,-0.33925674088411095,0.8509919769727514,0.9645731195640609,2.427305453475825,0.976392584761381,1.7805857148536182,-0.6989982312628092,0.9057176562148805,0.41450153571613857,-1.6659821355531175,-1.105415801135921,-0.62185838308645,0.26305694720859163,-1.230184259105579,0.32487346783814625,-0.37518768510514555,-0.22521033590958614,-1.259372996663426,1.5609125053294142,-0.9177503491967661,-0.9235315213198988,1.1577654753378852,-1.6401526659124528,-1.0315814928703455,-0.17240986524184343,-1.6356154035797161,0.46896934471230545,0.7402280597029676,0.643571936309595,0.9789590030816315,0.4323966143449856,0.24984758212242894,0.05696615292061845,-0.22292926821963566,-1.5621053325723102,1.030043388900891,-2.1995026016841543,-0.9890315345511191,1.0610392086975546,-0.23948857174764943,-0.7085900231874463,1.6112436502127536,-0.068776323064688,-0.8630943776533021,0.21452073139849748,-0.6856857035422566,0.1604062806895764,-1.098694902114377,-0.004486955967236525,0.41358080038338224,-1.1308639855228306,1.3416129442187854,-1.1604840579000024,0.7859899459979105,-0.5378788796193937,-0.7823692774339261,-1.2475717135229125,-0.027819608867832593,-1.887835449605791,0.9312913941371009,-0.6762071639586086,-0.7166774860693382,1.3317430206692487,-0.5679228874173067,-0.9745452514729301,0.11099751388451033,1.4746054242805158,0.22633225768022122,-1.073948519445465,1.3499284499026483,-0.36978755761701826],\"xaxis\":\"x13\",\"y\":[0.7120048034929688,0.037571924176700806,1.863948112983124,-0.8556664182979131,-0.22261837615277336,0.41350449670492756,1.6203319543114292,-0.2922523733494632,-1.7539373666576838,0.9895320045429775,0.6318448981936109,-2.221576685925559,-0.12057006100410533,-0.05776636496414596,-0.5503220465509001,0.6545978632840582,-1.108061140375195,0.07774686112593811,1.229150370974735,-0.9598138995070781,0.2553171944844485,-0.5312106448067048,-1.1766260005405362,-0.0089501762525687,1.5357305984753062,0.7354671313986141,-0.8110184683542013,1.082732376664796,-0.8934927035933473,-1.016646011537697,-1.2860201170696968,0.004796454433750215,-1.8649249921030508,0.19547129650750394,-0.7254502544000017,-1.6445739312624716,-0.614241250384773,0.947651845351561,-1.1829359088163829,-1.384355202952411,0.11011242718255053,1.197455158046334,-0.42809558047270085,-0.9757842847717417,0.885172144164018,1.1923405037845802,-0.9919277073072876,-1.317679831294402,-1.3245404587186131,0.6506861115846233,-0.3609133291001237,0.6723962599973358,0.34651672208847856,1.8591750211248126,-1.3852200101858028,-0.27685358822990774,0.6335764261578918,-2.539314836996711,-1.510787315277079,-0.11055856979500045,-0.491375805495196,-1.0192197784726929,2.086455864161741,-0.5172615980217126,0.8206242370564809,0.9858645709405398,1.2762610290410306,0.10713476342941546,-1.8186277461605582,0.6769012046049316,0.01366795538713723,-0.8986405789162267,0.07231285425140163,-0.563039626463328,0.03487686615991759,-0.8182175173066304,-2.035545744474048,0.09189039328921121,-1.5303055946275959,-1.5055761685861304,0.28164563964491446,1.0157880022485497,0.8905634100993131,-0.26830036034539123,0.028666062007271165,0.36553025568632413,-0.946426411782622,0.6027942740326115,0.4934687406555518,-0.28555189970477807,-0.3729824060325359,0.5212299692379051,-0.33814790277305373,0.44248336172215885,-0.26115706117549087,-0.5807234130298736,0.24323436038576762,0.4293091582265946,-0.8297263173896147,-1.3550401158358816],\"yaxis\":\"y13\",\"type\":\"scatter\"},{\"line\":{\"color\":\"rgba(128, 128, 128, 1.0)\",\"dash\":\"solid\",\"shape\":\"linear\",\"width\":1.3},\"marker\":{\"size\":2,\"symbol\":\"circle\"},\"mode\":\"markers\",\"name\":\"D\",\"text\":\"\",\"x\":[-0.17932594922892936,-1.2334150241168818,0.3491829430803454,0.22140507174626994,-0.4311921325864654,0.2728526806525845,-0.14671619073051312,-0.8361711948295325,-2.0525996827183524,1.2238954636242012,0.16748171442020826,0.9742348415959232,-1.459462066979266,0.560522495645634,0.22594078882224689,0.9936125565222024,2.0378905674033154,-0.15589591029106117,-1.037914776778365,0.5972560045854091,1.5396143307194154,-0.633578357203016,1.4549286148744829,-0.7602467680969238,1.4818952741568785,-0.35542676894068576,-0.1672124933215106,-0.4686208341591621,-0.6596271840718666,-0.7021120601503211,-0.4030312229739508,-2.4891767827615854,1.8067985741691368,0.3642482006924113,0.4633123311347458,-0.28776563158624496,-0.039824002265676645,0.3394186664968411,0.264005519683204,0.1997684212563469,-1.5972630604729419,-0.013363487980902096,0.628306211667071,0.014837486688604832,1.7299977564779727,0.8424498055863454,1.592948338505741,0.1908669085436572,2.7651347652023914,-0.052526911488933854,-1.3262825475191269,-0.7291649507936764,1.2249018261233362,0.6129613428385257,0.33058371496375294,0.4578414828592958,0.30186994670170814,0.23016785504505452,-0.8362591785189375,-0.19513012931737245,-0.9467488889374831,-0.020796939278777533,-0.7662354218695511,-0.5591934120199998,1.5520463274111282,-1.054375281258254,0.06319501059080465,0.14793864881395666,-0.8352938765626658,0.327098277975738,-0.5179048631445157,-1.1677399803679211,0.31009378584304187,-1.2490679086498058,-0.4379990922558729,-0.9952159930252686,-0.2966223603061448,-1.2253946012973123,0.9035519742314471,-0.7487703835990225,0.5675216231819916,0.2756900234536723,0.18778109097989296,0.9879978844923218,0.7132407851991432,-1.1426759234117327,0.603840652919978,-2.1987237127928667,-0.22001923010514926,-0.8474271266004348,-0.6214670988523815,-2.59231971595352,1.3278421248432764,0.11190383360680248,0.9314195828328372,0.718216542817618,-0.42075368128977786,-0.6554575354437634,-0.626953050550036,1.1939125486493873],\"xaxis\":\"x14\",\"y\":[0.7120048034929688,0.037571924176700806,1.863948112983124,-0.8556664182979131,-0.22261837615277336,0.41350449670492756,1.6203319543114292,-0.2922523733494632,-1.7539373666576838,0.9895320045429775,0.6318448981936109,-2.221576685925559,-0.12057006100410533,-0.05776636496414596,-0.5503220465509001,0.6545978632840582,-1.108061140375195,0.07774686112593811,1.229150370974735,-0.9598138995070781,0.2553171944844485,-0.5312106448067048,-1.1766260005405362,-0.0089501762525687,1.5357305984753062,0.7354671313986141,-0.8110184683542013,1.082732376664796,-0.8934927035933473,-1.016646011537697,-1.2860201170696968,0.004796454433750215,-1.8649249921030508,0.19547129650750394,-0.7254502544000017,-1.6445739312624716,-0.614241250384773,0.947651845351561,-1.1829359088163829,-1.384355202952411,0.11011242718255053,1.197455158046334,-0.42809558047270085,-0.9757842847717417,0.885172144164018,1.1923405037845802,-0.9919277073072876,-1.317679831294402,-1.3245404587186131,0.6506861115846233,-0.3609133291001237,0.6723962599973358,0.34651672208847856,1.8591750211248126,-1.3852200101858028,-0.27685358822990774,0.6335764261578918,-2.539314836996711,-1.510787315277079,-0.11055856979500045,-0.491375805495196,-1.0192197784726929,2.086455864161741,-0.5172615980217126,0.8206242370564809,0.9858645709405398,1.2762610290410306,0.10713476342941546,-1.8186277461605582,0.6769012046049316,0.01366795538713723,-0.8986405789162267,0.07231285425140163,-0.563039626463328,0.03487686615991759,-0.8182175173066304,-2.035545744474048,0.09189039328921121,-1.5303055946275959,-1.5055761685861304,0.28164563964491446,1.0157880022485497,0.8905634100993131,-0.26830036034539123,0.028666062007271165,0.36553025568632413,-0.946426411782622,0.6027942740326115,0.4934687406555518,-0.28555189970477807,-0.3729824060325359,0.5212299692379051,-0.33814790277305373,0.44248336172215885,-0.26115706117549087,-0.5807234130298736,0.24323436038576762,0.4293091582265946,-0.8297263173896147,-1.3550401158358816],\"yaxis\":\"y14\",\"type\":\"scatter\"},{\"line\":{\"color\":\"rgba(128, 128, 128, 1.0)\",\"dash\":\"solid\",\"shape\":\"linear\",\"width\":1.3},\"marker\":{\"size\":2,\"symbol\":\"circle\"},\"mode\":\"markers\",\"name\":\"D\",\"text\":\"\",\"x\":[-1.3974399942298057,-1.2594475130421092,-0.5129099965513799,-1.4635316868003996,-0.036594916594382645,0.8386515146746838,1.1449293042599211,0.5025000377864617,-0.03716455206183781,1.3146641483878034,-2.278234077012857,1.0493201039900817,0.9803003093927106,-0.04880041287019022,0.19162835145411555,-0.7258437735625,-0.31344990276621376,0.6567052337724818,-0.3992004044020901,-1.460690954366173,1.143373627402732,1.426192951102635,-0.44971745884800807,0.8236730162851648,-0.2810409444957771,-1.2016804827635277,1.2306390281165533,-0.5552008293174706,-0.19337377840200753,0.8820068034767569,0.5273737977529509,1.569147278154652,0.9838124218074721,1.6560098562132635,0.635596970751312,-1.398243184093543,-0.2401893957907707,0.6583272757948146,0.2634210013276405,-0.07884437719855053,-2.1010630279519575,0.4046073689406953,-0.1978026749088829,0.3544669122529623,0.8676986036454316,-0.3381222914735889,0.6685169959977112,-1.8268978374432823,-1.3531072803819177,-0.552508690848112,-0.14498776539996722,0.5030044542437652,-0.17735530133869318,-0.08897184011598393,1.9664871533579928,-0.590160907020762,0.544437555568912,-0.7628199761660305,-0.37365608934370254,0.8149568189856771,1.4249776804923213,-1.7093514022201677,1.238908174942366,-1.71718557854535,-0.05147722651968288,0.8287930073555166,-0.8737659291251622,-0.9480135637863218,-1.1003475380444532,0.7457965183238748,0.6380570744905988,-0.3894208135806658,-0.6642137606994339,-1.140912977389208,1.0865520411835587,-1.2275379540163869,0.8242411648000758,0.12982334611742288,-1.5737224631153774,0.44117268893298894,1.0316925517073288,0.15956785954936245,1.179708144879079,-0.5728210381568386,1.0299163011895074,0.3908133622373693,1.9858908014819538,-0.8265475737502567,0.663924835481197,-0.23147551462621171,-1.056044503137501,0.31812921564814617,0.30028145129488937,-0.9816911288518367,-0.9339562697285321,0.3584643733701401,1.8651159293907649,-1.1035540728245703,1.1111769078969433,2.0446760759430442],\"xaxis\":\"x15\",\"y\":[0.7120048034929688,0.037571924176700806,1.863948112983124,-0.8556664182979131,-0.22261837615277336,0.41350449670492756,1.6203319543114292,-0.2922523733494632,-1.7539373666576838,0.9895320045429775,0.6318448981936109,-2.221576685925559,-0.12057006100410533,-0.05776636496414596,-0.5503220465509001,0.6545978632840582,-1.108061140375195,0.07774686112593811,1.229150370974735,-0.9598138995070781,0.2553171944844485,-0.5312106448067048,-1.1766260005405362,-0.0089501762525687,1.5357305984753062,0.7354671313986141,-0.8110184683542013,1.082732376664796,-0.8934927035933473,-1.016646011537697,-1.2860201170696968,0.004796454433750215,-1.8649249921030508,0.19547129650750394,-0.7254502544000017,-1.6445739312624716,-0.614241250384773,0.947651845351561,-1.1829359088163829,-1.384355202952411,0.11011242718255053,1.197455158046334,-0.42809558047270085,-0.9757842847717417,0.885172144164018,1.1923405037845802,-0.9919277073072876,-1.317679831294402,-1.3245404587186131,0.6506861115846233,-0.3609133291001237,0.6723962599973358,0.34651672208847856,1.8591750211248126,-1.3852200101858028,-0.27685358822990774,0.6335764261578918,-2.539314836996711,-1.510787315277079,-0.11055856979500045,-0.491375805495196,-1.0192197784726929,2.086455864161741,-0.5172615980217126,0.8206242370564809,0.9858645709405398,1.2762610290410306,0.10713476342941546,-1.8186277461605582,0.6769012046049316,0.01366795538713723,-0.8986405789162267,0.07231285425140163,-0.563039626463328,0.03487686615991759,-0.8182175173066304,-2.035545744474048,0.09189039328921121,-1.5303055946275959,-1.5055761685861304,0.28164563964491446,1.0157880022485497,0.8905634100993131,-0.26830036034539123,0.028666062007271165,0.36553025568632413,-0.946426411782622,0.6027942740326115,0.4934687406555518,-0.28555189970477807,-0.3729824060325359,0.5212299692379051,-0.33814790277305373,0.44248336172215885,-0.26115706117549087,-0.5807234130298736,0.24323436038576762,0.4293091582265946,-0.8297263173896147,-1.3550401158358816],\"yaxis\":\"y15\",\"type\":\"scatter\"},{\"histfunc\":\"count\",\"histnorm\":\"\",\"marker\":{\"color\":\"rgba(128, 0, 128, 1.0)\",\"line\":{\"color\":\"#4D5663\",\"width\":1.3}},\"name\":\"D\",\"nbinsx\":10,\"opacity\":0.8,\"orientation\":\"v\",\"x\":[0.7120048034929688,0.037571924176700806,1.863948112983124,-0.8556664182979131,-0.22261837615277336,0.41350449670492756,1.6203319543114292,-0.2922523733494632,-1.7539373666576838,0.9895320045429775,0.6318448981936109,-2.221576685925559,-0.12057006100410533,-0.05776636496414596,-0.5503220465509001,0.6545978632840582,-1.108061140375195,0.07774686112593811,1.229150370974735,-0.9598138995070781,0.2553171944844485,-0.5312106448067048,-1.1766260005405362,-0.0089501762525687,1.5357305984753062,0.7354671313986141,-0.8110184683542013,1.082732376664796,-0.8934927035933473,-1.016646011537697,-1.2860201170696968,0.004796454433750215,-1.8649249921030508,0.19547129650750394,-0.7254502544000017,-1.6445739312624716,-0.614241250384773,0.947651845351561,-1.1829359088163829,-1.384355202952411,0.11011242718255053,1.197455158046334,-0.42809558047270085,-0.9757842847717417,0.885172144164018,1.1923405037845802,-0.9919277073072876,-1.317679831294402,-1.3245404587186131,0.6506861115846233,-0.3609133291001237,0.6723962599973358,0.34651672208847856,1.8591750211248126,-1.3852200101858028,-0.27685358822990774,0.6335764261578918,-2.539314836996711,-1.510787315277079,-0.11055856979500045,-0.491375805495196,-1.0192197784726929,2.086455864161741,-0.5172615980217126,0.8206242370564809,0.9858645709405398,1.2762610290410306,0.10713476342941546,-1.8186277461605582,0.6769012046049316,0.01366795538713723,-0.8986405789162267,0.07231285425140163,-0.563039626463328,0.03487686615991759,-0.8182175173066304,-2.035545744474048,0.09189039328921121,-1.5303055946275959,-1.5055761685861304,0.28164563964491446,1.0157880022485497,0.8905634100993131,-0.26830036034539123,0.028666062007271165,0.36553025568632413,-0.946426411782622,0.6027942740326115,0.4934687406555518,-0.28555189970477807,-0.3729824060325359,0.5212299692379051,-0.33814790277305373,0.44248336172215885,-0.26115706117549087,-0.5807234130298736,0.24323436038576762,0.4293091582265946,-0.8297263173896147,-1.3550401158358816],\"xaxis\":\"x16\",\"yaxis\":\"y16\",\"type\":\"histogram\"}],                        {\"bargap\":0.02,\"legend\":{\"bgcolor\":\"#F5F6F9\",\"font\":{\"color\":\"#4D5663\"}},\"paper_bgcolor\":\"#F5F6F9\",\"plot_bgcolor\":\"#F5F6F9\",\"showlegend\":false,\"template\":{\"data\":{\"barpolar\":[{\"marker\":{\"line\":{\"color\":\"#E5ECF6\",\"width\":0.5},\"pattern\":{\"fillmode\":\"overlay\",\"size\":10,\"solidity\":0.2}},\"type\":\"barpolar\"}],\"bar\":[{\"error_x\":{\"color\":\"#2a3f5f\"},\"error_y\":{\"color\":\"#2a3f5f\"},\"marker\":{\"line\":{\"color\":\"#E5ECF6\",\"width\":0.5},\"pattern\":{\"fillmode\":\"overlay\",\"size\":10,\"solidity\":0.2}},\"type\":\"bar\"}],\"carpet\":[{\"aaxis\":{\"endlinecolor\":\"#2a3f5f\",\"gridcolor\":\"white\",\"linecolor\":\"white\",\"minorgridcolor\":\"white\",\"startlinecolor\":\"#2a3f5f\"},\"baxis\":{\"endlinecolor\":\"#2a3f5f\",\"gridcolor\":\"white\",\"linecolor\":\"white\",\"minorgridcolor\":\"white\",\"startlinecolor\":\"#2a3f5f\"},\"type\":\"carpet\"}],\"choropleth\":[{\"colorbar\":{\"outlinewidth\":0,\"ticks\":\"\"},\"type\":\"choropleth\"}],\"contourcarpet\":[{\"colorbar\":{\"outlinewidth\":0,\"ticks\":\"\"},\"type\":\"contourcarpet\"}],\"contour\":[{\"colorbar\":{\"outlinewidth\":0,\"ticks\":\"\"},\"colorscale\":[[0.0,\"#0d0887\"],[0.1111111111111111,\"#46039f\"],[0.2222222222222222,\"#7201a8\"],[0.3333333333333333,\"#9c179e\"],[0.4444444444444444,\"#bd3786\"],[0.5555555555555556,\"#d8576b\"],[0.6666666666666666,\"#ed7953\"],[0.7777777777777778,\"#fb9f3a\"],[0.8888888888888888,\"#fdca26\"],[1.0,\"#f0f921\"]],\"type\":\"contour\"}],\"heatmapgl\":[{\"colorbar\":{\"outlinewidth\":0,\"ticks\":\"\"},\"colorscale\":[[0.0,\"#0d0887\"],[0.1111111111111111,\"#46039f\"],[0.2222222222222222,\"#7201a8\"],[0.3333333333333333,\"#9c179e\"],[0.4444444444444444,\"#bd3786\"],[0.5555555555555556,\"#d8576b\"],[0.6666666666666666,\"#ed7953\"],[0.7777777777777778,\"#fb9f3a\"],[0.8888888888888888,\"#fdca26\"],[1.0,\"#f0f921\"]],\"type\":\"heatmapgl\"}],\"heatmap\":[{\"colorbar\":{\"outlinewidth\":0,\"ticks\":\"\"},\"colorscale\":[[0.0,\"#0d0887\"],[0.1111111111111111,\"#46039f\"],[0.2222222222222222,\"#7201a8\"],[0.3333333333333333,\"#9c179e\"],[0.4444444444444444,\"#bd3786\"],[0.5555555555555556,\"#d8576b\"],[0.6666666666666666,\"#ed7953\"],[0.7777777777777778,\"#fb9f3a\"],[0.8888888888888888,\"#fdca26\"],[1.0,\"#f0f921\"]],\"type\":\"heatmap\"}],\"histogram2dcontour\":[{\"colorbar\":{\"outlinewidth\":0,\"ticks\":\"\"},\"colorscale\":[[0.0,\"#0d0887\"],[0.1111111111111111,\"#46039f\"],[0.2222222222222222,\"#7201a8\"],[0.3333333333333333,\"#9c179e\"],[0.4444444444444444,\"#bd3786\"],[0.5555555555555556,\"#d8576b\"],[0.6666666666666666,\"#ed7953\"],[0.7777777777777778,\"#fb9f3a\"],[0.8888888888888888,\"#fdca26\"],[1.0,\"#f0f921\"]],\"type\":\"histogram2dcontour\"}],\"histogram2d\":[{\"colorbar\":{\"outlinewidth\":0,\"ticks\":\"\"},\"colorscale\":[[0.0,\"#0d0887\"],[0.1111111111111111,\"#46039f\"],[0.2222222222222222,\"#7201a8\"],[0.3333333333333333,\"#9c179e\"],[0.4444444444444444,\"#bd3786\"],[0.5555555555555556,\"#d8576b\"],[0.6666666666666666,\"#ed7953\"],[0.7777777777777778,\"#fb9f3a\"],[0.8888888888888888,\"#fdca26\"],[1.0,\"#f0f921\"]],\"type\":\"histogram2d\"}],\"histogram\":[{\"marker\":{\"pattern\":{\"fillmode\":\"overlay\",\"size\":10,\"solidity\":0.2}},\"type\":\"histogram\"}],\"mesh3d\":[{\"colorbar\":{\"outlinewidth\":0,\"ticks\":\"\"},\"type\":\"mesh3d\"}],\"parcoords\":[{\"line\":{\"colorbar\":{\"outlinewidth\":0,\"ticks\":\"\"}},\"type\":\"parcoords\"}],\"pie\":[{\"automargin\":true,\"type\":\"pie\"}],\"scatter3d\":[{\"line\":{\"colorbar\":{\"outlinewidth\":0,\"ticks\":\"\"}},\"marker\":{\"colorbar\":{\"outlinewidth\":0,\"ticks\":\"\"}},\"type\":\"scatter3d\"}],\"scattercarpet\":[{\"marker\":{\"colorbar\":{\"outlinewidth\":0,\"ticks\":\"\"}},\"type\":\"scattercarpet\"}],\"scattergeo\":[{\"marker\":{\"colorbar\":{\"outlinewidth\":0,\"ticks\":\"\"}},\"type\":\"scattergeo\"}],\"scattergl\":[{\"marker\":{\"colorbar\":{\"outlinewidth\":0,\"ticks\":\"\"}},\"type\":\"scattergl\"}],\"scattermapbox\":[{\"marker\":{\"colorbar\":{\"outlinewidth\":0,\"ticks\":\"\"}},\"type\":\"scattermapbox\"}],\"scatterpolargl\":[{\"marker\":{\"colorbar\":{\"outlinewidth\":0,\"ticks\":\"\"}},\"type\":\"scatterpolargl\"}],\"scatterpolar\":[{\"marker\":{\"colorbar\":{\"outlinewidth\":0,\"ticks\":\"\"}},\"type\":\"scatterpolar\"}],\"scatter\":[{\"fillpattern\":{\"fillmode\":\"overlay\",\"size\":10,\"solidity\":0.2},\"type\":\"scatter\"}],\"scatterternary\":[{\"marker\":{\"colorbar\":{\"outlinewidth\":0,\"ticks\":\"\"}},\"type\":\"scatterternary\"}],\"surface\":[{\"colorbar\":{\"outlinewidth\":0,\"ticks\":\"\"},\"colorscale\":[[0.0,\"#0d0887\"],[0.1111111111111111,\"#46039f\"],[0.2222222222222222,\"#7201a8\"],[0.3333333333333333,\"#9c179e\"],[0.4444444444444444,\"#bd3786\"],[0.5555555555555556,\"#d8576b\"],[0.6666666666666666,\"#ed7953\"],[0.7777777777777778,\"#fb9f3a\"],[0.8888888888888888,\"#fdca26\"],[1.0,\"#f0f921\"]],\"type\":\"surface\"}],\"table\":[{\"cells\":{\"fill\":{\"color\":\"#EBF0F8\"},\"line\":{\"color\":\"white\"}},\"header\":{\"fill\":{\"color\":\"#C8D4E3\"},\"line\":{\"color\":\"white\"}},\"type\":\"table\"}]},\"layout\":{\"annotationdefaults\":{\"arrowcolor\":\"#2a3f5f\",\"arrowhead\":0,\"arrowwidth\":1},\"autotypenumbers\":\"strict\",\"coloraxis\":{\"colorbar\":{\"outlinewidth\":0,\"ticks\":\"\"}},\"colorscale\":{\"diverging\":[[0,\"#8e0152\"],[0.1,\"#c51b7d\"],[0.2,\"#de77ae\"],[0.3,\"#f1b6da\"],[0.4,\"#fde0ef\"],[0.5,\"#f7f7f7\"],[0.6,\"#e6f5d0\"],[0.7,\"#b8e186\"],[0.8,\"#7fbc41\"],[0.9,\"#4d9221\"],[1,\"#276419\"]],\"sequential\":[[0.0,\"#0d0887\"],[0.1111111111111111,\"#46039f\"],[0.2222222222222222,\"#7201a8\"],[0.3333333333333333,\"#9c179e\"],[0.4444444444444444,\"#bd3786\"],[0.5555555555555556,\"#d8576b\"],[0.6666666666666666,\"#ed7953\"],[0.7777777777777778,\"#fb9f3a\"],[0.8888888888888888,\"#fdca26\"],[1.0,\"#f0f921\"]],\"sequentialminus\":[[0.0,\"#0d0887\"],[0.1111111111111111,\"#46039f\"],[0.2222222222222222,\"#7201a8\"],[0.3333333333333333,\"#9c179e\"],[0.4444444444444444,\"#bd3786\"],[0.5555555555555556,\"#d8576b\"],[0.6666666666666666,\"#ed7953\"],[0.7777777777777778,\"#fb9f3a\"],[0.8888888888888888,\"#fdca26\"],[1.0,\"#f0f921\"]]},\"colorway\":[\"#636efa\",\"#EF553B\",\"#00cc96\",\"#ab63fa\",\"#FFA15A\",\"#19d3f3\",\"#FF6692\",\"#B6E880\",\"#FF97FF\",\"#FECB52\"],\"font\":{\"color\":\"#2a3f5f\"},\"geo\":{\"bgcolor\":\"white\",\"lakecolor\":\"white\",\"landcolor\":\"#E5ECF6\",\"showlakes\":true,\"showland\":true,\"subunitcolor\":\"white\"},\"hoverlabel\":{\"align\":\"left\"},\"hovermode\":\"closest\",\"mapbox\":{\"style\":\"light\"},\"paper_bgcolor\":\"white\",\"plot_bgcolor\":\"#E5ECF6\",\"polar\":{\"angularaxis\":{\"gridcolor\":\"white\",\"linecolor\":\"white\",\"ticks\":\"\"},\"bgcolor\":\"#E5ECF6\",\"radialaxis\":{\"gridcolor\":\"white\",\"linecolor\":\"white\",\"ticks\":\"\"}},\"scene\":{\"xaxis\":{\"backgroundcolor\":\"#E5ECF6\",\"gridcolor\":\"white\",\"gridwidth\":2,\"linecolor\":\"white\",\"showbackground\":true,\"ticks\":\"\",\"zerolinecolor\":\"white\"},\"yaxis\":{\"backgroundcolor\":\"#E5ECF6\",\"gridcolor\":\"white\",\"gridwidth\":2,\"linecolor\":\"white\",\"showbackground\":true,\"ticks\":\"\",\"zerolinecolor\":\"white\"},\"zaxis\":{\"backgroundcolor\":\"#E5ECF6\",\"gridcolor\":\"white\",\"gridwidth\":2,\"linecolor\":\"white\",\"showbackground\":true,\"ticks\":\"\",\"zerolinecolor\":\"white\"}},\"shapedefaults\":{\"line\":{\"color\":\"#2a3f5f\"}},\"ternary\":{\"aaxis\":{\"gridcolor\":\"white\",\"linecolor\":\"white\",\"ticks\":\"\"},\"baxis\":{\"gridcolor\":\"white\",\"linecolor\":\"white\",\"ticks\":\"\"},\"bgcolor\":\"#E5ECF6\",\"caxis\":{\"gridcolor\":\"white\",\"linecolor\":\"white\",\"ticks\":\"\"}},\"title\":{\"x\":0.05},\"xaxis\":{\"automargin\":true,\"gridcolor\":\"white\",\"linecolor\":\"white\",\"ticks\":\"\",\"title\":{\"standoff\":15},\"zerolinecolor\":\"white\",\"zerolinewidth\":2},\"yaxis\":{\"automargin\":true,\"gridcolor\":\"white\",\"linecolor\":\"white\",\"ticks\":\"\",\"title\":{\"standoff\":15},\"zerolinecolor\":\"white\",\"zerolinewidth\":2}}},\"title\":{\"font\":{\"color\":\"#4D5663\"}},\"xaxis\":{\"anchor\":\"y\",\"domain\":[0.0,0.2125],\"gridcolor\":\"#E1E5ED\",\"showgrid\":false,\"tickfont\":{\"color\":\"#4D5663\"},\"title\":{\"font\":{\"color\":\"#4D5663\"},\"text\":\"\"},\"zerolinecolor\":\"#E1E5ED\"},\"yaxis\":{\"anchor\":\"x\",\"domain\":[0.8025,1.0],\"gridcolor\":\"#E1E5ED\",\"showgrid\":false,\"tickfont\":{\"color\":\"#4D5663\"},\"title\":{\"font\":{\"color\":\"#4D5663\"},\"text\":\"\"},\"zerolinecolor\":\"#E1E5ED\"},\"xaxis2\":{\"anchor\":\"y2\",\"domain\":[0.2625,0.475],\"gridcolor\":\"#E1E5ED\",\"showgrid\":false,\"tickfont\":{\"color\":\"#4D5663\"},\"title\":{\"font\":{\"color\":\"#4D5663\"},\"text\":\"\"},\"zerolinecolor\":\"#E1E5ED\"},\"yaxis2\":{\"anchor\":\"x2\",\"domain\":[0.8025,1.0],\"gridcolor\":\"#E1E5ED\",\"showgrid\":false,\"tickfont\":{\"color\":\"#4D5663\"},\"title\":{\"font\":{\"color\":\"#4D5663\"},\"text\":\"\"},\"zerolinecolor\":\"#E1E5ED\"},\"xaxis3\":{\"anchor\":\"y3\",\"domain\":[0.525,0.7375],\"gridcolor\":\"#E1E5ED\",\"showgrid\":false,\"tickfont\":{\"color\":\"#4D5663\"},\"title\":{\"font\":{\"color\":\"#4D5663\"},\"text\":\"\"},\"zerolinecolor\":\"#E1E5ED\"},\"yaxis3\":{\"anchor\":\"x3\",\"domain\":[0.8025,1.0],\"gridcolor\":\"#E1E5ED\",\"showgrid\":false,\"tickfont\":{\"color\":\"#4D5663\"},\"title\":{\"font\":{\"color\":\"#4D5663\"},\"text\":\"\"},\"zerolinecolor\":\"#E1E5ED\"},\"xaxis4\":{\"anchor\":\"y4\",\"domain\":[0.7875,1.0],\"gridcolor\":\"#E1E5ED\",\"showgrid\":false,\"tickfont\":{\"color\":\"#4D5663\"},\"title\":{\"font\":{\"color\":\"#4D5663\"},\"text\":\"\"},\"zerolinecolor\":\"#E1E5ED\"},\"yaxis4\":{\"anchor\":\"x4\",\"domain\":[0.8025,1.0],\"gridcolor\":\"#E1E5ED\",\"showgrid\":false,\"tickfont\":{\"color\":\"#4D5663\"},\"title\":{\"font\":{\"color\":\"#4D5663\"},\"text\":\"\"},\"zerolinecolor\":\"#E1E5ED\"},\"xaxis5\":{\"anchor\":\"y5\",\"domain\":[0.0,0.2125],\"gridcolor\":\"#E1E5ED\",\"showgrid\":false,\"tickfont\":{\"color\":\"#4D5663\"},\"title\":{\"font\":{\"color\":\"#4D5663\"},\"text\":\"\"},\"zerolinecolor\":\"#E1E5ED\"},\"yaxis5\":{\"anchor\":\"x5\",\"domain\":[0.535,0.7325],\"gridcolor\":\"#E1E5ED\",\"showgrid\":false,\"tickfont\":{\"color\":\"#4D5663\"},\"title\":{\"font\":{\"color\":\"#4D5663\"},\"text\":\"\"},\"zerolinecolor\":\"#E1E5ED\"},\"xaxis6\":{\"anchor\":\"y6\",\"domain\":[0.2625,0.475],\"gridcolor\":\"#E1E5ED\",\"showgrid\":false,\"tickfont\":{\"color\":\"#4D5663\"},\"title\":{\"font\":{\"color\":\"#4D5663\"},\"text\":\"\"},\"zerolinecolor\":\"#E1E5ED\"},\"yaxis6\":{\"anchor\":\"x6\",\"domain\":[0.535,0.7325],\"gridcolor\":\"#E1E5ED\",\"showgrid\":false,\"tickfont\":{\"color\":\"#4D5663\"},\"title\":{\"font\":{\"color\":\"#4D5663\"},\"text\":\"\"},\"zerolinecolor\":\"#E1E5ED\"},\"xaxis7\":{\"anchor\":\"y7\",\"domain\":[0.525,0.7375],\"gridcolor\":\"#E1E5ED\",\"showgrid\":false,\"tickfont\":{\"color\":\"#4D5663\"},\"title\":{\"font\":{\"color\":\"#4D5663\"},\"text\":\"\"},\"zerolinecolor\":\"#E1E5ED\"},\"yaxis7\":{\"anchor\":\"x7\",\"domain\":[0.535,0.7325],\"gridcolor\":\"#E1E5ED\",\"showgrid\":false,\"tickfont\":{\"color\":\"#4D5663\"},\"title\":{\"font\":{\"color\":\"#4D5663\"},\"text\":\"\"},\"zerolinecolor\":\"#E1E5ED\"},\"xaxis8\":{\"anchor\":\"y8\",\"domain\":[0.7875,1.0],\"gridcolor\":\"#E1E5ED\",\"showgrid\":false,\"tickfont\":{\"color\":\"#4D5663\"},\"title\":{\"font\":{\"color\":\"#4D5663\"},\"text\":\"\"},\"zerolinecolor\":\"#E1E5ED\"},\"yaxis8\":{\"anchor\":\"x8\",\"domain\":[0.535,0.7325],\"gridcolor\":\"#E1E5ED\",\"showgrid\":false,\"tickfont\":{\"color\":\"#4D5663\"},\"title\":{\"font\":{\"color\":\"#4D5663\"},\"text\":\"\"},\"zerolinecolor\":\"#E1E5ED\"},\"xaxis9\":{\"anchor\":\"y9\",\"domain\":[0.0,0.2125],\"gridcolor\":\"#E1E5ED\",\"showgrid\":false,\"tickfont\":{\"color\":\"#4D5663\"},\"title\":{\"font\":{\"color\":\"#4D5663\"},\"text\":\"\"},\"zerolinecolor\":\"#E1E5ED\"},\"yaxis9\":{\"anchor\":\"x9\",\"domain\":[0.2675,0.465],\"gridcolor\":\"#E1E5ED\",\"showgrid\":false,\"tickfont\":{\"color\":\"#4D5663\"},\"title\":{\"font\":{\"color\":\"#4D5663\"},\"text\":\"\"},\"zerolinecolor\":\"#E1E5ED\"},\"xaxis10\":{\"anchor\":\"y10\",\"domain\":[0.2625,0.475],\"gridcolor\":\"#E1E5ED\",\"showgrid\":false,\"tickfont\":{\"color\":\"#4D5663\"},\"title\":{\"font\":{\"color\":\"#4D5663\"},\"text\":\"\"},\"zerolinecolor\":\"#E1E5ED\"},\"yaxis10\":{\"anchor\":\"x10\",\"domain\":[0.2675,0.465],\"gridcolor\":\"#E1E5ED\",\"showgrid\":false,\"tickfont\":{\"color\":\"#4D5663\"},\"title\":{\"font\":{\"color\":\"#4D5663\"},\"text\":\"\"},\"zerolinecolor\":\"#E1E5ED\"},\"xaxis11\":{\"anchor\":\"y11\",\"domain\":[0.525,0.7375],\"gridcolor\":\"#E1E5ED\",\"showgrid\":false,\"tickfont\":{\"color\":\"#4D5663\"},\"title\":{\"font\":{\"color\":\"#4D5663\"},\"text\":\"\"},\"zerolinecolor\":\"#E1E5ED\"},\"yaxis11\":{\"anchor\":\"x11\",\"domain\":[0.2675,0.465],\"gridcolor\":\"#E1E5ED\",\"showgrid\":false,\"tickfont\":{\"color\":\"#4D5663\"},\"title\":{\"font\":{\"color\":\"#4D5663\"},\"text\":\"\"},\"zerolinecolor\":\"#E1E5ED\"},\"xaxis12\":{\"anchor\":\"y12\",\"domain\":[0.7875,1.0],\"gridcolor\":\"#E1E5ED\",\"showgrid\":false,\"tickfont\":{\"color\":\"#4D5663\"},\"title\":{\"font\":{\"color\":\"#4D5663\"},\"text\":\"\"},\"zerolinecolor\":\"#E1E5ED\"},\"yaxis12\":{\"anchor\":\"x12\",\"domain\":[0.2675,0.465],\"gridcolor\":\"#E1E5ED\",\"showgrid\":false,\"tickfont\":{\"color\":\"#4D5663\"},\"title\":{\"font\":{\"color\":\"#4D5663\"},\"text\":\"\"},\"zerolinecolor\":\"#E1E5ED\"},\"xaxis13\":{\"anchor\":\"y13\",\"domain\":[0.0,0.2125],\"gridcolor\":\"#E1E5ED\",\"showgrid\":false,\"tickfont\":{\"color\":\"#4D5663\"},\"title\":{\"font\":{\"color\":\"#4D5663\"},\"text\":\"\"},\"zerolinecolor\":\"#E1E5ED\"},\"yaxis13\":{\"anchor\":\"x13\",\"domain\":[0.0,0.1975],\"gridcolor\":\"#E1E5ED\",\"showgrid\":false,\"tickfont\":{\"color\":\"#4D5663\"},\"title\":{\"font\":{\"color\":\"#4D5663\"},\"text\":\"\"},\"zerolinecolor\":\"#E1E5ED\"},\"xaxis14\":{\"anchor\":\"y14\",\"domain\":[0.2625,0.475],\"gridcolor\":\"#E1E5ED\",\"showgrid\":false,\"tickfont\":{\"color\":\"#4D5663\"},\"title\":{\"font\":{\"color\":\"#4D5663\"},\"text\":\"\"},\"zerolinecolor\":\"#E1E5ED\"},\"yaxis14\":{\"anchor\":\"x14\",\"domain\":[0.0,0.1975],\"gridcolor\":\"#E1E5ED\",\"showgrid\":false,\"tickfont\":{\"color\":\"#4D5663\"},\"title\":{\"font\":{\"color\":\"#4D5663\"},\"text\":\"\"},\"zerolinecolor\":\"#E1E5ED\"},\"xaxis15\":{\"anchor\":\"y15\",\"domain\":[0.525,0.7375],\"gridcolor\":\"#E1E5ED\",\"showgrid\":false,\"tickfont\":{\"color\":\"#4D5663\"},\"title\":{\"font\":{\"color\":\"#4D5663\"},\"text\":\"\"},\"zerolinecolor\":\"#E1E5ED\"},\"yaxis15\":{\"anchor\":\"x15\",\"domain\":[0.0,0.1975],\"gridcolor\":\"#E1E5ED\",\"showgrid\":false,\"tickfont\":{\"color\":\"#4D5663\"},\"title\":{\"font\":{\"color\":\"#4D5663\"},\"text\":\"\"},\"zerolinecolor\":\"#E1E5ED\"},\"xaxis16\":{\"anchor\":\"y16\",\"domain\":[0.7875,1.0],\"gridcolor\":\"#E1E5ED\",\"showgrid\":false,\"tickfont\":{\"color\":\"#4D5663\"},\"title\":{\"font\":{\"color\":\"#4D5663\"},\"text\":\"\"},\"zerolinecolor\":\"#E1E5ED\"},\"yaxis16\":{\"anchor\":\"x16\",\"domain\":[0.0,0.1975],\"gridcolor\":\"#E1E5ED\",\"showgrid\":false,\"tickfont\":{\"color\":\"#4D5663\"},\"title\":{\"font\":{\"color\":\"#4D5663\"},\"text\":\"\"},\"zerolinecolor\":\"#E1E5ED\"}},                        {\"showLink\": true, \"linkText\": \"Export to plot.ly\", \"plotlyServerURL\": \"https://plot.ly\", \"responsive\": true}                    ).then(function(){\n",
       "                            \n",
       "var gd = document.getElementById('6da32541-d25a-41be-94fc-63dfaf1aac55');\n",
       "var x = new MutationObserver(function (mutations, observer) {{\n",
       "        var display = window.getComputedStyle(gd).display;\n",
       "        if (!display || display === 'none') {{\n",
       "            console.log([gd, 'removed!']);\n",
       "            Plotly.purge(gd);\n",
       "            observer.disconnect();\n",
       "        }}\n",
       "}});\n",
       "\n",
       "// Listen for the removal of the full notebook cells\n",
       "var notebookContainer = gd.closest('#notebook-container');\n",
       "if (notebookContainer) {{\n",
       "    x.observe(notebookContainer, {childList: true});\n",
       "}}\n",
       "\n",
       "// Listen for the clearing of the current output cell\n",
       "var outputEl = gd.closest('.output');\n",
       "if (outputEl) {{\n",
       "    x.observe(outputEl, {childList: true});\n",
       "}}\n",
       "\n",
       "                        })                };                });            </script>        </div>"
      ]
     },
     "metadata": {},
     "output_type": "display_data"
    }
   ],
   "source": [
    "df.scatter_matrix()"
   ]
  },
  {
   "cell_type": "code",
   "execution_count": null,
   "id": "94f98bdb",
   "metadata": {},
   "outputs": [],
   "source": []
  }
 ],
 "metadata": {
  "kernelspec": {
   "display_name": "common",
   "language": "python",
   "name": "common"
  },
  "language_info": {
   "codemirror_mode": {
    "name": "ipython",
    "version": 3
   },
   "file_extension": ".py",
   "mimetype": "text/x-python",
   "name": "python",
   "nbconvert_exporter": "python",
   "pygments_lexer": "ipython3",
   "version": "3.9.12"
  }
 },
 "nbformat": 4,
 "nbformat_minor": 5
}
