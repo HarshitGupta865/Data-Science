{
 "cells": [
  {
   "cell_type": "markdown",
   "id": "ec63a4b0",
   "metadata": {},
   "source": [
    "# Content\n",
    "\n",
    "1. Descriptive Statistics\n",
    "2. Finding Outliers\n",
    "3. Finding IQR, Upper fence and Lower fence"
   ]
  },
  {
   "cell_type": "code",
   "execution_count": 1,
   "id": "36244ade",
   "metadata": {},
   "outputs": [],
   "source": [
    "import numpy as np\n",
    "import statistics as st"
   ]
  },
  {
   "cell_type": "code",
   "execution_count": 2,
   "id": "6a6e0533",
   "metadata": {},
   "outputs": [],
   "source": [
    "dataset = [2,34,5,61,12,67,21,4,8,45,3,30,5,7,1,89,3,5,2,1,76,5,45,2,8,3,9,10,4,2,1,6,7,3]"
   ]
  },
  {
   "cell_type": "markdown",
   "id": "27c80919",
   "metadata": {},
   "source": [
    "# Descriptive Statistics"
   ]
  },
  {
   "cell_type": "code",
   "execution_count": 3,
   "id": "19e6facd",
   "metadata": {},
   "outputs": [
    {
     "data": {
      "text/plain": [
       "17.235294117647058"
      ]
     },
     "execution_count": 3,
     "metadata": {},
     "output_type": "execute_result"
    }
   ],
   "source": [
    "# Mean\n",
    "np.mean(dataset)"
   ]
  },
  {
   "cell_type": "code",
   "execution_count": 4,
   "id": "63fd2bb2",
   "metadata": {},
   "outputs": [
    {
     "data": {
      "text/plain": [
       "5.5"
      ]
     },
     "execution_count": 4,
     "metadata": {},
     "output_type": "execute_result"
    }
   ],
   "source": [
    "# Median\n",
    "np.median(dataset)"
   ]
  },
  {
   "cell_type": "code",
   "execution_count": 5,
   "id": "83d55a90",
   "metadata": {},
   "outputs": [
    {
     "data": {
      "text/plain": [
       "2"
      ]
     },
     "execution_count": 5,
     "metadata": {},
     "output_type": "execute_result"
    }
   ],
   "source": [
    "#Mode\n",
    "st.mode(dataset)"
   ]
  },
  {
   "cell_type": "code",
   "execution_count": 6,
   "id": "b2aa7fe4",
   "metadata": {},
   "outputs": [
    {
     "data": {
      "text/plain": [
       "562.5916955017301"
      ]
     },
     "execution_count": 6,
     "metadata": {},
     "output_type": "execute_result"
    }
   ],
   "source": [
    "#Variance\n",
    "np.var(dataset)"
   ]
  },
  {
   "cell_type": "code",
   "execution_count": 7,
   "id": "129468c5",
   "metadata": {},
   "outputs": [
    {
     "data": {
      "text/plain": [
       "23.719015483399183"
      ]
     },
     "execution_count": 7,
     "metadata": {},
     "output_type": "execute_result"
    }
   ],
   "source": [
    "# Standard Deviation\n",
    "np.std(dataset)"
   ]
  },
  {
   "cell_type": "markdown",
   "id": "c6f80303",
   "metadata": {},
   "source": [
    "# Finding Outliers"
   ]
  },
  {
   "cell_type": "code",
   "execution_count": 8,
   "id": "61da0982",
   "metadata": {},
   "outputs": [
    {
     "name": "stdout",
     "output_type": "stream",
     "text": [
      "[89]\n"
     ]
    }
   ],
   "source": [
    "# We will assume any data falling 3 standard deviation away from the mean is an outlier\n",
    "\n",
    "outliers = []\n",
    "m = np.mean(dataset)\n",
    "s = np.std(dataset)\n",
    "for i in dataset:\n",
    "    z_score = (i-m)/s\n",
    "    if np.abs(z_score) > 3:\n",
    "        outliers.append(i)\n",
    "\n",
    "print(outliers)"
   ]
  },
  {
   "cell_type": "markdown",
   "id": "4337cabf",
   "metadata": {},
   "source": [
    "# Finding IQR, Upper Fence, Lower Fence"
   ]
  },
  {
   "cell_type": "code",
   "execution_count": 11,
   "id": "6bdb549e",
   "metadata": {},
   "outputs": [],
   "source": [
    "dataset.sort()"
   ]
  },
  {
   "cell_type": "code",
   "execution_count": 12,
   "id": "e90ae6b8",
   "metadata": {},
   "outputs": [
    {
     "name": "stdout",
     "output_type": "stream",
     "text": [
      "[1, 1, 1, 2, 2, 2, 2, 3, 3, 3, 3, 4, 4, 5, 5, 5, 5, 6, 7, 7, 8, 8, 9, 10, 12, 21, 30, 34, 45, 45, 61, 67, 76, 89]\n"
     ]
    }
   ],
   "source": [
    "print(dataset)"
   ]
  },
  {
   "cell_type": "code",
   "execution_count": 14,
   "id": "f0ce86c2",
   "metadata": {},
   "outputs": [
    {
     "name": "stdout",
     "output_type": "stream",
     "text": [
      "3.0 18.75\n"
     ]
    }
   ],
   "source": [
    "q1 = np.percentile(dataset, 25)\n",
    "q3 = np.percentile(dataset, 75)\n",
    "print(q1,q3)\n",
    "iqr = q3-q1"
   ]
  },
  {
   "cell_type": "code",
   "execution_count": 15,
   "id": "90ccc0d2",
   "metadata": {},
   "outputs": [
    {
     "name": "stdout",
     "output_type": "stream",
     "text": [
      "42.375 -20.625\n"
     ]
    }
   ],
   "source": [
    "up_fence = q3+1.5*iqr\n",
    "lo_fence = q1-1.5*iqr\n",
    "print(up_fence, lo_fence)"
   ]
  },
  {
   "cell_type": "code",
   "execution_count": null,
   "id": "48cad82e",
   "metadata": {},
   "outputs": [],
   "source": []
  }
 ],
 "metadata": {
  "kernelspec": {
   "display_name": "common",
   "language": "python",
   "name": "common"
  },
  "language_info": {
   "codemirror_mode": {
    "name": "ipython",
    "version": 3
   },
   "file_extension": ".py",
   "mimetype": "text/x-python",
   "name": "python",
   "nbconvert_exporter": "python",
   "pygments_lexer": "ipython3",
   "version": "3.9.13"
  }
 },
 "nbformat": 4,
 "nbformat_minor": 5
}
