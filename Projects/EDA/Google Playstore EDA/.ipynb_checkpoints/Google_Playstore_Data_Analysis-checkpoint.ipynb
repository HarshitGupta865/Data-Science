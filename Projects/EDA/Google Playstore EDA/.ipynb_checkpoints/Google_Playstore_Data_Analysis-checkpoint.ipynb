{
 "cells": [
  {
   "cell_type": "markdown",
   "id": "ea3ed617",
   "metadata": {},
   "source": [
    "<h1>Introduction</h1>\n",
    "</br>\n",
    "<p>The Play Store apps data has enormous potential to drive app-making businesses to success. Actionable insights can be drawn for developers to work on and capture the Android market.</p>\n",
    "</br>\n",
    "<ol>\n",
    "    <li>\n",
    "        Android is being adopted by a large population across the globe. Android is used in over 74% of the world market, so it's worth creating or developing apps for this mobile operating system.\n",
    "    </li>\n",
    "    <li>\n",
    "        It's also worth investing in apps if you expect them to gain wider traction in the future. To make sure apps are tailored to the needs of users the analysis of data from the Google Play Store apps is extremely valuable.\n",
    "    </li>\n",
    "    <li>\n",
    "        It can help developers design apps that are tailored to what users want and investors with decisions about how best to invest in future.\n",
    "    </li>\n",
    "</ol>"
   ]
  },
  {
   "cell_type": "markdown",
   "id": "62bc39ee",
   "metadata": {},
   "source": [
    "# Problem Statement\n",
    "\n",
    "## Explore and analyze the data to discover key factors responsible for app engagement and success."
   ]
  },
  {
   "cell_type": "code",
   "execution_count": 62,
   "id": "afdb2eef",
   "metadata": {},
   "outputs": [],
   "source": [
    "#importing required libraries\n",
    "import numpy as np\n",
    "import pandas as pd\n",
    "import matplotlib.pyplot as plt\n",
    "import seaborn as sns\n",
    "import warnings\n",
    "\n",
    "%matplotlib inline"
   ]
  },
  {
   "cell_type": "code",
   "execution_count": 67,
   "id": "374ada11",
   "metadata": {},
   "outputs": [],
   "source": [
    "#Ignore Warnings\n",
    "warnings.filterwarnings('ignore')\n"
   ]
  },
  {
   "cell_type": "code",
   "execution_count": 3,
   "id": "82cb0df9",
   "metadata": {},
   "outputs": [],
   "source": [
    "#Import the dataset\n",
    "df = pd.read_csv(\"Play Store Data.csv\")"
   ]
  },
  {
   "cell_type": "code",
   "execution_count": 4,
   "id": "10ced4c6",
   "metadata": {},
   "outputs": [
    {
     "data": {
      "text/html": [
       "<div>\n",
       "<style scoped>\n",
       "    .dataframe tbody tr th:only-of-type {\n",
       "        vertical-align: middle;\n",
       "    }\n",
       "\n",
       "    .dataframe tbody tr th {\n",
       "        vertical-align: top;\n",
       "    }\n",
       "\n",
       "    .dataframe thead th {\n",
       "        text-align: right;\n",
       "    }\n",
       "</style>\n",
       "<table border=\"1\" class=\"dataframe\">\n",
       "  <thead>\n",
       "    <tr style=\"text-align: right;\">\n",
       "      <th></th>\n",
       "      <th>App</th>\n",
       "      <th>Category</th>\n",
       "      <th>Rating</th>\n",
       "      <th>Reviews</th>\n",
       "      <th>Size</th>\n",
       "      <th>Installs</th>\n",
       "      <th>Type</th>\n",
       "      <th>Price</th>\n",
       "      <th>Content Rating</th>\n",
       "      <th>Genres</th>\n",
       "      <th>Last Updated</th>\n",
       "      <th>Current Ver</th>\n",
       "      <th>Android Ver</th>\n",
       "    </tr>\n",
       "  </thead>\n",
       "  <tbody>\n",
       "    <tr>\n",
       "      <th>0</th>\n",
       "      <td>Photo Editor &amp; Candy Camera &amp; Grid &amp; ScrapBook</td>\n",
       "      <td>ART_AND_DESIGN</td>\n",
       "      <td>4.1</td>\n",
       "      <td>159</td>\n",
       "      <td>19M</td>\n",
       "      <td>10,000+</td>\n",
       "      <td>Free</td>\n",
       "      <td>0</td>\n",
       "      <td>Everyone</td>\n",
       "      <td>Art &amp; Design</td>\n",
       "      <td>January 7, 2018</td>\n",
       "      <td>1.0.0</td>\n",
       "      <td>4.0.3 and up</td>\n",
       "    </tr>\n",
       "    <tr>\n",
       "      <th>1</th>\n",
       "      <td>Coloring book moana</td>\n",
       "      <td>ART_AND_DESIGN</td>\n",
       "      <td>3.9</td>\n",
       "      <td>967</td>\n",
       "      <td>14M</td>\n",
       "      <td>500,000+</td>\n",
       "      <td>Free</td>\n",
       "      <td>0</td>\n",
       "      <td>Everyone</td>\n",
       "      <td>Art &amp; Design;Pretend Play</td>\n",
       "      <td>January 15, 2018</td>\n",
       "      <td>2.0.0</td>\n",
       "      <td>4.0.3 and up</td>\n",
       "    </tr>\n",
       "    <tr>\n",
       "      <th>2</th>\n",
       "      <td>U Launcher Lite – FREE Live Cool Themes, Hide ...</td>\n",
       "      <td>ART_AND_DESIGN</td>\n",
       "      <td>4.7</td>\n",
       "      <td>87510</td>\n",
       "      <td>8.7M</td>\n",
       "      <td>5,000,000+</td>\n",
       "      <td>Free</td>\n",
       "      <td>0</td>\n",
       "      <td>Everyone</td>\n",
       "      <td>Art &amp; Design</td>\n",
       "      <td>August 1, 2018</td>\n",
       "      <td>1.2.4</td>\n",
       "      <td>4.0.3 and up</td>\n",
       "    </tr>\n",
       "    <tr>\n",
       "      <th>3</th>\n",
       "      <td>Sketch - Draw &amp; Paint</td>\n",
       "      <td>ART_AND_DESIGN</td>\n",
       "      <td>4.5</td>\n",
       "      <td>215644</td>\n",
       "      <td>25M</td>\n",
       "      <td>50,000,000+</td>\n",
       "      <td>Free</td>\n",
       "      <td>0</td>\n",
       "      <td>Teen</td>\n",
       "      <td>Art &amp; Design</td>\n",
       "      <td>June 8, 2018</td>\n",
       "      <td>Varies with device</td>\n",
       "      <td>4.2 and up</td>\n",
       "    </tr>\n",
       "    <tr>\n",
       "      <th>4</th>\n",
       "      <td>Pixel Draw - Number Art Coloring Book</td>\n",
       "      <td>ART_AND_DESIGN</td>\n",
       "      <td>4.3</td>\n",
       "      <td>967</td>\n",
       "      <td>2.8M</td>\n",
       "      <td>100,000+</td>\n",
       "      <td>Free</td>\n",
       "      <td>0</td>\n",
       "      <td>Everyone</td>\n",
       "      <td>Art &amp; Design;Creativity</td>\n",
       "      <td>June 20, 2018</td>\n",
       "      <td>1.1</td>\n",
       "      <td>4.4 and up</td>\n",
       "    </tr>\n",
       "  </tbody>\n",
       "</table>\n",
       "</div>"
      ],
      "text/plain": [
       "                                                 App        Category  Rating  \\\n",
       "0     Photo Editor & Candy Camera & Grid & ScrapBook  ART_AND_DESIGN     4.1   \n",
       "1                                Coloring book moana  ART_AND_DESIGN     3.9   \n",
       "2  U Launcher Lite – FREE Live Cool Themes, Hide ...  ART_AND_DESIGN     4.7   \n",
       "3                              Sketch - Draw & Paint  ART_AND_DESIGN     4.5   \n",
       "4              Pixel Draw - Number Art Coloring Book  ART_AND_DESIGN     4.3   \n",
       "\n",
       "  Reviews  Size     Installs  Type Price Content Rating  \\\n",
       "0     159   19M      10,000+  Free     0       Everyone   \n",
       "1     967   14M     500,000+  Free     0       Everyone   \n",
       "2   87510  8.7M   5,000,000+  Free     0       Everyone   \n",
       "3  215644   25M  50,000,000+  Free     0           Teen   \n",
       "4     967  2.8M     100,000+  Free     0       Everyone   \n",
       "\n",
       "                      Genres      Last Updated         Current Ver  \\\n",
       "0               Art & Design   January 7, 2018               1.0.0   \n",
       "1  Art & Design;Pretend Play  January 15, 2018               2.0.0   \n",
       "2               Art & Design    August 1, 2018               1.2.4   \n",
       "3               Art & Design      June 8, 2018  Varies with device   \n",
       "4    Art & Design;Creativity     June 20, 2018                 1.1   \n",
       "\n",
       "    Android Ver  \n",
       "0  4.0.3 and up  \n",
       "1  4.0.3 and up  \n",
       "2  4.0.3 and up  \n",
       "3    4.2 and up  \n",
       "4    4.4 and up  "
      ]
     },
     "execution_count": 4,
     "metadata": {},
     "output_type": "execute_result"
    }
   ],
   "source": [
    "# Displying the first 10 rows of dataset and understanding the type of data \n",
    "df.head()"
   ]
  },
  {
   "cell_type": "code",
   "execution_count": 5,
   "id": "04ebb322",
   "metadata": {},
   "outputs": [
    {
     "data": {
      "text/html": [
       "<div>\n",
       "<style scoped>\n",
       "    .dataframe tbody tr th:only-of-type {\n",
       "        vertical-align: middle;\n",
       "    }\n",
       "\n",
       "    .dataframe tbody tr th {\n",
       "        vertical-align: top;\n",
       "    }\n",
       "\n",
       "    .dataframe thead th {\n",
       "        text-align: right;\n",
       "    }\n",
       "</style>\n",
       "<table border=\"1\" class=\"dataframe\">\n",
       "  <thead>\n",
       "    <tr style=\"text-align: right;\">\n",
       "      <th></th>\n",
       "      <th>App</th>\n",
       "      <th>Category</th>\n",
       "      <th>Rating</th>\n",
       "      <th>Reviews</th>\n",
       "      <th>Size</th>\n",
       "      <th>Installs</th>\n",
       "      <th>Type</th>\n",
       "      <th>Price</th>\n",
       "      <th>Content Rating</th>\n",
       "      <th>Genres</th>\n",
       "      <th>Last Updated</th>\n",
       "      <th>Current Ver</th>\n",
       "      <th>Android Ver</th>\n",
       "    </tr>\n",
       "  </thead>\n",
       "  <tbody>\n",
       "    <tr>\n",
       "      <th>10836</th>\n",
       "      <td>Sya9a Maroc - FR</td>\n",
       "      <td>FAMILY</td>\n",
       "      <td>4.5</td>\n",
       "      <td>38</td>\n",
       "      <td>53M</td>\n",
       "      <td>5,000+</td>\n",
       "      <td>Free</td>\n",
       "      <td>0</td>\n",
       "      <td>Everyone</td>\n",
       "      <td>Education</td>\n",
       "      <td>July 25, 2017</td>\n",
       "      <td>1.48</td>\n",
       "      <td>4.1 and up</td>\n",
       "    </tr>\n",
       "    <tr>\n",
       "      <th>10837</th>\n",
       "      <td>Fr. Mike Schmitz Audio Teachings</td>\n",
       "      <td>FAMILY</td>\n",
       "      <td>5.0</td>\n",
       "      <td>4</td>\n",
       "      <td>3.6M</td>\n",
       "      <td>100+</td>\n",
       "      <td>Free</td>\n",
       "      <td>0</td>\n",
       "      <td>Everyone</td>\n",
       "      <td>Education</td>\n",
       "      <td>July 6, 2018</td>\n",
       "      <td>1.0</td>\n",
       "      <td>4.1 and up</td>\n",
       "    </tr>\n",
       "    <tr>\n",
       "      <th>10838</th>\n",
       "      <td>Parkinson Exercices FR</td>\n",
       "      <td>MEDICAL</td>\n",
       "      <td>NaN</td>\n",
       "      <td>3</td>\n",
       "      <td>9.5M</td>\n",
       "      <td>1,000+</td>\n",
       "      <td>Free</td>\n",
       "      <td>0</td>\n",
       "      <td>Everyone</td>\n",
       "      <td>Medical</td>\n",
       "      <td>January 20, 2017</td>\n",
       "      <td>1.0</td>\n",
       "      <td>2.2 and up</td>\n",
       "    </tr>\n",
       "    <tr>\n",
       "      <th>10839</th>\n",
       "      <td>The SCP Foundation DB fr nn5n</td>\n",
       "      <td>BOOKS_AND_REFERENCE</td>\n",
       "      <td>4.5</td>\n",
       "      <td>114</td>\n",
       "      <td>Varies with device</td>\n",
       "      <td>1,000+</td>\n",
       "      <td>Free</td>\n",
       "      <td>0</td>\n",
       "      <td>Mature 17+</td>\n",
       "      <td>Books &amp; Reference</td>\n",
       "      <td>January 19, 2015</td>\n",
       "      <td>Varies with device</td>\n",
       "      <td>Varies with device</td>\n",
       "    </tr>\n",
       "    <tr>\n",
       "      <th>10840</th>\n",
       "      <td>iHoroscope - 2018 Daily Horoscope &amp; Astrology</td>\n",
       "      <td>LIFESTYLE</td>\n",
       "      <td>4.5</td>\n",
       "      <td>398307</td>\n",
       "      <td>19M</td>\n",
       "      <td>10,000,000+</td>\n",
       "      <td>Free</td>\n",
       "      <td>0</td>\n",
       "      <td>Everyone</td>\n",
       "      <td>Lifestyle</td>\n",
       "      <td>July 25, 2018</td>\n",
       "      <td>Varies with device</td>\n",
       "      <td>Varies with device</td>\n",
       "    </tr>\n",
       "  </tbody>\n",
       "</table>\n",
       "</div>"
      ],
      "text/plain": [
       "                                                 App             Category  \\\n",
       "10836                               Sya9a Maroc - FR               FAMILY   \n",
       "10837               Fr. Mike Schmitz Audio Teachings               FAMILY   \n",
       "10838                         Parkinson Exercices FR              MEDICAL   \n",
       "10839                  The SCP Foundation DB fr nn5n  BOOKS_AND_REFERENCE   \n",
       "10840  iHoroscope - 2018 Daily Horoscope & Astrology            LIFESTYLE   \n",
       "\n",
       "       Rating Reviews                Size     Installs  Type Price  \\\n",
       "10836     4.5      38                 53M       5,000+  Free     0   \n",
       "10837     5.0       4                3.6M         100+  Free     0   \n",
       "10838     NaN       3                9.5M       1,000+  Free     0   \n",
       "10839     4.5     114  Varies with device       1,000+  Free     0   \n",
       "10840     4.5  398307                 19M  10,000,000+  Free     0   \n",
       "\n",
       "      Content Rating             Genres      Last Updated         Current Ver  \\\n",
       "10836       Everyone          Education     July 25, 2017                1.48   \n",
       "10837       Everyone          Education      July 6, 2018                 1.0   \n",
       "10838       Everyone            Medical  January 20, 2017                 1.0   \n",
       "10839     Mature 17+  Books & Reference  January 19, 2015  Varies with device   \n",
       "10840       Everyone          Lifestyle     July 25, 2018  Varies with device   \n",
       "\n",
       "              Android Ver  \n",
       "10836          4.1 and up  \n",
       "10837          4.1 and up  \n",
       "10838          2.2 and up  \n",
       "10839  Varies with device  \n",
       "10840  Varies with device  "
      ]
     },
     "execution_count": 5,
     "metadata": {},
     "output_type": "execute_result"
    }
   ],
   "source": [
    "# Displying the last 10 rows of dataset and understanding the type of data \n",
    "df.tail()"
   ]
  },
  {
   "cell_type": "code",
   "execution_count": 6,
   "id": "3b72cf3b",
   "metadata": {
    "scrolled": true
   },
   "outputs": [
    {
     "data": {
      "text/plain": [
       "(10841, 13)"
      ]
     },
     "execution_count": 6,
     "metadata": {},
     "output_type": "execute_result"
    }
   ],
   "source": [
    "df.shape"
   ]
  },
  {
   "cell_type": "markdown",
   "id": "df55c91c",
   "metadata": {},
   "source": [
    "This dataset has a total of 10841 rows and 13 columns"
   ]
  },
  {
   "cell_type": "markdown",
   "id": "1f1d043b",
   "metadata": {},
   "source": [
    "# Understanding raw data\n",
    "\n",
    "<ul>\n",
    "    <li>\n",
    "        The given data is about the apps available on play store.\n",
    "    </li></br>\n",
    "    <li>\n",
    "        Through this data we have information of 10841 apps on 13 different categories. Lets discuss the different categories one by one:</br>\n",
    "        <ol>\n",
    "    <li>\n",
    "        <b>App</b> - It tells us about the name of the application with a short description (optional).\n",
    "    </li></br>\n",
    "    <li>\n",
    "        <b>Category</b> - It gives the category of the app.\n",
    "    </li></br>\n",
    "    <li>\n",
    "        <b>Rating</b> - It contains the average rating the app received from its users.\n",
    "    </li></br>\n",
    "    <li>\n",
    "        <b>Reviews</b> - It tells us about the total number of users who gave reviews for the application.\n",
    "    </li></br>\n",
    "    <li>\n",
    "        <b>Size</b> - It tells us about the size of the app\n",
    "    </li></br>\n",
    "    <li>\n",
    "        <b>Installs</b> - It tells us about the total number of downloads for the application.\n",
    "    </li></br>\n",
    "    <li>\n",
    "        <b>Type</b> - It states whether an app is free or pay to use\n",
    "    </li></br>\n",
    "    <li>\n",
    "        <b>Price</b> - It gives the price payable to install the app. For free type apps, the price is zero.\n",
    "    </li></br>\n",
    "    <li>\n",
    "        <b>Content Rating</b> - It states whether or not an app is suitable for all age groups or not.\n",
    "    </li></br>\n",
    "    <li>\n",
    "        <b>Genres</b> - It tells us about the various categories under which the application falls.\n",
    "    </li></br>\n",
    "    <li>\n",
    "        <b>Last Updated</b> - It tells us the time when the application was last updated.\n",
    "    </li></br>\n",
    "    <li>\n",
    "        <b>Current Ver</b> - It tells us about the current version of the application.\n",
    "    </li></br>\n",
    "    <li>\n",
    "        <b>Android Ver</b> - It tells us about the android version which can support the application on its platform.\n",
    "    </li></br>\n",
    "</ol>\n",
    "    </li>\n",
    "</ul>\n",
    "\n"
   ]
  },
  {
   "cell_type": "code",
   "execution_count": 7,
   "id": "bcc6e0a0",
   "metadata": {},
   "outputs": [
    {
     "name": "stdout",
     "output_type": "stream",
     "text": [
      "<class 'pandas.core.frame.DataFrame'>\n",
      "RangeIndex: 10841 entries, 0 to 10840\n",
      "Data columns (total 13 columns):\n",
      " #   Column          Non-Null Count  Dtype  \n",
      "---  ------          --------------  -----  \n",
      " 0   App             10841 non-null  object \n",
      " 1   Category        10841 non-null  object \n",
      " 2   Rating          9367 non-null   float64\n",
      " 3   Reviews         10841 non-null  object \n",
      " 4   Size            10841 non-null  object \n",
      " 5   Installs        10841 non-null  object \n",
      " 6   Type            10840 non-null  object \n",
      " 7   Price           10841 non-null  object \n",
      " 8   Content Rating  10840 non-null  object \n",
      " 9   Genres          10841 non-null  object \n",
      " 10  Last Updated    10841 non-null  object \n",
      " 11  Current Ver     10833 non-null  object \n",
      " 12  Android Ver     10838 non-null  object \n",
      "dtypes: float64(1), object(12)\n",
      "memory usage: 1.1+ MB\n"
     ]
    }
   ],
   "source": [
    "# info() gives an overview of different columns in the dataset, their datatypes and count of non-null values.\n",
    "df.info()"
   ]
  },
  {
   "cell_type": "code",
   "execution_count": 8,
   "id": "5227bcd4",
   "metadata": {},
   "outputs": [
    {
     "data": {
      "text/plain": [
       "140933"
      ]
     },
     "execution_count": 8,
     "metadata": {},
     "output_type": "execute_result"
    }
   ],
   "source": [
    "df.size"
   ]
  },
  {
   "cell_type": "markdown",
   "id": "2399e966",
   "metadata": {},
   "source": [
    "There are a total of 140933 records in the dataset"
   ]
  },
  {
   "cell_type": "code",
   "execution_count": 9,
   "id": "adddccee",
   "metadata": {
    "scrolled": true
   },
   "outputs": [
    {
     "data": {
      "text/plain": [
       "ROBLOX                                                9\n",
       "CBS Sports App - Scores, News, Stats & Watch Live     8\n",
       "ESPN                                                  7\n",
       "Duolingo: Learn Languages Free                        7\n",
       "Candy Crush Saga                                      7\n",
       "                                                     ..\n",
       "Meet U - Get Friends for Snapchat, Kik & Instagram    1\n",
       "U-Report                                              1\n",
       "U of I Community Credit Union                         1\n",
       "Waiting For U Launcher Theme                          1\n",
       "iHoroscope - 2018 Daily Horoscope & Astrology         1\n",
       "Name: App, Length: 9660, dtype: int64"
      ]
     },
     "execution_count": 9,
     "metadata": {},
     "output_type": "execute_result"
    }
   ],
   "source": [
    "# Counting the values of diferent apps\n",
    "df[\"App\"].value_counts()"
   ]
  },
  {
   "cell_type": "markdown",
   "id": "c95bc890",
   "metadata": {},
   "source": [
    "We have many apps that are repeated or duplicated. Duplication needs to be cleaned."
   ]
  },
  {
   "cell_type": "code",
   "execution_count": 10,
   "id": "136f14e4",
   "metadata": {
    "scrolled": true
   },
   "outputs": [
    {
     "data": {
      "text/plain": [
       "FAMILY                 1972\n",
       "GAME                   1144\n",
       "TOOLS                   843\n",
       "MEDICAL                 463\n",
       "BUSINESS                460\n",
       "PRODUCTIVITY            424\n",
       "PERSONALIZATION         392\n",
       "COMMUNICATION           387\n",
       "SPORTS                  384\n",
       "LIFESTYLE               382\n",
       "FINANCE                 366\n",
       "HEALTH_AND_FITNESS      341\n",
       "PHOTOGRAPHY             335\n",
       "SOCIAL                  295\n",
       "NEWS_AND_MAGAZINES      283\n",
       "SHOPPING                260\n",
       "TRAVEL_AND_LOCAL        258\n",
       "DATING                  234\n",
       "BOOKS_AND_REFERENCE     231\n",
       "VIDEO_PLAYERS           175\n",
       "EDUCATION               156\n",
       "ENTERTAINMENT           149\n",
       "MAPS_AND_NAVIGATION     137\n",
       "FOOD_AND_DRINK          127\n",
       "HOUSE_AND_HOME           88\n",
       "LIBRARIES_AND_DEMO       85\n",
       "AUTO_AND_VEHICLES        85\n",
       "WEATHER                  82\n",
       "ART_AND_DESIGN           65\n",
       "EVENTS                   64\n",
       "PARENTING                60\n",
       "COMICS                   60\n",
       "BEAUTY                   53\n",
       "1.9                       1\n",
       "Name: Category, dtype: int64"
      ]
     },
     "execution_count": 10,
     "metadata": {},
     "output_type": "execute_result"
    }
   ],
   "source": [
    "# Counting the values of diferent categories\n",
    "df[\"Category\"].value_counts()"
   ]
  },
  {
   "cell_type": "markdown",
   "id": "cab159c9",
   "metadata": {},
   "source": [
    "We have many categories under which apps fall. "
   ]
  },
  {
   "cell_type": "code",
   "execution_count": 11,
   "id": "35682760",
   "metadata": {
    "scrolled": true
   },
   "outputs": [
    {
     "data": {
      "text/plain": [
       "4.4     1109\n",
       "4.3     1076\n",
       "4.5     1038\n",
       "4.2      952\n",
       "4.6      823\n",
       "4.1      708\n",
       "4.0      568\n",
       "4.7      499\n",
       "3.9      386\n",
       "3.8      303\n",
       "5.0      274\n",
       "3.7      239\n",
       "4.8      234\n",
       "3.6      174\n",
       "3.5      163\n",
       "3.4      128\n",
       "3.3      102\n",
       "4.9       87\n",
       "3.0       83\n",
       "3.1       69\n",
       "3.2       64\n",
       "2.9       45\n",
       "2.8       42\n",
       "2.7       25\n",
       "2.6       25\n",
       "2.5       21\n",
       "2.3       20\n",
       "2.4       19\n",
       "1.0       16\n",
       "2.2       14\n",
       "1.9       13\n",
       "2.0       12\n",
       "1.7        8\n",
       "1.8        8\n",
       "2.1        8\n",
       "1.6        4\n",
       "1.4        3\n",
       "1.5        3\n",
       "1.2        1\n",
       "19.0       1\n",
       "Name: Rating, dtype: int64"
      ]
     },
     "execution_count": 11,
     "metadata": {},
     "output_type": "execute_result"
    }
   ],
   "source": [
    "df[\"Rating\"].value_counts()"
   ]
  },
  {
   "cell_type": "code",
   "execution_count": 12,
   "id": "6e018586",
   "metadata": {
    "scrolled": false
   },
   "outputs": [
    {
     "data": {
      "text/plain": [
       "0         596\n",
       "1         272\n",
       "2         214\n",
       "3         175\n",
       "4         137\n",
       "         ... \n",
       "342912      1\n",
       "4272        1\n",
       "5517        1\n",
       "4057        1\n",
       "398307      1\n",
       "Name: Reviews, Length: 6002, dtype: int64"
      ]
     },
     "execution_count": 12,
     "metadata": {},
     "output_type": "execute_result"
    }
   ],
   "source": [
    "df[\"Reviews\"].value_counts()"
   ]
  },
  {
   "cell_type": "code",
   "execution_count": 13,
   "id": "8bfdb04e",
   "metadata": {
    "scrolled": true
   },
   "outputs": [
    {
     "data": {
      "text/plain": [
       "Varies with device    1695\n",
       "11M                    198\n",
       "12M                    196\n",
       "14M                    194\n",
       "13M                    191\n",
       "                      ... \n",
       "429k                     1\n",
       "200k                     1\n",
       "460k                     1\n",
       "728k                     1\n",
       "619k                     1\n",
       "Name: Size, Length: 462, dtype: int64"
      ]
     },
     "execution_count": 13,
     "metadata": {},
     "output_type": "execute_result"
    }
   ],
   "source": [
    "df[\"Size\"].value_counts()"
   ]
  },
  {
   "cell_type": "markdown",
   "id": "0745d4f7",
   "metadata": {},
   "source": [
    "\"M\" in size represents MB and \"K\" represents KB. We'll need to convert the size column in single unit for better analysis"
   ]
  },
  {
   "cell_type": "code",
   "execution_count": 14,
   "id": "4c0521ab",
   "metadata": {
    "scrolled": true
   },
   "outputs": [
    {
     "data": {
      "text/plain": [
       "1,000,000+        1579\n",
       "10,000,000+       1252\n",
       "100,000+          1169\n",
       "10,000+           1054\n",
       "1,000+             907\n",
       "5,000,000+         752\n",
       "100+               719\n",
       "500,000+           539\n",
       "50,000+            479\n",
       "5,000+             477\n",
       "100,000,000+       409\n",
       "10+                386\n",
       "500+               330\n",
       "50,000,000+        289\n",
       "50+                205\n",
       "5+                  82\n",
       "500,000,000+        72\n",
       "1+                  67\n",
       "1,000,000,000+      58\n",
       "0+                  14\n",
       "0                    1\n",
       "Free                 1\n",
       "Name: Installs, dtype: int64"
      ]
     },
     "execution_count": 14,
     "metadata": {},
     "output_type": "execute_result"
    }
   ],
   "source": [
    "df[\"Installs\"].value_counts()"
   ]
  },
  {
   "cell_type": "markdown",
   "id": "6b1f13c3",
   "metadata": {},
   "source": [
    "We see that there are unwanted symbols like + and , in install column. We'll need to get rid of it"
   ]
  },
  {
   "cell_type": "code",
   "execution_count": 15,
   "id": "0ce3584c",
   "metadata": {
    "scrolled": true
   },
   "outputs": [
    {
     "data": {
      "text/plain": [
       "0         10040\n",
       "$0.99       148\n",
       "$2.99       129\n",
       "$1.99        73\n",
       "$4.99        72\n",
       "          ...  \n",
       "$1.75         1\n",
       "$14.00        1\n",
       "$4.85         1\n",
       "$46.99        1\n",
       "$1.04         1\n",
       "Name: Price, Length: 93, dtype: int64"
      ]
     },
     "execution_count": 15,
     "metadata": {},
     "output_type": "execute_result"
    }
   ],
   "source": [
    "df[\"Price\"].value_counts()"
   ]
  },
  {
   "cell_type": "markdown",
   "id": "27e6b8fe",
   "metadata": {},
   "source": [
    "Here we'll need to remove $ sign from price column"
   ]
  },
  {
   "cell_type": "code",
   "execution_count": 16,
   "id": "c567ecc6",
   "metadata": {},
   "outputs": [
    {
     "data": {
      "text/plain": [
       "Free    10039\n",
       "Paid      800\n",
       "0           1\n",
       "Name: Type, dtype: int64"
      ]
     },
     "execution_count": 16,
     "metadata": {},
     "output_type": "execute_result"
    }
   ],
   "source": [
    "# Counting the values of diferent categories\n",
    "df[\"Type\"].value_counts()"
   ]
  },
  {
   "cell_type": "markdown",
   "id": "cd97d355",
   "metadata": {},
   "source": [
    "We have 10039 apps available for free and 800 apps that are pay to use. We have a strange type with value 0. This value needs to be checked at the time of data cleaning."
   ]
  },
  {
   "cell_type": "code",
   "execution_count": 17,
   "id": "64554e00",
   "metadata": {
    "scrolled": true
   },
   "outputs": [
    {
     "data": {
      "text/plain": [
       "Everyone           8714\n",
       "Teen               1208\n",
       "Mature 17+          499\n",
       "Everyone 10+        414\n",
       "Adults only 18+       3\n",
       "Unrated               2\n",
       "Name: Content Rating, dtype: int64"
      ]
     },
     "execution_count": 17,
     "metadata": {},
     "output_type": "execute_result"
    }
   ],
   "source": [
    "df[\"Content Rating\"].value_counts()"
   ]
  },
  {
   "cell_type": "markdown",
   "id": "d9e14817",
   "metadata": {},
   "source": [
    "Based on Content Rating we have 8714 apps that falls under everyone category, 1208 apps that falls under teen category\n",
    "499 apps under mature 17+ category, 414 apps under mature 10+ category, 3 apps under Adults only 18+ category and 2 underated apps"
   ]
  },
  {
   "cell_type": "code",
   "execution_count": 18,
   "id": "28f38422",
   "metadata": {},
   "outputs": [
    {
     "data": {
      "text/plain": [
       "Tools                     842\n",
       "Entertainment             623\n",
       "Education                 549\n",
       "Medical                   463\n",
       "Business                  460\n",
       "                         ... \n",
       "Arcade;Pretend Play         1\n",
       "Card;Brain Games            1\n",
       "Lifestyle;Pretend Play      1\n",
       "Comics;Creativity           1\n",
       "Strategy;Creativity         1\n",
       "Name: Genres, Length: 120, dtype: int64"
      ]
     },
     "execution_count": 18,
     "metadata": {},
     "output_type": "execute_result"
    }
   ],
   "source": [
    "df[\"Genres\"].value_counts()"
   ]
  },
  {
   "cell_type": "markdown",
   "id": "f2fd9191",
   "metadata": {},
   "source": [
    "Similarly we have different apps falling under different genres"
   ]
  },
  {
   "cell_type": "markdown",
   "id": "6e80ac45",
   "metadata": {},
   "source": [
    "## With the help of all the informations gathered above, I now have complete understanding of the dataset.\n",
    "\n",
    "#### Lets move onto next step."
   ]
  },
  {
   "cell_type": "markdown",
   "id": "5b039951",
   "metadata": {},
   "source": [
    "# Handling missing data "
   ]
  },
  {
   "cell_type": "code",
   "execution_count": 19,
   "id": "64c411db",
   "metadata": {},
   "outputs": [
    {
     "data": {
      "text/plain": [
       "App                  0\n",
       "Category             0\n",
       "Rating            1474\n",
       "Reviews              0\n",
       "Size                 0\n",
       "Installs             0\n",
       "Type                 1\n",
       "Price                0\n",
       "Content Rating       1\n",
       "Genres               0\n",
       "Last Updated         0\n",
       "Current Ver          8\n",
       "Android Ver          3\n",
       "dtype: int64"
      ]
     },
     "execution_count": 19,
     "metadata": {},
     "output_type": "execute_result"
    }
   ],
   "source": [
    "# Lets see the number of null values each column has\n",
    "df.isnull().sum()"
   ]
  },
  {
   "cell_type": "markdown",
   "id": "e8537a86",
   "metadata": {},
   "source": [
    "Rating column has 1474 null values</br>\n",
    "Content Rating column has 1 null value</br>\n",
    "Current Ver column has 8 null values</br>\n",
    "Android Ver column has 3 null values</br>"
   ]
  },
  {
   "cell_type": "code",
   "execution_count": 20,
   "id": "d205c944",
   "metadata": {
    "scrolled": true
   },
   "outputs": [
    {
     "data": {
      "text/html": [
       "<div>\n",
       "<style scoped>\n",
       "    .dataframe tbody tr th:only-of-type {\n",
       "        vertical-align: middle;\n",
       "    }\n",
       "\n",
       "    .dataframe tbody tr th {\n",
       "        vertical-align: top;\n",
       "    }\n",
       "\n",
       "    .dataframe thead th {\n",
       "        text-align: right;\n",
       "    }\n",
       "</style>\n",
       "<table border=\"1\" class=\"dataframe\">\n",
       "  <thead>\n",
       "    <tr style=\"text-align: right;\">\n",
       "      <th></th>\n",
       "      <th>App</th>\n",
       "      <th>Category</th>\n",
       "      <th>Rating</th>\n",
       "      <th>Reviews</th>\n",
       "      <th>Size</th>\n",
       "      <th>Installs</th>\n",
       "      <th>Type</th>\n",
       "      <th>Price</th>\n",
       "      <th>Content Rating</th>\n",
       "      <th>Genres</th>\n",
       "      <th>Last Updated</th>\n",
       "      <th>Current Ver</th>\n",
       "      <th>Android Ver</th>\n",
       "    </tr>\n",
       "  </thead>\n",
       "  <tbody>\n",
       "    <tr>\n",
       "      <th>10472</th>\n",
       "      <td>Life Made WI-Fi Touchscreen Photo Frame</td>\n",
       "      <td>1.9</td>\n",
       "      <td>19.0</td>\n",
       "      <td>3.0M</td>\n",
       "      <td>1,000+</td>\n",
       "      <td>Free</td>\n",
       "      <td>0</td>\n",
       "      <td>Everyone</td>\n",
       "      <td>NaN</td>\n",
       "      <td>February 11, 2018</td>\n",
       "      <td>1.0.19</td>\n",
       "      <td>4.0 and up</td>\n",
       "      <td>NaN</td>\n",
       "    </tr>\n",
       "  </tbody>\n",
       "</table>\n",
       "</div>"
      ],
      "text/plain": [
       "                                           App Category  Rating Reviews  \\\n",
       "10472  Life Made WI-Fi Touchscreen Photo Frame      1.9    19.0    3.0M   \n",
       "\n",
       "         Size Installs Type     Price Content Rating             Genres  \\\n",
       "10472  1,000+     Free    0  Everyone            NaN  February 11, 2018   \n",
       "\n",
       "      Last Updated Current Ver Android Ver  \n",
       "10472       1.0.19  4.0 and up         NaN  "
      ]
     },
     "execution_count": 20,
     "metadata": {},
     "output_type": "execute_result"
    }
   ],
   "source": [
    "df[df[\"Type\"] == '0']"
   ]
  },
  {
   "cell_type": "code",
   "execution_count": 21,
   "id": "607cbde7",
   "metadata": {},
   "outputs": [
    {
     "data": {
      "text/html": [
       "<div>\n",
       "<style scoped>\n",
       "    .dataframe tbody tr th:only-of-type {\n",
       "        vertical-align: middle;\n",
       "    }\n",
       "\n",
       "    .dataframe tbody tr th {\n",
       "        vertical-align: top;\n",
       "    }\n",
       "\n",
       "    .dataframe thead th {\n",
       "        text-align: right;\n",
       "    }\n",
       "</style>\n",
       "<table border=\"1\" class=\"dataframe\">\n",
       "  <thead>\n",
       "    <tr style=\"text-align: right;\">\n",
       "      <th></th>\n",
       "      <th>App</th>\n",
       "      <th>Category</th>\n",
       "      <th>Rating</th>\n",
       "      <th>Reviews</th>\n",
       "      <th>Size</th>\n",
       "      <th>Installs</th>\n",
       "      <th>Type</th>\n",
       "      <th>Price</th>\n",
       "      <th>Content Rating</th>\n",
       "      <th>Genres</th>\n",
       "      <th>Last Updated</th>\n",
       "      <th>Current Ver</th>\n",
       "      <th>Android Ver</th>\n",
       "    </tr>\n",
       "  </thead>\n",
       "  <tbody>\n",
       "    <tr>\n",
       "      <th>0</th>\n",
       "      <td>Photo Editor &amp; Candy Camera &amp; Grid &amp; ScrapBook</td>\n",
       "      <td>ART_AND_DESIGN</td>\n",
       "      <td>4.1</td>\n",
       "      <td>159</td>\n",
       "      <td>19M</td>\n",
       "      <td>10,000+</td>\n",
       "      <td>Free</td>\n",
       "      <td>0</td>\n",
       "      <td>Everyone</td>\n",
       "      <td>Art &amp; Design</td>\n",
       "      <td>January 7, 2018</td>\n",
       "      <td>1.0.0</td>\n",
       "      <td>4.0.3 and up</td>\n",
       "    </tr>\n",
       "    <tr>\n",
       "      <th>1</th>\n",
       "      <td>Coloring book moana</td>\n",
       "      <td>ART_AND_DESIGN</td>\n",
       "      <td>3.9</td>\n",
       "      <td>967</td>\n",
       "      <td>14M</td>\n",
       "      <td>500,000+</td>\n",
       "      <td>Free</td>\n",
       "      <td>0</td>\n",
       "      <td>Everyone</td>\n",
       "      <td>Art &amp; Design;Pretend Play</td>\n",
       "      <td>January 15, 2018</td>\n",
       "      <td>2.0.0</td>\n",
       "      <td>4.0.3 and up</td>\n",
       "    </tr>\n",
       "    <tr>\n",
       "      <th>2</th>\n",
       "      <td>U Launcher Lite – FREE Live Cool Themes, Hide ...</td>\n",
       "      <td>ART_AND_DESIGN</td>\n",
       "      <td>4.7</td>\n",
       "      <td>87510</td>\n",
       "      <td>8.7M</td>\n",
       "      <td>5,000,000+</td>\n",
       "      <td>Free</td>\n",
       "      <td>0</td>\n",
       "      <td>Everyone</td>\n",
       "      <td>Art &amp; Design</td>\n",
       "      <td>August 1, 2018</td>\n",
       "      <td>1.2.4</td>\n",
       "      <td>4.0.3 and up</td>\n",
       "    </tr>\n",
       "    <tr>\n",
       "      <th>3</th>\n",
       "      <td>Sketch - Draw &amp; Paint</td>\n",
       "      <td>ART_AND_DESIGN</td>\n",
       "      <td>4.5</td>\n",
       "      <td>215644</td>\n",
       "      <td>25M</td>\n",
       "      <td>50,000,000+</td>\n",
       "      <td>Free</td>\n",
       "      <td>0</td>\n",
       "      <td>Teen</td>\n",
       "      <td>Art &amp; Design</td>\n",
       "      <td>June 8, 2018</td>\n",
       "      <td>Varies with device</td>\n",
       "      <td>4.2 and up</td>\n",
       "    </tr>\n",
       "    <tr>\n",
       "      <th>4</th>\n",
       "      <td>Pixel Draw - Number Art Coloring Book</td>\n",
       "      <td>ART_AND_DESIGN</td>\n",
       "      <td>4.3</td>\n",
       "      <td>967</td>\n",
       "      <td>2.8M</td>\n",
       "      <td>100,000+</td>\n",
       "      <td>Free</td>\n",
       "      <td>0</td>\n",
       "      <td>Everyone</td>\n",
       "      <td>Art &amp; Design;Creativity</td>\n",
       "      <td>June 20, 2018</td>\n",
       "      <td>1.1</td>\n",
       "      <td>4.4 and up</td>\n",
       "    </tr>\n",
       "  </tbody>\n",
       "</table>\n",
       "</div>"
      ],
      "text/plain": [
       "                                                 App        Category  Rating  \\\n",
       "0     Photo Editor & Candy Camera & Grid & ScrapBook  ART_AND_DESIGN     4.1   \n",
       "1                                Coloring book moana  ART_AND_DESIGN     3.9   \n",
       "2  U Launcher Lite – FREE Live Cool Themes, Hide ...  ART_AND_DESIGN     4.7   \n",
       "3                              Sketch - Draw & Paint  ART_AND_DESIGN     4.5   \n",
       "4              Pixel Draw - Number Art Coloring Book  ART_AND_DESIGN     4.3   \n",
       "\n",
       "  Reviews  Size     Installs  Type Price Content Rating  \\\n",
       "0     159   19M      10,000+  Free     0       Everyone   \n",
       "1     967   14M     500,000+  Free     0       Everyone   \n",
       "2   87510  8.7M   5,000,000+  Free     0       Everyone   \n",
       "3  215644   25M  50,000,000+  Free     0           Teen   \n",
       "4     967  2.8M     100,000+  Free     0       Everyone   \n",
       "\n",
       "                      Genres      Last Updated         Current Ver  \\\n",
       "0               Art & Design   January 7, 2018               1.0.0   \n",
       "1  Art & Design;Pretend Play  January 15, 2018               2.0.0   \n",
       "2               Art & Design    August 1, 2018               1.2.4   \n",
       "3               Art & Design      June 8, 2018  Varies with device   \n",
       "4    Art & Design;Creativity     June 20, 2018                 1.1   \n",
       "\n",
       "    Android Ver  \n",
       "0  4.0.3 and up  \n",
       "1  4.0.3 and up  \n",
       "2  4.0.3 and up  \n",
       "3    4.2 and up  \n",
       "4    4.4 and up  "
      ]
     },
     "execution_count": 21,
     "metadata": {},
     "output_type": "execute_result"
    }
   ],
   "source": [
    "df.head()"
   ]
  },
  {
   "cell_type": "markdown",
   "id": "65c10c75",
   "metadata": {},
   "source": [
    "There's been a mistake while entering the data for row 10472. Hence we'll drop this row from the dataset."
   ]
  },
  {
   "cell_type": "markdown",
   "id": "6ae29fd5",
   "metadata": {},
   "source": [
    "## Dealing with null values in Rating column "
   ]
  },
  {
   "cell_type": "code",
   "execution_count": 22,
   "id": "415a7c26",
   "metadata": {},
   "outputs": [],
   "source": [
    "indexValue = df[df['Type'] == '0'].index\n",
    "df.drop(indexValue , inplace=True)"
   ]
  },
  {
   "cell_type": "code",
   "execution_count": 23,
   "id": "7975dda6",
   "metadata": {},
   "outputs": [
    {
     "data": {
      "text/plain": [
       "4.2"
      ]
     },
     "execution_count": 23,
     "metadata": {},
     "output_type": "execute_result"
    }
   ],
   "source": [
    "round(df[\"Rating\"].mean(),1)"
   ]
  },
  {
   "cell_type": "code",
   "execution_count": 24,
   "id": "54554f9d",
   "metadata": {},
   "outputs": [
    {
     "data": {
      "text/plain": [
       "4.3"
      ]
     },
     "execution_count": 24,
     "metadata": {},
     "output_type": "execute_result"
    }
   ],
   "source": [
    "df[\"Rating\"].median()"
   ]
  },
  {
   "cell_type": "markdown",
   "id": "40d249c0",
   "metadata": {},
   "source": [
    "Since mean of Rating column is 4.2 and median is 4.3. There is not much difference. We replace null values with the median value in rating column"
   ]
  },
  {
   "cell_type": "code",
   "execution_count": 25,
   "id": "b6e36a71",
   "metadata": {},
   "outputs": [],
   "source": [
    "df[\"Rating\"].fillna(value=df[\"Rating\"].median(), inplace=True)"
   ]
  },
  {
   "cell_type": "markdown",
   "id": "a056d6d3",
   "metadata": {},
   "source": [
    "Lets see the remaining columns in which null values are present"
   ]
  },
  {
   "cell_type": "code",
   "execution_count": 26,
   "id": "3dcc0eee",
   "metadata": {},
   "outputs": [
    {
     "data": {
      "text/plain": [
       "App               0\n",
       "Category          0\n",
       "Rating            0\n",
       "Reviews           0\n",
       "Size              0\n",
       "Installs          0\n",
       "Type              1\n",
       "Price             0\n",
       "Content Rating    0\n",
       "Genres            0\n",
       "Last Updated      0\n",
       "Current Ver       8\n",
       "Android Ver       2\n",
       "dtype: int64"
      ]
     },
     "execution_count": 26,
     "metadata": {},
     "output_type": "execute_result"
    }
   ],
   "source": [
    "df.isna().sum()"
   ]
  },
  {
   "cell_type": "code",
   "execution_count": 27,
   "id": "e325d556",
   "metadata": {},
   "outputs": [
    {
     "data": {
      "text/html": [
       "<div>\n",
       "<style scoped>\n",
       "    .dataframe tbody tr th:only-of-type {\n",
       "        vertical-align: middle;\n",
       "    }\n",
       "\n",
       "    .dataframe tbody tr th {\n",
       "        vertical-align: top;\n",
       "    }\n",
       "\n",
       "    .dataframe thead th {\n",
       "        text-align: right;\n",
       "    }\n",
       "</style>\n",
       "<table border=\"1\" class=\"dataframe\">\n",
       "  <thead>\n",
       "    <tr style=\"text-align: right;\">\n",
       "      <th></th>\n",
       "      <th>App</th>\n",
       "      <th>Category</th>\n",
       "      <th>Rating</th>\n",
       "      <th>Reviews</th>\n",
       "      <th>Size</th>\n",
       "      <th>Installs</th>\n",
       "      <th>Type</th>\n",
       "      <th>Price</th>\n",
       "      <th>Content Rating</th>\n",
       "      <th>Genres</th>\n",
       "      <th>Last Updated</th>\n",
       "      <th>Current Ver</th>\n",
       "      <th>Android Ver</th>\n",
       "    </tr>\n",
       "  </thead>\n",
       "  <tbody>\n",
       "    <tr>\n",
       "      <th>9148</th>\n",
       "      <td>Command &amp; Conquer: Rivals</td>\n",
       "      <td>FAMILY</td>\n",
       "      <td>4.3</td>\n",
       "      <td>0</td>\n",
       "      <td>Varies with device</td>\n",
       "      <td>0</td>\n",
       "      <td>NaN</td>\n",
       "      <td>0</td>\n",
       "      <td>Everyone 10+</td>\n",
       "      <td>Strategy</td>\n",
       "      <td>June 28, 2018</td>\n",
       "      <td>Varies with device</td>\n",
       "      <td>Varies with device</td>\n",
       "    </tr>\n",
       "  </tbody>\n",
       "</table>\n",
       "</div>"
      ],
      "text/plain": [
       "                            App Category  Rating Reviews                Size  \\\n",
       "9148  Command & Conquer: Rivals   FAMILY     4.3       0  Varies with device   \n",
       "\n",
       "     Installs Type Price Content Rating    Genres   Last Updated  \\\n",
       "9148        0  NaN     0   Everyone 10+  Strategy  June 28, 2018   \n",
       "\n",
       "             Current Ver         Android Ver  \n",
       "9148  Varies with device  Varies with device  "
      ]
     },
     "execution_count": 27,
     "metadata": {},
     "output_type": "execute_result"
    }
   ],
   "source": [
    "df[df['Type'].isna()]"
   ]
  },
  {
   "cell_type": "code",
   "execution_count": 28,
   "id": "175c6d17",
   "metadata": {},
   "outputs": [],
   "source": [
    "# Dropping the row with only null value in type column\n",
    "\n",
    "ind = df[df['Type'].isna()].index\n",
    "df.drop(ind , inplace=True)"
   ]
  },
  {
   "cell_type": "code",
   "execution_count": 29,
   "id": "f51ab79d",
   "metadata": {},
   "outputs": [
    {
     "data": {
      "text/html": [
       "<div>\n",
       "<style scoped>\n",
       "    .dataframe tbody tr th:only-of-type {\n",
       "        vertical-align: middle;\n",
       "    }\n",
       "\n",
       "    .dataframe tbody tr th {\n",
       "        vertical-align: top;\n",
       "    }\n",
       "\n",
       "    .dataframe thead th {\n",
       "        text-align: right;\n",
       "    }\n",
       "</style>\n",
       "<table border=\"1\" class=\"dataframe\">\n",
       "  <thead>\n",
       "    <tr style=\"text-align: right;\">\n",
       "      <th></th>\n",
       "      <th>App</th>\n",
       "      <th>Category</th>\n",
       "      <th>Rating</th>\n",
       "      <th>Reviews</th>\n",
       "      <th>Size</th>\n",
       "      <th>Installs</th>\n",
       "      <th>Type</th>\n",
       "      <th>Price</th>\n",
       "      <th>Content Rating</th>\n",
       "      <th>Genres</th>\n",
       "      <th>Last Updated</th>\n",
       "      <th>Current Ver</th>\n",
       "      <th>Android Ver</th>\n",
       "    </tr>\n",
       "  </thead>\n",
       "  <tbody>\n",
       "    <tr>\n",
       "      <th>15</th>\n",
       "      <td>Learn To Draw Kawaii Characters</td>\n",
       "      <td>ART_AND_DESIGN</td>\n",
       "      <td>3.2</td>\n",
       "      <td>55</td>\n",
       "      <td>2.7M</td>\n",
       "      <td>5,000+</td>\n",
       "      <td>Free</td>\n",
       "      <td>0</td>\n",
       "      <td>Everyone</td>\n",
       "      <td>Art &amp; Design</td>\n",
       "      <td>June 6, 2018</td>\n",
       "      <td>NaN</td>\n",
       "      <td>4.2 and up</td>\n",
       "    </tr>\n",
       "    <tr>\n",
       "      <th>1553</th>\n",
       "      <td>Market Update Helper</td>\n",
       "      <td>LIBRARIES_AND_DEMO</td>\n",
       "      <td>4.1</td>\n",
       "      <td>20145</td>\n",
       "      <td>11k</td>\n",
       "      <td>1,000,000+</td>\n",
       "      <td>Free</td>\n",
       "      <td>0</td>\n",
       "      <td>Everyone</td>\n",
       "      <td>Libraries &amp; Demo</td>\n",
       "      <td>February 12, 2013</td>\n",
       "      <td>NaN</td>\n",
       "      <td>1.5 and up</td>\n",
       "    </tr>\n",
       "    <tr>\n",
       "      <th>6322</th>\n",
       "      <td>Virtual DJ Sound Mixer</td>\n",
       "      <td>TOOLS</td>\n",
       "      <td>4.2</td>\n",
       "      <td>4010</td>\n",
       "      <td>8.7M</td>\n",
       "      <td>500,000+</td>\n",
       "      <td>Free</td>\n",
       "      <td>0</td>\n",
       "      <td>Everyone</td>\n",
       "      <td>Tools</td>\n",
       "      <td>May 10, 2017</td>\n",
       "      <td>NaN</td>\n",
       "      <td>4.0 and up</td>\n",
       "    </tr>\n",
       "    <tr>\n",
       "      <th>6803</th>\n",
       "      <td>BT Master</td>\n",
       "      <td>FAMILY</td>\n",
       "      <td>4.3</td>\n",
       "      <td>0</td>\n",
       "      <td>222k</td>\n",
       "      <td>100+</td>\n",
       "      <td>Free</td>\n",
       "      <td>0</td>\n",
       "      <td>Everyone</td>\n",
       "      <td>Education</td>\n",
       "      <td>November 6, 2016</td>\n",
       "      <td>NaN</td>\n",
       "      <td>1.6 and up</td>\n",
       "    </tr>\n",
       "    <tr>\n",
       "      <th>7333</th>\n",
       "      <td>Dots puzzle</td>\n",
       "      <td>FAMILY</td>\n",
       "      <td>4.0</td>\n",
       "      <td>179</td>\n",
       "      <td>14M</td>\n",
       "      <td>50,000+</td>\n",
       "      <td>Paid</td>\n",
       "      <td>$0.99</td>\n",
       "      <td>Everyone</td>\n",
       "      <td>Puzzle</td>\n",
       "      <td>April 18, 2018</td>\n",
       "      <td>NaN</td>\n",
       "      <td>4.0 and up</td>\n",
       "    </tr>\n",
       "    <tr>\n",
       "      <th>7407</th>\n",
       "      <td>Calculate My IQ</td>\n",
       "      <td>FAMILY</td>\n",
       "      <td>4.3</td>\n",
       "      <td>44</td>\n",
       "      <td>7.2M</td>\n",
       "      <td>10,000+</td>\n",
       "      <td>Free</td>\n",
       "      <td>0</td>\n",
       "      <td>Everyone</td>\n",
       "      <td>Entertainment</td>\n",
       "      <td>April 3, 2017</td>\n",
       "      <td>NaN</td>\n",
       "      <td>2.3 and up</td>\n",
       "    </tr>\n",
       "    <tr>\n",
       "      <th>7730</th>\n",
       "      <td>UFO-CQ</td>\n",
       "      <td>TOOLS</td>\n",
       "      <td>4.3</td>\n",
       "      <td>1</td>\n",
       "      <td>237k</td>\n",
       "      <td>10+</td>\n",
       "      <td>Paid</td>\n",
       "      <td>$0.99</td>\n",
       "      <td>Everyone</td>\n",
       "      <td>Tools</td>\n",
       "      <td>July 4, 2016</td>\n",
       "      <td>NaN</td>\n",
       "      <td>2.0 and up</td>\n",
       "    </tr>\n",
       "    <tr>\n",
       "      <th>10342</th>\n",
       "      <td>La Fe de Jesus</td>\n",
       "      <td>BOOKS_AND_REFERENCE</td>\n",
       "      <td>4.3</td>\n",
       "      <td>8</td>\n",
       "      <td>658k</td>\n",
       "      <td>1,000+</td>\n",
       "      <td>Free</td>\n",
       "      <td>0</td>\n",
       "      <td>Everyone</td>\n",
       "      <td>Books &amp; Reference</td>\n",
       "      <td>January 31, 2017</td>\n",
       "      <td>NaN</td>\n",
       "      <td>3.0 and up</td>\n",
       "    </tr>\n",
       "  </tbody>\n",
       "</table>\n",
       "</div>"
      ],
      "text/plain": [
       "                                   App             Category  Rating Reviews  \\\n",
       "15     Learn To Draw Kawaii Characters       ART_AND_DESIGN     3.2      55   \n",
       "1553              Market Update Helper   LIBRARIES_AND_DEMO     4.1   20145   \n",
       "6322            Virtual DJ Sound Mixer                TOOLS     4.2    4010   \n",
       "6803                         BT Master               FAMILY     4.3       0   \n",
       "7333                       Dots puzzle               FAMILY     4.0     179   \n",
       "7407                   Calculate My IQ               FAMILY     4.3      44   \n",
       "7730                            UFO-CQ                TOOLS     4.3       1   \n",
       "10342                   La Fe de Jesus  BOOKS_AND_REFERENCE     4.3       8   \n",
       "\n",
       "       Size    Installs  Type  Price Content Rating             Genres  \\\n",
       "15     2.7M      5,000+  Free      0       Everyone       Art & Design   \n",
       "1553    11k  1,000,000+  Free      0       Everyone   Libraries & Demo   \n",
       "6322   8.7M    500,000+  Free      0       Everyone              Tools   \n",
       "6803   222k        100+  Free      0       Everyone          Education   \n",
       "7333    14M     50,000+  Paid  $0.99       Everyone             Puzzle   \n",
       "7407   7.2M     10,000+  Free      0       Everyone      Entertainment   \n",
       "7730   237k         10+  Paid  $0.99       Everyone              Tools   \n",
       "10342  658k      1,000+  Free      0       Everyone  Books & Reference   \n",
       "\n",
       "            Last Updated Current Ver Android Ver  \n",
       "15          June 6, 2018         NaN  4.2 and up  \n",
       "1553   February 12, 2013         NaN  1.5 and up  \n",
       "6322        May 10, 2017         NaN  4.0 and up  \n",
       "6803    November 6, 2016         NaN  1.6 and up  \n",
       "7333      April 18, 2018         NaN  4.0 and up  \n",
       "7407       April 3, 2017         NaN  2.3 and up  \n",
       "7730        July 4, 2016         NaN  2.0 and up  \n",
       "10342   January 31, 2017         NaN  3.0 and up  "
      ]
     },
     "execution_count": 29,
     "metadata": {},
     "output_type": "execute_result"
    }
   ],
   "source": [
    "df[df['Current Ver'].isna()]"
   ]
  },
  {
   "cell_type": "code",
   "execution_count": 30,
   "id": "da091d41",
   "metadata": {},
   "outputs": [],
   "source": [
    "# Dropping the rows with null values in Current Ver column\n",
    "\n",
    "ind = df[df['Current Ver'].isna()].index\n",
    "df.drop(ind , inplace=True)"
   ]
  },
  {
   "cell_type": "code",
   "execution_count": 31,
   "id": "de52fd8a",
   "metadata": {},
   "outputs": [],
   "source": [
    "# Dropping the rows with null values in Android Ver column\n",
    "\n",
    "ind = df[df['Android Ver'].isna()].index\n",
    "df.drop(ind , inplace=True)"
   ]
  },
  {
   "cell_type": "code",
   "execution_count": 32,
   "id": "dbbb88b4",
   "metadata": {},
   "outputs": [
    {
     "data": {
      "text/plain": [
       "App               0\n",
       "Category          0\n",
       "Rating            0\n",
       "Reviews           0\n",
       "Size              0\n",
       "Installs          0\n",
       "Type              0\n",
       "Price             0\n",
       "Content Rating    0\n",
       "Genres            0\n",
       "Last Updated      0\n",
       "Current Ver       0\n",
       "Android Ver       0\n",
       "dtype: int64"
      ]
     },
     "execution_count": 32,
     "metadata": {},
     "output_type": "execute_result"
    }
   ],
   "source": [
    "df.isna().sum()"
   ]
  },
  {
   "cell_type": "markdown",
   "id": "fea1e984",
   "metadata": {},
   "source": [
    "###  Now the dataset is free of any null values . Great !!"
   ]
  },
  {
   "cell_type": "code",
   "execution_count": 33,
   "id": "ccd822c0",
   "metadata": {},
   "outputs": [
    {
     "data": {
      "text/html": [
       "<div>\n",
       "<style scoped>\n",
       "    .dataframe tbody tr th:only-of-type {\n",
       "        vertical-align: middle;\n",
       "    }\n",
       "\n",
       "    .dataframe tbody tr th {\n",
       "        vertical-align: top;\n",
       "    }\n",
       "\n",
       "    .dataframe thead th {\n",
       "        text-align: right;\n",
       "    }\n",
       "</style>\n",
       "<table border=\"1\" class=\"dataframe\">\n",
       "  <thead>\n",
       "    <tr style=\"text-align: right;\">\n",
       "      <th></th>\n",
       "      <th>App</th>\n",
       "      <th>Category</th>\n",
       "      <th>Rating</th>\n",
       "      <th>Reviews</th>\n",
       "      <th>Size</th>\n",
       "      <th>Installs</th>\n",
       "      <th>Type</th>\n",
       "      <th>Price</th>\n",
       "      <th>Content Rating</th>\n",
       "      <th>Genres</th>\n",
       "      <th>Last Updated</th>\n",
       "      <th>Current Ver</th>\n",
       "      <th>Android Ver</th>\n",
       "    </tr>\n",
       "  </thead>\n",
       "  <tbody>\n",
       "    <tr>\n",
       "      <th>0</th>\n",
       "      <td>Photo Editor &amp; Candy Camera &amp; Grid &amp; ScrapBook</td>\n",
       "      <td>ART_AND_DESIGN</td>\n",
       "      <td>4.1</td>\n",
       "      <td>159</td>\n",
       "      <td>19M</td>\n",
       "      <td>10,000+</td>\n",
       "      <td>Free</td>\n",
       "      <td>0</td>\n",
       "      <td>Everyone</td>\n",
       "      <td>Art &amp; Design</td>\n",
       "      <td>January 7, 2018</td>\n",
       "      <td>1.0.0</td>\n",
       "      <td>4.0.3 and up</td>\n",
       "    </tr>\n",
       "    <tr>\n",
       "      <th>1</th>\n",
       "      <td>Coloring book moana</td>\n",
       "      <td>ART_AND_DESIGN</td>\n",
       "      <td>3.9</td>\n",
       "      <td>967</td>\n",
       "      <td>14M</td>\n",
       "      <td>500,000+</td>\n",
       "      <td>Free</td>\n",
       "      <td>0</td>\n",
       "      <td>Everyone</td>\n",
       "      <td>Art &amp; Design;Pretend Play</td>\n",
       "      <td>January 15, 2018</td>\n",
       "      <td>2.0.0</td>\n",
       "      <td>4.0.3 and up</td>\n",
       "    </tr>\n",
       "    <tr>\n",
       "      <th>2</th>\n",
       "      <td>U Launcher Lite – FREE Live Cool Themes, Hide ...</td>\n",
       "      <td>ART_AND_DESIGN</td>\n",
       "      <td>4.7</td>\n",
       "      <td>87510</td>\n",
       "      <td>8.7M</td>\n",
       "      <td>5,000,000+</td>\n",
       "      <td>Free</td>\n",
       "      <td>0</td>\n",
       "      <td>Everyone</td>\n",
       "      <td>Art &amp; Design</td>\n",
       "      <td>August 1, 2018</td>\n",
       "      <td>1.2.4</td>\n",
       "      <td>4.0.3 and up</td>\n",
       "    </tr>\n",
       "    <tr>\n",
       "      <th>3</th>\n",
       "      <td>Sketch - Draw &amp; Paint</td>\n",
       "      <td>ART_AND_DESIGN</td>\n",
       "      <td>4.5</td>\n",
       "      <td>215644</td>\n",
       "      <td>25M</td>\n",
       "      <td>50,000,000+</td>\n",
       "      <td>Free</td>\n",
       "      <td>0</td>\n",
       "      <td>Teen</td>\n",
       "      <td>Art &amp; Design</td>\n",
       "      <td>June 8, 2018</td>\n",
       "      <td>Varies with device</td>\n",
       "      <td>4.2 and up</td>\n",
       "    </tr>\n",
       "    <tr>\n",
       "      <th>4</th>\n",
       "      <td>Pixel Draw - Number Art Coloring Book</td>\n",
       "      <td>ART_AND_DESIGN</td>\n",
       "      <td>4.3</td>\n",
       "      <td>967</td>\n",
       "      <td>2.8M</td>\n",
       "      <td>100,000+</td>\n",
       "      <td>Free</td>\n",
       "      <td>0</td>\n",
       "      <td>Everyone</td>\n",
       "      <td>Art &amp; Design;Creativity</td>\n",
       "      <td>June 20, 2018</td>\n",
       "      <td>1.1</td>\n",
       "      <td>4.4 and up</td>\n",
       "    </tr>\n",
       "  </tbody>\n",
       "</table>\n",
       "</div>"
      ],
      "text/plain": [
       "                                                 App        Category  Rating  \\\n",
       "0     Photo Editor & Candy Camera & Grid & ScrapBook  ART_AND_DESIGN     4.1   \n",
       "1                                Coloring book moana  ART_AND_DESIGN     3.9   \n",
       "2  U Launcher Lite – FREE Live Cool Themes, Hide ...  ART_AND_DESIGN     4.7   \n",
       "3                              Sketch - Draw & Paint  ART_AND_DESIGN     4.5   \n",
       "4              Pixel Draw - Number Art Coloring Book  ART_AND_DESIGN     4.3   \n",
       "\n",
       "  Reviews  Size     Installs  Type Price Content Rating  \\\n",
       "0     159   19M      10,000+  Free     0       Everyone   \n",
       "1     967   14M     500,000+  Free     0       Everyone   \n",
       "2   87510  8.7M   5,000,000+  Free     0       Everyone   \n",
       "3  215644   25M  50,000,000+  Free     0           Teen   \n",
       "4     967  2.8M     100,000+  Free     0       Everyone   \n",
       "\n",
       "                      Genres      Last Updated         Current Ver  \\\n",
       "0               Art & Design   January 7, 2018               1.0.0   \n",
       "1  Art & Design;Pretend Play  January 15, 2018               2.0.0   \n",
       "2               Art & Design    August 1, 2018               1.2.4   \n",
       "3               Art & Design      June 8, 2018  Varies with device   \n",
       "4    Art & Design;Creativity     June 20, 2018                 1.1   \n",
       "\n",
       "    Android Ver  \n",
       "0  4.0.3 and up  \n",
       "1  4.0.3 and up  \n",
       "2  4.0.3 and up  \n",
       "3    4.2 and up  \n",
       "4    4.4 and up  "
      ]
     },
     "execution_count": 33,
     "metadata": {},
     "output_type": "execute_result"
    }
   ],
   "source": [
    "df.head()"
   ]
  },
  {
   "cell_type": "markdown",
   "id": "428087ea",
   "metadata": {},
   "source": [
    "## Correcting the format of each column in the dataset"
   ]
  },
  {
   "cell_type": "code",
   "execution_count": 34,
   "id": "9a9d5fdb",
   "metadata": {},
   "outputs": [
    {
     "name": "stdout",
     "output_type": "stream",
     "text": [
      "<class 'pandas.core.frame.DataFrame'>\n",
      "Int64Index: 10829 entries, 0 to 10840\n",
      "Data columns (total 13 columns):\n",
      " #   Column          Non-Null Count  Dtype  \n",
      "---  ------          --------------  -----  \n",
      " 0   App             10829 non-null  object \n",
      " 1   Category        10829 non-null  object \n",
      " 2   Rating          10829 non-null  float64\n",
      " 3   Reviews         10829 non-null  object \n",
      " 4   Size            10829 non-null  object \n",
      " 5   Installs        10829 non-null  object \n",
      " 6   Type            10829 non-null  object \n",
      " 7   Price           10829 non-null  object \n",
      " 8   Content Rating  10829 non-null  object \n",
      " 9   Genres          10829 non-null  object \n",
      " 10  Last Updated    10829 non-null  object \n",
      " 11  Current Ver     10829 non-null  object \n",
      " 12  Android Ver     10829 non-null  object \n",
      "dtypes: float64(1), object(12)\n",
      "memory usage: 1.2+ MB\n"
     ]
    }
   ],
   "source": [
    "df.info()"
   ]
  },
  {
   "cell_type": "markdown",
   "id": "16c42b50",
   "metadata": {},
   "source": [
    "We need to convert Reviews column from object datatype to integer data type</br>\n",
    "We need to convert size column from object datatype to float data type after correcting the format of this column.</br>\n",
    "We need to convert install column from object datatype to integer data type after correcting the format of this column.</br>\n",
    "We need to convert price column from object datatype to integer data type after correcting the format of this column.</br>"
   ]
  },
  {
   "cell_type": "code",
   "execution_count": 35,
   "id": "fd31c9ef",
   "metadata": {},
   "outputs": [],
   "source": [
    "# Converting the data type of reviews column\n",
    "df[\"Reviews\"] = df[\"Reviews\"].astype('int64')"
   ]
  },
  {
   "cell_type": "code",
   "execution_count": 36,
   "id": "b988dd0e",
   "metadata": {},
   "outputs": [],
   "source": [
    "# we want to Replace all the unwanted character to convert datatye to numeric \n",
    "def clean_it(num):\n",
    "  \"\"\"This function takes a string and replace the following characters if present, '+', ',' ,'$', 'M', 'k', 'NaN'\"\"\"\n",
    "  if '+' in num:\n",
    "    num = num.replace('+','')\n",
    "  if ',' in num:\n",
    "    num = num.replace(',','')\n",
    "  if '$' in num:\n",
    "    num = num.replace('$','')\n",
    "  if 'M' in num:\n",
    "    num = str(int(float(num.replace('M',''))*1000))\n",
    "  if 'k' in num:\n",
    "    num = str(int(float(num.replace('k',''))))\n",
    "  if 'NaN' in num:\n",
    "    num = '0'\n",
    "  else:\n",
    "    pass\n",
    "  return num"
   ]
  },
  {
   "cell_type": "code",
   "execution_count": 39,
   "id": "4f7173d3",
   "metadata": {},
   "outputs": [
    {
     "name": "stdout",
     "output_type": "stream",
     "text": [
      "<class 'pandas.core.frame.DataFrame'>\n",
      "Int64Index: 10829 entries, 0 to 10840\n",
      "Data columns (total 13 columns):\n",
      " #   Column          Non-Null Count  Dtype  \n",
      "---  ------          --------------  -----  \n",
      " 0   App             10829 non-null  object \n",
      " 1   Category        10829 non-null  object \n",
      " 2   Rating          10829 non-null  float64\n",
      " 3   Reviews         10829 non-null  int64  \n",
      " 4   Size            10829 non-null  int64  \n",
      " 5   Installs        10829 non-null  int64  \n",
      " 6   Type            10829 non-null  object \n",
      " 7   Price           10829 non-null  float64\n",
      " 8   Content Rating  10829 non-null  object \n",
      " 9   Genres          10829 non-null  object \n",
      " 10  Last Updated    10829 non-null  object \n",
      " 11  Current Ver     10829 non-null  object \n",
      " 12  Android Ver     10829 non-null  object \n",
      "dtypes: float64(2), int64(3), object(8)\n",
      "memory usage: 1.2+ MB\n"
     ]
    }
   ],
   "source": [
    "#Changing the 'Reviews' column values into valid numeric values\n",
    "df['Reviews'] = pd.to_numeric(df['Reviews'])\n",
    "\n",
    "#Changing the 'Size' column values into valid numeric values\n",
    "df['Size'] = df['Size'].apply(lambda x: str(x).replace('Varies with device', 'NaN') if 'Varies with device' in str(x) else x)\n",
    "df['Size'] = pd.to_numeric(df['Size'].map(lambda x: clean_it(x)))\n",
    "\n",
    "#Changing the 'Installs' column values into valid numeric values\n",
    "df['Installs'] = pd.to_numeric(df['Installs'].map(lambda x: clean_it(x)))\n",
    "\n",
    "#Changing the 'Price' column values into valid numeric values\n",
    "df['Price'] = pd.to_numeric (df['Price'].map(lambda x:clean_it(x)))\n",
    "df.info()"
   ]
  },
  {
   "cell_type": "markdown",
   "id": "59a911e3",
   "metadata": {},
   "source": [
    "# Lets handle the duplicate values that was found in the App column earlier"
   ]
  },
  {
   "cell_type": "code",
   "execution_count": 40,
   "id": "4298e545",
   "metadata": {},
   "outputs": [
    {
     "data": {
      "text/plain": [
       "ROBLOX                                                9\n",
       "CBS Sports App - Scores, News, Stats & Watch Live     8\n",
       "Candy Crush Saga                                      7\n",
       "8 Ball Pool                                           7\n",
       "ESPN                                                  7\n",
       "                                                     ..\n",
       "Meet U - Get Friends for Snapchat, Kik & Instagram    1\n",
       "U-Report                                              1\n",
       "U of I Community Credit Union                         1\n",
       "Waiting For U Launcher Theme                          1\n",
       "iHoroscope - 2018 Daily Horoscope & Astrology         1\n",
       "Name: App, Length: 9648, dtype: int64"
      ]
     },
     "execution_count": 40,
     "metadata": {},
     "output_type": "execute_result"
    }
   ],
   "source": [
    "df[\"App\"].value_counts()"
   ]
  },
  {
   "cell_type": "code",
   "execution_count": 41,
   "id": "2a23efc4",
   "metadata": {},
   "outputs": [
    {
     "data": {
      "text/plain": [
       "1181"
      ]
     },
     "execution_count": 41,
     "metadata": {},
     "output_type": "execute_result"
    }
   ],
   "source": [
    "df[\"App\"].duplicated().sum()"
   ]
  },
  {
   "cell_type": "markdown",
   "id": "26b17e25",
   "metadata": {},
   "source": [
    "1181 duplicates are present in the App Column. We need to get rid of  the duplicate column hence we drop the rows with duplicate values"
   ]
  },
  {
   "cell_type": "code",
   "execution_count": 42,
   "id": "670d2581",
   "metadata": {},
   "outputs": [
    {
     "data": {
      "text/plain": [
       "(10829, 13)"
      ]
     },
     "execution_count": 42,
     "metadata": {},
     "output_type": "execute_result"
    }
   ],
   "source": [
    "df.shape"
   ]
  },
  {
   "cell_type": "code",
   "execution_count": 45,
   "id": "4c921c9b",
   "metadata": {},
   "outputs": [],
   "source": [
    "df.drop_duplicates(subset=\"App\", keep='first', inplace=True)"
   ]
  },
  {
   "cell_type": "code",
   "execution_count": 46,
   "id": "c3562c37",
   "metadata": {},
   "outputs": [
    {
     "data": {
      "text/plain": [
       "(9648, 13)"
      ]
     },
     "execution_count": 46,
     "metadata": {},
     "output_type": "execute_result"
    }
   ],
   "source": [
    "df.shape"
   ]
  },
  {
   "cell_type": "code",
   "execution_count": 47,
   "id": "ffd4c632",
   "metadata": {},
   "outputs": [
    {
     "data": {
      "text/plain": [
       "Photo Editor & Candy Camera & Grid & ScrapBook    1\n",
       "CK Pharmacies                                     1\n",
       "CK Call NEW                                       1\n",
       "Ck Coif                                           1\n",
       "CONTRACT KILLER: ZOMBIES                          1\n",
       "                                                 ..\n",
       "KineMaster – Pro Video Editor                     1\n",
       "Block City Wars + skins export                    1\n",
       "Bike Race Free - Top Motorcycle Racing Games      1\n",
       "Dance School Stories - Dance Dreams Come True     1\n",
       "iHoroscope - 2018 Daily Horoscope & Astrology     1\n",
       "Name: App, Length: 9648, dtype: int64"
      ]
     },
     "execution_count": 47,
     "metadata": {},
     "output_type": "execute_result"
    }
   ],
   "source": [
    "df['App'].value_counts()"
   ]
  },
  {
   "cell_type": "markdown",
   "id": "c685e9b8",
   "metadata": {},
   "source": [
    "Now we have only one row for each app. Hence now we do not have any duplicated value in the App column"
   ]
  },
  {
   "cell_type": "markdown",
   "id": "434538cd",
   "metadata": {},
   "source": [
    "# Lets us now clean the user review data"
   ]
  },
  {
   "cell_type": "code",
   "execution_count": 49,
   "id": "4721ed66",
   "metadata": {},
   "outputs": [
    {
     "data": {
      "text/html": [
       "<div>\n",
       "<style scoped>\n",
       "    .dataframe tbody tr th:only-of-type {\n",
       "        vertical-align: middle;\n",
       "    }\n",
       "\n",
       "    .dataframe tbody tr th {\n",
       "        vertical-align: top;\n",
       "    }\n",
       "\n",
       "    .dataframe thead th {\n",
       "        text-align: right;\n",
       "    }\n",
       "</style>\n",
       "<table border=\"1\" class=\"dataframe\">\n",
       "  <thead>\n",
       "    <tr style=\"text-align: right;\">\n",
       "      <th></th>\n",
       "      <th>App</th>\n",
       "      <th>Translated_Review</th>\n",
       "      <th>Sentiment</th>\n",
       "      <th>Sentiment_Polarity</th>\n",
       "      <th>Sentiment_Subjectivity</th>\n",
       "    </tr>\n",
       "  </thead>\n",
       "  <tbody>\n",
       "    <tr>\n",
       "      <th>0</th>\n",
       "      <td>10 Best Foods for You</td>\n",
       "      <td>I like eat delicious food. That's I'm cooking ...</td>\n",
       "      <td>Positive</td>\n",
       "      <td>1.00</td>\n",
       "      <td>0.533333</td>\n",
       "    </tr>\n",
       "    <tr>\n",
       "      <th>1</th>\n",
       "      <td>10 Best Foods for You</td>\n",
       "      <td>This help eating healthy exercise regular basis</td>\n",
       "      <td>Positive</td>\n",
       "      <td>0.25</td>\n",
       "      <td>0.288462</td>\n",
       "    </tr>\n",
       "    <tr>\n",
       "      <th>2</th>\n",
       "      <td>10 Best Foods for You</td>\n",
       "      <td>NaN</td>\n",
       "      <td>NaN</td>\n",
       "      <td>NaN</td>\n",
       "      <td>NaN</td>\n",
       "    </tr>\n",
       "    <tr>\n",
       "      <th>3</th>\n",
       "      <td>10 Best Foods for You</td>\n",
       "      <td>Works great especially going grocery store</td>\n",
       "      <td>Positive</td>\n",
       "      <td>0.40</td>\n",
       "      <td>0.875000</td>\n",
       "    </tr>\n",
       "    <tr>\n",
       "      <th>4</th>\n",
       "      <td>10 Best Foods for You</td>\n",
       "      <td>Best idea us</td>\n",
       "      <td>Positive</td>\n",
       "      <td>1.00</td>\n",
       "      <td>0.300000</td>\n",
       "    </tr>\n",
       "    <tr>\n",
       "      <th>5</th>\n",
       "      <td>10 Best Foods for You</td>\n",
       "      <td>Best way</td>\n",
       "      <td>Positive</td>\n",
       "      <td>1.00</td>\n",
       "      <td>0.300000</td>\n",
       "    </tr>\n",
       "    <tr>\n",
       "      <th>6</th>\n",
       "      <td>10 Best Foods for You</td>\n",
       "      <td>Amazing</td>\n",
       "      <td>Positive</td>\n",
       "      <td>0.60</td>\n",
       "      <td>0.900000</td>\n",
       "    </tr>\n",
       "    <tr>\n",
       "      <th>7</th>\n",
       "      <td>10 Best Foods for You</td>\n",
       "      <td>NaN</td>\n",
       "      <td>NaN</td>\n",
       "      <td>NaN</td>\n",
       "      <td>NaN</td>\n",
       "    </tr>\n",
       "    <tr>\n",
       "      <th>8</th>\n",
       "      <td>10 Best Foods for You</td>\n",
       "      <td>Looking forward app,</td>\n",
       "      <td>Neutral</td>\n",
       "      <td>0.00</td>\n",
       "      <td>0.000000</td>\n",
       "    </tr>\n",
       "    <tr>\n",
       "      <th>9</th>\n",
       "      <td>10 Best Foods for You</td>\n",
       "      <td>It helpful site ! It help foods get !</td>\n",
       "      <td>Neutral</td>\n",
       "      <td>0.00</td>\n",
       "      <td>0.000000</td>\n",
       "    </tr>\n",
       "  </tbody>\n",
       "</table>\n",
       "</div>"
      ],
      "text/plain": [
       "                     App                                  Translated_Review  \\\n",
       "0  10 Best Foods for You  I like eat delicious food. That's I'm cooking ...   \n",
       "1  10 Best Foods for You    This help eating healthy exercise regular basis   \n",
       "2  10 Best Foods for You                                                NaN   \n",
       "3  10 Best Foods for You         Works great especially going grocery store   \n",
       "4  10 Best Foods for You                                       Best idea us   \n",
       "5  10 Best Foods for You                                           Best way   \n",
       "6  10 Best Foods for You                                            Amazing   \n",
       "7  10 Best Foods for You                                                NaN   \n",
       "8  10 Best Foods for You                               Looking forward app,   \n",
       "9  10 Best Foods for You              It helpful site ! It help foods get !   \n",
       "\n",
       "  Sentiment  Sentiment_Polarity  Sentiment_Subjectivity  \n",
       "0  Positive                1.00                0.533333  \n",
       "1  Positive                0.25                0.288462  \n",
       "2       NaN                 NaN                     NaN  \n",
       "3  Positive                0.40                0.875000  \n",
       "4  Positive                1.00                0.300000  \n",
       "5  Positive                1.00                0.300000  \n",
       "6  Positive                0.60                0.900000  \n",
       "7       NaN                 NaN                     NaN  \n",
       "8   Neutral                0.00                0.000000  \n",
       "9   Neutral                0.00                0.000000  "
      ]
     },
     "execution_count": 49,
     "metadata": {},
     "output_type": "execute_result"
    }
   ],
   "source": [
    "ur_df = pd.read_csv(\"User Reviews.csv\")\n",
    "ur_df.head(10)"
   ]
  },
  {
   "cell_type": "code",
   "execution_count": 50,
   "id": "76aa8ef7",
   "metadata": {},
   "outputs": [
    {
     "data": {
      "text/plain": [
       "(64295, 5)"
      ]
     },
     "execution_count": 50,
     "metadata": {},
     "output_type": "execute_result"
    }
   ],
   "source": [
    "#Check no. of columns and row\n",
    "ur_df.shape"
   ]
  },
  {
   "cell_type": "code",
   "execution_count": 51,
   "id": "fb29f992",
   "metadata": {},
   "outputs": [
    {
     "name": "stdout",
     "output_type": "stream",
     "text": [
      "<class 'pandas.core.frame.DataFrame'>\n",
      "RangeIndex: 64295 entries, 0 to 64294\n",
      "Data columns (total 5 columns):\n",
      " #   Column                  Non-Null Count  Dtype  \n",
      "---  ------                  --------------  -----  \n",
      " 0   App                     64295 non-null  object \n",
      " 1   Translated_Review       37427 non-null  object \n",
      " 2   Sentiment               37432 non-null  object \n",
      " 3   Sentiment_Polarity      37432 non-null  float64\n",
      " 4   Sentiment_Subjectivity  37432 non-null  float64\n",
      "dtypes: float64(2), object(3)\n",
      "memory usage: 2.5+ MB\n"
     ]
    }
   ],
   "source": [
    "#Get some info about data\n",
    "ur_df.info()"
   ]
  },
  {
   "cell_type": "code",
   "execution_count": 54,
   "id": "073c97ee",
   "metadata": {},
   "outputs": [
    {
     "data": {
      "text/plain": [
       "Index(['App', 'Translated_Review', 'Sentiment', 'Sentiment_Polarity',\n",
       "       'Sentiment_Subjectivity'],\n",
       "      dtype='object')"
      ]
     },
     "execution_count": 54,
     "metadata": {},
     "output_type": "execute_result"
    }
   ],
   "source": [
    "ur_df.columns"
   ]
  },
  {
   "cell_type": "markdown",
   "id": "ee7018d1",
   "metadata": {},
   "source": [
    "User reviews dataframe has 64295 rows and 5 columns. The 5 columns are identified as follows:\n",
    "\n",
    "**App:** Contains the name of the app with a short description (optional).\n",
    "\n",
    "**Translated_Review:** It contains the English translation of the review dropped by the user of the app.\n",
    "\n",
    "**Sentiment:** It gives the attitude/emotion of the writer. It can be ‘Positive’, ‘Negative’, or ‘Neutral’.\n",
    "\n",
    "**Sentiment_Polarity:** It gives the polarity of the review. Its range is [-1,1], where 1 means ‘Positive statement’ and -1 means a ‘Negative statement’.\n",
    "\n",
    "**Sentiment_Subjectivity:** This value gives how close a reviewers opinion is to the opinion of the general public. Its range is[0,1]. Higher the subjectivity, closer is the reviewers opinion to the opinion of the general public, and lower subjectivity indicates the review is more of a factual information."
   ]
  },
  {
   "cell_type": "code",
   "execution_count": 57,
   "id": "079f9371",
   "metadata": {},
   "outputs": [
    {
     "data": {
      "text/plain": [
       "App                           0\n",
       "Translated_Review         26868\n",
       "Sentiment                 26863\n",
       "Sentiment_Polarity        26863\n",
       "Sentiment_Subjectivity    26863\n",
       "dtype: int64"
      ]
     },
     "execution_count": 57,
     "metadata": {},
     "output_type": "execute_result"
    }
   ],
   "source": [
    "# Lets check this dataset for null values\n",
    "ur_df.isna().sum()"
   ]
  },
  {
   "cell_type": "markdown",
   "id": "c1fb5b27",
   "metadata": {},
   "source": [
    "We drop all the null values from the dataset"
   ]
  },
  {
   "cell_type": "code",
   "execution_count": 58,
   "id": "4605cb19",
   "metadata": {},
   "outputs": [],
   "source": [
    "ur_df.dropna(inplace=True)"
   ]
  },
  {
   "cell_type": "code",
   "execution_count": 59,
   "id": "5b8e8b3f",
   "metadata": {},
   "outputs": [
    {
     "data": {
      "text/plain": [
       "App                       0\n",
       "Translated_Review         0\n",
       "Sentiment                 0\n",
       "Sentiment_Polarity        0\n",
       "Sentiment_Subjectivity    0\n",
       "dtype: int64"
      ]
     },
     "execution_count": 59,
     "metadata": {},
     "output_type": "execute_result"
    }
   ],
   "source": [
    "ur_df.isna().sum()"
   ]
  },
  {
   "cell_type": "code",
   "execution_count": 60,
   "id": "46a23763",
   "metadata": {},
   "outputs": [
    {
     "data": {
      "text/plain": [
       "(37427, 5)"
      ]
     },
     "execution_count": 60,
     "metadata": {},
     "output_type": "execute_result"
    }
   ],
   "source": [
    "ur_df.shape"
   ]
  },
  {
   "cell_type": "markdown",
   "id": "44f0c003",
   "metadata": {},
   "source": [
    "After dropping all the null values we are reduced to 37427 rows and 5 columns"
   ]
  },
  {
   "cell_type": "code",
   "execution_count": 61,
   "id": "71c0b0fd",
   "metadata": {},
   "outputs": [
    {
     "data": {
      "text/html": [
       "<div>\n",
       "<style scoped>\n",
       "    .dataframe tbody tr th:only-of-type {\n",
       "        vertical-align: middle;\n",
       "    }\n",
       "\n",
       "    .dataframe tbody tr th {\n",
       "        vertical-align: top;\n",
       "    }\n",
       "\n",
       "    .dataframe thead th {\n",
       "        text-align: right;\n",
       "    }\n",
       "</style>\n",
       "<table border=\"1\" class=\"dataframe\">\n",
       "  <thead>\n",
       "    <tr style=\"text-align: right;\">\n",
       "      <th></th>\n",
       "      <th>App</th>\n",
       "      <th>Translated_Review</th>\n",
       "      <th>Sentiment</th>\n",
       "      <th>Sentiment_Polarity</th>\n",
       "      <th>Sentiment_Subjectivity</th>\n",
       "    </tr>\n",
       "  </thead>\n",
       "  <tbody>\n",
       "    <tr>\n",
       "      <th>0</th>\n",
       "      <td>10 Best Foods for You</td>\n",
       "      <td>I like eat delicious food. That's I'm cooking ...</td>\n",
       "      <td>Positive</td>\n",
       "      <td>1.00</td>\n",
       "      <td>0.533333</td>\n",
       "    </tr>\n",
       "    <tr>\n",
       "      <th>1</th>\n",
       "      <td>10 Best Foods for You</td>\n",
       "      <td>This help eating healthy exercise regular basis</td>\n",
       "      <td>Positive</td>\n",
       "      <td>0.25</td>\n",
       "      <td>0.288462</td>\n",
       "    </tr>\n",
       "    <tr>\n",
       "      <th>3</th>\n",
       "      <td>10 Best Foods for You</td>\n",
       "      <td>Works great especially going grocery store</td>\n",
       "      <td>Positive</td>\n",
       "      <td>0.40</td>\n",
       "      <td>0.875000</td>\n",
       "    </tr>\n",
       "    <tr>\n",
       "      <th>4</th>\n",
       "      <td>10 Best Foods for You</td>\n",
       "      <td>Best idea us</td>\n",
       "      <td>Positive</td>\n",
       "      <td>1.00</td>\n",
       "      <td>0.300000</td>\n",
       "    </tr>\n",
       "    <tr>\n",
       "      <th>5</th>\n",
       "      <td>10 Best Foods for You</td>\n",
       "      <td>Best way</td>\n",
       "      <td>Positive</td>\n",
       "      <td>1.00</td>\n",
       "      <td>0.300000</td>\n",
       "    </tr>\n",
       "  </tbody>\n",
       "</table>\n",
       "</div>"
      ],
      "text/plain": [
       "                     App                                  Translated_Review  \\\n",
       "0  10 Best Foods for You  I like eat delicious food. That's I'm cooking ...   \n",
       "1  10 Best Foods for You    This help eating healthy exercise regular basis   \n",
       "3  10 Best Foods for You         Works great especially going grocery store   \n",
       "4  10 Best Foods for You                                       Best idea us   \n",
       "5  10 Best Foods for You                                           Best way   \n",
       "\n",
       "  Sentiment  Sentiment_Polarity  Sentiment_Subjectivity  \n",
       "0  Positive                1.00                0.533333  \n",
       "1  Positive                0.25                0.288462  \n",
       "3  Positive                0.40                0.875000  \n",
       "4  Positive                1.00                0.300000  \n",
       "5  Positive                1.00                0.300000  "
      ]
     },
     "execution_count": 61,
     "metadata": {},
     "output_type": "execute_result"
    }
   ],
   "source": [
    "ur_df.head()"
   ]
  },
  {
   "cell_type": "markdown",
   "id": "e00661f2",
   "metadata": {},
   "source": [
    "# Lets begin our Emploratory Data Analysis (EDA)"
   ]
  },
  {
   "cell_type": "markdown",
   "id": "f3a8bec4",
   "metadata": {},
   "source": [
    "### 1. Find out the app share in the playstore category wise"
   ]
  },
  {
   "cell_type": "code",
   "execution_count": 71,
   "id": "a748df44",
   "metadata": {},
   "outputs": [
    {
     "data": {
      "image/png": "[encoded data removed]",
      "text/plain": [
       "<Figure size 1800x1800 with 1 Axes>"
      ]
     },
     "metadata": {},
     "output_type": "display_data"
    }
   ],
   "source": [
    "# Size of figures\n",
    "plt.figure(figsize = (18,18))\n",
    "\n",
    "#define Seaborn color palette to use\n",
    "colors = sns.color_palette('pastel')\n",
    "\n",
    "#create pie chart\n",
    "plt.pie( df[\"Category\"].value_counts(), labels =df[\"Category\"].value_counts().index, colors = colors, autopct='%1.2f%%')\n",
    "plt.show()"
   ]
  },
  {
   "cell_type": "markdown",
   "id": "a84ff392",
   "metadata": {},
   "source": [
    "### 2. What are the top 5 categories of app ?"
   ]
  },
  {
   "cell_type": "code",
   "execution_count": 73,
   "id": "585b96ad",
   "metadata": {},
   "outputs": [
    {
     "data": {
      "text/plain": [
       "FAMILY      1828\n",
       "GAME         959\n",
       "TOOLS        825\n",
       "BUSINESS     420\n",
       "MEDICAL      395\n",
       "Name: Category, dtype: int64"
      ]
     },
     "execution_count": 73,
     "metadata": {},
     "output_type": "execute_result"
    }
   ],
   "source": [
    "df[\"Category\"].value_counts(ascending=False).head()"
   ]
  },
  {
   "cell_type": "markdown",
   "id": "262f0086",
   "metadata": {},
   "source": [
    "Inference:\n",
    "\n",
    "We see that family accounts for 18.97%(1829) of all of them, while games and tools account for 9.93%(959) and 8.56%(825) respectively."
   ]
  },
  {
   "cell_type": "markdown",
   "id": "789e2313",
   "metadata": {},
   "source": [
    "### 3. What category of App is most installed by the user ?\n"
   ]
  },
  {
   "cell_type": "code",
   "execution_count": 76,
   "id": "27ee00a8",
   "metadata": {},
   "outputs": [
    {
     "data": {
      "text/html": [
       "<div>\n",
       "<style scoped>\n",
       "    .dataframe tbody tr th:only-of-type {\n",
       "        vertical-align: middle;\n",
       "    }\n",
       "\n",
       "    .dataframe tbody tr th {\n",
       "        vertical-align: top;\n",
       "    }\n",
       "\n",
       "    .dataframe thead th {\n",
       "        text-align: right;\n",
       "    }\n",
       "</style>\n",
       "<table border=\"1\" class=\"dataframe\">\n",
       "  <thead>\n",
       "    <tr style=\"text-align: right;\">\n",
       "      <th></th>\n",
       "      <th>Rating</th>\n",
       "      <th>Reviews</th>\n",
       "      <th>Size</th>\n",
       "      <th>Installs</th>\n",
       "      <th>Price</th>\n",
       "    </tr>\n",
       "    <tr>\n",
       "      <th>Category</th>\n",
       "      <th></th>\n",
       "      <th></th>\n",
       "      <th></th>\n",
       "      <th></th>\n",
       "      <th></th>\n",
       "    </tr>\n",
       "  </thead>\n",
       "  <tbody>\n",
       "    <tr>\n",
       "      <th>ART_AND_DESIGN</th>\n",
       "      <td>4.373016</td>\n",
       "      <td>22526.158730</td>\n",
       "      <td>12131.746032</td>\n",
       "      <td>1.814811e+06</td>\n",
       "      <td>0.094762</td>\n",
       "    </tr>\n",
       "    <tr>\n",
       "      <th>AUTO_AND_VEHICLES</th>\n",
       "      <td>4.205882</td>\n",
       "      <td>13690.188235</td>\n",
       "      <td>17679.835294</td>\n",
       "      <td>6.250613e+05</td>\n",
       "      <td>0.158471</td>\n",
       "    </tr>\n",
       "    <tr>\n",
       "      <th>BEAUTY</th>\n",
       "      <td>4.283019</td>\n",
       "      <td>7476.226415</td>\n",
       "      <td>12233.962264</td>\n",
       "      <td>5.131519e+05</td>\n",
       "      <td>0.000000</td>\n",
       "    </tr>\n",
       "    <tr>\n",
       "      <th>BOOKS_AND_REFERENCE</th>\n",
       "      <td>4.334389</td>\n",
       "      <td>75662.018100</td>\n",
       "      <td>11527.031674</td>\n",
       "      <td>7.538319e+06</td>\n",
       "      <td>0.541946</td>\n",
       "    </tr>\n",
       "    <tr>\n",
       "      <th>BUSINESS</th>\n",
       "      <td>4.173810</td>\n",
       "      <td>23548.202381</td>\n",
       "      <td>12414.440476</td>\n",
       "      <td>1.659916e+06</td>\n",
       "      <td>0.417357</td>\n",
       "    </tr>\n",
       "    <tr>\n",
       "      <th>COMICS</th>\n",
       "      <td>4.185714</td>\n",
       "      <td>41822.696429</td>\n",
       "      <td>12070.589286</td>\n",
       "      <td>8.032348e+05</td>\n",
       "      <td>0.000000</td>\n",
       "    </tr>\n",
       "    <tr>\n",
       "      <th>COMMUNICATION</th>\n",
       "      <td>4.154921</td>\n",
       "      <td>907337.676190</td>\n",
       "      <td>8686.977778</td>\n",
       "      <td>3.504215e+07</td>\n",
       "      <td>0.263937</td>\n",
       "    </tr>\n",
       "    <tr>\n",
       "      <th>DATING</th>\n",
       "      <td>4.041520</td>\n",
       "      <td>21190.315789</td>\n",
       "      <td>14562.093567</td>\n",
       "      <td>8.241293e+05</td>\n",
       "      <td>0.160468</td>\n",
       "    </tr>\n",
       "    <tr>\n",
       "      <th>EDUCATION</th>\n",
       "      <td>4.363866</td>\n",
       "      <td>112303.764706</td>\n",
       "      <td>14252.789916</td>\n",
       "      <td>2.965983e+06</td>\n",
       "      <td>0.150924</td>\n",
       "    </tr>\n",
       "    <tr>\n",
       "      <th>ENTERTAINMENT</th>\n",
       "      <td>4.135294</td>\n",
       "      <td>340810.294118</td>\n",
       "      <td>14458.823529</td>\n",
       "      <td>2.072216e+07</td>\n",
       "      <td>0.078235</td>\n",
       "    </tr>\n",
       "    <tr>\n",
       "      <th>EVENTS</th>\n",
       "      <td>4.395313</td>\n",
       "      <td>2515.906250</td>\n",
       "      <td>12436.468750</td>\n",
       "      <td>2.495806e+05</td>\n",
       "      <td>1.718594</td>\n",
       "    </tr>\n",
       "    <tr>\n",
       "      <th>FAMILY</th>\n",
       "      <td>4.194311</td>\n",
       "      <td>78679.028993</td>\n",
       "      <td>25659.214989</td>\n",
       "      <td>2.422255e+06</td>\n",
       "      <td>1.312292</td>\n",
       "    </tr>\n",
       "    <tr>\n",
       "      <th>FINANCE</th>\n",
       "      <td>4.138551</td>\n",
       "      <td>36701.756522</td>\n",
       "      <td>15052.376812</td>\n",
       "      <td>1.319851e+06</td>\n",
       "      <td>8.408203</td>\n",
       "    </tr>\n",
       "    <tr>\n",
       "      <th>FOOD_AND_DRINK</th>\n",
       "      <td>4.192857</td>\n",
       "      <td>56473.464286</td>\n",
       "      <td>16102.678571</td>\n",
       "      <td>1.891060e+06</td>\n",
       "      <td>0.075714</td>\n",
       "    </tr>\n",
       "    <tr>\n",
       "      <th>GAME</th>\n",
       "      <td>4.249948</td>\n",
       "      <td>648903.763295</td>\n",
       "      <td>38112.148071</td>\n",
       "      <td>1.447229e+07</td>\n",
       "      <td>0.296465</td>\n",
       "    </tr>\n",
       "    <tr>\n",
       "      <th>HEALTH_AND_FITNESS</th>\n",
       "      <td>4.251736</td>\n",
       "      <td>74171.371528</td>\n",
       "      <td>16650.597222</td>\n",
       "      <td>3.972300e+06</td>\n",
       "      <td>0.223438</td>\n",
       "    </tr>\n",
       "    <tr>\n",
       "      <th>HOUSE_AND_HOME</th>\n",
       "      <td>4.174324</td>\n",
       "      <td>26079.013514</td>\n",
       "      <td>13380.486486</td>\n",
       "      <td>1.313682e+06</td>\n",
       "      <td>0.000000</td>\n",
       "    </tr>\n",
       "    <tr>\n",
       "      <th>LIBRARIES_AND_DEMO</th>\n",
       "      <td>4.208434</td>\n",
       "      <td>10682.963855</td>\n",
       "      <td>10347.253012</td>\n",
       "      <td>6.264567e+05</td>\n",
       "      <td>0.011928</td>\n",
       "    </tr>\n",
       "    <tr>\n",
       "      <th>LIFESTYLE</th>\n",
       "      <td>4.131436</td>\n",
       "      <td>32066.859079</td>\n",
       "      <td>13436.861789</td>\n",
       "      <td>1.365375e+06</td>\n",
       "      <td>6.398022</td>\n",
       "    </tr>\n",
       "    <tr>\n",
       "      <th>MAPS_AND_NAVIGATION</th>\n",
       "      <td>4.062595</td>\n",
       "      <td>135337.007634</td>\n",
       "      <td>13369.381679</td>\n",
       "      <td>3.841846e+06</td>\n",
       "      <td>0.205725</td>\n",
       "    </tr>\n",
       "    <tr>\n",
       "      <th>MEDICAL</th>\n",
       "      <td>4.202025</td>\n",
       "      <td>2994.863291</td>\n",
       "      <td>17877.718987</td>\n",
       "      <td>9.669159e+04</td>\n",
       "      <td>2.520759</td>\n",
       "    </tr>\n",
       "    <tr>\n",
       "      <th>NEWS_AND_MAGAZINES</th>\n",
       "      <td>4.156693</td>\n",
       "      <td>91063.889764</td>\n",
       "      <td>9868.141732</td>\n",
       "      <td>9.327629e+06</td>\n",
       "      <td>0.015669</td>\n",
       "    </tr>\n",
       "    <tr>\n",
       "      <th>PARENTING</th>\n",
       "      <td>4.300000</td>\n",
       "      <td>15972.183333</td>\n",
       "      <td>20261.666667</td>\n",
       "      <td>5.253518e+05</td>\n",
       "      <td>0.159667</td>\n",
       "    </tr>\n",
       "    <tr>\n",
       "      <th>PERSONALIZATION</th>\n",
       "      <td>4.324866</td>\n",
       "      <td>143162.195187</td>\n",
       "      <td>10499.312834</td>\n",
       "      <td>4.097550e+06</td>\n",
       "      <td>0.398369</td>\n",
       "    </tr>\n",
       "    <tr>\n",
       "      <th>PHOTOGRAPHY</th>\n",
       "      <td>4.166548</td>\n",
       "      <td>374915.551601</td>\n",
       "      <td>12376.822064</td>\n",
       "      <td>1.654501e+07</td>\n",
       "      <td>0.420925</td>\n",
       "    </tr>\n",
       "    <tr>\n",
       "      <th>PRODUCTIVITY</th>\n",
       "      <td>4.206150</td>\n",
       "      <td>148638.098930</td>\n",
       "      <td>9603.393048</td>\n",
       "      <td>1.548955e+07</td>\n",
       "      <td>0.670936</td>\n",
       "    </tr>\n",
       "    <tr>\n",
       "      <th>SHOPPING</th>\n",
       "      <td>4.237624</td>\n",
       "      <td>220553.118812</td>\n",
       "      <td>12883.965347</td>\n",
       "      <td>6.932420e+06</td>\n",
       "      <td>0.027129</td>\n",
       "    </tr>\n",
       "    <tr>\n",
       "      <th>SOCIAL</th>\n",
       "      <td>4.255230</td>\n",
       "      <td>953672.807531</td>\n",
       "      <td>12640.138075</td>\n",
       "      <td>2.296179e+07</td>\n",
       "      <td>0.066820</td>\n",
       "    </tr>\n",
       "    <tr>\n",
       "      <th>SPORTS</th>\n",
       "      <td>4.232923</td>\n",
       "      <td>108765.578462</td>\n",
       "      <td>21097.332308</td>\n",
       "      <td>3.373768e+06</td>\n",
       "      <td>0.307692</td>\n",
       "    </tr>\n",
       "    <tr>\n",
       "      <th>TOOLS</th>\n",
       "      <td>4.073455</td>\n",
       "      <td>278003.111515</td>\n",
       "      <td>7771.293333</td>\n",
       "      <td>9.698511e+06</td>\n",
       "      <td>0.322739</td>\n",
       "    </tr>\n",
       "    <tr>\n",
       "      <th>TRAVEL_AND_LOCAL</th>\n",
       "      <td>4.103196</td>\n",
       "      <td>122464.570776</td>\n",
       "      <td>19120.378995</td>\n",
       "      <td>1.321866e+07</td>\n",
       "      <td>0.228082</td>\n",
       "    </tr>\n",
       "    <tr>\n",
       "      <th>VIDEO_PLAYERS</th>\n",
       "      <td>4.068098</td>\n",
       "      <td>414015.754601</td>\n",
       "      <td>12304.785276</td>\n",
       "      <td>2.409143e+07</td>\n",
       "      <td>0.064172</td>\n",
       "    </tr>\n",
       "    <tr>\n",
       "      <th>WEATHER</th>\n",
       "      <td>4.248101</td>\n",
       "      <td>155634.987342</td>\n",
       "      <td>8988.379747</td>\n",
       "      <td>4.570893e+06</td>\n",
       "      <td>0.410380</td>\n",
       "    </tr>\n",
       "  </tbody>\n",
       "</table>\n",
       "</div>"
      ],
      "text/plain": [
       "                       Rating        Reviews          Size      Installs  \\\n",
       "Category                                                                   \n",
       "ART_AND_DESIGN       4.373016   22526.158730  12131.746032  1.814811e+06   \n",
       "AUTO_AND_VEHICLES    4.205882   13690.188235  17679.835294  6.250613e+05   \n",
       "BEAUTY               4.283019    7476.226415  12233.962264  5.131519e+05   \n",
       "BOOKS_AND_REFERENCE  4.334389   75662.018100  11527.031674  7.538319e+06   \n",
       "BUSINESS             4.173810   23548.202381  12414.440476  1.659916e+06   \n",
       "COMICS               4.185714   41822.696429  12070.589286  8.032348e+05   \n",
       "COMMUNICATION        4.154921  907337.676190   8686.977778  3.504215e+07   \n",
       "DATING               4.041520   21190.315789  14562.093567  8.241293e+05   \n",
       "EDUCATION            4.363866  112303.764706  14252.789916  2.965983e+06   \n",
       "ENTERTAINMENT        4.135294  340810.294118  14458.823529  2.072216e+07   \n",
       "EVENTS               4.395313    2515.906250  12436.468750  2.495806e+05   \n",
       "FAMILY               4.194311   78679.028993  25659.214989  2.422255e+06   \n",
       "FINANCE              4.138551   36701.756522  15052.376812  1.319851e+06   \n",
       "FOOD_AND_DRINK       4.192857   56473.464286  16102.678571  1.891060e+06   \n",
       "GAME                 4.249948  648903.763295  38112.148071  1.447229e+07   \n",
       "HEALTH_AND_FITNESS   4.251736   74171.371528  16650.597222  3.972300e+06   \n",
       "HOUSE_AND_HOME       4.174324   26079.013514  13380.486486  1.313682e+06   \n",
       "LIBRARIES_AND_DEMO   4.208434   10682.963855  10347.253012  6.264567e+05   \n",
       "LIFESTYLE            4.131436   32066.859079  13436.861789  1.365375e+06   \n",
       "MAPS_AND_NAVIGATION  4.062595  135337.007634  13369.381679  3.841846e+06   \n",
       "MEDICAL              4.202025    2994.863291  17877.718987  9.669159e+04   \n",
       "NEWS_AND_MAGAZINES   4.156693   91063.889764   9868.141732  9.327629e+06   \n",
       "PARENTING            4.300000   15972.183333  20261.666667  5.253518e+05   \n",
       "PERSONALIZATION      4.324866  143162.195187  10499.312834  4.097550e+06   \n",
       "PHOTOGRAPHY          4.166548  374915.551601  12376.822064  1.654501e+07   \n",
       "PRODUCTIVITY         4.206150  148638.098930   9603.393048  1.548955e+07   \n",
       "SHOPPING             4.237624  220553.118812  12883.965347  6.932420e+06   \n",
       "SOCIAL               4.255230  953672.807531  12640.138075  2.296179e+07   \n",
       "SPORTS               4.232923  108765.578462  21097.332308  3.373768e+06   \n",
       "TOOLS                4.073455  278003.111515   7771.293333  9.698511e+06   \n",
       "TRAVEL_AND_LOCAL     4.103196  122464.570776  19120.378995  1.321866e+07   \n",
       "VIDEO_PLAYERS        4.068098  414015.754601  12304.785276  2.409143e+07   \n",
       "WEATHER              4.248101  155634.987342   8988.379747  4.570893e+06   \n",
       "\n",
       "                        Price  \n",
       "Category                       \n",
       "ART_AND_DESIGN       0.094762  \n",
       "AUTO_AND_VEHICLES    0.158471  \n",
       "BEAUTY               0.000000  \n",
       "BOOKS_AND_REFERENCE  0.541946  \n",
       "BUSINESS             0.417357  \n",
       "COMICS               0.000000  \n",
       "COMMUNICATION        0.263937  \n",
       "DATING               0.160468  \n",
       "EDUCATION            0.150924  \n",
       "ENTERTAINMENT        0.078235  \n",
       "EVENTS               1.718594  \n",
       "FAMILY               1.312292  \n",
       "FINANCE              8.408203  \n",
       "FOOD_AND_DRINK       0.075714  \n",
       "GAME                 0.296465  \n",
       "HEALTH_AND_FITNESS   0.223438  \n",
       "HOUSE_AND_HOME       0.000000  \n",
       "LIBRARIES_AND_DEMO   0.011928  \n",
       "LIFESTYLE            6.398022  \n",
       "MAPS_AND_NAVIGATION  0.205725  \n",
       "MEDICAL              2.520759  \n",
       "NEWS_AND_MAGAZINES   0.015669  \n",
       "PARENTING            0.159667  \n",
       "PERSONALIZATION      0.398369  \n",
       "PHOTOGRAPHY          0.420925  \n",
       "PRODUCTIVITY         0.670936  \n",
       "SHOPPING             0.027129  \n",
       "SOCIAL               0.066820  \n",
       "SPORTS               0.307692  \n",
       "TOOLS                0.322739  \n",
       "TRAVEL_AND_LOCAL     0.228082  \n",
       "VIDEO_PLAYERS        0.064172  \n",
       "WEATHER              0.410380  "
      ]
     },
     "execution_count": 76,
     "metadata": {},
     "output_type": "execute_result"
    }
   ],
   "source": [
    "df.groupby(\"Category\").mean()"
   ]
  },
  {
   "cell_type": "code",
   "execution_count": 82,
   "id": "9ced65e0",
   "metadata": {},
   "outputs": [
    {
     "data": {
      "image/png": "[encoded data removed]",
      "text/plain": [
       "<Figure size 1800x1000 with 1 Axes>"
      ]
     },
     "metadata": {},
     "output_type": "display_data"
    },
    {
     "data": {
      "text/plain": [
       "<Figure size 640x480 with 0 Axes>"
      ]
     },
     "metadata": {},
     "output_type": "display_data"
    }
   ],
   "source": [
    "plt.figure(figsize = (18,10))\n",
    "\n",
    "sns.barplot(x = df.groupby(\"Category\").mean().index, y = df.groupby(\"Category\").mean()[\"Installs\"], data = df)\n",
    "\n",
    "plt.xticks(rotation=90)\n",
    "plt.ylabel('Installs (e+10)')\n",
    "plt.title('Number of Installs For Each Category')\n",
    "plt.show()\n",
    "plt.show()\n",
    "plt.tight_layout()"
   ]
  },
  {
   "cell_type": "markdown",
   "id": "b3c65a0f",
   "metadata": {},
   "source": [
    "Inference:\n",
    "\n",
    "The weightage of games and communication is much higher than all other categories."
   ]
  },
  {
   "cell_type": "markdown",
   "id": "64a66ef0",
   "metadata": {},
   "source": [
    "### 4. Which apps install most in particular category?"
   ]
  },
  {
   "cell_type": "code",
   "execution_count": 105,
   "id": "dd401997",
   "metadata": {},
   "outputs": [
    {
     "data": {
      "text/plain": [
       "335    1000000000\n",
       "391    1000000000\n",
       "336    1000000000\n",
       "338    1000000000\n",
       "Name: Installs, dtype: int64"
      ]
     },
     "execution_count": 105,
     "metadata": {},
     "output_type": "execute_result"
    }
   ],
   "source": [
    "df_x = df[df[\"Category\"] == \"COMMUNICATION\"].sort_values(\"Installs\", axis = 0, ascending = False)['App'].head(4)\n",
    "df_y = df[df[\"Category\"] == \"COMMUNICATION\"].sort_values(\"Installs\", axis = 0, ascending = False)['Installs'].head(4)\n",
    "df_y"
   ]
  },
  {
   "cell_type": "code",
   "execution_count": 126,
   "id": "54448b06",
   "metadata": {},
   "outputs": [],
   "source": [
    "def findtop10incategory(str):\n",
    "    str = str.upper()\n",
    "    top10 = df[df['Category'] == str]\n",
    "    top10apps = top10.sort_values(by='Installs', ascending=False).head(10)\n",
    "    plt.figure(figsize=(14,7), dpi=100)\n",
    "    plt.title('Top 10 Installed Apps',size = 20)  \n",
    "    graph = sns.barplot(x = top10apps.App, y = top10apps.Installs, palette= \"viridis\")\n",
    "    graph.set_xticklabels(graph.get_xticklabels(), rotation= 45, horizontalalignment='right')"
   ]
  },
  {
   "cell_type": "code",
   "execution_count": 125,
   "id": "059325bd",
   "metadata": {},
   "outputs": [
    {
     "data": {
      "image/png": "[encoded data removed]",
      "text/plain": [
       "<Figure size 1800x500 with 1 Axes>"
      ]
     },
     "metadata": {},
     "output_type": "display_data"
    }
   ],
   "source": [
    "findtop10incategory('Communication')"
   ]
  },
  {
   "cell_type": "markdown",
   "id": "0a2c41d2",
   "metadata": {},
   "source": [
    "Inference:\n",
    "\n",
    "In the graph above, we can see that messenger, Skype, and Whatsapp have the most users in the communication category. Similarly you can watch for other categories as well.\n",
    "\n"
   ]
  },
  {
   "cell_type": "code",
   "execution_count": null,
   "id": "c6efbaf7",
   "metadata": {},
   "outputs": [],
   "source": []
  }
 ],
 "metadata": {
  "kernelspec": {
   "display_name": "common",
   "language": "python",
   "name": "common"
  },
  "language_info": {
   "codemirror_mode": {
    "name": "ipython",
    "version": 3
   },
   "file_extension": ".py",
   "mimetype": "text/x-python",
   "name": "python",
   "nbconvert_exporter": "python",
   "pygments_lexer": "ipython3",
   "version": "3.9.13"
  }
 },
 "nbformat": 4,
 "nbformat_minor": 5
}
