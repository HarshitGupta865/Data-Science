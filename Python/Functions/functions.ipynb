{
 "cells": [
  {
   "cell_type": "code",
   "execution_count": 1,
   "id": "aedcfc41",
   "metadata": {},
   "outputs": [
    {
     "ename": "ModuleNotFoundError",
     "evalue": "No module named 'sqlachemy'",
     "output_type": "error",
     "traceback": [
      "\u001b[1;31m---------------------------------------------------------------------------\u001b[0m",
      "\u001b[1;31mModuleNotFoundError\u001b[0m                       Traceback (most recent call last)",
      "Input \u001b[1;32mIn [1]\u001b[0m, in \u001b[0;36m<cell line: 1>\u001b[1;34m()\u001b[0m\n\u001b[1;32m----> 1\u001b[0m \u001b[38;5;28;01mimport\u001b[39;00m \u001b[38;5;21;01msqlachemy\u001b[39;00m\n",
      "\u001b[1;31mModuleNotFoundError\u001b[0m: No module named 'sqlachemy'"
     ]
    }
   ],
   "source": [
    "import sqlachemy"
   ]
  },
  {
   "cell_type": "markdown",
   "id": "87b86646",
   "metadata": {},
   "source": [
    "## Types  of functions in python\n",
    "\n",
    "1. Built-in functions\n",
    "2. User defined functions\n",
    "3. Recursion functions\n",
    "4. Lambda functions\n",
    "5. Bonus - map(), reduce(), filter()"
   ]
  },
  {
   "cell_type": "markdown",
   "id": "aa910c38",
   "metadata": {},
   "source": [
    "## Built-in functions\n",
    "\n",
    "Built in functions are the list of functions already present in a programming language or any application or any tool for the end user. These built in functions can prove very useful as it reduces the time taken by the user to complete a specific task."
   ]
  },
  {
   "cell_type": "code",
   "execution_count": 2,
   "id": "4767fb11",
   "metadata": {},
   "outputs": [
    {
     "name": "stdout",
     "output_type": "stream",
     "text": [
      "2\n"
     ]
    }
   ],
   "source": [
    "l = [2,45,32,78,45,89,12,2,4,678,98]\n",
    "\n",
    "print(min(l))"
   ]
  },
  {
   "cell_type": "code",
   "execution_count": 3,
   "id": "b91ffe08",
   "metadata": {},
   "outputs": [
    {
     "name": "stdout",
     "output_type": "stream",
     "text": [
      "678\n"
     ]
    }
   ],
   "source": [
    "print(max(l))"
   ]
  },
  {
   "cell_type": "markdown",
   "id": "3b1ec822",
   "metadata": {},
   "source": [
    "Here min() and max() are built in functions"
   ]
  },
  {
   "cell_type": "markdown",
   "id": "52574aa6",
   "metadata": {},
   "source": [
    "## User defined functions\n",
    "\n",
    "Functions created by user to divide their task into smaller modules are called user defined functions.\n",
    "In python user defined functions are created using **def** keyword"
   ]
  },
  {
   "cell_type": "code",
   "execution_count": 4,
   "id": "5e18d3f3",
   "metadata": {},
   "outputs": [
    {
     "name": "stdout",
     "output_type": "stream",
     "text": [
      "Hello World\n"
     ]
    }
   ],
   "source": [
    "def hello():\n",
    "    print(\"Hello World\")\n",
    "\n",
    "hello()\n"
   ]
  },
  {
   "cell_type": "code",
   "execution_count": 5,
   "id": "206a8706",
   "metadata": {},
   "outputs": [
    {
     "data": {
      "text/plain": [
       "2"
      ]
     },
     "execution_count": 5,
     "metadata": {},
     "output_type": "execute_result"
    }
   ],
   "source": [
    "def sum(a=1, b=1):\n",
    "    return a+b\n",
    "\n",
    "sum()"
   ]
  },
  {
   "cell_type": "code",
   "execution_count": 6,
   "id": "66f1ab05",
   "metadata": {},
   "outputs": [
    {
     "data": {
      "text/plain": [
       "7"
      ]
     },
     "execution_count": 6,
     "metadata": {},
     "output_type": "execute_result"
    }
   ],
   "source": [
    "sum(5,2)"
   ]
  },
  {
   "cell_type": "code",
   "execution_count": 15,
   "id": "b945dbf2",
   "metadata": {},
   "outputs": [
    {
     "data": {
      "text/plain": [
       "5"
      ]
     },
     "execution_count": 15,
     "metadata": {},
     "output_type": "execute_result"
    }
   ],
   "source": [
    "y=7\n",
    "def understanding_scope1():\n",
    "    y=5\n",
    "    return y\n",
    "\n",
    "understanding_scope1()\n"
   ]
  },
  {
   "cell_type": "code",
   "execution_count": 16,
   "id": "e293a752",
   "metadata": {},
   "outputs": [
    {
     "name": "stdout",
     "output_type": "stream",
     "text": [
      "7\n"
     ]
    }
   ],
   "source": [
    "def understanding_scope2():\n",
    "    y=7\n",
    "    return y\n",
    "\n",
    "understanding_scope2()\n",
    "print(y)"
   ]
  },
  {
   "cell_type": "code",
   "execution_count": 17,
   "id": "f46e94b1",
   "metadata": {},
   "outputs": [
    {
     "name": "stdout",
     "output_type": "stream",
     "text": [
      "5\n"
     ]
    }
   ],
   "source": [
    "y=5\n",
    "def understanding_scope3():\n",
    "    y=7\n",
    "    return y\n",
    "\n",
    "understanding_scope3()\n",
    "print(y)"
   ]
  },
  {
   "cell_type": "markdown",
   "id": "c41861ed",
   "metadata": {},
   "source": [
    "## Recursion functions\n",
    "\n",
    "Function that has the ability to call  itself from inside its body provided that there is a termination condition given is called recursion function."
   ]
  },
  {
   "cell_type": "code",
   "execution_count": 19,
   "id": "d41145c9",
   "metadata": {},
   "outputs": [
    {
     "name": "stdout",
     "output_type": "stream",
     "text": [
      "The factorial of 5 is 120\n"
     ]
    }
   ],
   "source": [
    "def factorial(x):\n",
    "    \"\"\"This is a recursive function\n",
    "    to find the factorial of an integer\"\"\"\n",
    "\n",
    "    if x == 1:\n",
    "        return 1\n",
    "    else:\n",
    "        return (x * factorial(x-1))\n",
    "\n",
    "\n",
    "num = 5\n",
    "print(\"The factorial of\", num, \"is\", factorial(num))"
   ]
  },
  {
   "cell_type": "markdown",
   "id": "c4521f5b",
   "metadata": {},
   "source": [
    "## Lambda functions\n",
    "\n",
    "A lambda function is a small anonymous function.\n",
    "A lambda function can take any number of arguments, but can only have one expression.\n",
    "\n",
    "Syntax\n",
    "\n",
    "*lambda arguments : expression*"
   ]
  },
  {
   "cell_type": "code",
   "execution_count": 21,
   "id": "17cd9788",
   "metadata": {},
   "outputs": [
    {
     "data": {
      "text/plain": [
       "15"
      ]
     },
     "execution_count": 21,
     "metadata": {},
     "output_type": "execute_result"
    }
   ],
   "source": [
    "def task(a):\n",
    "    a = a + 10\n",
    "    return a\n",
    "\n",
    "task(5)\n",
    "    "
   ]
  },
  {
   "cell_type": "code",
   "execution_count": 23,
   "id": "738251be",
   "metadata": {},
   "outputs": [
    {
     "name": "stdout",
     "output_type": "stream",
     "text": [
      "15\n"
     ]
    }
   ],
   "source": [
    "# Code above can be reduced using lambda functions\n",
    "\n",
    "x = lambda a:a+10\n",
    "print(x(5))"
   ]
  },
  {
   "cell_type": "code",
   "execution_count": 24,
   "id": "2952b9c7",
   "metadata": {},
   "outputs": [
    {
     "name": "stdout",
     "output_type": "stream",
     "text": [
      "120\n"
     ]
    }
   ],
   "source": [
    "# Lambda function can take any no. of arguments\n",
    "x = lambda a,b, c, d: a*b*c*d\n",
    "print(x(3,4,5,2))"
   ]
  },
  {
   "cell_type": "code",
   "execution_count": 25,
   "id": "92d20231",
   "metadata": {},
   "outputs": [
    {
     "name": "stdout",
     "output_type": "stream",
     "text": [
      "-9\n"
     ]
    }
   ],
   "source": [
    "def myfunc(n):\n",
    "  return lambda a : n - a\n",
    "\n",
    "mydoubler = myfunc(2)\n",
    "\n",
    "print(mydoubler(11))"
   ]
  },
  {
   "cell_type": "markdown",
   "id": "fc31cdbb",
   "metadata": {},
   "source": [
    "## Bonus - map(), reduce(), filter() in python \n",
    "\n",
    "map(), reduce(), filter() are the most important functions in python. It forms the pillar of functional programming in python.\n",
    "Using these functions make users code smaller and user friendly."
   ]
  },
  {
   "cell_type": "markdown",
   "id": "1439ac30",
   "metadata": {},
   "source": [
    "## map()"
   ]
  },
  {
   "cell_type": "code",
   "execution_count": 26,
   "id": "3e97d7e5",
   "metadata": {},
   "outputs": [
    {
     "name": "stdout",
     "output_type": "stream",
     "text": [
      "['DOG', 'CAT', 'LION']\n"
     ]
    }
   ],
   "source": [
    "my_pets = ['dog', 'cat', 'lion']\n",
    "upper_pets = []\n",
    "\n",
    "for pet in my_pets:\n",
    "    upper_pets.append(pet.upper())\n",
    "\n",
    "print(upper_pets)"
   ]
  },
  {
   "cell_type": "code",
   "execution_count": 28,
   "id": "83b266f0",
   "metadata": {},
   "outputs": [
    {
     "name": "stdout",
     "output_type": "stream",
     "text": [
      "['DOG', 'CAT', 'LION']\n"
     ]
    }
   ],
   "source": [
    "# Above code can be writte using map() also.\n",
    "\n",
    "# Syntax of map\n",
    "# map(function, iterable)\n",
    "\n",
    "mypets = ['dog', 'cat', 'lion']\n",
    "\n",
    "uppets = list(map(str.upper, mypets))\n",
    "print(uppets)"
   ]
  },
  {
   "cell_type": "markdown",
   "id": "334bb998",
   "metadata": {},
   "source": [
    "upper() takes only one parameter hence we gave only one iterable ie, mypets in the above code but what if any function takes more than one iterable. In that case take a look at example below "
   ]
  },
  {
   "cell_type": "code",
   "execution_count": 38,
   "id": "90414ec6",
   "metadata": {},
   "outputs": [
    {
     "name": "stdout",
     "output_type": "stream",
     "text": [
      "[4.0, 5.6, 4.01, 56.242, 9.0134]\n"
     ]
    }
   ],
   "source": [
    "circle_areas = [3.56773, 5.57668, 4.00914, 56.24241, 9.01344, 32.00013]\n",
    "\n",
    "result = list(map(round, circle_areas, range(5)))\n",
    "\n",
    "print(result)"
   ]
  },
  {
   "cell_type": "markdown",
   "id": "0584ba04",
   "metadata": {},
   "source": [
    "## zip()"
   ]
  },
  {
   "cell_type": "code",
   "execution_count": null,
   "id": "91548ea3",
   "metadata": {},
   "outputs": [
    {
     "name": "stdout",
     "output_type": "stream",
     "text": [
      "[('a', 1), ('b', 2), ('c', 3), ('d', 4)]\n"
     ]
    }
   ],
   "source": [
    "# Syntax: zip(list of iterables separated by commas)\n",
    "\n",
    "my_strings = ['a', 'b', 'c', 'd', 'e']\n",
    "my_numbers = [1, 2, 3, 4]\n",
    "\n",
    "results = list(zip(my_strings, my_numbers))\n",
    "\n",
    "print(results)\n",
    "print(dict(results))"
   ]
  },
  {
   "cell_type": "code",
   "execution_count": 9,
   "id": "23a0287a",
   "metadata": {},
   "outputs": [
    {
     "name": "stdout",
     "output_type": "stream",
     "text": [
      "[('a', 1), ('b', 2), ('c', 3), ('d', 4)]\n"
     ]
    }
   ],
   "source": [
    "# We can create our own zip() using map()\n",
    "\n",
    "my_strings = ['a', 'b', 'c', 'd', 'e']\n",
    "my_numbers = [1, 2, 3, 4]\n",
    "\n",
    "result = list(map(lambda x,y:(x,y), my_strings, my_numbers))\n",
    "print(result)\n",
    "print(dict(result))"
   ]
  },
  {
   "cell_type": "markdown",
   "id": "d78d26da",
   "metadata": {},
   "source": [
    "## filter()\n",
    "\n",
    "While map() passes each element in the iterable through a function and returns the result of all elements having passed through the function, filter(), first of all, requires the function to return boolean values (true or false) and then passes each element in the iterable through the function, \"filtering\" away those that are false. It has the following syntax:\n",
    "\n",
    "filter(func, iterable)\n",
    "\n",
    "The following points are to be noted regarding filter():\n",
    "\n",
    "1.Unlike map(), only one iterable is required.\n",
    "\n",
    "2.The func argument is required to return a boolean type. If it doesn't, filter simply returns the iterable passed to it. Also, as only one iterable is required, it's implicit that func must only take one argument.\n",
    "\n",
    "3.filter passes each element in the iterable through func and returns only the ones that evaluate to true. I mean, it's right there in the name -- a \"filter\"."
   ]
  },
  {
   "cell_type": "code",
   "execution_count": 10,
   "id": "646a8cf5",
   "metadata": {},
   "outputs": [
    {
     "name": "stdout",
     "output_type": "stream",
     "text": [
      "[90, 76, 88, 81]\n"
     ]
    }
   ],
   "source": [
    "scores = [66, 90, 68, 59, 76, 60, 88, 74, 81, 65]\n",
    "\n",
    "def is_A_student(score):\n",
    "    return score > 75\n",
    "\n",
    "over_75 = list(filter(is_A_student, scores))\n",
    "\n",
    "print(over_75)"
   ]
  },
  {
   "cell_type": "code",
   "execution_count": 11,
   "id": "28fef604",
   "metadata": {},
   "outputs": [
    {
     "name": "stdout",
     "output_type": "stream",
     "text": [
      "['madam', 'anutforajaroftuna']\n"
     ]
    }
   ],
   "source": [
    "dromes = (\"demigod\", \"rewire\", \"madam\", \"freer\", \"anutforajaroftuna\", \"kiosk\")\n",
    "\n",
    "palindromes = list(filter(lambda word: word == word[::-1], dromes))\n",
    "\n",
    "print(palindromes)"
   ]
  },
  {
   "cell_type": "markdown",
   "id": "3771ed84",
   "metadata": {},
   "source": [
    "## reduce()\n",
    "\n",
    "Python’s reduce() implements a mathematical technique commonly known as folding or reduction. You’re doing a fold or reduction when you reduce a list of items to a single cumulative value. Python’s reduce() operates on any iterable—not just lists—and performs the following steps:\n",
    "\n",
    "1. Apply a function (or callable) to the first two items in an iterable and generate a partial result.\n",
    "2. Use that partial result, together with the third item in the iterable, to generate another partial result.\n",
    "3. Repeat the process until the iterable is exhausted and then return a single cumulative value."
   ]
  },
  {
   "cell_type": "code",
   "execution_count": 12,
   "id": "32e09e7f",
   "metadata": {},
   "outputs": [
    {
     "name": "stdout",
     "output_type": "stream",
     "text": [
      "1 + 2 = 3\n",
      "3 + 3 = 6\n",
      "6 + 4 = 10\n",
      "10\n"
     ]
    }
   ],
   "source": [
    "from functools import reduce\n",
    "def my_add(a, b):\n",
    "    result = a + b\n",
    "    print(f\"{a} + {b} = {result}\")\n",
    "    return result\n",
    "\n",
    "numbers = [1,2,3,4]\n",
    "\n",
    "print(reduce(my_add, numbers))"
   ]
  },
  {
   "cell_type": "markdown",
   "id": "9abb241e",
   "metadata": {},
   "source": [
    "## Practice questions"
   ]
  },
  {
   "cell_type": "code",
   "execution_count": 13,
   "id": "93ea6730",
   "metadata": {},
   "outputs": [
    {
     "name": "stdout",
     "output_type": "stream",
     "text": [
      "[1, 4, 9, 16, 25]\n"
     ]
    }
   ],
   "source": [
    "# Array Squared\n",
    "\n",
    "r = [1,2,3,4,5]\n",
    "\n",
    "res = list(map(lambda a:a*a, r))\n",
    "print(res)"
   ]
  },
  {
   "cell_type": "code",
   "execution_count": 14,
   "id": "0160a9cc",
   "metadata": {},
   "outputs": [
    {
     "name": "stdout",
     "output_type": "stream",
     "text": [
      "[45, 3, 10]\n"
     ]
    }
   ],
   "source": [
    "# Sum of every positive element\n",
    "\n",
    "r = [-23, 45, 3, -11, 10]\n",
    "\n",
    "res = list(filter(lambda a: a > 0, r))\n",
    "print(res)"
   ]
  },
  {
   "cell_type": "code",
   "execution_count": 15,
   "id": "578184e7",
   "metadata": {},
   "outputs": [
    {
     "name": "stdout",
     "output_type": "stream",
     "text": [
      "6.0\n"
     ]
    }
   ],
   "source": [
    "# Calculate median and mean\n",
    "\n",
    "r = [2,3,4,5,6,7,8,9,10]\n",
    "\n",
    "mean = reduce(lambda x,y: x+y, r)/len(r)\n",
    "print(mean)"
   ]
  },
  {
   "cell_type": "code",
   "execution_count": 16,
   "id": "384f58be",
   "metadata": {},
   "outputs": [
    {
     "name": "stdout",
     "output_type": "stream",
     "text": [
      "['R', 'S', 'R', 'N']\n"
     ]
    }
   ],
   "source": [
    "# Get Name initials\n",
    "\n",
    "name = ['Ram', 'Shyam', 'Raju', 'Nidhi']\n",
    "\n",
    "res = list(map(lambda a: a[0], name))\n",
    "\n",
    "print(res)"
   ]
  },
  {
   "cell_type": "code",
   "execution_count": null,
   "id": "a82bb7a2",
   "metadata": {},
   "outputs": [],
   "source": []
  }
 ],
 "metadata": {
  "kernelspec": {
   "display_name": "common",
   "language": "python",
   "name": "common"
  },
  "language_info": {
   "codemirror_mode": {
    "name": "ipython",
    "version": 3
   },
   "file_extension": ".py",
   "mimetype": "text/x-python",
   "name": "python",
   "nbconvert_exporter": "python",
   "pygments_lexer": "ipython3",
   "version": "3.9.13"
  }
 },
 "nbformat": 4,
 "nbformat_minor": 5
}
